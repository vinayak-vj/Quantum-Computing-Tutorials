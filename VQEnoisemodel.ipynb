{
  "cells": [
    {
      "cell_type": "markdown",
      "id": "348ccfc9-6397-4427-a40b-5c6d81ab9997",
      "metadata": {
        "id": "348ccfc9-6397-4427-a40b-5c6d81ab9997"
      },
      "source": [
        "# Variational Eigen Solver for two qubit Hamiltonian using OH encoding with JW transformation - Noise model"
      ]
    },
    {
      "cell_type": "code",
      "source": [],
      "metadata": {
        "id": "5cb2Bq8mADZr"
      },
      "id": "5cb2Bq8mADZr",
      "execution_count": null,
      "outputs": []
    },
    {
      "cell_type": "code",
      "execution_count": null,
      "metadata": {
        "colab": {
          "base_uri": "https://localhost:8080/"
        },
        "id": "DJaGcm-YmrQ1",
        "outputId": "e6558564-29d3-4796-a3ed-5b49f106be17",
        "collapsed": true
      },
      "outputs": [
        {
          "output_type": "stream",
          "name": "stdout",
          "text": [
            "Collecting qiskit\n",
            "  Downloading qiskit-2.0.0-cp39-abi3-manylinux_2_17_x86_64.manylinux2014_x86_64.whl.metadata (12 kB)\n",
            "Collecting rustworkx>=0.15.0 (from qiskit)\n",
            "  Downloading rustworkx-0.16.0-cp39-abi3-manylinux_2_17_x86_64.manylinux2014_x86_64.whl.metadata (10 kB)\n",
            "Requirement already satisfied: numpy<3,>=1.17 in /usr/local/lib/python3.11/dist-packages (from qiskit) (2.0.2)\n",
            "Requirement already satisfied: scipy>=1.5 in /usr/local/lib/python3.11/dist-packages (from qiskit) (1.14.1)\n",
            "Requirement already satisfied: sympy>=1.3 in /usr/local/lib/python3.11/dist-packages (from qiskit) (1.13.1)\n",
            "Collecting dill>=0.3 (from qiskit)\n",
            "  Downloading dill-0.4.0-py3-none-any.whl.metadata (10 kB)\n",
            "Requirement already satisfied: python-dateutil>=2.8.0 in /usr/local/lib/python3.11/dist-packages (from qiskit) (2.8.2)\n",
            "Collecting stevedore>=3.0.0 (from qiskit)\n",
            "  Downloading stevedore-5.4.1-py3-none-any.whl.metadata (2.3 kB)\n",
            "Requirement already satisfied: typing-extensions in /usr/local/lib/python3.11/dist-packages (from qiskit) (4.13.2)\n",
            "Collecting symengine<0.14,>=0.11 (from qiskit)\n",
            "  Downloading symengine-0.13.0-cp311-cp311-manylinux_2_17_x86_64.manylinux2014_x86_64.whl.metadata (1.2 kB)\n",
            "Requirement already satisfied: six>=1.5 in /usr/local/lib/python3.11/dist-packages (from python-dateutil>=2.8.0->qiskit) (1.17.0)\n",
            "Collecting pbr>=2.0.0 (from stevedore>=3.0.0->qiskit)\n",
            "  Downloading pbr-6.1.1-py2.py3-none-any.whl.metadata (3.4 kB)\n",
            "Requirement already satisfied: mpmath<1.4,>=1.1.0 in /usr/local/lib/python3.11/dist-packages (from sympy>=1.3->qiskit) (1.3.0)\n",
            "Requirement already satisfied: setuptools in /usr/local/lib/python3.11/dist-packages (from pbr>=2.0.0->stevedore>=3.0.0->qiskit) (75.2.0)\n",
            "Downloading qiskit-2.0.0-cp39-abi3-manylinux_2_17_x86_64.manylinux2014_x86_64.whl (6.5 MB)\n",
            "\u001b[2K   \u001b[90m━━━━━━━━━━━━━━━━━━━━━━━━━━━━━━━━━━━━━━━━\u001b[0m \u001b[32m6.5/6.5 MB\u001b[0m \u001b[31m70.8 MB/s\u001b[0m eta \u001b[36m0:00:00\u001b[0m\n",
            "\u001b[?25hDownloading dill-0.4.0-py3-none-any.whl (119 kB)\n",
            "\u001b[2K   \u001b[90m━━━━━━━━━━━━━━━━━━━━━━━━━━━━━━━━━━━━━━━━\u001b[0m \u001b[32m119.7/119.7 kB\u001b[0m \u001b[31m9.5 MB/s\u001b[0m eta \u001b[36m0:00:00\u001b[0m\n",
            "\u001b[?25hDownloading rustworkx-0.16.0-cp39-abi3-manylinux_2_17_x86_64.manylinux2014_x86_64.whl (2.1 MB)\n",
            "\u001b[2K   \u001b[90m━━━━━━━━━━━━━━━━━━━━━━━━━━━━━━━━━━━━━━━━\u001b[0m \u001b[32m2.1/2.1 MB\u001b[0m \u001b[31m71.0 MB/s\u001b[0m eta \u001b[36m0:00:00\u001b[0m\n",
            "\u001b[?25hDownloading stevedore-5.4.1-py3-none-any.whl (49 kB)\n",
            "\u001b[2K   \u001b[90m━━━━━━━━━━━━━━━━━━━━━━━━━━━━━━━━━━━━━━━━\u001b[0m \u001b[32m49.5/49.5 kB\u001b[0m \u001b[31m4.2 MB/s\u001b[0m eta \u001b[36m0:00:00\u001b[0m\n",
            "\u001b[?25hDownloading symengine-0.13.0-cp311-cp311-manylinux_2_17_x86_64.manylinux2014_x86_64.whl (49.7 MB)\n",
            "\u001b[2K   \u001b[90m━━━━━━━━━━━━━━━━━━━━━━━━━━━━━━━━━━━━━━━━\u001b[0m \u001b[32m49.7/49.7 MB\u001b[0m \u001b[31m18.0 MB/s\u001b[0m eta \u001b[36m0:00:00\u001b[0m\n",
            "\u001b[?25hDownloading pbr-6.1.1-py2.py3-none-any.whl (108 kB)\n",
            "\u001b[2K   \u001b[90m━━━━━━━━━━━━━━━━━━━━━━━━━━━━━━━━━━━━━━━━\u001b[0m \u001b[32m109.0/109.0 kB\u001b[0m \u001b[31m9.8 MB/s\u001b[0m eta \u001b[36m0:00:00\u001b[0m\n",
            "\u001b[?25hInstalling collected packages: symengine, rustworkx, pbr, dill, stevedore, qiskit\n",
            "Successfully installed dill-0.4.0 pbr-6.1.1 qiskit-2.0.0 rustworkx-0.16.0 stevedore-5.4.1 symengine-0.13.0\n",
            "Collecting qiskit-ibm-runtime\n",
            "  Downloading qiskit_ibm_runtime-0.38.0-py3-none-any.whl.metadata (21 kB)\n",
            "Requirement already satisfied: requests>=2.19 in /usr/local/lib/python3.11/dist-packages (from qiskit-ibm-runtime) (2.32.3)\n",
            "Collecting requests-ntlm>=1.1.0 (from qiskit-ibm-runtime)\n",
            "  Downloading requests_ntlm-1.3.0-py3-none-any.whl.metadata (2.4 kB)\n",
            "Requirement already satisfied: numpy>=1.13 in /usr/local/lib/python3.11/dist-packages (from qiskit-ibm-runtime) (2.0.2)\n",
            "Requirement already satisfied: urllib3>=1.21.1 in /usr/local/lib/python3.11/dist-packages (from qiskit-ibm-runtime) (2.3.0)\n",
            "Requirement already satisfied: python-dateutil>=2.8.0 in /usr/local/lib/python3.11/dist-packages (from qiskit-ibm-runtime) (2.8.2)\n",
            "Collecting ibm-platform-services>=0.22.6 (from qiskit-ibm-runtime)\n",
            "  Downloading ibm_platform_services-0.63.0-py3-none-any.whl.metadata (9.0 kB)\n",
            "Collecting pydantic<2.10,>=2.5.0 (from qiskit-ibm-runtime)\n",
            "  Downloading pydantic-2.9.2-py3-none-any.whl.metadata (149 kB)\n",
            "\u001b[2K     \u001b[90m━━━━━━━━━━━━━━━━━━━━━━━━━━━━━━━━━━━━━━━\u001b[0m \u001b[32m149.4/149.4 kB\u001b[0m \u001b[31m7.4 MB/s\u001b[0m eta \u001b[36m0:00:00\u001b[0m\n",
            "\u001b[?25hRequirement already satisfied: qiskit>=1.4.1 in /usr/local/lib/python3.11/dist-packages (from qiskit-ibm-runtime) (2.0.0)\n",
            "Requirement already satisfied: packaging in /usr/local/lib/python3.11/dist-packages (from qiskit-ibm-runtime) (24.2)\n",
            "Collecting ibm_cloud_sdk_core<4.0.0,>=3.22.1 (from ibm-platform-services>=0.22.6->qiskit-ibm-runtime)\n",
            "  Downloading ibm_cloud_sdk_core-3.23.0-py3-none-any.whl.metadata (8.7 kB)\n",
            "Requirement already satisfied: annotated-types>=0.6.0 in /usr/local/lib/python3.11/dist-packages (from pydantic<2.10,>=2.5.0->qiskit-ibm-runtime) (0.7.0)\n",
            "Collecting pydantic-core==2.23.4 (from pydantic<2.10,>=2.5.0->qiskit-ibm-runtime)\n",
            "  Downloading pydantic_core-2.23.4-cp311-cp311-manylinux_2_17_x86_64.manylinux2014_x86_64.whl.metadata (6.6 kB)\n",
            "Requirement already satisfied: typing-extensions>=4.6.1 in /usr/local/lib/python3.11/dist-packages (from pydantic<2.10,>=2.5.0->qiskit-ibm-runtime) (4.13.2)\n",
            "Requirement already satisfied: six>=1.5 in /usr/local/lib/python3.11/dist-packages (from python-dateutil>=2.8.0->qiskit-ibm-runtime) (1.17.0)\n",
            "Requirement already satisfied: rustworkx>=0.15.0 in /usr/local/lib/python3.11/dist-packages (from qiskit>=1.4.1->qiskit-ibm-runtime) (0.16.0)\n",
            "Requirement already satisfied: scipy>=1.5 in /usr/local/lib/python3.11/dist-packages (from qiskit>=1.4.1->qiskit-ibm-runtime) (1.14.1)\n",
            "Requirement already satisfied: sympy>=1.3 in /usr/local/lib/python3.11/dist-packages (from qiskit>=1.4.1->qiskit-ibm-runtime) (1.13.1)\n",
            "Requirement already satisfied: dill>=0.3 in /usr/local/lib/python3.11/dist-packages (from qiskit>=1.4.1->qiskit-ibm-runtime) (0.4.0)\n",
            "Requirement already satisfied: stevedore>=3.0.0 in /usr/local/lib/python3.11/dist-packages (from qiskit>=1.4.1->qiskit-ibm-runtime) (5.4.1)\n",
            "Requirement already satisfied: symengine<0.14,>=0.11 in /usr/local/lib/python3.11/dist-packages (from qiskit>=1.4.1->qiskit-ibm-runtime) (0.13.0)\n",
            "Requirement already satisfied: charset-normalizer<4,>=2 in /usr/local/lib/python3.11/dist-packages (from requests>=2.19->qiskit-ibm-runtime) (3.4.1)\n",
            "Requirement already satisfied: idna<4,>=2.5 in /usr/local/lib/python3.11/dist-packages (from requests>=2.19->qiskit-ibm-runtime) (3.10)\n",
            "Requirement already satisfied: certifi>=2017.4.17 in /usr/local/lib/python3.11/dist-packages (from requests>=2.19->qiskit-ibm-runtime) (2025.1.31)\n",
            "Requirement already satisfied: cryptography>=1.3 in /usr/local/lib/python3.11/dist-packages (from requests-ntlm>=1.1.0->qiskit-ibm-runtime) (43.0.3)\n",
            "Collecting pyspnego>=0.4.0 (from requests-ntlm>=1.1.0->qiskit-ibm-runtime)\n",
            "  Downloading pyspnego-0.11.2-py3-none-any.whl.metadata (5.4 kB)\n",
            "Requirement already satisfied: cffi>=1.12 in /usr/local/lib/python3.11/dist-packages (from cryptography>=1.3->requests-ntlm>=1.1.0->qiskit-ibm-runtime) (1.17.1)\n",
            "Requirement already satisfied: PyJWT<3.0.0,>=2.8.0 in /usr/local/lib/python3.11/dist-packages (from ibm_cloud_sdk_core<4.0.0,>=3.22.1->ibm-platform-services>=0.22.6->qiskit-ibm-runtime) (2.10.1)\n",
            "Requirement already satisfied: pbr>=2.0.0 in /usr/local/lib/python3.11/dist-packages (from stevedore>=3.0.0->qiskit>=1.4.1->qiskit-ibm-runtime) (6.1.1)\n",
            "Requirement already satisfied: mpmath<1.4,>=1.1.0 in /usr/local/lib/python3.11/dist-packages (from sympy>=1.3->qiskit>=1.4.1->qiskit-ibm-runtime) (1.3.0)\n",
            "Requirement already satisfied: pycparser in /usr/local/lib/python3.11/dist-packages (from cffi>=1.12->cryptography>=1.3->requests-ntlm>=1.1.0->qiskit-ibm-runtime) (2.22)\n",
            "Requirement already satisfied: setuptools in /usr/local/lib/python3.11/dist-packages (from pbr>=2.0.0->stevedore>=3.0.0->qiskit>=1.4.1->qiskit-ibm-runtime) (75.2.0)\n",
            "Downloading qiskit_ibm_runtime-0.38.0-py3-none-any.whl (3.2 MB)\n",
            "\u001b[2K   \u001b[90m━━━━━━━━━━━━━━━━━━━━━━━━━━━━━━━━━━━━━━━━\u001b[0m \u001b[32m3.2/3.2 MB\u001b[0m \u001b[31m66.6 MB/s\u001b[0m eta \u001b[36m0:00:00\u001b[0m\n",
            "\u001b[?25hDownloading ibm_platform_services-0.63.0-py3-none-any.whl (352 kB)\n",
            "\u001b[2K   \u001b[90m━━━━━━━━━━━━━━━━━━━━━━━━━━━━━━━━━━━━━━━━\u001b[0m \u001b[32m353.0/353.0 kB\u001b[0m \u001b[31m25.0 MB/s\u001b[0m eta \u001b[36m0:00:00\u001b[0m\n",
            "\u001b[?25hDownloading pydantic-2.9.2-py3-none-any.whl (434 kB)\n",
            "\u001b[2K   \u001b[90m━━━━━━━━━━━━━━━━━━━━━━━━━━━━━━━━━━━━━━━━\u001b[0m \u001b[32m434.9/434.9 kB\u001b[0m \u001b[31m32.1 MB/s\u001b[0m eta \u001b[36m0:00:00\u001b[0m\n",
            "\u001b[?25hDownloading pydantic_core-2.23.4-cp311-cp311-manylinux_2_17_x86_64.manylinux2014_x86_64.whl (2.1 MB)\n",
            "\u001b[2K   \u001b[90m━━━━━━━━━━━━━━━━━━━━━━━━━━━━━━━━━━━━━━━━\u001b[0m \u001b[32m2.1/2.1 MB\u001b[0m \u001b[31m65.8 MB/s\u001b[0m eta \u001b[36m0:00:00\u001b[0m\n",
            "\u001b[?25hDownloading requests_ntlm-1.3.0-py3-none-any.whl (6.6 kB)\n",
            "Downloading ibm_cloud_sdk_core-3.23.0-py3-none-any.whl (69 kB)\n",
            "\u001b[2K   \u001b[90m━━━━━━━━━━━━━━━━━━━━━━━━━━━━━━━━━━━━━━━━\u001b[0m \u001b[32m69.5/69.5 kB\u001b[0m \u001b[31m6.0 MB/s\u001b[0m eta \u001b[36m0:00:00\u001b[0m\n",
            "\u001b[?25hDownloading pyspnego-0.11.2-py3-none-any.whl (130 kB)\n",
            "\u001b[2K   \u001b[90m━━━━━━━━━━━━━━━━━━━━━━━━━━━━━━━━━━━━━━━━\u001b[0m \u001b[32m130.5/130.5 kB\u001b[0m \u001b[31m10.3 MB/s\u001b[0m eta \u001b[36m0:00:00\u001b[0m\n",
            "\u001b[?25hInstalling collected packages: pydantic-core, pydantic, ibm_cloud_sdk_core, pyspnego, ibm-platform-services, requests-ntlm, qiskit-ibm-runtime\n",
            "  Attempting uninstall: pydantic-core\n",
            "    Found existing installation: pydantic_core 2.33.1\n",
            "    Uninstalling pydantic_core-2.33.1:\n",
            "      Successfully uninstalled pydantic_core-2.33.1\n",
            "  Attempting uninstall: pydantic\n",
            "    Found existing installation: pydantic 2.11.3\n",
            "    Uninstalling pydantic-2.11.3:\n",
            "      Successfully uninstalled pydantic-2.11.3\n",
            "Successfully installed ibm-platform-services-0.63.0 ibm_cloud_sdk_core-3.23.0 pydantic-2.9.2 pydantic-core-2.23.4 pyspnego-0.11.2 qiskit-ibm-runtime-0.38.0 requests-ntlm-1.3.0\n",
            "Collecting qiskit-aer\n",
            "  Downloading qiskit_aer-0.17.0-cp311-cp311-manylinux_2_17_x86_64.manylinux2014_x86_64.whl.metadata (8.2 kB)\n",
            "Requirement already satisfied: qiskit>=1.1.0 in /usr/local/lib/python3.11/dist-packages (from qiskit-aer) (2.0.0)\n",
            "Requirement already satisfied: numpy>=1.16.3 in /usr/local/lib/python3.11/dist-packages (from qiskit-aer) (2.0.2)\n",
            "Requirement already satisfied: scipy>=1.0 in /usr/local/lib/python3.11/dist-packages (from qiskit-aer) (1.14.1)\n",
            "Requirement already satisfied: psutil>=5 in /usr/local/lib/python3.11/dist-packages (from qiskit-aer) (5.9.5)\n",
            "Requirement already satisfied: rustworkx>=0.15.0 in /usr/local/lib/python3.11/dist-packages (from qiskit>=1.1.0->qiskit-aer) (0.16.0)\n",
            "Requirement already satisfied: sympy>=1.3 in /usr/local/lib/python3.11/dist-packages (from qiskit>=1.1.0->qiskit-aer) (1.13.1)\n",
            "Requirement already satisfied: dill>=0.3 in /usr/local/lib/python3.11/dist-packages (from qiskit>=1.1.0->qiskit-aer) (0.4.0)\n",
            "Requirement already satisfied: python-dateutil>=2.8.0 in /usr/local/lib/python3.11/dist-packages (from qiskit>=1.1.0->qiskit-aer) (2.8.2)\n",
            "Requirement already satisfied: stevedore>=3.0.0 in /usr/local/lib/python3.11/dist-packages (from qiskit>=1.1.0->qiskit-aer) (5.4.1)\n",
            "Requirement already satisfied: typing-extensions in /usr/local/lib/python3.11/dist-packages (from qiskit>=1.1.0->qiskit-aer) (4.13.2)\n",
            "Requirement already satisfied: symengine<0.14,>=0.11 in /usr/local/lib/python3.11/dist-packages (from qiskit>=1.1.0->qiskit-aer) (0.13.0)\n",
            "Requirement already satisfied: six>=1.5 in /usr/local/lib/python3.11/dist-packages (from python-dateutil>=2.8.0->qiskit>=1.1.0->qiskit-aer) (1.17.0)\n",
            "Requirement already satisfied: pbr>=2.0.0 in /usr/local/lib/python3.11/dist-packages (from stevedore>=3.0.0->qiskit>=1.1.0->qiskit-aer) (6.1.1)\n",
            "Requirement already satisfied: mpmath<1.4,>=1.1.0 in /usr/local/lib/python3.11/dist-packages (from sympy>=1.3->qiskit>=1.1.0->qiskit-aer) (1.3.0)\n",
            "Requirement already satisfied: setuptools in /usr/local/lib/python3.11/dist-packages (from pbr>=2.0.0->stevedore>=3.0.0->qiskit>=1.1.0->qiskit-aer) (75.2.0)\n",
            "Downloading qiskit_aer-0.17.0-cp311-cp311-manylinux_2_17_x86_64.manylinux2014_x86_64.whl (12.4 MB)\n",
            "\u001b[2K   \u001b[90m━━━━━━━━━━━━━━━━━━━━━━━━━━━━━━━━━━━━━━━━\u001b[0m \u001b[32m12.4/12.4 MB\u001b[0m \u001b[31m63.9 MB/s\u001b[0m eta \u001b[36m0:00:00\u001b[0m\n",
            "\u001b[?25hInstalling collected packages: qiskit-aer\n",
            "Successfully installed qiskit-aer-0.17.0\n",
            "Requirement already satisfied: qiskit[visualization] in /usr/local/lib/python3.11/dist-packages (2.0.0)\n",
            "Requirement already satisfied: rustworkx>=0.15.0 in /usr/local/lib/python3.11/dist-packages (from qiskit[visualization]) (0.16.0)\n",
            "Requirement already satisfied: numpy<3,>=1.17 in /usr/local/lib/python3.11/dist-packages (from qiskit[visualization]) (2.0.2)\n",
            "Requirement already satisfied: scipy>=1.5 in /usr/local/lib/python3.11/dist-packages (from qiskit[visualization]) (1.14.1)\n",
            "Requirement already satisfied: sympy>=1.3 in /usr/local/lib/python3.11/dist-packages (from qiskit[visualization]) (1.13.1)\n",
            "Requirement already satisfied: dill>=0.3 in /usr/local/lib/python3.11/dist-packages (from qiskit[visualization]) (0.4.0)\n",
            "Requirement already satisfied: python-dateutil>=2.8.0 in /usr/local/lib/python3.11/dist-packages (from qiskit[visualization]) (2.8.2)\n",
            "Requirement already satisfied: stevedore>=3.0.0 in /usr/local/lib/python3.11/dist-packages (from qiskit[visualization]) (5.4.1)\n",
            "Requirement already satisfied: typing-extensions in /usr/local/lib/python3.11/dist-packages (from qiskit[visualization]) (4.13.2)\n",
            "Requirement already satisfied: symengine<0.14,>=0.11 in /usr/local/lib/python3.11/dist-packages (from qiskit[visualization]) (0.13.0)\n",
            "Requirement already satisfied: matplotlib>=3.3 in /usr/local/lib/python3.11/dist-packages (from qiskit[visualization]) (3.10.0)\n",
            "Requirement already satisfied: pydot in /usr/local/lib/python3.11/dist-packages (from qiskit[visualization]) (3.0.4)\n",
            "Requirement already satisfied: Pillow>=4.2.1 in /usr/local/lib/python3.11/dist-packages (from qiskit[visualization]) (11.1.0)\n",
            "Collecting pylatexenc>=1.4 (from qiskit[visualization])\n",
            "  Downloading pylatexenc-2.10.tar.gz (162 kB)\n",
            "\u001b[2K     \u001b[90m━━━━━━━━━━━━━━━━━━━━━━━━━━━━━━━━━━━━━━━\u001b[0m \u001b[32m162.6/162.6 kB\u001b[0m \u001b[31m6.1 MB/s\u001b[0m eta \u001b[36m0:00:00\u001b[0m\n",
            "\u001b[?25h  Preparing metadata (setup.py) ... \u001b[?25l\u001b[?25hdone\n",
            "Requirement already satisfied: seaborn>=0.9.0 in /usr/local/lib/python3.11/dist-packages (from qiskit[visualization]) (0.13.2)\n",
            "Requirement already satisfied: contourpy>=1.0.1 in /usr/local/lib/python3.11/dist-packages (from matplotlib>=3.3->qiskit[visualization]) (1.3.2)\n",
            "Requirement already satisfied: cycler>=0.10 in /usr/local/lib/python3.11/dist-packages (from matplotlib>=3.3->qiskit[visualization]) (0.12.1)\n",
            "Requirement already satisfied: fonttools>=4.22.0 in /usr/local/lib/python3.11/dist-packages (from matplotlib>=3.3->qiskit[visualization]) (4.57.0)\n",
            "Requirement already satisfied: kiwisolver>=1.3.1 in /usr/local/lib/python3.11/dist-packages (from matplotlib>=3.3->qiskit[visualization]) (1.4.8)\n",
            "Requirement already satisfied: packaging>=20.0 in /usr/local/lib/python3.11/dist-packages (from matplotlib>=3.3->qiskit[visualization]) (24.2)\n",
            "Requirement already satisfied: pyparsing>=2.3.1 in /usr/local/lib/python3.11/dist-packages (from matplotlib>=3.3->qiskit[visualization]) (3.2.3)\n",
            "Requirement already satisfied: six>=1.5 in /usr/local/lib/python3.11/dist-packages (from python-dateutil>=2.8.0->qiskit[visualization]) (1.17.0)\n",
            "Requirement already satisfied: pandas>=1.2 in /usr/local/lib/python3.11/dist-packages (from seaborn>=0.9.0->qiskit[visualization]) (2.2.2)\n",
            "Requirement already satisfied: pbr>=2.0.0 in /usr/local/lib/python3.11/dist-packages (from stevedore>=3.0.0->qiskit[visualization]) (6.1.1)\n",
            "Requirement already satisfied: mpmath<1.4,>=1.1.0 in /usr/local/lib/python3.11/dist-packages (from sympy>=1.3->qiskit[visualization]) (1.3.0)\n",
            "Requirement already satisfied: pytz>=2020.1 in /usr/local/lib/python3.11/dist-packages (from pandas>=1.2->seaborn>=0.9.0->qiskit[visualization]) (2025.2)\n",
            "Requirement already satisfied: tzdata>=2022.7 in /usr/local/lib/python3.11/dist-packages (from pandas>=1.2->seaborn>=0.9.0->qiskit[visualization]) (2025.2)\n",
            "Requirement already satisfied: setuptools in /usr/local/lib/python3.11/dist-packages (from pbr>=2.0.0->stevedore>=3.0.0->qiskit[visualization]) (75.2.0)\n",
            "Building wheels for collected packages: pylatexenc\n",
            "  Building wheel for pylatexenc (setup.py) ... \u001b[?25l\u001b[?25hdone\n",
            "  Created wheel for pylatexenc: filename=pylatexenc-2.10-py3-none-any.whl size=136817 sha256=f8c5a5ee5eb6858f0d964606512b11317397dfa6f11971fcd7d8815687646149\n",
            "  Stored in directory: /root/.cache/pip/wheels/b1/7a/33/9fdd892f784ed4afda62b685ae3703adf4c91aa0f524c28f03\n",
            "Successfully built pylatexenc\n",
            "Installing collected packages: pylatexenc\n",
            "Successfully installed pylatexenc-2.10\n"
          ]
        }
      ],
      "source": [
        "!pip install qiskit\n",
        "!pip install qiskit-ibm-runtime\n",
        "!pip install qiskit-aer\n",
        "!pip install 'qiskit[visualization]'"
      ],
      "id": "DJaGcm-YmrQ1"
    },
    {
      "cell_type": "code",
      "execution_count": null,
      "id": "bce259ff-d070-42cb-9b41-1dd7cc8093dd",
      "metadata": {
        "tags": [],
        "id": "bce259ff-d070-42cb-9b41-1dd7cc8093dd"
      },
      "outputs": [],
      "source": [
        "# General imports\n",
        "import numpy as np\n",
        "from scipy.optimize import minimize\n",
        "import matplotlib.pyplot as plt\n",
        "from qiskit.visualization import *\n",
        "\n",
        "# Importing standard Qiskit libraries\n",
        "from qiskit import QuantumCircuit\n",
        "from qiskit.visualization import *\n",
        "from qiskit.quantum_info import SparsePauliOp\n",
        "from qiskit_ibm_runtime import QiskitRuntimeService, Sampler, Estimator, Session, Options\n",
        "from qiskit_ibm_runtime import EstimatorV2 as Estimator\n",
        "from qiskit_aer.noise import NoiseModel"
      ]
    },
    {
      "cell_type": "code",
      "execution_count": null,
      "id": "0c3c6e6d-9194-4005-a5c4-af3539ffc929",
      "metadata": {
        "tags": [],
        "colab": {
          "base_uri": "https://localhost:8080/",
          "height": 321
        },
        "id": "0c3c6e6d-9194-4005-a5c4-af3539ffc929",
        "outputId": "af2ebc41-44ce-4789-950e-985c1e6c8abf",
        "collapsed": true
      },
      "outputs": [
        {
          "output_type": "error",
          "ename": "AccountNotFoundError",
          "evalue": "'Unable to find account.'",
          "traceback": [
            "\u001b[0;31m---------------------------------------------------------------------------\u001b[0m",
            "\u001b[0;31mAccountNotFoundError\u001b[0m                      Traceback (most recent call last)",
            "\u001b[0;32m<ipython-input-5-b43accd79446>\u001b[0m in \u001b[0;36m<cell line: 0>\u001b[0;34m()\u001b[0m\n\u001b[1;32m      1\u001b[0m \u001b[0;31m# Loading your IBM Quantum account(s) and choosing QASM simulator\u001b[0m\u001b[0;34m\u001b[0m\u001b[0;34m\u001b[0m\u001b[0m\n\u001b[0;32m----> 2\u001b[0;31m \u001b[0mservice\u001b[0m \u001b[0;34m=\u001b[0m \u001b[0mQiskitRuntimeService\u001b[0m\u001b[0;34m(\u001b[0m\u001b[0mchannel\u001b[0m\u001b[0;34m=\u001b[0m\u001b[0;34m\"ibm_quantum\"\u001b[0m\u001b[0;34m)\u001b[0m\u001b[0;34m\u001b[0m\u001b[0;34m\u001b[0m\u001b[0m\n\u001b[0m\u001b[1;32m      3\u001b[0m \u001b[0mbackend\u001b[0m \u001b[0;34m=\u001b[0m \u001b[0mservice\u001b[0m\u001b[0;34m.\u001b[0m\u001b[0mbackend\u001b[0m\u001b[0;34m(\u001b[0m\u001b[0;34m'ibmq_qasm_simulator'\u001b[0m\u001b[0;34m)\u001b[0m\u001b[0;34m\u001b[0m\u001b[0;34m\u001b[0m\u001b[0m\n",
            "\u001b[0;32m/usr/local/lib/python3.11/dist-packages/qiskit_ibm_runtime/qiskit_runtime_service.py\u001b[0m in \u001b[0;36m__init__\u001b[0;34m(self, channel, token, url, filename, name, instance, proxies, verify, private_endpoint, url_resolver)\u001b[0m\n\u001b[1;32m    126\u001b[0m         \u001b[0msuper\u001b[0m\u001b[0;34m(\u001b[0m\u001b[0;34m)\u001b[0m\u001b[0;34m.\u001b[0m\u001b[0m__init__\u001b[0m\u001b[0;34m(\u001b[0m\u001b[0;34m)\u001b[0m\u001b[0;34m\u001b[0m\u001b[0;34m\u001b[0m\u001b[0m\n\u001b[1;32m    127\u001b[0m \u001b[0;34m\u001b[0m\u001b[0m\n\u001b[0;32m--> 128\u001b[0;31m         self._account = self._discover_account(\n\u001b[0m\u001b[1;32m    129\u001b[0m             \u001b[0mtoken\u001b[0m\u001b[0;34m=\u001b[0m\u001b[0mtoken\u001b[0m\u001b[0;34m,\u001b[0m\u001b[0;34m\u001b[0m\u001b[0;34m\u001b[0m\u001b[0m\n\u001b[1;32m    130\u001b[0m             \u001b[0murl\u001b[0m\u001b[0;34m=\u001b[0m\u001b[0murl\u001b[0m\u001b[0;34m,\u001b[0m\u001b[0;34m\u001b[0m\u001b[0;34m\u001b[0m\u001b[0m\n",
            "\u001b[0;32m/usr/local/lib/python3.11/dist-packages/qiskit_ibm_runtime/qiskit_runtime_service.py\u001b[0m in \u001b[0;36m_discover_account\u001b[0;34m(self, token, url, instance, channel, filename, name, proxies, verify)\u001b[0m\n\u001b[1;32m    230\u001b[0m                 \u001b[0;32mif\u001b[0m \u001b[0murl\u001b[0m\u001b[0;34m:\u001b[0m\u001b[0;34m\u001b[0m\u001b[0;34m\u001b[0m\u001b[0m\n\u001b[1;32m    231\u001b[0m                     \u001b[0mlogger\u001b[0m\u001b[0;34m.\u001b[0m\u001b[0mwarning\u001b[0m\u001b[0;34m(\u001b[0m\u001b[0;34m\"Loading default %s account. Input 'url' is ignored.\"\u001b[0m\u001b[0;34m,\u001b[0m \u001b[0mchannel\u001b[0m\u001b[0;34m)\u001b[0m\u001b[0;34m\u001b[0m\u001b[0;34m\u001b[0m\u001b[0m\n\u001b[0;32m--> 232\u001b[0;31m                 \u001b[0maccount\u001b[0m \u001b[0;34m=\u001b[0m \u001b[0mAccountManager\u001b[0m\u001b[0;34m.\u001b[0m\u001b[0mget\u001b[0m\u001b[0;34m(\u001b[0m\u001b[0mfilename\u001b[0m\u001b[0;34m=\u001b[0m\u001b[0mfilename\u001b[0m\u001b[0;34m,\u001b[0m \u001b[0mname\u001b[0m\u001b[0;34m=\u001b[0m\u001b[0mname\u001b[0m\u001b[0;34m,\u001b[0m \u001b[0mchannel\u001b[0m\u001b[0;34m=\u001b[0m\u001b[0mchannel\u001b[0m\u001b[0;34m)\u001b[0m\u001b[0;34m\u001b[0m\u001b[0;34m\u001b[0m\u001b[0m\n\u001b[0m\u001b[1;32m    233\u001b[0m         \u001b[0;32melif\u001b[0m \u001b[0many\u001b[0m\u001b[0;34m(\u001b[0m\u001b[0;34m[\u001b[0m\u001b[0mtoken\u001b[0m\u001b[0;34m,\u001b[0m \u001b[0murl\u001b[0m\u001b[0;34m]\u001b[0m\u001b[0;34m)\u001b[0m\u001b[0;34m:\u001b[0m\u001b[0;34m\u001b[0m\u001b[0;34m\u001b[0m\u001b[0m\n\u001b[1;32m    234\u001b[0m             \u001b[0;31m# Let's not infer based on these attributes as they may change in the future.\u001b[0m\u001b[0;34m\u001b[0m\u001b[0;34m\u001b[0m\u001b[0m\n",
            "\u001b[0;32m/usr/local/lib/python3.11/dist-packages/qiskit_ibm_runtime/accounts/management.py\u001b[0m in \u001b[0;36mget\u001b[0;34m(cls, filename, name, channel)\u001b[0m\n\u001b[1;32m    193\u001b[0m                 \u001b[0;32mreturn\u001b[0m \u001b[0mAccount\u001b[0m\u001b[0;34m.\u001b[0m\u001b[0mfrom_saved_format\u001b[0m\u001b[0;34m(\u001b[0m\u001b[0mall_config\u001b[0m\u001b[0;34m[\u001b[0m\u001b[0maccount_name\u001b[0m\u001b[0;34m]\u001b[0m\u001b[0;34m)\u001b[0m\u001b[0;34m\u001b[0m\u001b[0;34m\u001b[0m\u001b[0m\n\u001b[1;32m    194\u001b[0m \u001b[0;34m\u001b[0m\u001b[0m\n\u001b[0;32m--> 195\u001b[0;31m         \u001b[0;32mraise\u001b[0m \u001b[0mAccountNotFoundError\u001b[0m\u001b[0;34m(\u001b[0m\u001b[0;34m\"Unable to find account.\"\u001b[0m\u001b[0;34m)\u001b[0m\u001b[0;34m\u001b[0m\u001b[0;34m\u001b[0m\u001b[0m\n\u001b[0m\u001b[1;32m    196\u001b[0m \u001b[0;34m\u001b[0m\u001b[0m\n\u001b[1;32m    197\u001b[0m     \u001b[0;34m@\u001b[0m\u001b[0mclassmethod\u001b[0m\u001b[0;34m\u001b[0m\u001b[0;34m\u001b[0m\u001b[0m\n",
            "\u001b[0;31mAccountNotFoundError\u001b[0m: 'Unable to find account.'"
          ]
        }
      ],
      "source": [
        "# Loading your IBM Quantum account(s) and choosing QASM simulator\n",
        "service = QiskitRuntimeService(channel=\"ibm_quantum\")\n",
        "backend = service.backend('ibmq_qasm_simulator')"
      ]
    },
    {
      "cell_type": "code",
      "execution_count": null,
      "id": "eadbb80d-8b1f-4a4b-95fc-d59a3c3d2c7b",
      "metadata": {
        "tags": [],
        "id": "eadbb80d-8b1f-4a4b-95fc-d59a3c3d2c7b"
      },
      "outputs": [],
      "source": [
        "#Hamiltonian\n",
        "hamiltonian = SparsePauliOp.from_list([(\"II\", 5.9067091), (\"IZ\", 0.218291),\n",
        "                                       (\"ZI\", -6.125), (\"XX\", -2.143304), (\"YY\", -2.143304)])"
      ]
    },
    {
      "cell_type": "code",
      "execution_count": null,
      "id": "963b6c77-f7ee-49f1-bb55-7f262aca5f08",
      "metadata": {
        "tags": [],
        "id": "963b6c77-f7ee-49f1-bb55-7f262aca5f08",
        "outputId": "ac305876-25d2-4c4c-a478-cc385d54b126",
        "colab": {
          "base_uri": "https://localhost:8080/",
          "height": 384
        }
      },
      "outputs": [
        {
          "output_type": "error",
          "ename": "ModuleNotFoundError",
          "evalue": "No module named 'qiskit'",
          "traceback": [
            "\u001b[0;31m---------------------------------------------------------------------------\u001b[0m",
            "\u001b[0;31mModuleNotFoundError\u001b[0m                       Traceback (most recent call last)",
            "\u001b[0;32m<ipython-input-2-8af1d16a5213>\u001b[0m in \u001b[0;36m<cell line: 0>\u001b[0;34m()\u001b[0m\n\u001b[1;32m      1\u001b[0m \u001b[0;31m#Ansatze\u001b[0m\u001b[0;34m\u001b[0m\u001b[0;34m\u001b[0m\u001b[0m\n\u001b[0;32m----> 2\u001b[0;31m \u001b[0;32mfrom\u001b[0m \u001b[0mqiskit\u001b[0m\u001b[0;34m.\u001b[0m\u001b[0mcircuit\u001b[0m \u001b[0;32mimport\u001b[0m \u001b[0mParameter\u001b[0m\u001b[0;34m\u001b[0m\u001b[0;34m\u001b[0m\u001b[0m\n\u001b[0m\u001b[1;32m      3\u001b[0m \u001b[0;34m\u001b[0m\u001b[0m\n\u001b[1;32m      4\u001b[0m \u001b[0;31m# Define parameters\u001b[0m\u001b[0;34m\u001b[0m\u001b[0;34m\u001b[0m\u001b[0m\n\u001b[1;32m      5\u001b[0m \u001b[0mtheta1\u001b[0m \u001b[0;34m=\u001b[0m \u001b[0mParameter\u001b[0m\u001b[0;34m(\u001b[0m\u001b[0;34m'θ1'\u001b[0m\u001b[0;34m)\u001b[0m\u001b[0;34m\u001b[0m\u001b[0;34m\u001b[0m\u001b[0m\n",
            "\u001b[0;31mModuleNotFoundError\u001b[0m: No module named 'qiskit'",
            "",
            "\u001b[0;31m---------------------------------------------------------------------------\u001b[0;32m\nNOTE: If your import is failing due to a missing package, you can\nmanually install dependencies using either !pip or !apt.\n\nTo view examples of installing some common dependencies, click the\n\"Open Examples\" button below.\n\u001b[0;31m---------------------------------------------------------------------------\u001b[0m\n"
          ],
          "errorDetails": {
            "actions": [
              {
                "action": "open_url",
                "actionText": "Open Examples",
                "url": "/notebooks/snippets/importing_libraries.ipynb"
              }
            ]
          }
        }
      ],
      "source": [
        "#Ansatze\n",
        "from qiskit.circuit import Parameter\n",
        "\n",
        "theta = Parameter('theta')\n",
        "ansatz = QuantumCircuit(2)\n",
        "ansatz.ry(theta,0)\n",
        "ansatz.x(1)\n",
        "ansatz.cx(0,1)\n",
        "num_params = ansatz.num_parameters\n",
        "ansatz.draw(\"mpl\")"
      ]
    },
    {
      "cell_type": "code",
      "execution_count": null,
      "id": "a28f747d-a938-4cc8-9cf7-cef148b5b263",
      "metadata": {
        "tags": [],
        "id": "a28f747d-a938-4cc8-9cf7-cef148b5b263"
      },
      "outputs": [],
      "source": [
        "#Function to calcuate energy\n",
        "def cost_func(params, ansatz, hamiltonian, estimator):\n",
        "    \"\"\"Parameters:\n",
        "       params (ndarray): Array of ansatz parameters\n",
        "       ansatz (QuantumCircuit): Parameterized ansatz circuit\n",
        "       hamiltonian (SparsePauliOp): Operator representation of Hamiltonian\n",
        "       estimator (EstimatorV2): Estimator primitive instance\"\"\"\n",
        "    pub = (ansatz, [hamiltonian], [params])\n",
        "    result = estimator.run(pubs=[pub]).result()\n",
        "    energy = result[0].data.evs[0]\n",
        "\n",
        "    return energy"
      ]
    },
    {
      "cell_type": "code",
      "execution_count": null,
      "id": "d72d79bb-46e1-468f-bf00-282670ff5afa",
      "metadata": {
        "tags": [],
        "id": "d72d79bb-46e1-468f-bf00-282670ff5afa",
        "colab": {
          "base_uri": "https://localhost:8080/",
          "height": 158
        },
        "outputId": "ea7d2551-a2c3-4a0e-99fc-ef17c293262a"
      },
      "outputs": [
        {
          "output_type": "error",
          "ename": "NameError",
          "evalue": "name 'np' is not defined",
          "traceback": [
            "\u001b[0;31m---------------------------------------------------------------------------\u001b[0m",
            "\u001b[0;31mNameError\u001b[0m                                 Traceback (most recent call last)",
            "\u001b[0;32m<ipython-input-1-7f803231f2cf>\u001b[0m in \u001b[0;36m<cell line: 0>\u001b[0;34m()\u001b[0m\n\u001b[1;32m      1\u001b[0m \u001b[0;31m#Specify a random initial set of parameters:\u001b[0m\u001b[0;34m\u001b[0m\u001b[0;34m\u001b[0m\u001b[0m\n\u001b[0;32m----> 2\u001b[0;31m \u001b[0mx0\u001b[0m \u001b[0;34m=\u001b[0m \u001b[0;36m2\u001b[0m \u001b[0;34m*\u001b[0m \u001b[0mnp\u001b[0m\u001b[0;34m.\u001b[0m\u001b[0mpi\u001b[0m \u001b[0;34m*\u001b[0m \u001b[0mnp\u001b[0m\u001b[0;34m.\u001b[0m\u001b[0mrandom\u001b[0m\u001b[0;34m.\u001b[0m\u001b[0mrandom\u001b[0m\u001b[0;34m(\u001b[0m\u001b[0mnum_params\u001b[0m\u001b[0;34m)\u001b[0m\u001b[0;34m\u001b[0m\u001b[0;34m\u001b[0m\u001b[0m\n\u001b[0m",
            "\u001b[0;31mNameError\u001b[0m: name 'np' is not defined"
          ]
        }
      ],
      "source": [
        "#Specify a random initial set of parameters:\n",
        "x0 = 2 * np.pi * np.random.random(num_params)"
      ]
    },
    {
      "cell_type": "code",
      "execution_count": null,
      "id": "d0622ec8-0007-4ae2-b9b6-8d0698fad47f",
      "metadata": {
        "tags": [],
        "id": "d0622ec8-0007-4ae2-b9b6-8d0698fad47f",
        "outputId": "ce2944ee-7806-4641-acd2-50fc3c0b6d28"
      },
      "outputs": [
        {
          "name": "stdout",
          "output_type": "stream",
          "text": [
            "True_value: -1.7491610828953426\n"
          ]
        }
      ],
      "source": [
        "#QASM simulator without noise using StatevectorEstimator\n",
        "from qiskit.primitives import StatevectorEstimator\n",
        "estimator1 = StatevectorEstimator()\n",
        "\n",
        "def minimization_withoutnoise(E):\n",
        "    res = minimize(cost_func,x0,\n",
        "                    args=(ansatz, hamiltonian, E),method=\"cobyla\")\n",
        "    return(res.fun)\n",
        "True_value = minimization_withoutnoise(estimator1)\n",
        "print('True_value:',True_value)"
      ]
    },
    {
      "cell_type": "code",
      "execution_count": null,
      "id": "10d5476e-20ca-40ed-9797-075b5f59db8e",
      "metadata": {
        "tags": [],
        "id": "10d5476e-20ca-40ed-9797-075b5f59db8e",
        "outputId": "86f2d53f-d376-47b9-95de-69ee1dbc30d9"
      },
      "outputs": [
        {
          "name": "stdout",
          "output_type": "stream",
          "text": [
            "[-1.7491610828953426, -1.7491610828953426, -1.7491610828953426, -1.7491610828953426, -1.7491610828953426, -1.7491610828953426, -1.7491610828953426, -1.7491610828953426, -1.7491610828953426, -1.7491610828953426, -1.7491610828953426, -1.7491610828953426, -1.7491610828953426, -1.7491610828953426, -1.7491610828953426, -1.7491610828953426, -1.7491610828953426, -1.7491610828953426, -1.7491610828953426, -1.7491610828953426]\n"
          ]
        }
      ],
      "source": [
        "runs = np.arange(1,21,1)\n",
        "Energy_withoutnoise = []\n",
        "for i in runs:\n",
        "    Energy_withoutnoise.append(minimization_withoutnoise(estimator1))\n",
        "print(Energy_withoutnoise)"
      ]
    },
    {
      "cell_type": "code",
      "execution_count": null,
      "id": "64e2fe4a-a708-459d-8d5d-d86c534ec74d",
      "metadata": {
        "tags": [],
        "id": "64e2fe4a-a708-459d-8d5d-d86c534ec74d",
        "outputId": "603206a5-77d5-450b-d448-a0a1b3dab3c6"
      },
      "outputs": [
        {
          "data": {
            "text/plain": [
              "<matplotlib.legend.Legend at 0x7f6ba704b4f0>"
            ]
          },
          "execution_count": 10,
          "metadata": {},
          "output_type": "execute_result"
        },
        {
          "data": {
            "image/png": "[encoded data removed]",
            "text/plain": [
              "<Figure size 640x480 with 1 Axes>"
            ]
          },
          "metadata": {},
          "output_type": "display_data"
        }
      ],
      "source": [
        "plt.hist(np.array(Energy_withoutnoise),label = 'QASM without noise',color = 'green')\n",
        "plt.xlabel('E(MeV)')\n",
        "plt.ylabel('Counts')\n",
        "plt.axvline(x = minimization_withoutnoise(estimator1),ymin = 0,ymax = 1,linestyle = '--',c = 'k',label = 'True value')\n",
        "plt.xlim(-2,-1)\n",
        "plt.legend()"
      ]
    },
    {
      "cell_type": "code",
      "execution_count": null,
      "id": "0f848687-8a58-4f96-96da-8b0dc2ba0b4a",
      "metadata": {
        "id": "0f848687-8a58-4f96-96da-8b0dc2ba0b4a",
        "outputId": "5014357a-9b35-4142-f11b-352814ef3529"
      },
      "outputs": [
        {
          "name": "stderr",
          "output_type": "stream",
          "text": [
            "/opt/conda/lib/python3.10/site-packages/qiskit_aer/noise/noise_model.py:379: UserWarning: Qiskit backend <IBMBackend('ibmq_qasm_simulator')> has no QubitProperties, so the resulting noise model will not include any thermal relaxation errors.\n",
            "  warn(\n"
          ]
        }
      ],
      "source": [
        "#Noise model without mitigation\n",
        "noise_model = NoiseModel.from_backend(backend)\n",
        "backend.set_options(noise_model=noise_model)"
      ]
    },
    {
      "cell_type": "code",
      "execution_count": null,
      "id": "70a39c95-e7ed-4922-b485-2fd19db07827",
      "metadata": {
        "id": "70a39c95-e7ed-4922-b485-2fd19db07827",
        "outputId": "e6622bd9-2bd2-47d2-d7ad-13711fc77ebd",
        "collapsed": true
      },
      "outputs": [
        {
          "name": "stderr",
          "output_type": "stream",
          "text": [
            "base_primitive._run:INFO:2024-04-19 18:50:47,502: Submitting job using options {'options': {'default_shots': 10}, 'version': 2, 'support_qiskit': True}\n",
            "/opt/conda/lib/python3.10/site-packages/qiskit_ibm_runtime/qiskit_runtime_service.py:878: UserWarning: Cloud simulators have been deprecated and will be removed on 15 May 2024. Use the new local testing mode in qiskit-ibm-runtime version 0.22.0 or later to meet your debugging needs.\n",
            "  warnings.warn(warning_message)\n",
            "base_primitive._run:INFO:2024-04-19 18:50:50,363: Submitting job using options {'options': {'default_shots': 10}, 'version': 2, 'support_qiskit': True}\n",
            "base_primitive._run:INFO:2024-04-19 18:50:53,449: Submitting job using options {'options': {'default_shots': 10}, 'version': 2, 'support_qiskit': True}\n",
            "base_primitive._run:INFO:2024-04-19 18:50:56,720: Submitting job using options {'options': {'default_shots': 10}, 'version': 2, 'support_qiskit': True}\n",
            "base_primitive._run:INFO:2024-04-19 18:51:03,391: Submitting job using options {'options': {'default_shots': 10}, 'version': 2, 'support_qiskit': True}\n",
            "base_primitive._run:INFO:2024-04-19 18:51:07,096: Submitting job using options {'options': {'default_shots': 10}, 'version': 2, 'support_qiskit': True}\n",
            "base_primitive._run:INFO:2024-04-19 18:51:10,129: Submitting job using options {'options': {'default_shots': 10}, 'version': 2, 'support_qiskit': True}\n",
            "base_primitive._run:INFO:2024-04-19 18:51:12,995: Submitting job using options {'options': {'default_shots': 10}, 'version': 2, 'support_qiskit': True}\n",
            "base_primitive._run:INFO:2024-04-19 18:51:15,860: Submitting job using options {'options': {'default_shots': 10}, 'version': 2, 'support_qiskit': True}\n",
            "base_primitive._run:INFO:2024-04-19 18:51:18,771: Submitting job using options {'options': {'default_shots': 10}, 'version': 2, 'support_qiskit': True}\n",
            "base_primitive._run:INFO:2024-04-19 18:51:21,779: Submitting job using options {'options': {'default_shots': 10}, 'version': 2, 'support_qiskit': True}\n",
            "base_primitive._run:INFO:2024-04-19 18:51:26,285: Submitting job using options {'options': {'default_shots': 10}, 'version': 2, 'support_qiskit': True}\n",
            "base_primitive._run:INFO:2024-04-19 18:51:32,522: Submitting job using options {'options': {'default_shots': 10}, 'version': 2, 'support_qiskit': True}\n",
            "base_primitive._run:INFO:2024-04-19 18:51:35,356: Submitting job using options {'options': {'default_shots': 10}, 'version': 2, 'support_qiskit': True}\n",
            "base_primitive._run:INFO:2024-04-19 18:51:38,225: Submitting job using options {'options': {'default_shots': 10}, 'version': 2, 'support_qiskit': True}\n",
            "base_primitive._run:INFO:2024-04-19 18:51:41,114: Submitting job using options {'options': {'default_shots': 10}, 'version': 2, 'support_qiskit': True}\n",
            "base_primitive._run:INFO:2024-04-19 18:51:44,906: Submitting job using options {'options': {'default_shots': 10}, 'version': 2, 'support_qiskit': True}\n",
            "base_primitive._run:INFO:2024-04-19 18:51:48,083: Submitting job using options {'options': {'default_shots': 10}, 'version': 2, 'support_qiskit': True}\n",
            "base_primitive._run:INFO:2024-04-19 18:51:51,488: Submitting job using options {'options': {'default_shots': 10}, 'version': 2, 'support_qiskit': True}\n",
            "base_primitive._run:INFO:2024-04-19 18:51:55,097: Submitting job using options {'options': {'default_shots': 10}, 'version': 2, 'support_qiskit': True}\n",
            "base_primitive._run:INFO:2024-04-19 18:51:58,440: Submitting job using options {'options': {'default_shots': 10}, 'version': 2, 'support_qiskit': True}\n"
          ]
        },
        {
          "name": "stdout",
          "output_type": "stream",
          "text": [
            "E_min = -1.728116993750001\n"
          ]
        }
      ],
      "source": [
        "#QASM simulator with noise without mitigation\n",
        "def minimization_noise(S):\n",
        "    with Session(backend=backend) as session:\n",
        "        estimator = Estimator(session=session)\n",
        "        estimator.options.resilience_level=0\n",
        "        estimator.options.default_shots = S\n",
        "\n",
        "        res = minimize(\n",
        "        cost_func,\n",
        "        x0,\n",
        "        args=(ansatz, hamiltonian, estimator),\n",
        "        method=\"cobyla\",\n",
        "        # callback=callback\n",
        "    )\n",
        "    return(res.fun)\n",
        "#Result\n",
        "print('E_min =',minimization_noise(10))"
      ]
    },
    {
      "cell_type": "code",
      "execution_count": null,
      "id": "15b3c4d9-c234-47a7-ba01-dafd8e74c538",
      "metadata": {
        "id": "15b3c4d9-c234-47a7-ba01-dafd8e74c538",
        "outputId": "441a2061-96b5-42a5-d228-b63de15bef93",
        "collapsed": true
      },
      "outputs": [
        {
          "name": "stderr",
          "output_type": "stream",
          "text": [
            "base_primitive._run:INFO:2024-04-19 18:52:02,323: Submitting job using options {'options': {'default_shots': 8000}, 'version': 2, 'support_qiskit': True}\n",
            "base_primitive._run:INFO:2024-04-19 18:52:05,459: Submitting job using options {'options': {'default_shots': 8000}, 'version': 2, 'support_qiskit': True}\n",
            "base_primitive._run:INFO:2024-04-19 18:52:11,018: Submitting job using options {'options': {'default_shots': 8000}, 'version': 2, 'support_qiskit': True}\n",
            "base_primitive._run:INFO:2024-04-19 18:52:15,123: Submitting job using options {'options': {'default_shots': 8000}, 'version': 2, 'support_qiskit': True}\n",
            "base_primitive._run:INFO:2024-04-19 18:52:18,658: Submitting job using options {'options': {'default_shots': 8000}, 'version': 2, 'support_qiskit': True}\n",
            "base_primitive._run:INFO:2024-04-19 18:52:25,187: Submitting job using options {'options': {'default_shots': 8000}, 'version': 2, 'support_qiskit': True}\n",
            "base_primitive._run:INFO:2024-04-19 18:52:28,262: Submitting job using options {'options': {'default_shots': 8000}, 'version': 2, 'support_qiskit': True}\n",
            "base_primitive._run:INFO:2024-04-19 18:52:31,998: Submitting job using options {'options': {'default_shots': 8000}, 'version': 2, 'support_qiskit': True}\n",
            "base_primitive._run:INFO:2024-04-19 18:52:35,151: Submitting job using options {'options': {'default_shots': 8000}, 'version': 2, 'support_qiskit': True}\n",
            "base_primitive._run:INFO:2024-04-19 18:52:38,353: Submitting job using options {'options': {'default_shots': 8000}, 'version': 2, 'support_qiskit': True}\n",
            "base_primitive._run:INFO:2024-04-19 18:52:41,776: Submitting job using options {'options': {'default_shots': 8000}, 'version': 2, 'support_qiskit': True}\n",
            "base_primitive._run:INFO:2024-04-19 18:52:45,181: Submitting job using options {'options': {'default_shots': 8000}, 'version': 2, 'support_qiskit': True}\n",
            "base_primitive._run:INFO:2024-04-19 18:52:48,660: Submitting job using options {'options': {'default_shots': 8000}, 'version': 2, 'support_qiskit': True}\n",
            "base_primitive._run:INFO:2024-04-19 18:52:52,175: Submitting job using options {'options': {'default_shots': 8000}, 'version': 2, 'support_qiskit': True}\n",
            "base_primitive._run:INFO:2024-04-19 18:52:55,327: Submitting job using options {'options': {'default_shots': 8000}, 'version': 2, 'support_qiskit': True}\n",
            "base_primitive._run:INFO:2024-04-19 18:52:58,499: Submitting job using options {'options': {'default_shots': 8000}, 'version': 2, 'support_qiskit': True}\n",
            "base_primitive._run:INFO:2024-04-19 18:53:01,550: Submitting job using options {'options': {'default_shots': 8000}, 'version': 2, 'support_qiskit': True}\n",
            "base_primitive._run:INFO:2024-04-19 18:53:05,065: Submitting job using options {'options': {'default_shots': 8000}, 'version': 2, 'support_qiskit': True}\n",
            "base_primitive._run:INFO:2024-04-19 18:53:08,116: Submitting job using options {'options': {'default_shots': 8000}, 'version': 2, 'support_qiskit': True}\n",
            "base_primitive._run:INFO:2024-04-19 18:53:13,892: Submitting job using options {'options': {'default_shots': 8000}, 'version': 2, 'support_qiskit': True}\n",
            "base_primitive._run:INFO:2024-04-19 18:53:17,202: Submitting job using options {'options': {'default_shots': 8000}, 'version': 2, 'support_qiskit': True}\n",
            "base_primitive._run:INFO:2024-04-19 18:53:20,160: Submitting job using options {'options': {'default_shots': 8000}, 'version': 2, 'support_qiskit': True}\n",
            "base_primitive._run:INFO:2024-04-19 18:53:24,164: Submitting job using options {'options': {'default_shots': 8000}, 'version': 2, 'support_qiskit': True}\n",
            "base_primitive._run:INFO:2024-04-19 18:53:27,408: Submitting job using options {'options': {'default_shots': 8000}, 'version': 2, 'support_qiskit': True}\n"
          ]
        },
        {
          "name": "stdout",
          "output_type": "stream",
          "text": [
            "Completed for runs= 1\n"
          ]
        },
        {
          "name": "stderr",
          "output_type": "stream",
          "text": [
            "base_primitive._run:INFO:2024-04-19 18:53:30,700: Submitting job using options {'options': {'default_shots': 8000}, 'version': 2, 'support_qiskit': True}\n",
            "base_primitive._run:INFO:2024-04-19 18:53:33,715: Submitting job using options {'options': {'default_shots': 8000}, 'version': 2, 'support_qiskit': True}\n",
            "base_primitive._run:INFO:2024-04-19 18:53:39,664: Submitting job using options {'options': {'default_shots': 8000}, 'version': 2, 'support_qiskit': True}\n",
            "base_primitive._run:INFO:2024-04-19 18:53:42,996: Submitting job using options {'options': {'default_shots': 8000}, 'version': 2, 'support_qiskit': True}\n",
            "base_primitive._run:INFO:2024-04-19 18:53:46,818: Submitting job using options {'options': {'default_shots': 8000}, 'version': 2, 'support_qiskit': True}\n",
            "base_primitive._run:INFO:2024-04-19 18:53:50,471: Submitting job using options {'options': {'default_shots': 8000}, 'version': 2, 'support_qiskit': True}\n",
            "base_primitive._run:INFO:2024-04-19 18:53:53,558: Submitting job using options {'options': {'default_shots': 8000}, 'version': 2, 'support_qiskit': True}\n",
            "base_primitive._run:INFO:2024-04-19 18:53:56,731: Submitting job using options {'options': {'default_shots': 8000}, 'version': 2, 'support_qiskit': True}\n",
            "base_primitive._run:INFO:2024-04-19 18:53:59,952: Submitting job using options {'options': {'default_shots': 8000}, 'version': 2, 'support_qiskit': True}\n",
            "base_primitive._run:INFO:2024-04-19 18:54:03,016: Submitting job using options {'options': {'default_shots': 8000}, 'version': 2, 'support_qiskit': True}\n",
            "base_primitive._run:INFO:2024-04-19 18:54:06,467: Submitting job using options {'options': {'default_shots': 8000}, 'version': 2, 'support_qiskit': True}\n",
            "base_primitive._run:INFO:2024-04-19 18:54:10,128: Submitting job using options {'options': {'default_shots': 8000}, 'version': 2, 'support_qiskit': True}\n",
            "base_primitive._run:INFO:2024-04-19 18:54:14,799: Submitting job using options {'options': {'default_shots': 8000}, 'version': 2, 'support_qiskit': True}\n",
            "base_primitive._run:INFO:2024-04-19 18:54:18,261: Submitting job using options {'options': {'default_shots': 8000}, 'version': 2, 'support_qiskit': True}\n",
            "base_primitive._run:INFO:2024-04-19 18:54:21,711: Submitting job using options {'options': {'default_shots': 8000}, 'version': 2, 'support_qiskit': True}\n",
            "base_primitive._run:INFO:2024-04-19 18:54:24,927: Submitting job using options {'options': {'default_shots': 8000}, 'version': 2, 'support_qiskit': True}\n",
            "base_primitive._run:INFO:2024-04-19 18:54:28,553: Submitting job using options {'options': {'default_shots': 8000}, 'version': 2, 'support_qiskit': True}\n",
            "base_primitive._run:INFO:2024-04-19 18:54:34,043: Submitting job using options {'options': {'default_shots': 8000}, 'version': 2, 'support_qiskit': True}\n",
            "base_primitive._run:INFO:2024-04-19 18:54:37,323: Submitting job using options {'options': {'default_shots': 8000}, 'version': 2, 'support_qiskit': True}\n",
            "base_primitive._run:INFO:2024-04-19 18:54:40,264: Submitting job using options {'options': {'default_shots': 8000}, 'version': 2, 'support_qiskit': True}\n",
            "base_primitive._run:INFO:2024-04-19 18:54:43,380: Submitting job using options {'options': {'default_shots': 8000}, 'version': 2, 'support_qiskit': True}\n"
          ]
        },
        {
          "name": "stdout",
          "output_type": "stream",
          "text": [
            "Completed for runs= 2\n"
          ]
        },
        {
          "name": "stderr",
          "output_type": "stream",
          "text": [
            "base_primitive._run:INFO:2024-04-19 18:54:46,424: Submitting job using options {'options': {'default_shots': 8000}, 'version': 2, 'support_qiskit': True}\n",
            "base_primitive._run:INFO:2024-04-19 18:54:57,620: Submitting job using options {'options': {'default_shots': 8000}, 'version': 2, 'support_qiskit': True}\n",
            "base_primitive._run:INFO:2024-04-19 18:55:01,047: Submitting job using options {'options': {'default_shots': 8000}, 'version': 2, 'support_qiskit': True}\n",
            "base_primitive._run:INFO:2024-04-19 18:55:06,631: Submitting job using options {'options': {'default_shots': 8000}, 'version': 2, 'support_qiskit': True}\n",
            "base_primitive._run:INFO:2024-04-19 18:55:10,807: Submitting job using options {'options': {'default_shots': 8000}, 'version': 2, 'support_qiskit': True}\n",
            "base_primitive._run:INFO:2024-04-19 18:55:14,034: Submitting job using options {'options': {'default_shots': 8000}, 'version': 2, 'support_qiskit': True}\n",
            "base_primitive._run:INFO:2024-04-19 18:55:17,421: Submitting job using options {'options': {'default_shots': 8000}, 'version': 2, 'support_qiskit': True}\n",
            "base_primitive._run:INFO:2024-04-19 18:55:23,419: Submitting job using options {'options': {'default_shots': 8000}, 'version': 2, 'support_qiskit': True}\n",
            "base_primitive._run:INFO:2024-04-19 18:55:29,281: Submitting job using options {'options': {'default_shots': 8000}, 'version': 2, 'support_qiskit': True}\n",
            "base_primitive._run:INFO:2024-04-19 18:55:33,277: Submitting job using options {'options': {'default_shots': 8000}, 'version': 2, 'support_qiskit': True}\n",
            "base_primitive._run:INFO:2024-04-19 18:55:37,142: Submitting job using options {'options': {'default_shots': 8000}, 'version': 2, 'support_qiskit': True}\n",
            "base_primitive._run:INFO:2024-04-19 18:55:40,303: Submitting job using options {'options': {'default_shots': 8000}, 'version': 2, 'support_qiskit': True}\n",
            "base_primitive._run:INFO:2024-04-19 18:55:43,598: Submitting job using options {'options': {'default_shots': 8000}, 'version': 2, 'support_qiskit': True}\n",
            "base_primitive._run:INFO:2024-04-19 18:55:46,971: Submitting job using options {'options': {'default_shots': 8000}, 'version': 2, 'support_qiskit': True}\n",
            "base_primitive._run:INFO:2024-04-19 18:55:52,580: Submitting job using options {'options': {'default_shots': 8000}, 'version': 2, 'support_qiskit': True}\n",
            "base_primitive._run:INFO:2024-04-19 18:55:56,278: Submitting job using options {'options': {'default_shots': 8000}, 'version': 2, 'support_qiskit': True}\n",
            "base_primitive._run:INFO:2024-04-19 18:55:59,499: Submitting job using options {'options': {'default_shots': 8000}, 'version': 2, 'support_qiskit': True}\n",
            "base_primitive._run:INFO:2024-04-19 18:56:03,003: Submitting job using options {'options': {'default_shots': 8000}, 'version': 2, 'support_qiskit': True}\n",
            "base_primitive._run:INFO:2024-04-19 18:56:06,216: Submitting job using options {'options': {'default_shots': 8000}, 'version': 2, 'support_qiskit': True}\n",
            "base_primitive._run:INFO:2024-04-19 18:56:13,193: Submitting job using options {'options': {'default_shots': 8000}, 'version': 2, 'support_qiskit': True}\n",
            "base_primitive._run:INFO:2024-04-19 18:56:16,670: Submitting job using options {'options': {'default_shots': 8000}, 'version': 2, 'support_qiskit': True}\n"
          ]
        },
        {
          "name": "stdout",
          "output_type": "stream",
          "text": [
            "Completed for runs= 3\n"
          ]
        },
        {
          "name": "stderr",
          "output_type": "stream",
          "text": [
            "base_primitive._run:INFO:2024-04-19 18:56:19,738: Submitting job using options {'options': {'default_shots': 8000}, 'version': 2, 'support_qiskit': True}\n",
            "base_primitive._run:INFO:2024-04-19 18:56:24,229: Submitting job using options {'options': {'default_shots': 8000}, 'version': 2, 'support_qiskit': True}\n",
            "base_primitive._run:INFO:2024-04-19 18:56:27,354: Submitting job using options {'options': {'default_shots': 8000}, 'version': 2, 'support_qiskit': True}\n",
            "base_primitive._run:INFO:2024-04-19 18:56:30,600: Submitting job using options {'options': {'default_shots': 8000}, 'version': 2, 'support_qiskit': True}\n",
            "base_primitive._run:INFO:2024-04-19 18:56:34,337: Submitting job using options {'options': {'default_shots': 8000}, 'version': 2, 'support_qiskit': True}\n",
            "base_primitive._run:INFO:2024-04-19 18:56:37,543: Submitting job using options {'options': {'default_shots': 8000}, 'version': 2, 'support_qiskit': True}\n",
            "base_primitive._run:INFO:2024-04-19 18:56:40,915: Submitting job using options {'options': {'default_shots': 8000}, 'version': 2, 'support_qiskit': True}\n",
            "base_primitive._run:INFO:2024-04-19 18:56:44,299: Submitting job using options {'options': {'default_shots': 8000}, 'version': 2, 'support_qiskit': True}\n",
            "base_primitive._run:INFO:2024-04-19 18:56:49,972: Submitting job using options {'options': {'default_shots': 8000}, 'version': 2, 'support_qiskit': True}\n",
            "base_primitive._run:INFO:2024-04-19 18:56:55,533: Submitting job using options {'options': {'default_shots': 8000}, 'version': 2, 'support_qiskit': True}\n",
            "base_primitive._run:INFO:2024-04-19 18:56:58,558: Submitting job using options {'options': {'default_shots': 8000}, 'version': 2, 'support_qiskit': True}\n",
            "base_primitive._run:INFO:2024-04-19 18:57:01,719: Submitting job using options {'options': {'default_shots': 8000}, 'version': 2, 'support_qiskit': True}\n",
            "base_primitive._run:INFO:2024-04-19 18:57:04,999: Submitting job using options {'options': {'default_shots': 8000}, 'version': 2, 'support_qiskit': True}\n",
            "base_primitive._run:INFO:2024-04-19 18:57:08,788: Submitting job using options {'options': {'default_shots': 8000}, 'version': 2, 'support_qiskit': True}\n",
            "base_primitive._run:INFO:2024-04-19 18:57:12,464: Submitting job using options {'options': {'default_shots': 8000}, 'version': 2, 'support_qiskit': True}\n",
            "base_primitive._run:INFO:2024-04-19 18:57:15,866: Submitting job using options {'options': {'default_shots': 8000}, 'version': 2, 'support_qiskit': True}\n",
            "base_primitive._run:INFO:2024-04-19 18:57:19,720: Submitting job using options {'options': {'default_shots': 8000}, 'version': 2, 'support_qiskit': True}\n",
            "base_primitive._run:INFO:2024-04-19 18:57:22,901: Submitting job using options {'options': {'default_shots': 8000}, 'version': 2, 'support_qiskit': True}\n",
            "base_primitive._run:INFO:2024-04-19 18:57:26,302: Submitting job using options {'options': {'default_shots': 8000}, 'version': 2, 'support_qiskit': True}\n",
            "base_primitive._run:INFO:2024-04-19 18:57:29,873: Submitting job using options {'options': {'default_shots': 8000}, 'version': 2, 'support_qiskit': True}\n",
            "base_primitive._run:INFO:2024-04-19 18:57:35,312: Submitting job using options {'options': {'default_shots': 8000}, 'version': 2, 'support_qiskit': True}\n",
            "base_primitive._run:INFO:2024-04-19 18:57:41,327: Submitting job using options {'options': {'default_shots': 8000}, 'version': 2, 'support_qiskit': True}\n"
          ]
        },
        {
          "name": "stdout",
          "output_type": "stream",
          "text": [
            "Completed for runs= 4\n"
          ]
        },
        {
          "name": "stderr",
          "output_type": "stream",
          "text": [
            "base_primitive._run:INFO:2024-04-19 18:57:47,127: Submitting job using options {'options': {'default_shots': 8000}, 'version': 2, 'support_qiskit': True}\n",
            "base_primitive._run:INFO:2024-04-19 18:57:50,626: Submitting job using options {'options': {'default_shots': 8000}, 'version': 2, 'support_qiskit': True}\n",
            "base_primitive._run:INFO:2024-04-19 18:57:56,889: Submitting job using options {'options': {'default_shots': 8000}, 'version': 2, 'support_qiskit': True}\n",
            "base_primitive._run:INFO:2024-04-19 18:57:59,967: Submitting job using options {'options': {'default_shots': 8000}, 'version': 2, 'support_qiskit': True}\n",
            "base_primitive._run:INFO:2024-04-19 18:58:03,155: Submitting job using options {'options': {'default_shots': 8000}, 'version': 2, 'support_qiskit': True}\n",
            "base_primitive._run:INFO:2024-04-19 18:58:06,083: Submitting job using options {'options': {'default_shots': 8000}, 'version': 2, 'support_qiskit': True}\n",
            "base_primitive._run:INFO:2024-04-19 18:58:09,583: Submitting job using options {'options': {'default_shots': 8000}, 'version': 2, 'support_qiskit': True}\n",
            "base_primitive._run:INFO:2024-04-19 18:58:13,276: Submitting job using options {'options': {'default_shots': 8000}, 'version': 2, 'support_qiskit': True}\n",
            "base_primitive._run:INFO:2024-04-19 18:58:16,730: Submitting job using options {'options': {'default_shots': 8000}, 'version': 2, 'support_qiskit': True}\n",
            "base_primitive._run:INFO:2024-04-19 18:58:22,528: Submitting job using options {'options': {'default_shots': 8000}, 'version': 2, 'support_qiskit': True}\n",
            "base_primitive._run:INFO:2024-04-19 18:58:25,530: Submitting job using options {'options': {'default_shots': 8000}, 'version': 2, 'support_qiskit': True}\n",
            "base_primitive._run:INFO:2024-04-19 18:58:28,726: Submitting job using options {'options': {'default_shots': 8000}, 'version': 2, 'support_qiskit': True}\n",
            "base_primitive._run:INFO:2024-04-19 18:58:34,700: Submitting job using options {'options': {'default_shots': 8000}, 'version': 2, 'support_qiskit': True}\n",
            "base_primitive._run:INFO:2024-04-19 18:58:39,797: Submitting job using options {'options': {'default_shots': 8000}, 'version': 2, 'support_qiskit': True}\n",
            "base_primitive._run:INFO:2024-04-19 18:58:43,944: Submitting job using options {'options': {'default_shots': 8000}, 'version': 2, 'support_qiskit': True}\n",
            "base_primitive._run:INFO:2024-04-19 18:58:48,693: Submitting job using options {'options': {'default_shots': 8000}, 'version': 2, 'support_qiskit': True}\n",
            "base_primitive._run:INFO:2024-04-19 18:58:51,936: Submitting job using options {'options': {'default_shots': 8000}, 'version': 2, 'support_qiskit': True}\n",
            "base_primitive._run:INFO:2024-04-19 18:58:55,265: Submitting job using options {'options': {'default_shots': 8000}, 'version': 2, 'support_qiskit': True}\n",
            "base_primitive._run:INFO:2024-04-19 18:58:58,368: Submitting job using options {'options': {'default_shots': 8000}, 'version': 2, 'support_qiskit': True}\n",
            "base_primitive._run:INFO:2024-04-19 18:59:01,753: Submitting job using options {'options': {'default_shots': 8000}, 'version': 2, 'support_qiskit': True}\n",
            "base_primitive._run:INFO:2024-04-19 18:59:05,038: Submitting job using options {'options': {'default_shots': 8000}, 'version': 2, 'support_qiskit': True}\n",
            "base_primitive._run:INFO:2024-04-19 18:59:09,094: Submitting job using options {'options': {'default_shots': 8000}, 'version': 2, 'support_qiskit': True}\n"
          ]
        },
        {
          "name": "stdout",
          "output_type": "stream",
          "text": [
            "Completed for runs= 5\n"
          ]
        },
        {
          "name": "stderr",
          "output_type": "stream",
          "text": [
            "base_primitive._run:INFO:2024-04-19 18:59:12,341: Submitting job using options {'options': {'default_shots': 8000}, 'version': 2, 'support_qiskit': True}\n",
            "base_primitive._run:INFO:2024-04-19 18:59:15,728: Submitting job using options {'options': {'default_shots': 8000}, 'version': 2, 'support_qiskit': True}\n",
            "base_primitive._run:INFO:2024-04-19 18:59:19,352: Submitting job using options {'options': {'default_shots': 8000}, 'version': 2, 'support_qiskit': True}\n",
            "base_primitive._run:INFO:2024-04-19 18:59:24,837: Submitting job using options {'options': {'default_shots': 8000}, 'version': 2, 'support_qiskit': True}\n",
            "base_primitive._run:INFO:2024-04-19 18:59:30,460: Submitting job using options {'options': {'default_shots': 8000}, 'version': 2, 'support_qiskit': True}\n",
            "base_primitive._run:INFO:2024-04-19 18:59:33,661: Submitting job using options {'options': {'default_shots': 8000}, 'version': 2, 'support_qiskit': True}\n",
            "base_primitive._run:INFO:2024-04-19 18:59:36,975: Submitting job using options {'options': {'default_shots': 8000}, 'version': 2, 'support_qiskit': True}\n",
            "base_primitive._run:INFO:2024-04-19 18:59:39,953: Submitting job using options {'options': {'default_shots': 8000}, 'version': 2, 'support_qiskit': True}\n",
            "base_primitive._run:INFO:2024-04-19 18:59:42,981: Submitting job using options {'options': {'default_shots': 8000}, 'version': 2, 'support_qiskit': True}\n",
            "base_primitive._run:INFO:2024-04-19 18:59:46,333: Submitting job using options {'options': {'default_shots': 8000}, 'version': 2, 'support_qiskit': True}\n",
            "base_primitive._run:INFO:2024-04-19 18:59:49,869: Submitting job using options {'options': {'default_shots': 8000}, 'version': 2, 'support_qiskit': True}\n",
            "base_primitive._run:INFO:2024-04-19 18:59:53,412: Submitting job using options {'options': {'default_shots': 8000}, 'version': 2, 'support_qiskit': True}\n",
            "base_primitive._run:INFO:2024-04-19 18:59:57,401: Submitting job using options {'options': {'default_shots': 8000}, 'version': 2, 'support_qiskit': True}\n",
            "base_primitive._run:INFO:2024-04-19 19:00:00,496: Submitting job using options {'options': {'default_shots': 8000}, 'version': 2, 'support_qiskit': True}\n",
            "base_primitive._run:INFO:2024-04-19 19:00:05,973: Submitting job using options {'options': {'default_shots': 8000}, 'version': 2, 'support_qiskit': True}\n",
            "base_primitive._run:INFO:2024-04-19 19:00:11,626: Submitting job using options {'options': {'default_shots': 8000}, 'version': 2, 'support_qiskit': True}\n",
            "base_primitive._run:INFO:2024-04-19 19:00:15,137: Submitting job using options {'options': {'default_shots': 8000}, 'version': 2, 'support_qiskit': True}\n",
            "base_primitive._run:INFO:2024-04-19 19:00:18,181: Submitting job using options {'options': {'default_shots': 8000}, 'version': 2, 'support_qiskit': True}\n",
            "base_primitive._run:INFO:2024-04-19 19:00:21,825: Submitting job using options {'options': {'default_shots': 8000}, 'version': 2, 'support_qiskit': True}\n",
            "base_primitive._run:INFO:2024-04-19 19:00:25,196: Submitting job using options {'options': {'default_shots': 8000}, 'version': 2, 'support_qiskit': True}\n",
            "base_primitive._run:INFO:2024-04-19 19:00:28,578: Submitting job using options {'options': {'default_shots': 8000}, 'version': 2, 'support_qiskit': True}\n",
            "base_primitive._run:INFO:2024-04-19 19:00:32,006: Submitting job using options {'options': {'default_shots': 8000}, 'version': 2, 'support_qiskit': True}\n",
            "base_primitive._run:INFO:2024-04-19 19:00:37,835: Submitting job using options {'options': {'default_shots': 8000}, 'version': 2, 'support_qiskit': True}\n"
          ]
        },
        {
          "name": "stdout",
          "output_type": "stream",
          "text": [
            "Completed for runs= 6\n"
          ]
        },
        {
          "name": "stderr",
          "output_type": "stream",
          "text": [
            "base_primitive._run:INFO:2024-04-19 19:00:42,796: Submitting job using options {'options': {'default_shots': 8000}, 'version': 2, 'support_qiskit': True}\n",
            "base_primitive._run:INFO:2024-04-19 19:00:48,351: Submitting job using options {'options': {'default_shots': 8000}, 'version': 2, 'support_qiskit': True}\n",
            "base_primitive._run:INFO:2024-04-19 19:00:51,467: Submitting job using options {'options': {'default_shots': 8000}, 'version': 2, 'support_qiskit': True}\n",
            "base_primitive._run:INFO:2024-04-19 19:00:54,674: Submitting job using options {'options': {'default_shots': 8000}, 'version': 2, 'support_qiskit': True}\n",
            "base_primitive._run:INFO:2024-04-19 19:00:58,290: Submitting job using options {'options': {'default_shots': 8000}, 'version': 2, 'support_qiskit': True}\n",
            "base_primitive._run:INFO:2024-04-19 19:01:01,434: Submitting job using options {'options': {'default_shots': 8000}, 'version': 2, 'support_qiskit': True}\n",
            "base_primitive._run:INFO:2024-04-19 19:01:06,989: Submitting job using options {'options': {'default_shots': 8000}, 'version': 2, 'support_qiskit': True}\n",
            "base_primitive._run:INFO:2024-04-19 19:01:10,030: Submitting job using options {'options': {'default_shots': 8000}, 'version': 2, 'support_qiskit': True}\n",
            "base_primitive._run:INFO:2024-04-19 19:01:13,041: Submitting job using options {'options': {'default_shots': 8000}, 'version': 2, 'support_qiskit': True}\n",
            "base_primitive._run:INFO:2024-04-19 19:01:17,593: Submitting job using options {'options': {'default_shots': 8000}, 'version': 2, 'support_qiskit': True}\n",
            "base_primitive._run:INFO:2024-04-19 19:01:24,135: Submitting job using options {'options': {'default_shots': 8000}, 'version': 2, 'support_qiskit': True}\n",
            "base_primitive._run:INFO:2024-04-19 19:01:30,657: Submitting job using options {'options': {'default_shots': 8000}, 'version': 2, 'support_qiskit': True}\n",
            "base_primitive._run:INFO:2024-04-19 19:01:33,876: Submitting job using options {'options': {'default_shots': 8000}, 'version': 2, 'support_qiskit': True}\n",
            "base_primitive._run:INFO:2024-04-19 19:01:36,796: Submitting job using options {'options': {'default_shots': 8000}, 'version': 2, 'support_qiskit': True}\n",
            "base_primitive._run:INFO:2024-04-19 19:01:39,848: Submitting job using options {'options': {'default_shots': 8000}, 'version': 2, 'support_qiskit': True}\n",
            "base_primitive._run:INFO:2024-04-19 19:01:43,556: Submitting job using options {'options': {'default_shots': 8000}, 'version': 2, 'support_qiskit': True}\n",
            "base_primitive._run:INFO:2024-04-19 19:01:46,654: Submitting job using options {'options': {'default_shots': 8000}, 'version': 2, 'support_qiskit': True}\n",
            "base_primitive._run:INFO:2024-04-19 19:01:49,621: Submitting job using options {'options': {'default_shots': 8000}, 'version': 2, 'support_qiskit': True}\n",
            "base_primitive._run:INFO:2024-04-19 19:01:53,650: Submitting job using options {'options': {'default_shots': 8000}, 'version': 2, 'support_qiskit': True}\n",
            "base_primitive._run:INFO:2024-04-19 19:01:58,680: Submitting job using options {'options': {'default_shots': 8000}, 'version': 2, 'support_qiskit': True}\n",
            "base_primitive._run:INFO:2024-04-19 19:02:02,871: Submitting job using options {'options': {'default_shots': 8000}, 'version': 2, 'support_qiskit': True}\n",
            "base_primitive._run:INFO:2024-04-19 19:02:08,700: Submitting job using options {'options': {'default_shots': 8000}, 'version': 2, 'support_qiskit': True}\n"
          ]
        },
        {
          "name": "stdout",
          "output_type": "stream",
          "text": [
            "Completed for runs= 7\n"
          ]
        },
        {
          "name": "stderr",
          "output_type": "stream",
          "text": [
            "base_primitive._run:INFO:2024-04-19 19:02:11,718: Submitting job using options {'options': {'default_shots': 8000}, 'version': 2, 'support_qiskit': True}\n",
            "base_primitive._run:INFO:2024-04-19 19:02:15,717: Submitting job using options {'options': {'default_shots': 8000}, 'version': 2, 'support_qiskit': True}\n",
            "base_primitive._run:INFO:2024-04-19 19:02:19,261: Submitting job using options {'options': {'default_shots': 8000}, 'version': 2, 'support_qiskit': True}\n",
            "base_primitive._run:INFO:2024-04-19 19:02:22,292: Submitting job using options {'options': {'default_shots': 8000}, 'version': 2, 'support_qiskit': True}\n",
            "base_primitive._run:INFO:2024-04-19 19:02:25,694: Submitting job using options {'options': {'default_shots': 8000}, 'version': 2, 'support_qiskit': True}\n",
            "base_primitive._run:INFO:2024-04-19 19:02:29,090: Submitting job using options {'options': {'default_shots': 8000}, 'version': 2, 'support_qiskit': True}\n",
            "base_primitive._run:INFO:2024-04-19 19:02:32,295: Submitting job using options {'options': {'default_shots': 8000}, 'version': 2, 'support_qiskit': True}\n",
            "base_primitive._run:INFO:2024-04-19 19:02:35,613: Submitting job using options {'options': {'default_shots': 8000}, 'version': 2, 'support_qiskit': True}\n",
            "base_primitive._run:INFO:2024-04-19 19:02:40,954: Submitting job using options {'options': {'default_shots': 8000}, 'version': 2, 'support_qiskit': True}\n",
            "base_primitive._run:INFO:2024-04-19 19:02:44,944: Submitting job using options {'options': {'default_shots': 8000}, 'version': 2, 'support_qiskit': True}\n",
            "base_primitive._run:INFO:2024-04-19 19:02:48,751: Submitting job using options {'options': {'default_shots': 8000}, 'version': 2, 'support_qiskit': True}\n",
            "base_primitive._run:INFO:2024-04-19 19:02:53,846: Submitting job using options {'options': {'default_shots': 8000}, 'version': 2, 'support_qiskit': True}\n",
            "base_primitive._run:INFO:2024-04-19 19:02:56,914: Submitting job using options {'options': {'default_shots': 8000}, 'version': 2, 'support_qiskit': True}\n",
            "base_primitive._run:INFO:2024-04-19 19:03:00,156: Submitting job using options {'options': {'default_shots': 8000}, 'version': 2, 'support_qiskit': True}\n",
            "base_primitive._run:INFO:2024-04-19 19:03:06,879: Submitting job using options {'options': {'default_shots': 8000}, 'version': 2, 'support_qiskit': True}\n",
            "base_primitive._run:INFO:2024-04-19 19:03:10,230: Submitting job using options {'options': {'default_shots': 8000}, 'version': 2, 'support_qiskit': True}\n",
            "base_primitive._run:INFO:2024-04-19 19:03:13,506: Submitting job using options {'options': {'default_shots': 8000}, 'version': 2, 'support_qiskit': True}\n",
            "base_primitive._run:INFO:2024-04-19 19:03:16,673: Submitting job using options {'options': {'default_shots': 8000}, 'version': 2, 'support_qiskit': True}\n",
            "base_primitive._run:INFO:2024-04-19 19:03:19,833: Submitting job using options {'options': {'default_shots': 8000}, 'version': 2, 'support_qiskit': True}\n",
            "base_primitive._run:INFO:2024-04-19 19:03:23,074: Submitting job using options {'options': {'default_shots': 8000}, 'version': 2, 'support_qiskit': True}\n",
            "base_primitive._run:INFO:2024-04-19 19:03:28,446: Submitting job using options {'options': {'default_shots': 8000}, 'version': 2, 'support_qiskit': True}\n",
            "base_primitive._run:INFO:2024-04-19 19:03:31,683: Submitting job using options {'options': {'default_shots': 8000}, 'version': 2, 'support_qiskit': True}\n",
            "base_primitive._run:INFO:2024-04-19 19:03:35,179: Submitting job using options {'options': {'default_shots': 8000}, 'version': 2, 'support_qiskit': True}\n",
            "base_primitive._run:INFO:2024-04-19 19:03:38,606: Submitting job using options {'options': {'default_shots': 8000}, 'version': 2, 'support_qiskit': True}\n"
          ]
        },
        {
          "name": "stdout",
          "output_type": "stream",
          "text": [
            "Completed for runs= 8\n"
          ]
        },
        {
          "name": "stderr",
          "output_type": "stream",
          "text": [
            "base_primitive._run:INFO:2024-04-19 19:03:42,297: Submitting job using options {'options': {'default_shots': 8000}, 'version': 2, 'support_qiskit': True}\n",
            "base_primitive._run:INFO:2024-04-19 19:03:45,820: Submitting job using options {'options': {'default_shots': 8000}, 'version': 2, 'support_qiskit': True}\n",
            "base_primitive._run:INFO:2024-04-19 19:03:49,963: Submitting job using options {'options': {'default_shots': 8000}, 'version': 2, 'support_qiskit': True}\n",
            "base_primitive._run:INFO:2024-04-19 19:03:52,905: Submitting job using options {'options': {'default_shots': 8000}, 'version': 2, 'support_qiskit': True}\n",
            "base_primitive._run:INFO:2024-04-19 19:03:56,289: Submitting job using options {'options': {'default_shots': 8000}, 'version': 2, 'support_qiskit': True}\n",
            "base_primitive._run:INFO:2024-04-19 19:03:59,655: Submitting job using options {'options': {'default_shots': 8000}, 'version': 2, 'support_qiskit': True}\n",
            "base_primitive._run:INFO:2024-04-19 19:04:03,074: Submitting job using options {'options': {'default_shots': 8000}, 'version': 2, 'support_qiskit': True}\n",
            "base_primitive._run:INFO:2024-04-19 19:04:08,818: Submitting job using options {'options': {'default_shots': 8000}, 'version': 2, 'support_qiskit': True}\n",
            "base_primitive._run:INFO:2024-04-19 19:04:11,997: Submitting job using options {'options': {'default_shots': 8000}, 'version': 2, 'support_qiskit': True}\n",
            "base_primitive._run:INFO:2024-04-19 19:04:16,014: Submitting job using options {'options': {'default_shots': 8000}, 'version': 2, 'support_qiskit': True}\n",
            "base_primitive._run:INFO:2024-04-19 19:04:19,556: Submitting job using options {'options': {'default_shots': 8000}, 'version': 2, 'support_qiskit': True}\n",
            "base_primitive._run:INFO:2024-04-19 19:04:22,946: Submitting job using options {'options': {'default_shots': 8000}, 'version': 2, 'support_qiskit': True}\n",
            "base_primitive._run:INFO:2024-04-19 19:04:26,617: Submitting job using options {'options': {'default_shots': 8000}, 'version': 2, 'support_qiskit': True}\n",
            "base_primitive._run:INFO:2024-04-19 19:04:30,115: Submitting job using options {'options': {'default_shots': 8000}, 'version': 2, 'support_qiskit': True}\n",
            "base_primitive._run:INFO:2024-04-19 19:04:35,985: Submitting job using options {'options': {'default_shots': 8000}, 'version': 2, 'support_qiskit': True}\n",
            "base_primitive._run:INFO:2024-04-19 19:04:39,415: Submitting job using options {'options': {'default_shots': 8000}, 'version': 2, 'support_qiskit': True}\n",
            "base_primitive._run:INFO:2024-04-19 19:04:42,748: Submitting job using options {'options': {'default_shots': 8000}, 'version': 2, 'support_qiskit': True}\n",
            "base_primitive._run:INFO:2024-04-19 19:04:45,937: Submitting job using options {'options': {'default_shots': 8000}, 'version': 2, 'support_qiskit': True}\n",
            "base_primitive._run:INFO:2024-04-19 19:04:51,560: Submitting job using options {'options': {'default_shots': 8000}, 'version': 2, 'support_qiskit': True}\n",
            "base_primitive._run:INFO:2024-04-19 19:04:55,127: Submitting job using options {'options': {'default_shots': 8000}, 'version': 2, 'support_qiskit': True}\n",
            "base_primitive._run:INFO:2024-04-19 19:04:58,490: Submitting job using options {'options': {'default_shots': 8000}, 'version': 2, 'support_qiskit': True}\n",
            "base_primitive._run:INFO:2024-04-19 19:05:04,007: Submitting job using options {'options': {'default_shots': 8000}, 'version': 2, 'support_qiskit': True}\n"
          ]
        },
        {
          "name": "stdout",
          "output_type": "stream",
          "text": [
            "Completed for runs= 9\n"
          ]
        },
        {
          "name": "stderr",
          "output_type": "stream",
          "text": [
            "base_primitive._run:INFO:2024-04-19 19:05:07,301: Submitting job using options {'options': {'default_shots': 8000}, 'version': 2, 'support_qiskit': True}\n",
            "base_primitive._run:INFO:2024-04-19 19:05:10,826: Submitting job using options {'options': {'default_shots': 8000}, 'version': 2, 'support_qiskit': True}\n",
            "base_primitive._run:INFO:2024-04-19 19:05:14,393: Submitting job using options {'options': {'default_shots': 8000}, 'version': 2, 'support_qiskit': True}\n",
            "base_primitive._run:INFO:2024-04-19 19:05:20,598: Submitting job using options {'options': {'default_shots': 8000}, 'version': 2, 'support_qiskit': True}\n",
            "base_primitive._run:INFO:2024-04-19 19:05:23,716: Submitting job using options {'options': {'default_shots': 8000}, 'version': 2, 'support_qiskit': True}\n",
            "base_primitive._run:INFO:2024-04-19 19:05:26,711: Submitting job using options {'options': {'default_shots': 8000}, 'version': 2, 'support_qiskit': True}\n",
            "base_primitive._run:INFO:2024-04-19 19:05:32,306: Submitting job using options {'options': {'default_shots': 8000}, 'version': 2, 'support_qiskit': True}\n",
            "base_primitive._run:INFO:2024-04-19 19:05:35,495: Submitting job using options {'options': {'default_shots': 8000}, 'version': 2, 'support_qiskit': True}\n",
            "base_primitive._run:INFO:2024-04-19 19:05:41,089: Submitting job using options {'options': {'default_shots': 8000}, 'version': 2, 'support_qiskit': True}\n",
            "base_primitive._run:INFO:2024-04-19 19:05:44,287: Submitting job using options {'options': {'default_shots': 8000}, 'version': 2, 'support_qiskit': True}\n",
            "base_primitive._run:INFO:2024-04-19 19:05:47,588: Submitting job using options {'options': {'default_shots': 8000}, 'version': 2, 'support_qiskit': True}\n",
            "base_primitive._run:INFO:2024-04-19 19:05:54,061: Submitting job using options {'options': {'default_shots': 8000}, 'version': 2, 'support_qiskit': True}\n",
            "base_primitive._run:INFO:2024-04-19 19:05:59,678: Submitting job using options {'options': {'default_shots': 8000}, 'version': 2, 'support_qiskit': True}\n",
            "base_primitive._run:INFO:2024-04-19 19:06:02,764: Submitting job using options {'options': {'default_shots': 8000}, 'version': 2, 'support_qiskit': True}\n",
            "base_primitive._run:INFO:2024-04-19 19:06:06,194: Submitting job using options {'options': {'default_shots': 8000}, 'version': 2, 'support_qiskit': True}\n",
            "base_primitive._run:INFO:2024-04-19 19:06:09,380: Submitting job using options {'options': {'default_shots': 8000}, 'version': 2, 'support_qiskit': True}\n",
            "base_primitive._run:INFO:2024-04-19 19:06:12,540: Submitting job using options {'options': {'default_shots': 8000}, 'version': 2, 'support_qiskit': True}\n",
            "base_primitive._run:INFO:2024-04-19 19:06:16,258: Submitting job using options {'options': {'default_shots': 8000}, 'version': 2, 'support_qiskit': True}\n",
            "base_primitive._run:INFO:2024-04-19 19:06:22,998: Submitting job using options {'options': {'default_shots': 8000}, 'version': 2, 'support_qiskit': True}\n",
            "base_primitive._run:INFO:2024-04-19 19:06:26,225: Submitting job using options {'options': {'default_shots': 8000}, 'version': 2, 'support_qiskit': True}\n",
            "base_primitive._run:INFO:2024-04-19 19:06:29,592: Submitting job using options {'options': {'default_shots': 8000}, 'version': 2, 'support_qiskit': True}\n",
            "base_primitive._run:INFO:2024-04-19 19:06:32,868: Submitting job using options {'options': {'default_shots': 8000}, 'version': 2, 'support_qiskit': True}\n"
          ]
        },
        {
          "name": "stdout",
          "output_type": "stream",
          "text": [
            "Completed for runs= 10\n"
          ]
        },
        {
          "name": "stderr",
          "output_type": "stream",
          "text": [
            "base_primitive._run:INFO:2024-04-19 19:06:36,296: Submitting job using options {'options': {'default_shots': 8000}, 'version': 2, 'support_qiskit': True}\n",
            "base_primitive._run:INFO:2024-04-19 19:06:39,913: Submitting job using options {'options': {'default_shots': 8000}, 'version': 2, 'support_qiskit': True}\n",
            "base_primitive._run:INFO:2024-04-19 19:06:43,332: Submitting job using options {'options': {'default_shots': 8000}, 'version': 2, 'support_qiskit': True}\n",
            "base_primitive._run:INFO:2024-04-19 19:06:48,915: Submitting job using options {'options': {'default_shots': 8000}, 'version': 2, 'support_qiskit': True}\n",
            "base_primitive._run:INFO:2024-04-19 19:06:52,372: Submitting job using options {'options': {'default_shots': 8000}, 'version': 2, 'support_qiskit': True}\n",
            "base_primitive._run:INFO:2024-04-19 19:06:58,843: Submitting job using options {'options': {'default_shots': 8000}, 'version': 2, 'support_qiskit': True}\n",
            "base_primitive._run:INFO:2024-04-19 19:07:02,841: Submitting job using options {'options': {'default_shots': 8000}, 'version': 2, 'support_qiskit': True}\n",
            "base_primitive._run:INFO:2024-04-19 19:07:05,975: Submitting job using options {'options': {'default_shots': 8000}, 'version': 2, 'support_qiskit': True}\n",
            "base_primitive._run:INFO:2024-04-19 19:07:14,242: Submitting job using options {'options': {'default_shots': 8000}, 'version': 2, 'support_qiskit': True}\n",
            "base_primitive._run:INFO:2024-04-19 19:07:19,968: Submitting job using options {'options': {'default_shots': 8000}, 'version': 2, 'support_qiskit': True}\n",
            "base_primitive._run:INFO:2024-04-19 19:07:23,963: Submitting job using options {'options': {'default_shots': 8000}, 'version': 2, 'support_qiskit': True}\n",
            "base_primitive._run:INFO:2024-04-19 19:07:27,219: Submitting job using options {'options': {'default_shots': 8000}, 'version': 2, 'support_qiskit': True}\n",
            "base_primitive._run:INFO:2024-04-19 19:07:31,202: Submitting job using options {'options': {'default_shots': 8000}, 'version': 2, 'support_qiskit': True}\n",
            "base_primitive._run:INFO:2024-04-19 19:07:34,287: Submitting job using options {'options': {'default_shots': 8000}, 'version': 2, 'support_qiskit': True}\n",
            "base_primitive._run:INFO:2024-04-19 19:07:37,441: Submitting job using options {'options': {'default_shots': 8000}, 'version': 2, 'support_qiskit': True}\n",
            "base_primitive._run:INFO:2024-04-19 19:07:40,507: Submitting job using options {'options': {'default_shots': 8000}, 'version': 2, 'support_qiskit': True}\n",
            "base_primitive._run:INFO:2024-04-19 19:07:46,680: Submitting job using options {'options': {'default_shots': 8000}, 'version': 2, 'support_qiskit': True}\n",
            "base_primitive._run:INFO:2024-04-19 19:07:49,850: Submitting job using options {'options': {'default_shots': 8000}, 'version': 2, 'support_qiskit': True}\n",
            "base_primitive._run:INFO:2024-04-19 19:07:52,929: Submitting job using options {'options': {'default_shots': 8000}, 'version': 2, 'support_qiskit': True}\n",
            "base_primitive._run:INFO:2024-04-19 19:07:56,453: Submitting job using options {'options': {'default_shots': 8000}, 'version': 2, 'support_qiskit': True}\n"
          ]
        },
        {
          "name": "stdout",
          "output_type": "stream",
          "text": [
            "Completed for runs= 11\n"
          ]
        },
        {
          "name": "stderr",
          "output_type": "stream",
          "text": [
            "base_primitive._run:INFO:2024-04-19 19:07:59,690: Submitting job using options {'options': {'default_shots': 8000}, 'version': 2, 'support_qiskit': True}\n",
            "base_primitive._run:INFO:2024-04-19 19:08:03,181: Submitting job using options {'options': {'default_shots': 8000}, 'version': 2, 'support_qiskit': True}\n",
            "base_primitive._run:INFO:2024-04-19 19:08:07,120: Submitting job using options {'options': {'default_shots': 8000}, 'version': 2, 'support_qiskit': True}\n",
            "base_primitive._run:INFO:2024-04-19 19:08:10,868: Submitting job using options {'options': {'default_shots': 8000}, 'version': 2, 'support_qiskit': True}\n",
            "base_primitive._run:INFO:2024-04-19 19:08:14,184: Submitting job using options {'options': {'default_shots': 8000}, 'version': 2, 'support_qiskit': True}\n",
            "base_primitive._run:INFO:2024-04-19 19:08:20,082: Submitting job using options {'options': {'default_shots': 8000}, 'version': 2, 'support_qiskit': True}\n",
            "base_primitive._run:INFO:2024-04-19 19:08:25,804: Submitting job using options {'options': {'default_shots': 8000}, 'version': 2, 'support_qiskit': True}\n",
            "base_primitive._run:INFO:2024-04-19 19:08:29,055: Submitting job using options {'options': {'default_shots': 8000}, 'version': 2, 'support_qiskit': True}\n",
            "base_primitive._run:INFO:2024-04-19 19:08:32,436: Submitting job using options {'options': {'default_shots': 8000}, 'version': 2, 'support_qiskit': True}\n",
            "base_primitive._run:INFO:2024-04-19 19:08:36,077: Submitting job using options {'options': {'default_shots': 8000}, 'version': 2, 'support_qiskit': True}\n",
            "base_primitive._run:INFO:2024-04-19 19:08:39,509: Submitting job using options {'options': {'default_shots': 8000}, 'version': 2, 'support_qiskit': True}\n",
            "base_primitive._run:INFO:2024-04-19 19:08:43,537: Submitting job using options {'options': {'default_shots': 8000}, 'version': 2, 'support_qiskit': True}\n",
            "base_primitive._run:INFO:2024-04-19 19:08:46,519: Submitting job using options {'options': {'default_shots': 8000}, 'version': 2, 'support_qiskit': True}\n",
            "base_primitive._run:INFO:2024-04-19 19:08:50,231: Submitting job using options {'options': {'default_shots': 8000}, 'version': 2, 'support_qiskit': True}\n",
            "base_primitive._run:INFO:2024-04-19 19:08:53,352: Submitting job using options {'options': {'default_shots': 8000}, 'version': 2, 'support_qiskit': True}\n",
            "base_primitive._run:INFO:2024-04-19 19:08:56,929: Submitting job using options {'options': {'default_shots': 8000}, 'version': 2, 'support_qiskit': True}\n",
            "base_primitive._run:INFO:2024-04-19 19:09:02,238: Submitting job using options {'options': {'default_shots': 8000}, 'version': 2, 'support_qiskit': True}\n",
            "base_primitive._run:INFO:2024-04-19 19:09:05,587: Submitting job using options {'options': {'default_shots': 8000}, 'version': 2, 'support_qiskit': True}\n",
            "base_primitive._run:INFO:2024-04-19 19:09:09,327: Submitting job using options {'options': {'default_shots': 8000}, 'version': 2, 'support_qiskit': True}\n",
            "base_primitive._run:INFO:2024-04-19 19:09:12,347: Submitting job using options {'options': {'default_shots': 8000}, 'version': 2, 'support_qiskit': True}\n",
            "base_primitive._run:INFO:2024-04-19 19:09:15,819: Submitting job using options {'options': {'default_shots': 8000}, 'version': 2, 'support_qiskit': True}\n"
          ]
        },
        {
          "name": "stdout",
          "output_type": "stream",
          "text": [
            "Completed for runs= 12\n"
          ]
        },
        {
          "name": "stderr",
          "output_type": "stream",
          "text": [
            "base_primitive._run:INFO:2024-04-19 19:09:19,197: Submitting job using options {'options': {'default_shots': 8000}, 'version': 2, 'support_qiskit': True}\n",
            "base_primitive._run:INFO:2024-04-19 19:09:22,833: Submitting job using options {'options': {'default_shots': 8000}, 'version': 2, 'support_qiskit': True}\n",
            "base_primitive._run:INFO:2024-04-19 19:09:25,957: Submitting job using options {'options': {'default_shots': 8000}, 'version': 2, 'support_qiskit': True}\n",
            "base_primitive._run:INFO:2024-04-19 19:09:32,954: Submitting job using options {'options': {'default_shots': 8000}, 'version': 2, 'support_qiskit': True}\n",
            "base_primitive._run:INFO:2024-04-19 19:09:36,930: Submitting job using options {'options': {'default_shots': 8000}, 'version': 2, 'support_qiskit': True}\n",
            "base_primitive._run:INFO:2024-04-19 19:09:40,064: Submitting job using options {'options': {'default_shots': 8000}, 'version': 2, 'support_qiskit': True}\n",
            "base_primitive._run:INFO:2024-04-19 19:09:43,088: Submitting job using options {'options': {'default_shots': 8000}, 'version': 2, 'support_qiskit': True}\n",
            "base_primitive._run:INFO:2024-04-19 19:09:46,760: Submitting job using options {'options': {'default_shots': 8000}, 'version': 2, 'support_qiskit': True}\n",
            "base_primitive._run:INFO:2024-04-19 19:09:49,778: Submitting job using options {'options': {'default_shots': 8000}, 'version': 2, 'support_qiskit': True}\n",
            "base_primitive._run:INFO:2024-04-19 19:09:53,215: Submitting job using options {'options': {'default_shots': 8000}, 'version': 2, 'support_qiskit': True}\n",
            "base_primitive._run:INFO:2024-04-19 19:09:57,054: Submitting job using options {'options': {'default_shots': 8000}, 'version': 2, 'support_qiskit': True}\n",
            "base_primitive._run:INFO:2024-04-19 19:10:00,076: Submitting job using options {'options': {'default_shots': 8000}, 'version': 2, 'support_qiskit': True}\n",
            "base_primitive._run:INFO:2024-04-19 19:10:06,016: Submitting job using options {'options': {'default_shots': 8000}, 'version': 2, 'support_qiskit': True}\n",
            "base_primitive._run:INFO:2024-04-19 19:10:09,543: Submitting job using options {'options': {'default_shots': 8000}, 'version': 2, 'support_qiskit': True}\n",
            "base_primitive._run:INFO:2024-04-19 19:10:12,576: Submitting job using options {'options': {'default_shots': 8000}, 'version': 2, 'support_qiskit': True}\n",
            "base_primitive._run:INFO:2024-04-19 19:10:16,199: Submitting job using options {'options': {'default_shots': 8000}, 'version': 2, 'support_qiskit': True}\n",
            "base_primitive._run:INFO:2024-04-19 19:10:21,345: Submitting job using options {'options': {'default_shots': 8000}, 'version': 2, 'support_qiskit': True}\n",
            "base_primitive._run:INFO:2024-04-19 19:10:24,556: Submitting job using options {'options': {'default_shots': 8000}, 'version': 2, 'support_qiskit': True}\n",
            "base_primitive._run:INFO:2024-04-19 19:10:27,938: Submitting job using options {'options': {'default_shots': 8000}, 'version': 2, 'support_qiskit': True}\n",
            "base_primitive._run:INFO:2024-04-19 19:10:32,663: Submitting job using options {'options': {'default_shots': 8000}, 'version': 2, 'support_qiskit': True}\n",
            "base_primitive._run:INFO:2024-04-19 19:10:35,823: Submitting job using options {'options': {'default_shots': 8000}, 'version': 2, 'support_qiskit': True}\n",
            "base_primitive._run:INFO:2024-04-19 19:10:39,068: Submitting job using options {'options': {'default_shots': 8000}, 'version': 2, 'support_qiskit': True}\n"
          ]
        },
        {
          "name": "stdout",
          "output_type": "stream",
          "text": [
            "Completed for runs= 13\n"
          ]
        },
        {
          "name": "stderr",
          "output_type": "stream",
          "text": [
            "base_primitive._run:INFO:2024-04-19 19:10:42,134: Submitting job using options {'options': {'default_shots': 8000}, 'version': 2, 'support_qiskit': True}\n",
            "base_primitive._run:INFO:2024-04-19 19:10:46,270: Submitting job using options {'options': {'default_shots': 8000}, 'version': 2, 'support_qiskit': True}\n",
            "base_primitive._run:INFO:2024-04-19 19:10:49,268: Submitting job using options {'options': {'default_shots': 8000}, 'version': 2, 'support_qiskit': True}\n",
            "base_primitive._run:INFO:2024-04-19 19:10:52,210: Submitting job using options {'options': {'default_shots': 8000}, 'version': 2, 'support_qiskit': True}\n",
            "base_primitive._run:INFO:2024-04-19 19:10:55,268: Submitting job using options {'options': {'default_shots': 8000}, 'version': 2, 'support_qiskit': True}\n",
            "base_primitive._run:INFO:2024-04-19 19:10:58,301: Submitting job using options {'options': {'default_shots': 8000}, 'version': 2, 'support_qiskit': True}\n",
            "base_primitive._run:INFO:2024-04-19 19:11:01,970: Submitting job using options {'options': {'default_shots': 8000}, 'version': 2, 'support_qiskit': True}\n",
            "base_primitive._run:INFO:2024-04-19 19:11:05,393: Submitting job using options {'options': {'default_shots': 8000}, 'version': 2, 'support_qiskit': True}\n",
            "base_primitive._run:INFO:2024-04-19 19:11:08,738: Submitting job using options {'options': {'default_shots': 8000}, 'version': 2, 'support_qiskit': True}\n",
            "base_primitive._run:INFO:2024-04-19 19:11:14,362: Submitting job using options {'options': {'default_shots': 8000}, 'version': 2, 'support_qiskit': True}\n",
            "base_primitive._run:INFO:2024-04-19 19:11:17,428: Submitting job using options {'options': {'default_shots': 8000}, 'version': 2, 'support_qiskit': True}\n",
            "base_primitive._run:INFO:2024-04-19 19:11:20,511: Submitting job using options {'options': {'default_shots': 8000}, 'version': 2, 'support_qiskit': True}\n",
            "base_primitive._run:INFO:2024-04-19 19:11:27,248: Submitting job using options {'options': {'default_shots': 8000}, 'version': 2, 'support_qiskit': True}\n",
            "base_primitive._run:INFO:2024-04-19 19:11:30,592: Submitting job using options {'options': {'default_shots': 8000}, 'version': 2, 'support_qiskit': True}\n",
            "base_primitive._run:INFO:2024-04-19 19:11:33,728: Submitting job using options {'options': {'default_shots': 8000}, 'version': 2, 'support_qiskit': True}\n",
            "base_primitive._run:INFO:2024-04-19 19:11:37,406: Submitting job using options {'options': {'default_shots': 8000}, 'version': 2, 'support_qiskit': True}\n",
            "base_primitive._run:INFO:2024-04-19 19:11:43,092: Submitting job using options {'options': {'default_shots': 8000}, 'version': 2, 'support_qiskit': True}\n",
            "base_primitive._run:INFO:2024-04-19 19:11:46,447: Submitting job using options {'options': {'default_shots': 8000}, 'version': 2, 'support_qiskit': True}\n",
            "base_primitive._run:INFO:2024-04-19 19:11:53,285: Submitting job using options {'options': {'default_shots': 8000}, 'version': 2, 'support_qiskit': True}\n",
            "base_primitive._run:INFO:2024-04-19 19:11:56,563: Submitting job using options {'options': {'default_shots': 8000}, 'version': 2, 'support_qiskit': True}\n"
          ]
        },
        {
          "name": "stdout",
          "output_type": "stream",
          "text": [
            "Completed for runs= 14\n"
          ]
        },
        {
          "name": "stderr",
          "output_type": "stream",
          "text": [
            "base_primitive._run:INFO:2024-04-19 19:12:00,268: Submitting job using options {'options': {'default_shots': 8000}, 'version': 2, 'support_qiskit': True}\n",
            "base_primitive._run:INFO:2024-04-19 19:12:03,489: Submitting job using options {'options': {'default_shots': 8000}, 'version': 2, 'support_qiskit': True}\n",
            "base_primitive._run:INFO:2024-04-19 19:12:07,500: Submitting job using options {'options': {'default_shots': 8000}, 'version': 2, 'support_qiskit': True}\n",
            "base_primitive._run:INFO:2024-04-19 19:12:10,960: Submitting job using options {'options': {'default_shots': 8000}, 'version': 2, 'support_qiskit': True}\n",
            "base_primitive._run:INFO:2024-04-19 19:12:14,707: Submitting job using options {'options': {'default_shots': 8000}, 'version': 2, 'support_qiskit': True}\n",
            "base_primitive._run:INFO:2024-04-19 19:12:18,194: Submitting job using options {'options': {'default_shots': 8000}, 'version': 2, 'support_qiskit': True}\n",
            "base_primitive._run:INFO:2024-04-19 19:12:21,135: Submitting job using options {'options': {'default_shots': 8000}, 'version': 2, 'support_qiskit': True}\n",
            "base_primitive._run:INFO:2024-04-19 19:12:24,708: Submitting job using options {'options': {'default_shots': 8000}, 'version': 2, 'support_qiskit': True}\n",
            "base_primitive._run:INFO:2024-04-19 19:12:28,270: Submitting job using options {'options': {'default_shots': 8000}, 'version': 2, 'support_qiskit': True}\n",
            "base_primitive._run:INFO:2024-04-19 19:12:33,762: Submitting job using options {'options': {'default_shots': 8000}, 'version': 2, 'support_qiskit': True}\n",
            "base_primitive._run:INFO:2024-04-19 19:12:36,949: Submitting job using options {'options': {'default_shots': 8000}, 'version': 2, 'support_qiskit': True}\n",
            "base_primitive._run:INFO:2024-04-19 19:12:40,705: Submitting job using options {'options': {'default_shots': 8000}, 'version': 2, 'support_qiskit': True}\n",
            "base_primitive._run:INFO:2024-04-19 19:12:44,212: Submitting job using options {'options': {'default_shots': 8000}, 'version': 2, 'support_qiskit': True}\n",
            "base_primitive._run:INFO:2024-04-19 19:12:47,257: Submitting job using options {'options': {'default_shots': 8000}, 'version': 2, 'support_qiskit': True}\n",
            "base_primitive._run:INFO:2024-04-19 19:12:50,568: Submitting job using options {'options': {'default_shots': 8000}, 'version': 2, 'support_qiskit': True}\n",
            "base_primitive._run:INFO:2024-04-19 19:12:53,783: Submitting job using options {'options': {'default_shots': 8000}, 'version': 2, 'support_qiskit': True}\n",
            "base_primitive._run:INFO:2024-04-19 19:12:57,731: Submitting job using options {'options': {'default_shots': 8000}, 'version': 2, 'support_qiskit': True}\n",
            "base_primitive._run:INFO:2024-04-19 19:13:04,078: Submitting job using options {'options': {'default_shots': 8000}, 'version': 2, 'support_qiskit': True}\n",
            "base_primitive._run:INFO:2024-04-19 19:13:07,326: Submitting job using options {'options': {'default_shots': 8000}, 'version': 2, 'support_qiskit': True}\n",
            "base_primitive._run:INFO:2024-04-19 19:13:10,611: Submitting job using options {'options': {'default_shots': 8000}, 'version': 2, 'support_qiskit': True}\n",
            "base_primitive._run:INFO:2024-04-19 19:13:13,739: Submitting job using options {'options': {'default_shots': 8000}, 'version': 2, 'support_qiskit': True}\n",
            "base_primitive._run:INFO:2024-04-19 19:13:16,709: Submitting job using options {'options': {'default_shots': 8000}, 'version': 2, 'support_qiskit': True}\n",
            "base_primitive._run:INFO:2024-04-19 19:13:20,301: Submitting job using options {'options': {'default_shots': 8000}, 'version': 2, 'support_qiskit': True}\n"
          ]
        },
        {
          "name": "stdout",
          "output_type": "stream",
          "text": [
            "Completed for runs= 15\n"
          ]
        },
        {
          "name": "stderr",
          "output_type": "stream",
          "text": [
            "base_primitive._run:INFO:2024-04-19 19:13:23,514: Submitting job using options {'options': {'default_shots': 8000}, 'version': 2, 'support_qiskit': True}\n",
            "base_primitive._run:INFO:2024-04-19 19:13:27,528: Submitting job using options {'options': {'default_shots': 8000}, 'version': 2, 'support_qiskit': True}\n",
            "base_primitive._run:INFO:2024-04-19 19:13:31,167: Submitting job using options {'options': {'default_shots': 8000}, 'version': 2, 'support_qiskit': True}\n",
            "base_primitive._run:INFO:2024-04-19 19:13:35,114: Submitting job using options {'options': {'default_shots': 8000}, 'version': 2, 'support_qiskit': True}\n",
            "base_primitive._run:INFO:2024-04-19 19:13:41,065: Submitting job using options {'options': {'default_shots': 8000}, 'version': 2, 'support_qiskit': True}\n",
            "base_primitive._run:INFO:2024-04-19 19:13:45,059: Submitting job using options {'options': {'default_shots': 8000}, 'version': 2, 'support_qiskit': True}\n",
            "base_primitive._run:INFO:2024-04-19 19:13:50,226: Submitting job using options {'options': {'default_shots': 8000}, 'version': 2, 'support_qiskit': True}\n",
            "base_primitive._run:INFO:2024-04-19 19:13:53,848: Submitting job using options {'options': {'default_shots': 8000}, 'version': 2, 'support_qiskit': True}\n",
            "base_primitive._run:INFO:2024-04-19 19:13:57,305: Submitting job using options {'options': {'default_shots': 8000}, 'version': 2, 'support_qiskit': True}\n",
            "base_primitive._run:INFO:2024-04-19 19:14:00,454: Submitting job using options {'options': {'default_shots': 8000}, 'version': 2, 'support_qiskit': True}\n",
            "base_primitive._run:INFO:2024-04-19 19:14:03,476: Submitting job using options {'options': {'default_shots': 8000}, 'version': 2, 'support_qiskit': True}\n",
            "base_primitive._run:INFO:2024-04-19 19:14:06,599: Submitting job using options {'options': {'default_shots': 8000}, 'version': 2, 'support_qiskit': True}\n",
            "base_primitive._run:INFO:2024-04-19 19:14:10,512: Submitting job using options {'options': {'default_shots': 8000}, 'version': 2, 'support_qiskit': True}\n",
            "base_primitive._run:INFO:2024-04-19 19:14:13,908: Submitting job using options {'options': {'default_shots': 8000}, 'version': 2, 'support_qiskit': True}\n",
            "base_primitive._run:INFO:2024-04-19 19:14:17,187: Submitting job using options {'options': {'default_shots': 8000}, 'version': 2, 'support_qiskit': True}\n",
            "base_primitive._run:INFO:2024-04-19 19:14:20,409: Submitting job using options {'options': {'default_shots': 8000}, 'version': 2, 'support_qiskit': True}\n",
            "base_primitive._run:INFO:2024-04-19 19:14:25,709: Submitting job using options {'options': {'default_shots': 8000}, 'version': 2, 'support_qiskit': True}\n",
            "base_primitive._run:INFO:2024-04-19 19:14:30,930: Submitting job using options {'options': {'default_shots': 8000}, 'version': 2, 'support_qiskit': True}\n",
            "base_primitive._run:INFO:2024-04-19 19:14:36,335: Submitting job using options {'options': {'default_shots': 8000}, 'version': 2, 'support_qiskit': True}\n",
            "base_primitive._run:INFO:2024-04-19 19:14:40,020: Submitting job using options {'options': {'default_shots': 8000}, 'version': 2, 'support_qiskit': True}\n"
          ]
        },
        {
          "name": "stdout",
          "output_type": "stream",
          "text": [
            "Completed for runs= 16\n"
          ]
        },
        {
          "name": "stderr",
          "output_type": "stream",
          "text": [
            "base_primitive._run:INFO:2024-04-19 19:14:43,743: Submitting job using options {'options': {'default_shots': 8000}, 'version': 2, 'support_qiskit': True}\n",
            "base_primitive._run:INFO:2024-04-19 19:14:46,996: Submitting job using options {'options': {'default_shots': 8000}, 'version': 2, 'support_qiskit': True}\n",
            "base_primitive._run:INFO:2024-04-19 19:14:50,280: Submitting job using options {'options': {'default_shots': 8000}, 'version': 2, 'support_qiskit': True}\n",
            "base_primitive._run:INFO:2024-04-19 19:14:53,436: Submitting job using options {'options': {'default_shots': 8000}, 'version': 2, 'support_qiskit': True}\n",
            "base_primitive._run:INFO:2024-04-19 19:14:56,617: Submitting job using options {'options': {'default_shots': 8000}, 'version': 2, 'support_qiskit': True}\n",
            "base_primitive._run:INFO:2024-04-19 19:15:01,725: Submitting job using options {'options': {'default_shots': 8000}, 'version': 2, 'support_qiskit': True}\n",
            "base_primitive._run:INFO:2024-04-19 19:15:09,564: Submitting job using options {'options': {'default_shots': 8000}, 'version': 2, 'support_qiskit': True}\n",
            "base_primitive._run:INFO:2024-04-19 19:15:15,098: Submitting job using options {'options': {'default_shots': 8000}, 'version': 2, 'support_qiskit': True}\n",
            "base_primitive._run:INFO:2024-04-19 19:15:18,759: Submitting job using options {'options': {'default_shots': 8000}, 'version': 2, 'support_qiskit': True}\n",
            "base_primitive._run:INFO:2024-04-19 19:15:24,461: Submitting job using options {'options': {'default_shots': 8000}, 'version': 2, 'support_qiskit': True}\n",
            "base_primitive._run:INFO:2024-04-19 19:15:27,724: Submitting job using options {'options': {'default_shots': 8000}, 'version': 2, 'support_qiskit': True}\n",
            "base_primitive._run:INFO:2024-04-19 19:15:30,871: Submitting job using options {'options': {'default_shots': 8000}, 'version': 2, 'support_qiskit': True}\n",
            "base_primitive._run:INFO:2024-04-19 19:15:33,937: Submitting job using options {'options': {'default_shots': 8000}, 'version': 2, 'support_qiskit': True}\n",
            "base_primitive._run:INFO:2024-04-19 19:15:37,793: Submitting job using options {'options': {'default_shots': 8000}, 'version': 2, 'support_qiskit': True}\n",
            "base_primitive._run:INFO:2024-04-19 19:15:41,543: Submitting job using options {'options': {'default_shots': 8000}, 'version': 2, 'support_qiskit': True}\n",
            "base_primitive._run:INFO:2024-04-19 19:15:46,224: Submitting job using options {'options': {'default_shots': 8000}, 'version': 2, 'support_qiskit': True}\n",
            "base_primitive._run:INFO:2024-04-19 19:15:49,772: Submitting job using options {'options': {'default_shots': 8000}, 'version': 2, 'support_qiskit': True}\n",
            "base_primitive._run:INFO:2024-04-19 19:15:53,056: Submitting job using options {'options': {'default_shots': 8000}, 'version': 2, 'support_qiskit': True}\n",
            "base_primitive._run:INFO:2024-04-19 19:15:56,521: Submitting job using options {'options': {'default_shots': 8000}, 'version': 2, 'support_qiskit': True}\n",
            "base_primitive._run:INFO:2024-04-19 19:15:59,843: Submitting job using options {'options': {'default_shots': 8000}, 'version': 2, 'support_qiskit': True}\n",
            "base_primitive._run:INFO:2024-04-19 19:16:03,577: Submitting job using options {'options': {'default_shots': 8000}, 'version': 2, 'support_qiskit': True}\n"
          ]
        },
        {
          "name": "stdout",
          "output_type": "stream",
          "text": [
            "Completed for runs= 17\n"
          ]
        },
        {
          "name": "stderr",
          "output_type": "stream",
          "text": [
            "base_primitive._run:INFO:2024-04-19 19:16:09,234: Submitting job using options {'options': {'default_shots': 8000}, 'version': 2, 'support_qiskit': True}\n",
            "base_primitive._run:INFO:2024-04-19 19:16:12,556: Submitting job using options {'options': {'default_shots': 8000}, 'version': 2, 'support_qiskit': True}\n",
            "base_primitive._run:INFO:2024-04-19 19:16:15,650: Submitting job using options {'options': {'default_shots': 8000}, 'version': 2, 'support_qiskit': True}\n",
            "base_primitive._run:INFO:2024-04-19 19:16:21,268: Submitting job using options {'options': {'default_shots': 8000}, 'version': 2, 'support_qiskit': True}\n",
            "base_primitive._run:INFO:2024-04-19 19:16:24,245: Submitting job using options {'options': {'default_shots': 8000}, 'version': 2, 'support_qiskit': True}\n",
            "base_primitive._run:INFO:2024-04-19 19:16:27,326: Submitting job using options {'options': {'default_shots': 8000}, 'version': 2, 'support_qiskit': True}\n",
            "base_primitive._run:INFO:2024-04-19 19:16:33,620: Submitting job using options {'options': {'default_shots': 8000}, 'version': 2, 'support_qiskit': True}\n",
            "base_primitive._run:INFO:2024-04-19 19:16:37,114: Submitting job using options {'options': {'default_shots': 8000}, 'version': 2, 'support_qiskit': True}\n",
            "base_primitive._run:INFO:2024-04-19 19:16:40,457: Submitting job using options {'options': {'default_shots': 8000}, 'version': 2, 'support_qiskit': True}\n",
            "base_primitive._run:INFO:2024-04-19 19:16:43,577: Submitting job using options {'options': {'default_shots': 8000}, 'version': 2, 'support_qiskit': True}\n",
            "base_primitive._run:INFO:2024-04-19 19:16:46,879: Submitting job using options {'options': {'default_shots': 8000}, 'version': 2, 'support_qiskit': True}\n",
            "base_primitive._run:INFO:2024-04-19 19:16:50,382: Submitting job using options {'options': {'default_shots': 8000}, 'version': 2, 'support_qiskit': True}\n",
            "base_primitive._run:INFO:2024-04-19 19:16:53,524: Submitting job using options {'options': {'default_shots': 8000}, 'version': 2, 'support_qiskit': True}\n",
            "base_primitive._run:INFO:2024-04-19 19:16:56,562: Submitting job using options {'options': {'default_shots': 8000}, 'version': 2, 'support_qiskit': True}\n",
            "base_primitive._run:INFO:2024-04-19 19:17:00,139: Submitting job using options {'options': {'default_shots': 8000}, 'version': 2, 'support_qiskit': True}\n",
            "base_primitive._run:INFO:2024-04-19 19:17:03,716: Submitting job using options {'options': {'default_shots': 8000}, 'version': 2, 'support_qiskit': True}\n",
            "base_primitive._run:INFO:2024-04-19 19:17:09,171: Submitting job using options {'options': {'default_shots': 8000}, 'version': 2, 'support_qiskit': True}\n",
            "base_primitive._run:INFO:2024-04-19 19:17:14,740: Submitting job using options {'options': {'default_shots': 8000}, 'version': 2, 'support_qiskit': True}\n",
            "base_primitive._run:INFO:2024-04-19 19:17:18,112: Submitting job using options {'options': {'default_shots': 8000}, 'version': 2, 'support_qiskit': True}\n",
            "base_primitive._run:INFO:2024-04-19 19:17:25,253: Submitting job using options {'options': {'default_shots': 8000}, 'version': 2, 'support_qiskit': True}\n",
            "base_primitive._run:INFO:2024-04-19 19:17:31,357: Submitting job using options {'options': {'default_shots': 8000}, 'version': 2, 'support_qiskit': True}\n",
            "base_primitive._run:INFO:2024-04-19 19:17:34,502: Submitting job using options {'options': {'default_shots': 8000}, 'version': 2, 'support_qiskit': True}\n"
          ]
        },
        {
          "name": "stdout",
          "output_type": "stream",
          "text": [
            "Completed for runs= 18\n"
          ]
        },
        {
          "name": "stderr",
          "output_type": "stream",
          "text": [
            "base_primitive._run:INFO:2024-04-19 19:17:37,577: Submitting job using options {'options': {'default_shots': 8000}, 'version': 2, 'support_qiskit': True}\n",
            "base_primitive._run:INFO:2024-04-19 19:17:40,736: Submitting job using options {'options': {'default_shots': 8000}, 'version': 2, 'support_qiskit': True}\n",
            "base_primitive._run:INFO:2024-04-19 19:17:43,989: Submitting job using options {'options': {'default_shots': 8000}, 'version': 2, 'support_qiskit': True}\n",
            "base_primitive._run:INFO:2024-04-19 19:17:47,611: Submitting job using options {'options': {'default_shots': 8000}, 'version': 2, 'support_qiskit': True}\n",
            "base_primitive._run:INFO:2024-04-19 19:17:51,170: Submitting job using options {'options': {'default_shots': 8000}, 'version': 2, 'support_qiskit': True}\n",
            "base_primitive._run:INFO:2024-04-19 19:17:54,221: Submitting job using options {'options': {'default_shots': 8000}, 'version': 2, 'support_qiskit': True}\n",
            "base_primitive._run:INFO:2024-04-19 19:17:57,267: Submitting job using options {'options': {'default_shots': 8000}, 'version': 2, 'support_qiskit': True}\n",
            "base_primitive._run:INFO:2024-04-19 19:18:02,907: Submitting job using options {'options': {'default_shots': 8000}, 'version': 2, 'support_qiskit': True}\n",
            "base_primitive._run:INFO:2024-04-19 19:18:05,928: Submitting job using options {'options': {'default_shots': 8000}, 'version': 2, 'support_qiskit': True}\n",
            "base_primitive._run:INFO:2024-04-19 19:18:09,224: Submitting job using options {'options': {'default_shots': 8000}, 'version': 2, 'support_qiskit': True}\n",
            "base_primitive._run:INFO:2024-04-19 19:18:12,725: Submitting job using options {'options': {'default_shots': 8000}, 'version': 2, 'support_qiskit': True}\n",
            "base_primitive._run:INFO:2024-04-19 19:18:17,214: Submitting job using options {'options': {'default_shots': 8000}, 'version': 2, 'support_qiskit': True}\n",
            "base_primitive._run:INFO:2024-04-19 19:18:23,403: Submitting job using options {'options': {'default_shots': 8000}, 'version': 2, 'support_qiskit': True}\n",
            "base_primitive._run:INFO:2024-04-19 19:18:29,311: Submitting job using options {'options': {'default_shots': 8000}, 'version': 2, 'support_qiskit': True}\n",
            "base_primitive._run:INFO:2024-04-19 19:18:33,009: Submitting job using options {'options': {'default_shots': 8000}, 'version': 2, 'support_qiskit': True}\n",
            "base_primitive._run:INFO:2024-04-19 19:18:36,439: Submitting job using options {'options': {'default_shots': 8000}, 'version': 2, 'support_qiskit': True}\n",
            "base_primitive._run:INFO:2024-04-19 19:18:40,002: Submitting job using options {'options': {'default_shots': 8000}, 'version': 2, 'support_qiskit': True}\n",
            "base_primitive._run:INFO:2024-04-19 19:18:43,501: Submitting job using options {'options': {'default_shots': 8000}, 'version': 2, 'support_qiskit': True}\n",
            "base_primitive._run:INFO:2024-04-19 19:18:49,101: Submitting job using options {'options': {'default_shots': 8000}, 'version': 2, 'support_qiskit': True}\n",
            "base_primitive._run:INFO:2024-04-19 19:18:52,530: Submitting job using options {'options': {'default_shots': 8000}, 'version': 2, 'support_qiskit': True}\n",
            "base_primitive._run:INFO:2024-04-19 19:18:55,701: Submitting job using options {'options': {'default_shots': 8000}, 'version': 2, 'support_qiskit': True}\n",
            "base_primitive._run:INFO:2024-04-19 19:18:59,414: Submitting job using options {'options': {'default_shots': 8000}, 'version': 2, 'support_qiskit': True}\n"
          ]
        },
        {
          "name": "stdout",
          "output_type": "stream",
          "text": [
            "Completed for runs= 19\n"
          ]
        },
        {
          "name": "stderr",
          "output_type": "stream",
          "text": [
            "base_primitive._run:INFO:2024-04-19 19:19:03,231: Submitting job using options {'options': {'default_shots': 8000}, 'version': 2, 'support_qiskit': True}\n",
            "base_primitive._run:INFO:2024-04-19 19:19:07,259: Submitting job using options {'options': {'default_shots': 8000}, 'version': 2, 'support_qiskit': True}\n",
            "base_primitive._run:INFO:2024-04-19 19:19:10,584: Submitting job using options {'options': {'default_shots': 8000}, 'version': 2, 'support_qiskit': True}\n",
            "base_primitive._run:INFO:2024-04-19 19:19:13,615: Submitting job using options {'options': {'default_shots': 8000}, 'version': 2, 'support_qiskit': True}\n",
            "base_primitive._run:INFO:2024-04-19 19:19:16,848: Submitting job using options {'options': {'default_shots': 8000}, 'version': 2, 'support_qiskit': True}\n",
            "base_primitive._run:INFO:2024-04-19 19:19:21,590: Submitting job using options {'options': {'default_shots': 8000}, 'version': 2, 'support_qiskit': True}\n",
            "base_primitive._run:INFO:2024-04-19 19:19:24,901: Submitting job using options {'options': {'default_shots': 8000}, 'version': 2, 'support_qiskit': True}\n",
            "base_primitive._run:INFO:2024-04-19 19:19:27,995: Submitting job using options {'options': {'default_shots': 8000}, 'version': 2, 'support_qiskit': True}\n",
            "base_primitive._run:INFO:2024-04-19 19:19:31,166: Submitting job using options {'options': {'default_shots': 8000}, 'version': 2, 'support_qiskit': True}\n",
            "base_primitive._run:INFO:2024-04-19 19:19:34,159: Submitting job using options {'options': {'default_shots': 8000}, 'version': 2, 'support_qiskit': True}\n",
            "base_primitive._run:INFO:2024-04-19 19:19:37,626: Submitting job using options {'options': {'default_shots': 8000}, 'version': 2, 'support_qiskit': True}\n",
            "base_primitive._run:INFO:2024-04-19 19:19:40,574: Submitting job using options {'options': {'default_shots': 8000}, 'version': 2, 'support_qiskit': True}\n",
            "base_primitive._run:INFO:2024-04-19 19:19:43,630: Submitting job using options {'options': {'default_shots': 8000}, 'version': 2, 'support_qiskit': True}\n",
            "base_primitive._run:INFO:2024-04-19 19:19:47,241: Submitting job using options {'options': {'default_shots': 8000}, 'version': 2, 'support_qiskit': True}\n",
            "base_primitive._run:INFO:2024-04-19 19:19:51,493: Submitting job using options {'options': {'default_shots': 8000}, 'version': 2, 'support_qiskit': True}\n",
            "base_primitive._run:INFO:2024-04-19 19:19:54,723: Submitting job using options {'options': {'default_shots': 8000}, 'version': 2, 'support_qiskit': True}\n",
            "base_primitive._run:INFO:2024-04-19 19:19:57,774: Submitting job using options {'options': {'default_shots': 8000}, 'version': 2, 'support_qiskit': True}\n",
            "base_primitive._run:INFO:2024-04-19 19:20:00,788: Submitting job using options {'options': {'default_shots': 8000}, 'version': 2, 'support_qiskit': True}\n",
            "base_primitive._run:INFO:2024-04-19 19:20:04,163: Submitting job using options {'options': {'default_shots': 8000}, 'version': 2, 'support_qiskit': True}\n",
            "base_primitive._run:INFO:2024-04-19 19:20:08,152: Submitting job using options {'options': {'default_shots': 8000}, 'version': 2, 'support_qiskit': True}\n",
            "base_primitive._run:INFO:2024-04-19 19:20:11,388: Submitting job using options {'options': {'default_shots': 8000}, 'version': 2, 'support_qiskit': True}\n"
          ]
        },
        {
          "name": "stdout",
          "output_type": "stream",
          "text": [
            "Completed for runs= 20\n",
            "Emin_runs= [-1.7769576597500003, -1.6997826157499998, -1.719759764500001, -1.7308921580000005, -1.7633393362500014, -1.6722500477500009, -1.708944947250001, -1.6517414967500006, -1.6861915027500003, -1.697433304000001, -1.7765084547499996, -1.8112072132500008, -1.6275344240000003, -1.5988435830000003, -1.6696469940000003, -1.7529321107499993, -1.6237730972499995, -1.563376346, -1.6942333164999996, -1.7668585972500006]\n"
          ]
        }
      ],
      "source": [
        "Energy_withnoise = []\n",
        "for i in runs:\n",
        "    Energy_withnoise.append(minimization_noise(8000))\n",
        "    print('Completed for runs=',i)\n",
        "print('Emin_runs=',Energy_withnoise)"
      ]
    },
    {
      "cell_type": "code",
      "execution_count": null,
      "id": "7da17282-ded5-4468-8e74-7c9b6aca8dd1",
      "metadata": {
        "id": "7da17282-ded5-4468-8e74-7c9b6aca8dd1",
        "outputId": "94b3ae83-d100-4742-c6f1-b3af3e24501c"
      },
      "outputs": [
        {
          "data": {
            "text/plain": [
              "<matplotlib.legend.Legend at 0x7f6ba5ec8790>"
            ]
          },
          "execution_count": 14,
          "metadata": {},
          "output_type": "execute_result"
        },
        {
          "data": {
            "image/png": "[encoded data removed]",
            "text/plain": [
              "<Figure size 640x480 with 1 Axes>"
            ]
          },
          "metadata": {},
          "output_type": "display_data"
        }
      ],
      "source": [
        "plt.hist(np.array(Energy_withnoise),label = 'QASM with noise')\n",
        "plt.xlabel('E(MeV)')\n",
        "plt.ylabel('Counts')\n",
        "plt.axvline(x = minimization_withoutnoise(estimator1),ymin = 0,ymax = 1,linestyle = '--',c = 'k',label = 'True value')\n",
        "# plt.xlim(-2,-1)\n",
        "plt.legend()"
      ]
    },
    {
      "cell_type": "code",
      "execution_count": null,
      "id": "768eaf4f-dccc-4c03-bf4b-a64b82a8ef9f",
      "metadata": {
        "id": "768eaf4f-dccc-4c03-bf4b-a64b82a8ef9f"
      },
      "outputs": [],
      "source": [
        "#QASM simulator with noise mitigation\n",
        "def minimization_noisemitigation(S):\n",
        "    with Session(backend=backend) as session:\n",
        "        estimator = Estimator(session=session)\n",
        "        estimator.options.resilience_level=2\n",
        "        estimator.options.default_shots = S\n",
        "\n",
        "        res = minimize(\n",
        "        cost_func,\n",
        "        x0,\n",
        "        args=(ansatz, hamiltonian, estimator),\n",
        "        method=\"cobyla\",\n",
        "        # callback=callback\n",
        "    )\n",
        "    return(res.fun)"
      ]
    },
    {
      "cell_type": "code",
      "execution_count": null,
      "id": "b7762ae8-f59a-4748-b0ed-193d935170b7",
      "metadata": {
        "id": "b7762ae8-f59a-4748-b0ed-193d935170b7",
        "outputId": "cbe128ae-80ae-4780-be16-42d9138a2f21",
        "collapsed": true
      },
      "outputs": [
        {
          "name": "stderr",
          "output_type": "stream",
          "text": [
            "base_primitive._run:INFO:2024-04-19 19:21:44,124: Submitting job using options {'options': {'default_shots': 8000}, 'version': 2, 'support_qiskit': True, 'resilience_level': 2}\n",
            "base_primitive._run:INFO:2024-04-19 19:21:47,710: Submitting job using options {'options': {'default_shots': 8000}, 'version': 2, 'support_qiskit': True, 'resilience_level': 2}\n",
            "base_primitive._run:INFO:2024-04-19 19:21:51,597: Submitting job using options {'options': {'default_shots': 8000}, 'version': 2, 'support_qiskit': True, 'resilience_level': 2}\n",
            "base_primitive._run:INFO:2024-04-19 19:21:58,550: Submitting job using options {'options': {'default_shots': 8000}, 'version': 2, 'support_qiskit': True, 'resilience_level': 2}\n",
            "base_primitive._run:INFO:2024-04-19 19:22:02,407: Submitting job using options {'options': {'default_shots': 8000}, 'version': 2, 'support_qiskit': True, 'resilience_level': 2}\n",
            "base_primitive._run:INFO:2024-04-19 19:22:06,182: Submitting job using options {'options': {'default_shots': 8000}, 'version': 2, 'support_qiskit': True, 'resilience_level': 2}\n",
            "base_primitive._run:INFO:2024-04-19 19:22:10,271: Submitting job using options {'options': {'default_shots': 8000}, 'version': 2, 'support_qiskit': True, 'resilience_level': 2}\n",
            "base_primitive._run:INFO:2024-04-19 19:22:13,987: Submitting job using options {'options': {'default_shots': 8000}, 'version': 2, 'support_qiskit': True, 'resilience_level': 2}\n",
            "base_primitive._run:INFO:2024-04-19 19:22:21,303: Submitting job using options {'options': {'default_shots': 8000}, 'version': 2, 'support_qiskit': True, 'resilience_level': 2}\n",
            "base_primitive._run:INFO:2024-04-19 19:22:25,101: Submitting job using options {'options': {'default_shots': 8000}, 'version': 2, 'support_qiskit': True, 'resilience_level': 2}\n",
            "base_primitive._run:INFO:2024-04-19 19:22:30,278: Submitting job using options {'options': {'default_shots': 8000}, 'version': 2, 'support_qiskit': True, 'resilience_level': 2}\n",
            "base_primitive._run:INFO:2024-04-19 19:22:34,376: Submitting job using options {'options': {'default_shots': 8000}, 'version': 2, 'support_qiskit': True, 'resilience_level': 2}\n",
            "base_primitive._run:INFO:2024-04-19 19:22:41,655: Submitting job using options {'options': {'default_shots': 8000}, 'version': 2, 'support_qiskit': True, 'resilience_level': 2}\n",
            "base_primitive._run:INFO:2024-04-19 19:22:45,585: Submitting job using options {'options': {'default_shots': 8000}, 'version': 2, 'support_qiskit': True, 'resilience_level': 2}\n",
            "base_primitive._run:INFO:2024-04-19 19:22:49,343: Submitting job using options {'options': {'default_shots': 8000}, 'version': 2, 'support_qiskit': True, 'resilience_level': 2}\n",
            "base_primitive._run:INFO:2024-04-19 19:22:53,206: Submitting job using options {'options': {'default_shots': 8000}, 'version': 2, 'support_qiskit': True, 'resilience_level': 2}\n",
            "base_primitive._run:INFO:2024-04-19 19:22:57,577: Submitting job using options {'options': {'default_shots': 8000}, 'version': 2, 'support_qiskit': True, 'resilience_level': 2}\n",
            "base_primitive._run:INFO:2024-04-19 19:23:01,470: Submitting job using options {'options': {'default_shots': 8000}, 'version': 2, 'support_qiskit': True, 'resilience_level': 2}\n",
            "base_primitive._run:INFO:2024-04-19 19:23:05,421: Submitting job using options {'options': {'default_shots': 8000}, 'version': 2, 'support_qiskit': True, 'resilience_level': 2}\n",
            "base_primitive._run:INFO:2024-04-19 19:23:10,238: Submitting job using options {'options': {'default_shots': 8000}, 'version': 2, 'support_qiskit': True, 'resilience_level': 2}\n",
            "base_primitive._run:INFO:2024-04-19 19:23:14,320: Submitting job using options {'options': {'default_shots': 8000}, 'version': 2, 'support_qiskit': True, 'resilience_level': 2}\n",
            "base_primitive._run:INFO:2024-04-19 19:23:19,041: Submitting job using options {'options': {'default_shots': 8000}, 'version': 2, 'support_qiskit': True, 'resilience_level': 2}\n"
          ]
        },
        {
          "name": "stdout",
          "output_type": "stream",
          "text": [
            "Completed for runs= 1\n"
          ]
        },
        {
          "name": "stderr",
          "output_type": "stream",
          "text": [
            "base_primitive._run:INFO:2024-04-19 19:23:23,816: Submitting job using options {'options': {'default_shots': 8000}, 'version': 2, 'support_qiskit': True, 'resilience_level': 2}\n",
            "base_primitive._run:INFO:2024-04-19 19:23:27,437: Submitting job using options {'options': {'default_shots': 8000}, 'version': 2, 'support_qiskit': True, 'resilience_level': 2}\n",
            "base_primitive._run:INFO:2024-04-19 19:23:31,373: Submitting job using options {'options': {'default_shots': 8000}, 'version': 2, 'support_qiskit': True, 'resilience_level': 2}\n",
            "base_primitive._run:INFO:2024-04-19 19:23:35,380: Submitting job using options {'options': {'default_shots': 8000}, 'version': 2, 'support_qiskit': True, 'resilience_level': 2}\n",
            "base_primitive._run:INFO:2024-04-19 19:23:40,058: Submitting job using options {'options': {'default_shots': 8000}, 'version': 2, 'support_qiskit': True, 'resilience_level': 2}\n",
            "base_primitive._run:INFO:2024-04-19 19:23:48,116: Submitting job using options {'options': {'default_shots': 8000}, 'version': 2, 'support_qiskit': True, 'resilience_level': 2}\n",
            "base_primitive._run:INFO:2024-04-19 19:23:52,075: Submitting job using options {'options': {'default_shots': 8000}, 'version': 2, 'support_qiskit': True, 'resilience_level': 2}\n",
            "base_primitive._run:INFO:2024-04-19 19:23:59,544: Submitting job using options {'options': {'default_shots': 8000}, 'version': 2, 'support_qiskit': True, 'resilience_level': 2}\n",
            "base_primitive._run:INFO:2024-04-19 19:24:03,248: Submitting job using options {'options': {'default_shots': 8000}, 'version': 2, 'support_qiskit': True, 'resilience_level': 2}\n",
            "base_primitive._run:INFO:2024-04-19 19:24:06,866: Submitting job using options {'options': {'default_shots': 8000}, 'version': 2, 'support_qiskit': True, 'resilience_level': 2}\n",
            "base_primitive._run:INFO:2024-04-19 19:24:10,417: Submitting job using options {'options': {'default_shots': 8000}, 'version': 2, 'support_qiskit': True, 'resilience_level': 2}\n",
            "base_primitive._run:INFO:2024-04-19 19:24:14,716: Submitting job using options {'options': {'default_shots': 8000}, 'version': 2, 'support_qiskit': True, 'resilience_level': 2}\n",
            "base_primitive._run:INFO:2024-04-19 19:24:18,420: Submitting job using options {'options': {'default_shots': 8000}, 'version': 2, 'support_qiskit': True, 'resilience_level': 2}\n",
            "base_primitive._run:INFO:2024-04-19 19:24:22,261: Submitting job using options {'options': {'default_shots': 8000}, 'version': 2, 'support_qiskit': True, 'resilience_level': 2}\n",
            "base_primitive._run:INFO:2024-04-19 19:24:26,524: Submitting job using options {'options': {'default_shots': 8000}, 'version': 2, 'support_qiskit': True, 'resilience_level': 2}\n",
            "base_primitive._run:INFO:2024-04-19 19:24:30,766: Submitting job using options {'options': {'default_shots': 8000}, 'version': 2, 'support_qiskit': True, 'resilience_level': 2}\n",
            "base_primitive._run:INFO:2024-04-19 19:24:35,976: Submitting job using options {'options': {'default_shots': 8000}, 'version': 2, 'support_qiskit': True, 'resilience_level': 2}\n",
            "base_primitive._run:INFO:2024-04-19 19:24:40,731: Submitting job using options {'options': {'default_shots': 8000}, 'version': 2, 'support_qiskit': True, 'resilience_level': 2}\n",
            "base_primitive._run:INFO:2024-04-19 19:24:44,972: Submitting job using options {'options': {'default_shots': 8000}, 'version': 2, 'support_qiskit': True, 'resilience_level': 2}\n",
            "base_primitive._run:INFO:2024-04-19 19:24:48,920: Submitting job using options {'options': {'default_shots': 8000}, 'version': 2, 'support_qiskit': True, 'resilience_level': 2}\n",
            "base_primitive._run:INFO:2024-04-19 19:24:52,537: Submitting job using options {'options': {'default_shots': 8000}, 'version': 2, 'support_qiskit': True, 'resilience_level': 2}\n"
          ]
        },
        {
          "name": "stdout",
          "output_type": "stream",
          "text": [
            "Completed for runs= 2\n"
          ]
        },
        {
          "name": "stderr",
          "output_type": "stream",
          "text": [
            "base_primitive._run:INFO:2024-04-19 19:24:55,988: Submitting job using options {'options': {'default_shots': 8000}, 'version': 2, 'support_qiskit': True, 'resilience_level': 2}\n",
            "base_primitive._run:INFO:2024-04-19 19:25:00,590: Submitting job using options {'options': {'default_shots': 8000}, 'version': 2, 'support_qiskit': True, 'resilience_level': 2}\n",
            "base_primitive._run:INFO:2024-04-19 19:25:09,544: Submitting job using options {'options': {'default_shots': 8000}, 'version': 2, 'support_qiskit': True, 'resilience_level': 2}\n",
            "base_primitive._run:INFO:2024-04-19 19:25:13,575: Submitting job using options {'options': {'default_shots': 8000}, 'version': 2, 'support_qiskit': True, 'resilience_level': 2}\n",
            "base_primitive._run:INFO:2024-04-19 19:25:17,521: Submitting job using options {'options': {'default_shots': 8000}, 'version': 2, 'support_qiskit': True, 'resilience_level': 2}\n",
            "base_primitive._run:INFO:2024-04-19 19:25:21,308: Submitting job using options {'options': {'default_shots': 8000}, 'version': 2, 'support_qiskit': True, 'resilience_level': 2}\n",
            "base_primitive._run:INFO:2024-04-19 19:25:25,291: Submitting job using options {'options': {'default_shots': 8000}, 'version': 2, 'support_qiskit': True, 'resilience_level': 2}\n",
            "base_primitive._run:INFO:2024-04-19 19:25:28,871: Submitting job using options {'options': {'default_shots': 8000}, 'version': 2, 'support_qiskit': True, 'resilience_level': 2}\n",
            "base_primitive._run:INFO:2024-04-19 19:25:32,639: Submitting job using options {'options': {'default_shots': 8000}, 'version': 2, 'support_qiskit': True, 'resilience_level': 2}\n",
            "base_primitive._run:INFO:2024-04-19 19:25:36,240: Submitting job using options {'options': {'default_shots': 8000}, 'version': 2, 'support_qiskit': True, 'resilience_level': 2}\n",
            "base_primitive._run:INFO:2024-04-19 19:25:39,864: Submitting job using options {'options': {'default_shots': 8000}, 'version': 2, 'support_qiskit': True, 'resilience_level': 2}\n",
            "base_primitive._run:INFO:2024-04-19 19:25:43,638: Submitting job using options {'options': {'default_shots': 8000}, 'version': 2, 'support_qiskit': True, 'resilience_level': 2}\n",
            "base_primitive._run:INFO:2024-04-19 19:25:47,295: Submitting job using options {'options': {'default_shots': 8000}, 'version': 2, 'support_qiskit': True, 'resilience_level': 2}\n",
            "base_primitive._run:INFO:2024-04-19 19:25:51,345: Submitting job using options {'options': {'default_shots': 8000}, 'version': 2, 'support_qiskit': True, 'resilience_level': 2}\n",
            "base_primitive._run:INFO:2024-04-19 19:25:57,261: Submitting job using options {'options': {'default_shots': 8000}, 'version': 2, 'support_qiskit': True, 'resilience_level': 2}\n",
            "base_primitive._run:INFO:2024-04-19 19:26:06,322: Submitting job using options {'options': {'default_shots': 8000}, 'version': 2, 'support_qiskit': True, 'resilience_level': 2}\n",
            "base_primitive._run:INFO:2024-04-19 19:26:09,978: Submitting job using options {'options': {'default_shots': 8000}, 'version': 2, 'support_qiskit': True, 'resilience_level': 2}\n",
            "base_primitive._run:INFO:2024-04-19 19:26:14,104: Submitting job using options {'options': {'default_shots': 8000}, 'version': 2, 'support_qiskit': True, 'resilience_level': 2}\n",
            "base_primitive._run:INFO:2024-04-19 19:26:19,202: Submitting job using options {'options': {'default_shots': 8000}, 'version': 2, 'support_qiskit': True, 'resilience_level': 2}\n"
          ]
        },
        {
          "name": "stdout",
          "output_type": "stream",
          "text": [
            "Completed for runs= 3\n"
          ]
        },
        {
          "name": "stderr",
          "output_type": "stream",
          "text": [
            "base_primitive._run:INFO:2024-04-19 19:26:23,572: Submitting job using options {'options': {'default_shots': 8000}, 'version': 2, 'support_qiskit': True, 'resilience_level': 2}\n",
            "base_primitive._run:INFO:2024-04-19 19:26:29,883: Submitting job using options {'options': {'default_shots': 8000}, 'version': 2, 'support_qiskit': True, 'resilience_level': 2}\n",
            "base_primitive._run:INFO:2024-04-19 19:26:34,748: Submitting job using options {'options': {'default_shots': 8000}, 'version': 2, 'support_qiskit': True, 'resilience_level': 2}\n",
            "base_primitive._run:INFO:2024-04-19 19:26:38,468: Submitting job using options {'options': {'default_shots': 8000}, 'version': 2, 'support_qiskit': True, 'resilience_level': 2}\n",
            "base_primitive._run:INFO:2024-04-19 19:26:42,628: Submitting job using options {'options': {'default_shots': 8000}, 'version': 2, 'support_qiskit': True, 'resilience_level': 2}\n",
            "base_primitive._run:INFO:2024-04-19 19:26:46,258: Submitting job using options {'options': {'default_shots': 8000}, 'version': 2, 'support_qiskit': True, 'resilience_level': 2}\n",
            "base_primitive._run:INFO:2024-04-19 19:26:49,990: Submitting job using options {'options': {'default_shots': 8000}, 'version': 2, 'support_qiskit': True, 'resilience_level': 2}\n",
            "base_primitive._run:INFO:2024-04-19 19:26:53,894: Submitting job using options {'options': {'default_shots': 8000}, 'version': 2, 'support_qiskit': True, 'resilience_level': 2}\n",
            "base_primitive._run:INFO:2024-04-19 19:26:57,555: Submitting job using options {'options': {'default_shots': 8000}, 'version': 2, 'support_qiskit': True, 'resilience_level': 2}\n",
            "base_primitive._run:INFO:2024-04-19 19:27:01,454: Submitting job using options {'options': {'default_shots': 8000}, 'version': 2, 'support_qiskit': True, 'resilience_level': 2}\n",
            "base_primitive._run:INFO:2024-04-19 19:27:05,108: Submitting job using options {'options': {'default_shots': 8000}, 'version': 2, 'support_qiskit': True, 'resilience_level': 2}\n",
            "base_primitive._run:INFO:2024-04-19 19:27:08,900: Submitting job using options {'options': {'default_shots': 8000}, 'version': 2, 'support_qiskit': True, 'resilience_level': 2}\n",
            "base_primitive._run:INFO:2024-04-19 19:27:13,399: Submitting job using options {'options': {'default_shots': 8000}, 'version': 2, 'support_qiskit': True, 'resilience_level': 2}\n",
            "base_primitive._run:INFO:2024-04-19 19:27:16,959: Submitting job using options {'options': {'default_shots': 8000}, 'version': 2, 'support_qiskit': True, 'resilience_level': 2}\n",
            "base_primitive._run:INFO:2024-04-19 19:27:20,594: Submitting job using options {'options': {'default_shots': 8000}, 'version': 2, 'support_qiskit': True, 'resilience_level': 2}\n",
            "base_primitive._run:INFO:2024-04-19 19:27:24,848: Submitting job using options {'options': {'default_shots': 8000}, 'version': 2, 'support_qiskit': True, 'resilience_level': 2}\n",
            "base_primitive._run:INFO:2024-04-19 19:27:28,802: Submitting job using options {'options': {'default_shots': 8000}, 'version': 2, 'support_qiskit': True, 'resilience_level': 2}\n",
            "base_primitive._run:INFO:2024-04-19 19:27:32,415: Submitting job using options {'options': {'default_shots': 8000}, 'version': 2, 'support_qiskit': True, 'resilience_level': 2}\n",
            "base_primitive._run:INFO:2024-04-19 19:27:36,521: Submitting job using options {'options': {'default_shots': 8000}, 'version': 2, 'support_qiskit': True, 'resilience_level': 2}\n",
            "base_primitive._run:INFO:2024-04-19 19:27:40,347: Submitting job using options {'options': {'default_shots': 8000}, 'version': 2, 'support_qiskit': True, 'resilience_level': 2}\n",
            "base_primitive._run:INFO:2024-04-19 19:27:44,282: Submitting job using options {'options': {'default_shots': 8000}, 'version': 2, 'support_qiskit': True, 'resilience_level': 2}\n",
            "base_primitive._run:INFO:2024-04-19 19:27:48,083: Submitting job using options {'options': {'default_shots': 8000}, 'version': 2, 'support_qiskit': True, 'resilience_level': 2}\n",
            "base_primitive._run:INFO:2024-04-19 19:27:52,164: Submitting job using options {'options': {'default_shots': 8000}, 'version': 2, 'support_qiskit': True, 'resilience_level': 2}\n"
          ]
        },
        {
          "name": "stdout",
          "output_type": "stream",
          "text": [
            "Completed for runs= 4\n"
          ]
        },
        {
          "name": "stderr",
          "output_type": "stream",
          "text": [
            "base_primitive._run:INFO:2024-04-19 19:27:55,892: Submitting job using options {'options': {'default_shots': 8000}, 'version': 2, 'support_qiskit': True, 'resilience_level': 2}\n",
            "base_primitive._run:INFO:2024-04-19 19:27:59,816: Submitting job using options {'options': {'default_shots': 8000}, 'version': 2, 'support_qiskit': True, 'resilience_level': 2}\n",
            "base_primitive._run:INFO:2024-04-19 19:28:04,432: Submitting job using options {'options': {'default_shots': 8000}, 'version': 2, 'support_qiskit': True, 'resilience_level': 2}\n",
            "base_primitive._run:INFO:2024-04-19 19:28:09,682: Submitting job using options {'options': {'default_shots': 8000}, 'version': 2, 'support_qiskit': True, 'resilience_level': 2}\n",
            "base_primitive._run:INFO:2024-04-19 19:28:13,746: Submitting job using options {'options': {'default_shots': 8000}, 'version': 2, 'support_qiskit': True, 'resilience_level': 2}\n",
            "base_primitive._run:INFO:2024-04-19 19:28:17,369: Submitting job using options {'options': {'default_shots': 8000}, 'version': 2, 'support_qiskit': True, 'resilience_level': 2}\n",
            "base_primitive._run:INFO:2024-04-19 19:28:21,348: Submitting job using options {'options': {'default_shots': 8000}, 'version': 2, 'support_qiskit': True, 'resilience_level': 2}\n",
            "base_primitive._run:INFO:2024-04-19 19:28:24,959: Submitting job using options {'options': {'default_shots': 8000}, 'version': 2, 'support_qiskit': True, 'resilience_level': 2}\n",
            "base_primitive._run:INFO:2024-04-19 19:28:28,583: Submitting job using options {'options': {'default_shots': 8000}, 'version': 2, 'support_qiskit': True, 'resilience_level': 2}\n",
            "base_primitive._run:INFO:2024-04-19 19:28:32,549: Submitting job using options {'options': {'default_shots': 8000}, 'version': 2, 'support_qiskit': True, 'resilience_level': 2}\n",
            "base_primitive._run:INFO:2024-04-19 19:28:36,414: Submitting job using options {'options': {'default_shots': 8000}, 'version': 2, 'support_qiskit': True, 'resilience_level': 2}\n",
            "base_primitive._run:INFO:2024-04-19 19:28:40,403: Submitting job using options {'options': {'default_shots': 8000}, 'version': 2, 'support_qiskit': True, 'resilience_level': 2}\n",
            "base_primitive._run:INFO:2024-04-19 19:28:45,705: Submitting job using options {'options': {'default_shots': 8000}, 'version': 2, 'support_qiskit': True, 'resilience_level': 2}\n",
            "base_primitive._run:INFO:2024-04-19 19:28:49,981: Submitting job using options {'options': {'default_shots': 8000}, 'version': 2, 'support_qiskit': True, 'resilience_level': 2}\n",
            "base_primitive._run:INFO:2024-04-19 19:28:57,632: Submitting job using options {'options': {'default_shots': 8000}, 'version': 2, 'support_qiskit': True, 'resilience_level': 2}\n",
            "base_primitive._run:INFO:2024-04-19 19:29:04,740: Submitting job using options {'options': {'default_shots': 8000}, 'version': 2, 'support_qiskit': True, 'resilience_level': 2}\n",
            "base_primitive._run:INFO:2024-04-19 19:29:08,487: Submitting job using options {'options': {'default_shots': 8000}, 'version': 2, 'support_qiskit': True, 'resilience_level': 2}\n",
            "base_primitive._run:INFO:2024-04-19 19:29:16,102: Submitting job using options {'options': {'default_shots': 8000}, 'version': 2, 'support_qiskit': True, 'resilience_level': 2}\n",
            "base_primitive._run:INFO:2024-04-19 19:29:20,037: Submitting job using options {'options': {'default_shots': 8000}, 'version': 2, 'support_qiskit': True, 'resilience_level': 2}\n",
            "base_primitive._run:INFO:2024-04-19 19:29:24,557: Submitting job using options {'options': {'default_shots': 8000}, 'version': 2, 'support_qiskit': True, 'resilience_level': 2}\n"
          ]
        },
        {
          "name": "stdout",
          "output_type": "stream",
          "text": [
            "Completed for runs= 5\n"
          ]
        },
        {
          "name": "stderr",
          "output_type": "stream",
          "text": [
            "base_primitive._run:INFO:2024-04-19 19:29:29,691: Submitting job using options {'options': {'default_shots': 8000}, 'version': 2, 'support_qiskit': True, 'resilience_level': 2}\n",
            "base_primitive._run:INFO:2024-04-19 19:29:34,826: Submitting job using options {'options': {'default_shots': 8000}, 'version': 2, 'support_qiskit': True, 'resilience_level': 2}\n",
            "base_primitive._run:INFO:2024-04-19 19:29:38,964: Submitting job using options {'options': {'default_shots': 8000}, 'version': 2, 'support_qiskit': True, 'resilience_level': 2}\n",
            "base_primitive._run:INFO:2024-04-19 19:29:42,622: Submitting job using options {'options': {'default_shots': 8000}, 'version': 2, 'support_qiskit': True, 'resilience_level': 2}\n",
            "base_primitive._run:INFO:2024-04-19 19:29:46,697: Submitting job using options {'options': {'default_shots': 8000}, 'version': 2, 'support_qiskit': True, 'resilience_level': 2}\n",
            "base_primitive._run:INFO:2024-04-19 19:29:50,946: Submitting job using options {'options': {'default_shots': 8000}, 'version': 2, 'support_qiskit': True, 'resilience_level': 2}\n",
            "base_primitive._run:INFO:2024-04-19 19:29:54,640: Submitting job using options {'options': {'default_shots': 8000}, 'version': 2, 'support_qiskit': True, 'resilience_level': 2}\n",
            "base_primitive._run:INFO:2024-04-19 19:29:58,468: Submitting job using options {'options': {'default_shots': 8000}, 'version': 2, 'support_qiskit': True, 'resilience_level': 2}\n",
            "base_primitive._run:INFO:2024-04-19 19:30:01,992: Submitting job using options {'options': {'default_shots': 8000}, 'version': 2, 'support_qiskit': True, 'resilience_level': 2}\n",
            "base_primitive._run:INFO:2024-04-19 19:30:05,829: Submitting job using options {'options': {'default_shots': 8000}, 'version': 2, 'support_qiskit': True, 'resilience_level': 2}\n",
            "base_primitive._run:INFO:2024-04-19 19:30:10,062: Submitting job using options {'options': {'default_shots': 8000}, 'version': 2, 'support_qiskit': True, 'resilience_level': 2}\n",
            "base_primitive._run:INFO:2024-04-19 19:30:13,894: Submitting job using options {'options': {'default_shots': 8000}, 'version': 2, 'support_qiskit': True, 'resilience_level': 2}\n",
            "base_primitive._run:INFO:2024-04-19 19:30:18,745: Submitting job using options {'options': {'default_shots': 8000}, 'version': 2, 'support_qiskit': True, 'resilience_level': 2}\n",
            "base_primitive._run:INFO:2024-04-19 19:30:23,322: Submitting job using options {'options': {'default_shots': 8000}, 'version': 2, 'support_qiskit': True, 'resilience_level': 2}\n",
            "base_primitive._run:INFO:2024-04-19 19:30:30,794: Submitting job using options {'options': {'default_shots': 8000}, 'version': 2, 'support_qiskit': True, 'resilience_level': 2}\n",
            "base_primitive._run:INFO:2024-04-19 19:30:34,451: Submitting job using options {'options': {'default_shots': 8000}, 'version': 2, 'support_qiskit': True, 'resilience_level': 2}\n",
            "base_primitive._run:INFO:2024-04-19 19:30:38,092: Submitting job using options {'options': {'default_shots': 8000}, 'version': 2, 'support_qiskit': True, 'resilience_level': 2}\n",
            "base_primitive._run:INFO:2024-04-19 19:30:41,723: Submitting job using options {'options': {'default_shots': 8000}, 'version': 2, 'support_qiskit': True, 'resilience_level': 2}\n",
            "base_primitive._run:INFO:2024-04-19 19:30:46,398: Submitting job using options {'options': {'default_shots': 8000}, 'version': 2, 'support_qiskit': True, 'resilience_level': 2}\n",
            "base_primitive._run:INFO:2024-04-19 19:30:54,073: Submitting job using options {'options': {'default_shots': 8000}, 'version': 2, 'support_qiskit': True, 'resilience_level': 2}\n",
            "base_primitive._run:INFO:2024-04-19 19:31:02,213: Submitting job using options {'options': {'default_shots': 8000}, 'version': 2, 'support_qiskit': True, 'resilience_level': 2}\n"
          ]
        },
        {
          "name": "stdout",
          "output_type": "stream",
          "text": [
            "Completed for runs= 6\n"
          ]
        },
        {
          "name": "stderr",
          "output_type": "stream",
          "text": [
            "base_primitive._run:INFO:2024-04-19 19:31:09,984: Submitting job using options {'options': {'default_shots': 8000}, 'version': 2, 'support_qiskit': True, 'resilience_level': 2}\n",
            "base_primitive._run:INFO:2024-04-19 19:31:13,586: Submitting job using options {'options': {'default_shots': 8000}, 'version': 2, 'support_qiskit': True, 'resilience_level': 2}\n",
            "base_primitive._run:INFO:2024-04-19 19:31:17,828: Submitting job using options {'options': {'default_shots': 8000}, 'version': 2, 'support_qiskit': True, 'resilience_level': 2}\n",
            "base_primitive._run:INFO:2024-04-19 19:31:25,263: Submitting job using options {'options': {'default_shots': 8000}, 'version': 2, 'support_qiskit': True, 'resilience_level': 2}\n",
            "base_primitive._run:INFO:2024-04-19 19:31:28,820: Submitting job using options {'options': {'default_shots': 8000}, 'version': 2, 'support_qiskit': True, 'resilience_level': 2}\n",
            "base_primitive._run:INFO:2024-04-19 19:31:32,469: Submitting job using options {'options': {'default_shots': 8000}, 'version': 2, 'support_qiskit': True, 'resilience_level': 2}\n",
            "base_primitive._run:INFO:2024-04-19 19:31:36,679: Submitting job using options {'options': {'default_shots': 8000}, 'version': 2, 'support_qiskit': True, 'resilience_level': 2}\n",
            "base_primitive._run:INFO:2024-04-19 19:31:40,501: Submitting job using options {'options': {'default_shots': 8000}, 'version': 2, 'support_qiskit': True, 'resilience_level': 2}\n",
            "base_primitive._run:INFO:2024-04-19 19:31:45,015: Submitting job using options {'options': {'default_shots': 8000}, 'version': 2, 'support_qiskit': True, 'resilience_level': 2}\n",
            "base_primitive._run:INFO:2024-04-19 19:31:48,710: Submitting job using options {'options': {'default_shots': 8000}, 'version': 2, 'support_qiskit': True, 'resilience_level': 2}\n",
            "base_primitive._run:INFO:2024-04-19 19:31:52,827: Submitting job using options {'options': {'default_shots': 8000}, 'version': 2, 'support_qiskit': True, 'resilience_level': 2}\n",
            "base_primitive._run:INFO:2024-04-19 19:31:56,297: Submitting job using options {'options': {'default_shots': 8000}, 'version': 2, 'support_qiskit': True, 'resilience_level': 2}\n",
            "base_primitive._run:INFO:2024-04-19 19:32:00,718: Submitting job using options {'options': {'default_shots': 8000}, 'version': 2, 'support_qiskit': True, 'resilience_level': 2}\n",
            "base_primitive._run:INFO:2024-04-19 19:32:04,272: Submitting job using options {'options': {'default_shots': 8000}, 'version': 2, 'support_qiskit': True, 'resilience_level': 2}\n",
            "base_primitive._run:INFO:2024-04-19 19:32:08,162: Submitting job using options {'options': {'default_shots': 8000}, 'version': 2, 'support_qiskit': True, 'resilience_level': 2}\n",
            "base_primitive._run:INFO:2024-04-19 19:32:12,174: Submitting job using options {'options': {'default_shots': 8000}, 'version': 2, 'support_qiskit': True, 'resilience_level': 2}\n",
            "base_primitive._run:INFO:2024-04-19 19:32:17,076: Submitting job using options {'options': {'default_shots': 8000}, 'version': 2, 'support_qiskit': True, 'resilience_level': 2}\n",
            "base_primitive._run:INFO:2024-04-19 19:32:25,634: Submitting job using options {'options': {'default_shots': 8000}, 'version': 2, 'support_qiskit': True, 'resilience_level': 2}\n",
            "base_primitive._run:INFO:2024-04-19 19:32:34,300: Submitting job using options {'options': {'default_shots': 8000}, 'version': 2, 'support_qiskit': True, 'resilience_level': 2}\n",
            "base_primitive._run:INFO:2024-04-19 19:32:38,345: Submitting job using options {'options': {'default_shots': 8000}, 'version': 2, 'support_qiskit': True, 'resilience_level': 2}\n",
            "base_primitive._run:INFO:2024-04-19 19:32:42,968: Submitting job using options {'options': {'default_shots': 8000}, 'version': 2, 'support_qiskit': True, 'resilience_level': 2}\n",
            "base_primitive._run:INFO:2024-04-19 19:32:48,879: Submitting job using options {'options': {'default_shots': 8000}, 'version': 2, 'support_qiskit': True, 'resilience_level': 2}\n",
            "base_primitive._run:INFO:2024-04-19 19:32:52,546: Submitting job using options {'options': {'default_shots': 8000}, 'version': 2, 'support_qiskit': True, 'resilience_level': 2}\n",
            "base_primitive._run:INFO:2024-04-19 19:32:59,231: Submitting job using options {'options': {'default_shots': 8000}, 'version': 2, 'support_qiskit': True, 'resilience_level': 2}\n",
            "base_primitive._run:INFO:2024-04-19 19:33:03,356: Submitting job using options {'options': {'default_shots': 8000}, 'version': 2, 'support_qiskit': True, 'resilience_level': 2}\n"
          ]
        },
        {
          "name": "stdout",
          "output_type": "stream",
          "text": [
            "Completed for runs= 7\n"
          ]
        },
        {
          "name": "stderr",
          "output_type": "stream",
          "text": [
            "base_primitive._run:INFO:2024-04-19 19:33:07,569: Submitting job using options {'options': {'default_shots': 8000}, 'version': 2, 'support_qiskit': True, 'resilience_level': 2}\n",
            "base_primitive._run:INFO:2024-04-19 19:33:11,957: Submitting job using options {'options': {'default_shots': 8000}, 'version': 2, 'support_qiskit': True, 'resilience_level': 2}\n",
            "base_primitive._run:INFO:2024-04-19 19:33:16,314: Submitting job using options {'options': {'default_shots': 8000}, 'version': 2, 'support_qiskit': True, 'resilience_level': 2}\n",
            "base_primitive._run:INFO:2024-04-19 19:33:23,652: Submitting job using options {'options': {'default_shots': 8000}, 'version': 2, 'support_qiskit': True, 'resilience_level': 2}\n",
            "base_primitive._run:INFO:2024-04-19 19:33:27,909: Submitting job using options {'options': {'default_shots': 8000}, 'version': 2, 'support_qiskit': True, 'resilience_level': 2}\n",
            "base_primitive._run:INFO:2024-04-19 19:33:32,551: Submitting job using options {'options': {'default_shots': 8000}, 'version': 2, 'support_qiskit': True, 'resilience_level': 2}\n",
            "base_primitive._run:INFO:2024-04-19 19:33:40,348: Submitting job using options {'options': {'default_shots': 8000}, 'version': 2, 'support_qiskit': True, 'resilience_level': 2}\n",
            "base_primitive._run:INFO:2024-04-19 19:33:47,698: Submitting job using options {'options': {'default_shots': 8000}, 'version': 2, 'support_qiskit': True, 'resilience_level': 2}\n",
            "base_primitive._run:INFO:2024-04-19 19:33:51,947: Submitting job using options {'options': {'default_shots': 8000}, 'version': 2, 'support_qiskit': True, 'resilience_level': 2}\n",
            "base_primitive._run:INFO:2024-04-19 19:33:56,418: Submitting job using options {'options': {'default_shots': 8000}, 'version': 2, 'support_qiskit': True, 'resilience_level': 2}\n",
            "base_primitive._run:INFO:2024-04-19 19:34:04,256: Submitting job using options {'options': {'default_shots': 8000}, 'version': 2, 'support_qiskit': True, 'resilience_level': 2}\n",
            "base_primitive._run:INFO:2024-04-19 19:34:07,890: Submitting job using options {'options': {'default_shots': 8000}, 'version': 2, 'support_qiskit': True, 'resilience_level': 2}\n",
            "base_primitive._run:INFO:2024-04-19 19:34:11,694: Submitting job using options {'options': {'default_shots': 8000}, 'version': 2, 'support_qiskit': True, 'resilience_level': 2}\n",
            "base_primitive._run:INFO:2024-04-19 19:34:16,491: Submitting job using options {'options': {'default_shots': 8000}, 'version': 2, 'support_qiskit': True, 'resilience_level': 2}\n",
            "base_primitive._run:INFO:2024-04-19 19:34:20,353: Submitting job using options {'options': {'default_shots': 8000}, 'version': 2, 'support_qiskit': True, 'resilience_level': 2}\n",
            "base_primitive._run:INFO:2024-04-19 19:34:24,468: Submitting job using options {'options': {'default_shots': 8000}, 'version': 2, 'support_qiskit': True, 'resilience_level': 2}\n",
            "base_primitive._run:INFO:2024-04-19 19:34:28,403: Submitting job using options {'options': {'default_shots': 8000}, 'version': 2, 'support_qiskit': True, 'resilience_level': 2}\n",
            "base_primitive._run:INFO:2024-04-19 19:34:33,141: Submitting job using options {'options': {'default_shots': 8000}, 'version': 2, 'support_qiskit': True, 'resilience_level': 2}\n",
            "base_primitive._run:INFO:2024-04-19 19:34:36,718: Submitting job using options {'options': {'default_shots': 8000}, 'version': 2, 'support_qiskit': True, 'resilience_level': 2}\n",
            "base_primitive._run:INFO:2024-04-19 19:34:40,232: Submitting job using options {'options': {'default_shots': 8000}, 'version': 2, 'support_qiskit': True, 'resilience_level': 2}\n",
            "base_primitive._run:INFO:2024-04-19 19:34:46,797: Submitting job using options {'options': {'default_shots': 8000}, 'version': 2, 'support_qiskit': True, 'resilience_level': 2}\n",
            "base_primitive._run:INFO:2024-04-19 19:34:51,092: Submitting job using options {'options': {'default_shots': 8000}, 'version': 2, 'support_qiskit': True, 'resilience_level': 2}\n",
            "base_primitive._run:INFO:2024-04-19 19:34:55,115: Submitting job using options {'options': {'default_shots': 8000}, 'version': 2, 'support_qiskit': True, 'resilience_level': 2}\n"
          ]
        },
        {
          "name": "stdout",
          "output_type": "stream",
          "text": [
            "Completed for runs= 8\n"
          ]
        },
        {
          "name": "stderr",
          "output_type": "stream",
          "text": [
            "base_primitive._run:INFO:2024-04-19 19:34:59,076: Submitting job using options {'options': {'default_shots': 8000}, 'version': 2, 'support_qiskit': True, 'resilience_level': 2}\n",
            "base_primitive._run:INFO:2024-04-19 19:35:04,679: Submitting job using options {'options': {'default_shots': 8000}, 'version': 2, 'support_qiskit': True, 'resilience_level': 2}\n",
            "base_primitive._run:INFO:2024-04-19 19:35:09,256: Submitting job using options {'options': {'default_shots': 8000}, 'version': 2, 'support_qiskit': True, 'resilience_level': 2}\n",
            "base_primitive._run:INFO:2024-04-19 19:35:13,389: Submitting job using options {'options': {'default_shots': 8000}, 'version': 2, 'support_qiskit': True, 'resilience_level': 2}\n",
            "base_primitive._run:INFO:2024-04-19 19:35:16,842: Submitting job using options {'options': {'default_shots': 8000}, 'version': 2, 'support_qiskit': True, 'resilience_level': 2}\n",
            "base_primitive._run:INFO:2024-04-19 19:35:21,115: Submitting job using options {'options': {'default_shots': 8000}, 'version': 2, 'support_qiskit': True, 'resilience_level': 2}\n",
            "base_primitive._run:INFO:2024-04-19 19:35:24,677: Submitting job using options {'options': {'default_shots': 8000}, 'version': 2, 'support_qiskit': True, 'resilience_level': 2}\n",
            "base_primitive._run:INFO:2024-04-19 19:35:28,521: Submitting job using options {'options': {'default_shots': 8000}, 'version': 2, 'support_qiskit': True, 'resilience_level': 2}\n",
            "base_primitive._run:INFO:2024-04-19 19:35:35,501: Submitting job using options {'options': {'default_shots': 8000}, 'version': 2, 'support_qiskit': True, 'resilience_level': 2}\n",
            "base_primitive._run:INFO:2024-04-19 19:35:40,906: Submitting job using options {'options': {'default_shots': 8000}, 'version': 2, 'support_qiskit': True, 'resilience_level': 2}\n",
            "base_primitive._run:INFO:2024-04-19 19:35:44,982: Submitting job using options {'options': {'default_shots': 8000}, 'version': 2, 'support_qiskit': True, 'resilience_level': 2}\n",
            "base_primitive._run:INFO:2024-04-19 19:35:49,056: Submitting job using options {'options': {'default_shots': 8000}, 'version': 2, 'support_qiskit': True, 'resilience_level': 2}\n",
            "base_primitive._run:INFO:2024-04-19 19:35:53,675: Submitting job using options {'options': {'default_shots': 8000}, 'version': 2, 'support_qiskit': True, 'resilience_level': 2}\n",
            "base_primitive._run:INFO:2024-04-19 19:35:57,929: Submitting job using options {'options': {'default_shots': 8000}, 'version': 2, 'support_qiskit': True, 'resilience_level': 2}\n",
            "base_primitive._run:INFO:2024-04-19 19:36:02,658: Submitting job using options {'options': {'default_shots': 8000}, 'version': 2, 'support_qiskit': True, 'resilience_level': 2}\n",
            "base_primitive._run:INFO:2024-04-19 19:36:07,478: Submitting job using options {'options': {'default_shots': 8000}, 'version': 2, 'support_qiskit': True, 'resilience_level': 2}\n",
            "base_primitive._run:INFO:2024-04-19 19:36:11,521: Submitting job using options {'options': {'default_shots': 8000}, 'version': 2, 'support_qiskit': True, 'resilience_level': 2}\n",
            "base_primitive._run:INFO:2024-04-19 19:36:15,103: Submitting job using options {'options': {'default_shots': 8000}, 'version': 2, 'support_qiskit': True, 'resilience_level': 2}\n",
            "base_primitive._run:INFO:2024-04-19 19:36:19,065: Submitting job using options {'options': {'default_shots': 8000}, 'version': 2, 'support_qiskit': True, 'resilience_level': 2}\n",
            "base_primitive._run:INFO:2024-04-19 19:36:22,601: Submitting job using options {'options': {'default_shots': 8000}, 'version': 2, 'support_qiskit': True, 'resilience_level': 2}\n",
            "base_primitive._run:INFO:2024-04-19 19:36:26,384: Submitting job using options {'options': {'default_shots': 8000}, 'version': 2, 'support_qiskit': True, 'resilience_level': 2}\n"
          ]
        },
        {
          "name": "stdout",
          "output_type": "stream",
          "text": [
            "Completed for runs= 9\n"
          ]
        },
        {
          "name": "stderr",
          "output_type": "stream",
          "text": [
            "base_primitive._run:INFO:2024-04-19 19:36:35,247: Submitting job using options {'options': {'default_shots': 8000}, 'version': 2, 'support_qiskit': True, 'resilience_level': 2}\n",
            "base_primitive._run:INFO:2024-04-19 19:36:39,912: Submitting job using options {'options': {'default_shots': 8000}, 'version': 2, 'support_qiskit': True, 'resilience_level': 2}\n",
            "base_primitive._run:INFO:2024-04-19 19:36:46,973: Submitting job using options {'options': {'default_shots': 8000}, 'version': 2, 'support_qiskit': True, 'resilience_level': 2}\n",
            "base_primitive._run:INFO:2024-04-19 19:36:51,250: Submitting job using options {'options': {'default_shots': 8000}, 'version': 2, 'support_qiskit': True, 'resilience_level': 2}\n",
            "base_primitive._run:INFO:2024-04-19 19:36:58,303: Submitting job using options {'options': {'default_shots': 8000}, 'version': 2, 'support_qiskit': True, 'resilience_level': 2}\n",
            "base_primitive._run:INFO:2024-04-19 19:37:02,469: Submitting job using options {'options': {'default_shots': 8000}, 'version': 2, 'support_qiskit': True, 'resilience_level': 2}\n",
            "base_primitive._run:INFO:2024-04-19 19:37:06,161: Submitting job using options {'options': {'default_shots': 8000}, 'version': 2, 'support_qiskit': True, 'resilience_level': 2}\n",
            "base_primitive._run:INFO:2024-04-19 19:37:10,415: Submitting job using options {'options': {'default_shots': 8000}, 'version': 2, 'support_qiskit': True, 'resilience_level': 2}\n",
            "base_primitive._run:INFO:2024-04-19 19:37:19,373: Submitting job using options {'options': {'default_shots': 8000}, 'version': 2, 'support_qiskit': True, 'resilience_level': 2}\n",
            "base_primitive._run:INFO:2024-04-19 19:37:24,349: Submitting job using options {'options': {'default_shots': 8000}, 'version': 2, 'support_qiskit': True, 'resilience_level': 2}\n",
            "base_primitive._run:INFO:2024-04-19 19:37:28,232: Submitting job using options {'options': {'default_shots': 8000}, 'version': 2, 'support_qiskit': True, 'resilience_level': 2}\n",
            "base_primitive._run:INFO:2024-04-19 19:37:33,069: Submitting job using options {'options': {'default_shots': 8000}, 'version': 2, 'support_qiskit': True, 'resilience_level': 2}\n",
            "base_primitive._run:INFO:2024-04-19 19:37:39,820: Submitting job using options {'options': {'default_shots': 8000}, 'version': 2, 'support_qiskit': True, 'resilience_level': 2}\n",
            "base_primitive._run:INFO:2024-04-19 19:37:44,357: Submitting job using options {'options': {'default_shots': 8000}, 'version': 2, 'support_qiskit': True, 'resilience_level': 2}\n",
            "base_primitive._run:INFO:2024-04-19 19:37:48,844: Submitting job using options {'options': {'default_shots': 8000}, 'version': 2, 'support_qiskit': True, 'resilience_level': 2}\n",
            "base_primitive._run:INFO:2024-04-19 19:37:57,729: Submitting job using options {'options': {'default_shots': 8000}, 'version': 2, 'support_qiskit': True, 'resilience_level': 2}\n",
            "base_primitive._run:INFO:2024-04-19 19:38:01,639: Submitting job using options {'options': {'default_shots': 8000}, 'version': 2, 'support_qiskit': True, 'resilience_level': 2}\n",
            "base_primitive._run:INFO:2024-04-19 19:38:05,860: Submitting job using options {'options': {'default_shots': 8000}, 'version': 2, 'support_qiskit': True, 'resilience_level': 2}\n",
            "base_primitive._run:INFO:2024-04-19 19:38:09,819: Submitting job using options {'options': {'default_shots': 8000}, 'version': 2, 'support_qiskit': True, 'resilience_level': 2}\n",
            "base_primitive._run:INFO:2024-04-19 19:38:13,762: Submitting job using options {'options': {'default_shots': 8000}, 'version': 2, 'support_qiskit': True, 'resilience_level': 2}\n",
            "base_primitive._run:INFO:2024-04-19 19:38:18,114: Submitting job using options {'options': {'default_shots': 8000}, 'version': 2, 'support_qiskit': True, 'resilience_level': 2}\n",
            "base_primitive._run:INFO:2024-04-19 19:38:23,771: Submitting job using options {'options': {'default_shots': 8000}, 'version': 2, 'support_qiskit': True, 'resilience_level': 2}\n",
            "base_primitive._run:INFO:2024-04-19 19:38:28,414: Submitting job using options {'options': {'default_shots': 8000}, 'version': 2, 'support_qiskit': True, 'resilience_level': 2}\n"
          ]
        },
        {
          "name": "stdout",
          "output_type": "stream",
          "text": [
            "Completed for runs= 10\n"
          ]
        },
        {
          "name": "stderr",
          "output_type": "stream",
          "text": [
            "base_primitive._run:INFO:2024-04-19 19:38:32,392: Submitting job using options {'options': {'default_shots': 8000}, 'version': 2, 'support_qiskit': True, 'resilience_level': 2}\n",
            "base_primitive._run:INFO:2024-04-19 19:38:36,414: Submitting job using options {'options': {'default_shots': 8000}, 'version': 2, 'support_qiskit': True, 'resilience_level': 2}\n",
            "base_primitive._run:INFO:2024-04-19 19:38:39,874: Submitting job using options {'options': {'default_shots': 8000}, 'version': 2, 'support_qiskit': True, 'resilience_level': 2}\n",
            "base_primitive._run:INFO:2024-04-19 19:38:47,311: Submitting job using options {'options': {'default_shots': 8000}, 'version': 2, 'support_qiskit': True, 'resilience_level': 2}\n",
            "base_primitive._run:INFO:2024-04-19 19:38:51,735: Submitting job using options {'options': {'default_shots': 8000}, 'version': 2, 'support_qiskit': True, 'resilience_level': 2}\n",
            "base_primitive._run:INFO:2024-04-19 19:38:56,032: Submitting job using options {'options': {'default_shots': 8000}, 'version': 2, 'support_qiskit': True, 'resilience_level': 2}\n",
            "base_primitive._run:INFO:2024-04-19 19:38:59,773: Submitting job using options {'options': {'default_shots': 8000}, 'version': 2, 'support_qiskit': True, 'resilience_level': 2}\n",
            "base_primitive._run:INFO:2024-04-19 19:39:03,828: Submitting job using options {'options': {'default_shots': 8000}, 'version': 2, 'support_qiskit': True, 'resilience_level': 2}\n",
            "base_primitive._run:INFO:2024-04-19 19:39:07,578: Submitting job using options {'options': {'default_shots': 8000}, 'version': 2, 'support_qiskit': True, 'resilience_level': 2}\n",
            "base_primitive._run:INFO:2024-04-19 19:39:11,302: Submitting job using options {'options': {'default_shots': 8000}, 'version': 2, 'support_qiskit': True, 'resilience_level': 2}\n",
            "base_primitive._run:INFO:2024-04-19 19:39:15,820: Submitting job using options {'options': {'default_shots': 8000}, 'version': 2, 'support_qiskit': True, 'resilience_level': 2}\n",
            "base_primitive._run:INFO:2024-04-19 19:39:19,830: Submitting job using options {'options': {'default_shots': 8000}, 'version': 2, 'support_qiskit': True, 'resilience_level': 2}\n",
            "base_primitive._run:INFO:2024-04-19 19:39:23,779: Submitting job using options {'options': {'default_shots': 8000}, 'version': 2, 'support_qiskit': True, 'resilience_level': 2}\n",
            "base_primitive._run:INFO:2024-04-19 19:39:32,575: Submitting job using options {'options': {'default_shots': 8000}, 'version': 2, 'support_qiskit': True, 'resilience_level': 2}\n",
            "base_primitive._run:INFO:2024-04-19 19:39:36,726: Submitting job using options {'options': {'default_shots': 8000}, 'version': 2, 'support_qiskit': True, 'resilience_level': 2}\n",
            "base_primitive._run:INFO:2024-04-19 19:39:45,349: Submitting job using options {'options': {'default_shots': 8000}, 'version': 2, 'support_qiskit': True, 'resilience_level': 2}\n",
            "base_primitive._run:INFO:2024-04-19 19:39:49,278: Submitting job using options {'options': {'default_shots': 8000}, 'version': 2, 'support_qiskit': True, 'resilience_level': 2}\n",
            "base_primitive._run:INFO:2024-04-19 19:39:53,364: Submitting job using options {'options': {'default_shots': 8000}, 'version': 2, 'support_qiskit': True, 'resilience_level': 2}\n",
            "base_primitive._run:INFO:2024-04-19 19:39:57,472: Submitting job using options {'options': {'default_shots': 8000}, 'version': 2, 'support_qiskit': True, 'resilience_level': 2}\n",
            "base_primitive._run:INFO:2024-04-19 19:40:02,067: Submitting job using options {'options': {'default_shots': 8000}, 'version': 2, 'support_qiskit': True, 'resilience_level': 2}\n",
            "base_primitive._run:INFO:2024-04-19 19:40:05,941: Submitting job using options {'options': {'default_shots': 8000}, 'version': 2, 'support_qiskit': True, 'resilience_level': 2}\n",
            "base_primitive._run:INFO:2024-04-19 19:40:10,030: Submitting job using options {'options': {'default_shots': 8000}, 'version': 2, 'support_qiskit': True, 'resilience_level': 2}\n",
            "base_primitive._run:INFO:2024-04-19 19:40:15,418: Submitting job using options {'options': {'default_shots': 8000}, 'version': 2, 'support_qiskit': True, 'resilience_level': 2}\n"
          ]
        },
        {
          "name": "stdout",
          "output_type": "stream",
          "text": [
            "Completed for runs= 11\n"
          ]
        },
        {
          "name": "stderr",
          "output_type": "stream",
          "text": [
            "base_primitive._run:INFO:2024-04-19 19:40:19,819: Submitting job using options {'options': {'default_shots': 8000}, 'version': 2, 'support_qiskit': True, 'resilience_level': 2}\n",
            "base_primitive._run:INFO:2024-04-19 19:40:24,710: Submitting job using options {'options': {'default_shots': 8000}, 'version': 2, 'support_qiskit': True, 'resilience_level': 2}\n",
            "base_primitive._run:INFO:2024-04-19 19:40:28,426: Submitting job using options {'options': {'default_shots': 8000}, 'version': 2, 'support_qiskit': True, 'resilience_level': 2}\n",
            "base_primitive._run:INFO:2024-04-19 19:40:32,553: Submitting job using options {'options': {'default_shots': 8000}, 'version': 2, 'support_qiskit': True, 'resilience_level': 2}\n",
            "base_primitive._run:INFO:2024-04-19 19:40:40,391: Submitting job using options {'options': {'default_shots': 8000}, 'version': 2, 'support_qiskit': True, 'resilience_level': 2}\n",
            "base_primitive._run:INFO:2024-04-19 19:40:44,234: Submitting job using options {'options': {'default_shots': 8000}, 'version': 2, 'support_qiskit': True, 'resilience_level': 2}\n",
            "base_primitive._run:INFO:2024-04-19 19:40:47,792: Submitting job using options {'options': {'default_shots': 8000}, 'version': 2, 'support_qiskit': True, 'resilience_level': 2}\n",
            "base_primitive._run:INFO:2024-04-19 19:40:55,778: Submitting job using options {'options': {'default_shots': 8000}, 'version': 2, 'support_qiskit': True, 'resilience_level': 2}\n",
            "base_primitive._run:INFO:2024-04-19 19:40:59,732: Submitting job using options {'options': {'default_shots': 8000}, 'version': 2, 'support_qiskit': True, 'resilience_level': 2}\n",
            "base_primitive._run:INFO:2024-04-19 19:41:04,532: Submitting job using options {'options': {'default_shots': 8000}, 'version': 2, 'support_qiskit': True, 'resilience_level': 2}\n",
            "base_primitive._run:INFO:2024-04-19 19:41:08,666: Submitting job using options {'options': {'default_shots': 8000}, 'version': 2, 'support_qiskit': True, 'resilience_level': 2}\n",
            "base_primitive._run:INFO:2024-04-19 19:41:13,292: Submitting job using options {'options': {'default_shots': 8000}, 'version': 2, 'support_qiskit': True, 'resilience_level': 2}\n",
            "base_primitive._run:INFO:2024-04-19 19:41:16,815: Submitting job using options {'options': {'default_shots': 8000}, 'version': 2, 'support_qiskit': True, 'resilience_level': 2}\n",
            "base_primitive._run:INFO:2024-04-19 19:41:21,054: Submitting job using options {'options': {'default_shots': 8000}, 'version': 2, 'support_qiskit': True, 'resilience_level': 2}\n",
            "base_primitive._run:INFO:2024-04-19 19:41:28,417: Submitting job using options {'options': {'default_shots': 8000}, 'version': 2, 'support_qiskit': True, 'resilience_level': 2}\n",
            "base_primitive._run:INFO:2024-04-19 19:41:35,789: Submitting job using options {'options': {'default_shots': 8000}, 'version': 2, 'support_qiskit': True, 'resilience_level': 2}\n",
            "base_primitive._run:INFO:2024-04-19 19:41:39,567: Submitting job using options {'options': {'default_shots': 8000}, 'version': 2, 'support_qiskit': True, 'resilience_level': 2}\n",
            "base_primitive._run:INFO:2024-04-19 19:41:43,624: Submitting job using options {'options': {'default_shots': 8000}, 'version': 2, 'support_qiskit': True, 'resilience_level': 2}\n",
            "base_primitive._run:INFO:2024-04-19 19:41:51,751: Submitting job using options {'options': {'default_shots': 8000}, 'version': 2, 'support_qiskit': True, 'resilience_level': 2}\n",
            "base_primitive._run:INFO:2024-04-19 19:41:56,860: Submitting job using options {'options': {'default_shots': 8000}, 'version': 2, 'support_qiskit': True, 'resilience_level': 2}\n",
            "base_primitive._run:INFO:2024-04-19 19:42:00,643: Submitting job using options {'options': {'default_shots': 8000}, 'version': 2, 'support_qiskit': True, 'resilience_level': 2}\n"
          ]
        },
        {
          "name": "stdout",
          "output_type": "stream",
          "text": [
            "Completed for runs= 12\n"
          ]
        },
        {
          "name": "stderr",
          "output_type": "stream",
          "text": [
            "base_primitive._run:INFO:2024-04-19 19:42:04,484: Submitting job using options {'options': {'default_shots': 8000}, 'version': 2, 'support_qiskit': True, 'resilience_level': 2}\n",
            "base_primitive._run:INFO:2024-04-19 19:42:08,812: Submitting job using options {'options': {'default_shots': 8000}, 'version': 2, 'support_qiskit': True, 'resilience_level': 2}\n",
            "base_primitive._run:INFO:2024-04-19 19:42:13,076: Submitting job using options {'options': {'default_shots': 8000}, 'version': 2, 'support_qiskit': True, 'resilience_level': 2}\n",
            "base_primitive._run:INFO:2024-04-19 19:42:20,244: Submitting job using options {'options': {'default_shots': 8000}, 'version': 2, 'support_qiskit': True, 'resilience_level': 2}\n",
            "base_primitive._run:INFO:2024-04-19 19:42:23,820: Submitting job using options {'options': {'default_shots': 8000}, 'version': 2, 'support_qiskit': True, 'resilience_level': 2}\n",
            "base_primitive._run:INFO:2024-04-19 19:44:28,440: Submitting job using options {'options': {'default_shots': 8000}, 'version': 2, 'support_qiskit': True, 'resilience_level': 2}\n",
            "base_primitive._run:INFO:2024-04-19 19:44:36,093: Submitting job using options {'options': {'default_shots': 8000}, 'version': 2, 'support_qiskit': True, 'resilience_level': 2}\n",
            "base_primitive._run:INFO:2024-04-19 19:44:39,763: Submitting job using options {'options': {'default_shots': 8000}, 'version': 2, 'support_qiskit': True, 'resilience_level': 2}\n",
            "base_primitive._run:INFO:2024-04-19 19:44:43,803: Submitting job using options {'options': {'default_shots': 8000}, 'version': 2, 'support_qiskit': True, 'resilience_level': 2}\n",
            "base_primitive._run:INFO:2024-04-19 19:44:48,225: Submitting job using options {'options': {'default_shots': 8000}, 'version': 2, 'support_qiskit': True, 'resilience_level': 2}\n",
            "base_primitive._run:INFO:2024-04-19 19:44:52,352: Submitting job using options {'options': {'default_shots': 8000}, 'version': 2, 'support_qiskit': True, 'resilience_level': 2}\n",
            "base_primitive._run:INFO:2024-04-19 19:44:56,660: Submitting job using options {'options': {'default_shots': 8000}, 'version': 2, 'support_qiskit': True, 'resilience_level': 2}\n",
            "base_primitive._run:INFO:2024-04-19 19:45:00,379: Submitting job using options {'options': {'default_shots': 8000}, 'version': 2, 'support_qiskit': True, 'resilience_level': 2}\n",
            "base_primitive._run:INFO:2024-04-19 19:45:04,524: Submitting job using options {'options': {'default_shots': 8000}, 'version': 2, 'support_qiskit': True, 'resilience_level': 2}\n",
            "base_primitive._run:INFO:2024-04-19 19:45:08,156: Submitting job using options {'options': {'default_shots': 8000}, 'version': 2, 'support_qiskit': True, 'resilience_level': 2}\n",
            "base_primitive._run:INFO:2024-04-19 19:45:12,223: Submitting job using options {'options': {'default_shots': 8000}, 'version': 2, 'support_qiskit': True, 'resilience_level': 2}\n",
            "base_primitive._run:INFO:2024-04-19 19:45:16,585: Submitting job using options {'options': {'default_shots': 8000}, 'version': 2, 'support_qiskit': True, 'resilience_level': 2}\n",
            "base_primitive._run:INFO:2024-04-19 19:45:20,236: Submitting job using options {'options': {'default_shots': 8000}, 'version': 2, 'support_qiskit': True, 'resilience_level': 2}\n",
            "base_primitive._run:INFO:2024-04-19 19:45:24,415: Submitting job using options {'options': {'default_shots': 8000}, 'version': 2, 'support_qiskit': True, 'resilience_level': 2}\n",
            "base_primitive._run:INFO:2024-04-19 19:45:29,640: Submitting job using options {'options': {'default_shots': 8000}, 'version': 2, 'support_qiskit': True, 'resilience_level': 2}\n",
            "base_primitive._run:INFO:2024-04-19 19:45:34,376: Submitting job using options {'options': {'default_shots': 8000}, 'version': 2, 'support_qiskit': True, 'resilience_level': 2}\n"
          ]
        },
        {
          "name": "stdout",
          "output_type": "stream",
          "text": [
            "Completed for runs= 13\n"
          ]
        },
        {
          "name": "stderr",
          "output_type": "stream",
          "text": [
            "base_primitive._run:INFO:2024-04-19 19:45:38,937: Submitting job using options {'options': {'default_shots': 8000}, 'version': 2, 'support_qiskit': True, 'resilience_level': 2}\n",
            "base_primitive._run:INFO:2024-04-19 19:45:44,091: Submitting job using options {'options': {'default_shots': 8000}, 'version': 2, 'support_qiskit': True, 'resilience_level': 2}\n",
            "base_primitive._run:INFO:2024-04-19 19:45:47,923: Submitting job using options {'options': {'default_shots': 8000}, 'version': 2, 'support_qiskit': True, 'resilience_level': 2}\n",
            "base_primitive._run:INFO:2024-04-19 19:45:52,078: Submitting job using options {'options': {'default_shots': 8000}, 'version': 2, 'support_qiskit': True, 'resilience_level': 2}\n",
            "base_primitive._run:INFO:2024-04-19 19:45:56,399: Submitting job using options {'options': {'default_shots': 8000}, 'version': 2, 'support_qiskit': True, 'resilience_level': 2}\n",
            "base_primitive._run:INFO:2024-04-19 19:46:00,259: Submitting job using options {'options': {'default_shots': 8000}, 'version': 2, 'support_qiskit': True, 'resilience_level': 2}\n",
            "base_primitive._run:INFO:2024-04-19 19:46:04,625: Submitting job using options {'options': {'default_shots': 8000}, 'version': 2, 'support_qiskit': True, 'resilience_level': 2}\n",
            "base_primitive._run:INFO:2024-04-19 19:46:08,437: Submitting job using options {'options': {'default_shots': 8000}, 'version': 2, 'support_qiskit': True, 'resilience_level': 2}\n",
            "base_primitive._run:INFO:2024-04-19 19:46:12,143: Submitting job using options {'options': {'default_shots': 8000}, 'version': 2, 'support_qiskit': True, 'resilience_level': 2}\n",
            "base_primitive._run:INFO:2024-04-19 19:46:17,402: Submitting job using options {'options': {'default_shots': 8000}, 'version': 2, 'support_qiskit': True, 'resilience_level': 2}\n",
            "base_primitive._run:INFO:2024-04-19 19:46:25,404: Submitting job using options {'options': {'default_shots': 8000}, 'version': 2, 'support_qiskit': True, 'resilience_level': 2}\n",
            "base_primitive._run:INFO:2024-04-19 19:46:30,333: Submitting job using options {'options': {'default_shots': 8000}, 'version': 2, 'support_qiskit': True, 'resilience_level': 2}\n",
            "base_primitive._run:INFO:2024-04-19 19:46:34,131: Submitting job using options {'options': {'default_shots': 8000}, 'version': 2, 'support_qiskit': True, 'resilience_level': 2}\n",
            "base_primitive._run:INFO:2024-04-19 19:46:37,698: Submitting job using options {'options': {'default_shots': 8000}, 'version': 2, 'support_qiskit': True, 'resilience_level': 2}\n",
            "base_primitive._run:INFO:2024-04-19 19:46:45,396: Submitting job using options {'options': {'default_shots': 8000}, 'version': 2, 'support_qiskit': True, 'resilience_level': 2}\n",
            "base_primitive._run:INFO:2024-04-19 19:46:49,615: Submitting job using options {'options': {'default_shots': 8000}, 'version': 2, 'support_qiskit': True, 'resilience_level': 2}\n",
            "base_primitive._run:INFO:2024-04-19 19:46:53,359: Submitting job using options {'options': {'default_shots': 8000}, 'version': 2, 'support_qiskit': True, 'resilience_level': 2}\n",
            "base_primitive._run:INFO:2024-04-19 19:46:59,060: Submitting job using options {'options': {'default_shots': 8000}, 'version': 2, 'support_qiskit': True, 'resilience_level': 2}\n",
            "base_primitive._run:INFO:2024-04-19 19:47:03,291: Submitting job using options {'options': {'default_shots': 8000}, 'version': 2, 'support_qiskit': True, 'resilience_level': 2}\n",
            "base_primitive._run:INFO:2024-04-19 19:47:06,826: Submitting job using options {'options': {'default_shots': 8000}, 'version': 2, 'support_qiskit': True, 'resilience_level': 2}\n",
            "base_primitive._run:INFO:2024-04-19 19:47:13,283: Submitting job using options {'options': {'default_shots': 8000}, 'version': 2, 'support_qiskit': True, 'resilience_level': 2}\n"
          ]
        },
        {
          "name": "stdout",
          "output_type": "stream",
          "text": [
            "Completed for runs= 14\n"
          ]
        },
        {
          "name": "stderr",
          "output_type": "stream",
          "text": [
            "base_primitive._run:INFO:2024-04-19 19:47:17,369: Submitting job using options {'options': {'default_shots': 8000}, 'version': 2, 'support_qiskit': True, 'resilience_level': 2}\n",
            "base_primitive._run:INFO:2024-04-19 19:47:25,431: Submitting job using options {'options': {'default_shots': 8000}, 'version': 2, 'support_qiskit': True, 'resilience_level': 2}\n",
            "base_primitive._run:INFO:2024-04-19 19:47:29,066: Submitting job using options {'options': {'default_shots': 8000}, 'version': 2, 'support_qiskit': True, 'resilience_level': 2}\n",
            "base_primitive._run:INFO:2024-04-19 19:47:33,190: Submitting job using options {'options': {'default_shots': 8000}, 'version': 2, 'support_qiskit': True, 'resilience_level': 2}\n",
            "base_primitive._run:INFO:2024-04-19 19:47:36,948: Submitting job using options {'options': {'default_shots': 8000}, 'version': 2, 'support_qiskit': True, 'resilience_level': 2}\n",
            "base_primitive._run:INFO:2024-04-19 19:47:40,568: Submitting job using options {'options': {'default_shots': 8000}, 'version': 2, 'support_qiskit': True, 'resilience_level': 2}\n",
            "base_primitive._run:INFO:2024-04-19 19:47:44,177: Submitting job using options {'options': {'default_shots': 8000}, 'version': 2, 'support_qiskit': True, 'resilience_level': 2}\n",
            "base_primitive._run:INFO:2024-04-19 19:47:48,038: Submitting job using options {'options': {'default_shots': 8000}, 'version': 2, 'support_qiskit': True, 'resilience_level': 2}\n",
            "base_primitive._run:INFO:2024-04-19 19:47:57,891: Submitting job using options {'options': {'default_shots': 8000}, 'version': 2, 'support_qiskit': True, 'resilience_level': 2}\n",
            "base_primitive._run:INFO:2024-04-19 19:48:02,313: Submitting job using options {'options': {'default_shots': 8000}, 'version': 2, 'support_qiskit': True, 'resilience_level': 2}\n",
            "base_primitive._run:INFO:2024-04-19 19:48:06,137: Submitting job using options {'options': {'default_shots': 8000}, 'version': 2, 'support_qiskit': True, 'resilience_level': 2}\n",
            "base_primitive._run:INFO:2024-04-19 19:48:13,063: Submitting job using options {'options': {'default_shots': 8000}, 'version': 2, 'support_qiskit': True, 'resilience_level': 2}\n",
            "base_primitive._run:INFO:2024-04-19 19:48:17,287: Submitting job using options {'options': {'default_shots': 8000}, 'version': 2, 'support_qiskit': True, 'resilience_level': 2}\n",
            "base_primitive._run:INFO:2024-04-19 19:48:21,534: Submitting job using options {'options': {'default_shots': 8000}, 'version': 2, 'support_qiskit': True, 'resilience_level': 2}\n",
            "base_primitive._run:INFO:2024-04-19 19:48:25,704: Submitting job using options {'options': {'default_shots': 8000}, 'version': 2, 'support_qiskit': True, 'resilience_level': 2}\n",
            "base_primitive._run:INFO:2024-04-19 19:48:29,338: Submitting job using options {'options': {'default_shots': 8000}, 'version': 2, 'support_qiskit': True, 'resilience_level': 2}\n",
            "base_primitive._run:INFO:2024-04-19 19:48:33,343: Submitting job using options {'options': {'default_shots': 8000}, 'version': 2, 'support_qiskit': True, 'resilience_level': 2}\n",
            "base_primitive._run:INFO:2024-04-19 19:48:41,598: Submitting job using options {'options': {'default_shots': 8000}, 'version': 2, 'support_qiskit': True, 'resilience_level': 2}\n",
            "base_primitive._run:INFO:2024-04-19 19:48:45,814: Submitting job using options {'options': {'default_shots': 8000}, 'version': 2, 'support_qiskit': True, 'resilience_level': 2}\n",
            "base_primitive._run:INFO:2024-04-19 19:48:50,905: Submitting job using options {'options': {'default_shots': 8000}, 'version': 2, 'support_qiskit': True, 'resilience_level': 2}\n",
            "base_primitive._run:INFO:2024-04-19 19:48:54,740: Submitting job using options {'options': {'default_shots': 8000}, 'version': 2, 'support_qiskit': True, 'resilience_level': 2}\n",
            "base_primitive._run:INFO:2024-04-19 19:48:59,345: Submitting job using options {'options': {'default_shots': 8000}, 'version': 2, 'support_qiskit': True, 'resilience_level': 2}\n"
          ]
        },
        {
          "name": "stdout",
          "output_type": "stream",
          "text": [
            "Completed for runs= 15\n"
          ]
        },
        {
          "name": "stderr",
          "output_type": "stream",
          "text": [
            "base_primitive._run:INFO:2024-04-19 19:49:06,745: Submitting job using options {'options': {'default_shots': 8000}, 'version': 2, 'support_qiskit': True, 'resilience_level': 2}\n",
            "base_primitive._run:INFO:2024-04-19 19:49:10,963: Submitting job using options {'options': {'default_shots': 8000}, 'version': 2, 'support_qiskit': True, 'resilience_level': 2}\n",
            "base_primitive._run:INFO:2024-04-19 19:49:14,483: Submitting job using options {'options': {'default_shots': 8000}, 'version': 2, 'support_qiskit': True, 'resilience_level': 2}\n",
            "base_primitive._run:INFO:2024-04-19 19:49:18,660: Submitting job using options {'options': {'default_shots': 8000}, 'version': 2, 'support_qiskit': True, 'resilience_level': 2}\n",
            "base_primitive._run:INFO:2024-04-19 19:49:23,086: Submitting job using options {'options': {'default_shots': 8000}, 'version': 2, 'support_qiskit': True, 'resilience_level': 2}\n",
            "base_primitive._run:INFO:2024-04-19 19:49:29,984: Submitting job using options {'options': {'default_shots': 8000}, 'version': 2, 'support_qiskit': True, 'resilience_level': 2}\n",
            "base_primitive._run:INFO:2024-04-19 19:49:39,176: Submitting job using options {'options': {'default_shots': 8000}, 'version': 2, 'support_qiskit': True, 'resilience_level': 2}\n",
            "base_primitive._run:INFO:2024-04-19 19:49:46,291: Submitting job using options {'options': {'default_shots': 8000}, 'version': 2, 'support_qiskit': True, 'resilience_level': 2}\n",
            "base_primitive._run:INFO:2024-04-19 19:49:50,134: Submitting job using options {'options': {'default_shots': 8000}, 'version': 2, 'support_qiskit': True, 'resilience_level': 2}\n",
            "base_primitive._run:INFO:2024-04-19 19:49:58,051: Submitting job using options {'options': {'default_shots': 8000}, 'version': 2, 'support_qiskit': True, 'resilience_level': 2}\n",
            "base_primitive._run:INFO:2024-04-19 19:50:02,046: Submitting job using options {'options': {'default_shots': 8000}, 'version': 2, 'support_qiskit': True, 'resilience_level': 2}\n",
            "base_primitive._run:INFO:2024-04-19 19:50:05,945: Submitting job using options {'options': {'default_shots': 8000}, 'version': 2, 'support_qiskit': True, 'resilience_level': 2}\n",
            "base_primitive._run:INFO:2024-04-19 19:50:10,656: Submitting job using options {'options': {'default_shots': 8000}, 'version': 2, 'support_qiskit': True, 'resilience_level': 2}\n",
            "base_primitive._run:INFO:2024-04-19 19:50:14,362: Submitting job using options {'options': {'default_shots': 8000}, 'version': 2, 'support_qiskit': True, 'resilience_level': 2}\n",
            "base_primitive._run:INFO:2024-04-19 19:50:18,572: Submitting job using options {'options': {'default_shots': 8000}, 'version': 2, 'support_qiskit': True, 'resilience_level': 2}\n",
            "base_primitive._run:INFO:2024-04-19 19:50:22,597: Submitting job using options {'options': {'default_shots': 8000}, 'version': 2, 'support_qiskit': True, 'resilience_level': 2}\n",
            "base_primitive._run:INFO:2024-04-19 19:50:29,942: Submitting job using options {'options': {'default_shots': 8000}, 'version': 2, 'support_qiskit': True, 'resilience_level': 2}\n",
            "base_primitive._run:INFO:2024-04-19 19:50:34,429: Submitting job using options {'options': {'default_shots': 8000}, 'version': 2, 'support_qiskit': True, 'resilience_level': 2}\n",
            "base_primitive._run:INFO:2024-04-19 19:50:41,681: Submitting job using options {'options': {'default_shots': 8000}, 'version': 2, 'support_qiskit': True, 'resilience_level': 2}\n",
            "base_primitive._run:INFO:2024-04-19 19:50:45,701: Submitting job using options {'options': {'default_shots': 8000}, 'version': 2, 'support_qiskit': True, 'resilience_level': 2}\n"
          ]
        },
        {
          "name": "stdout",
          "output_type": "stream",
          "text": [
            "Completed for runs= 16\n"
          ]
        },
        {
          "name": "stderr",
          "output_type": "stream",
          "text": [
            "base_primitive._run:INFO:2024-04-19 19:50:49,586: Submitting job using options {'options': {'default_shots': 8000}, 'version': 2, 'support_qiskit': True, 'resilience_level': 2}\n",
            "base_primitive._run:INFO:2024-04-19 19:50:54,061: Submitting job using options {'options': {'default_shots': 8000}, 'version': 2, 'support_qiskit': True, 'resilience_level': 2}\n",
            "base_primitive._run:INFO:2024-04-19 19:50:58,204: Submitting job using options {'options': {'default_shots': 8000}, 'version': 2, 'support_qiskit': True, 'resilience_level': 2}\n",
            "base_primitive._run:INFO:2024-04-19 19:51:03,054: Submitting job using options {'options': {'default_shots': 8000}, 'version': 2, 'support_qiskit': True, 'resilience_level': 2}\n",
            "base_primitive._run:INFO:2024-04-19 19:51:07,146: Submitting job using options {'options': {'default_shots': 8000}, 'version': 2, 'support_qiskit': True, 'resilience_level': 2}\n",
            "base_primitive._run:INFO:2024-04-19 19:51:11,767: Submitting job using options {'options': {'default_shots': 8000}, 'version': 2, 'support_qiskit': True, 'resilience_level': 2}\n",
            "base_primitive._run:INFO:2024-04-19 19:51:15,541: Submitting job using options {'options': {'default_shots': 8000}, 'version': 2, 'support_qiskit': True, 'resilience_level': 2}\n",
            "base_primitive._run:INFO:2024-04-19 19:51:22,933: Submitting job using options {'options': {'default_shots': 8000}, 'version': 2, 'support_qiskit': True, 'resilience_level': 2}\n",
            "base_primitive._run:INFO:2024-04-19 19:51:27,677: Submitting job using options {'options': {'default_shots': 8000}, 'version': 2, 'support_qiskit': True, 'resilience_level': 2}\n",
            "base_primitive._run:INFO:2024-04-19 19:51:31,459: Submitting job using options {'options': {'default_shots': 8000}, 'version': 2, 'support_qiskit': True, 'resilience_level': 2}\n",
            "base_primitive._run:INFO:2024-04-19 19:51:35,646: Submitting job using options {'options': {'default_shots': 8000}, 'version': 2, 'support_qiskit': True, 'resilience_level': 2}\n",
            "base_primitive._run:INFO:2024-04-19 19:51:40,499: Submitting job using options {'options': {'default_shots': 8000}, 'version': 2, 'support_qiskit': True, 'resilience_level': 2}\n",
            "base_primitive._run:INFO:2024-04-19 19:51:44,154: Submitting job using options {'options': {'default_shots': 8000}, 'version': 2, 'support_qiskit': True, 'resilience_level': 2}\n",
            "base_primitive._run:INFO:2024-04-19 19:51:48,525: Submitting job using options {'options': {'default_shots': 8000}, 'version': 2, 'support_qiskit': True, 'resilience_level': 2}\n",
            "base_primitive._run:INFO:2024-04-19 19:51:53,248: Submitting job using options {'options': {'default_shots': 8000}, 'version': 2, 'support_qiskit': True, 'resilience_level': 2}\n",
            "base_primitive._run:INFO:2024-04-19 19:51:57,517: Submitting job using options {'options': {'default_shots': 8000}, 'version': 2, 'support_qiskit': True, 'resilience_level': 2}\n",
            "base_primitive._run:INFO:2024-04-19 19:52:01,497: Submitting job using options {'options': {'default_shots': 8000}, 'version': 2, 'support_qiskit': True, 'resilience_level': 2}\n",
            "base_primitive._run:INFO:2024-04-19 19:52:10,130: Submitting job using options {'options': {'default_shots': 8000}, 'version': 2, 'support_qiskit': True, 'resilience_level': 2}\n",
            "base_primitive._run:INFO:2024-04-19 19:52:13,867: Submitting job using options {'options': {'default_shots': 8000}, 'version': 2, 'support_qiskit': True, 'resilience_level': 2}\n",
            "base_primitive._run:INFO:2024-04-19 19:52:20,415: Submitting job using options {'options': {'default_shots': 8000}, 'version': 2, 'support_qiskit': True, 'resilience_level': 2}\n",
            "base_primitive._run:INFO:2024-04-19 19:52:24,900: Submitting job using options {'options': {'default_shots': 8000}, 'version': 2, 'support_qiskit': True, 'resilience_level': 2}\n"
          ]
        },
        {
          "name": "stdout",
          "output_type": "stream",
          "text": [
            "Completed for runs= 17\n"
          ]
        },
        {
          "name": "stderr",
          "output_type": "stream",
          "text": [
            "base_primitive._run:INFO:2024-04-19 19:52:33,094: Submitting job using options {'options': {'default_shots': 8000}, 'version': 2, 'support_qiskit': True, 'resilience_level': 2}\n",
            "base_primitive._run:INFO:2024-04-19 19:52:37,288: Submitting job using options {'options': {'default_shots': 8000}, 'version': 2, 'support_qiskit': True, 'resilience_level': 2}\n",
            "base_primitive._run:INFO:2024-04-19 19:52:41,048: Submitting job using options {'options': {'default_shots': 8000}, 'version': 2, 'support_qiskit': True, 'resilience_level': 2}\n",
            "base_primitive._run:INFO:2024-04-19 19:52:44,831: Submitting job using options {'options': {'default_shots': 8000}, 'version': 2, 'support_qiskit': True, 'resilience_level': 2}\n",
            "base_primitive._run:INFO:2024-04-19 19:52:48,588: Submitting job using options {'options': {'default_shots': 8000}, 'version': 2, 'support_qiskit': True, 'resilience_level': 2}\n",
            "base_primitive._run:INFO:2024-04-19 19:52:52,590: Submitting job using options {'options': {'default_shots': 8000}, 'version': 2, 'support_qiskit': True, 'resilience_level': 2}\n",
            "base_primitive._run:INFO:2024-04-19 19:52:56,662: Submitting job using options {'options': {'default_shots': 8000}, 'version': 2, 'support_qiskit': True, 'resilience_level': 2}\n",
            "base_primitive._run:INFO:2024-04-19 19:53:00,978: Submitting job using options {'options': {'default_shots': 8000}, 'version': 2, 'support_qiskit': True, 'resilience_level': 2}\n",
            "base_primitive._run:INFO:2024-04-19 19:53:05,197: Submitting job using options {'options': {'default_shots': 8000}, 'version': 2, 'support_qiskit': True, 'resilience_level': 2}\n",
            "base_primitive._run:INFO:2024-04-19 19:53:09,342: Submitting job using options {'options': {'default_shots': 8000}, 'version': 2, 'support_qiskit': True, 'resilience_level': 2}\n",
            "base_primitive._run:INFO:2024-04-19 19:53:13,743: Submitting job using options {'options': {'default_shots': 8000}, 'version': 2, 'support_qiskit': True, 'resilience_level': 2}\n",
            "base_primitive._run:INFO:2024-04-19 19:53:17,607: Submitting job using options {'options': {'default_shots': 8000}, 'version': 2, 'support_qiskit': True, 'resilience_level': 2}\n",
            "base_primitive._run:INFO:2024-04-19 19:53:26,170: Submitting job using options {'options': {'default_shots': 8000}, 'version': 2, 'support_qiskit': True, 'resilience_level': 2}\n",
            "base_primitive._run:INFO:2024-04-19 19:53:29,780: Submitting job using options {'options': {'default_shots': 8000}, 'version': 2, 'support_qiskit': True, 'resilience_level': 2}\n",
            "base_primitive._run:INFO:2024-04-19 19:53:33,700: Submitting job using options {'options': {'default_shots': 8000}, 'version': 2, 'support_qiskit': True, 'resilience_level': 2}\n",
            "base_primitive._run:INFO:2024-04-19 19:53:37,937: Submitting job using options {'options': {'default_shots': 8000}, 'version': 2, 'support_qiskit': True, 'resilience_level': 2}\n",
            "base_primitive._run:INFO:2024-04-19 19:53:45,412: Submitting job using options {'options': {'default_shots': 8000}, 'version': 2, 'support_qiskit': True, 'resilience_level': 2}\n",
            "base_primitive._run:INFO:2024-04-19 19:53:49,606: Submitting job using options {'options': {'default_shots': 8000}, 'version': 2, 'support_qiskit': True, 'resilience_level': 2}\n",
            "base_primitive._run:INFO:2024-04-19 19:53:54,449: Submitting job using options {'options': {'default_shots': 8000}, 'version': 2, 'support_qiskit': True, 'resilience_level': 2}\n",
            "base_primitive._run:INFO:2024-04-19 19:53:58,875: Submitting job using options {'options': {'default_shots': 8000}, 'version': 2, 'support_qiskit': True, 'resilience_level': 2}\n",
            "base_primitive._run:INFO:2024-04-19 19:54:02,993: Submitting job using options {'options': {'default_shots': 8000}, 'version': 2, 'support_qiskit': True, 'resilience_level': 2}\n",
            "base_primitive._run:INFO:2024-04-19 19:54:06,845: Submitting job using options {'options': {'default_shots': 8000}, 'version': 2, 'support_qiskit': True, 'resilience_level': 2}\n"
          ]
        },
        {
          "name": "stdout",
          "output_type": "stream",
          "text": [
            "Completed for runs= 18\n"
          ]
        },
        {
          "name": "stderr",
          "output_type": "stream",
          "text": [
            "base_primitive._run:INFO:2024-04-19 19:54:11,022: Submitting job using options {'options': {'default_shots': 8000}, 'version': 2, 'support_qiskit': True, 'resilience_level': 2}\n",
            "base_primitive._run:INFO:2024-04-19 19:54:15,632: Submitting job using options {'options': {'default_shots': 8000}, 'version': 2, 'support_qiskit': True, 'resilience_level': 2}\n",
            "base_primitive._run:INFO:2024-04-19 19:54:20,795: Submitting job using options {'options': {'default_shots': 8000}, 'version': 2, 'support_qiskit': True, 'resilience_level': 2}\n",
            "base_primitive._run:INFO:2024-04-19 19:54:24,767: Submitting job using options {'options': {'default_shots': 8000}, 'version': 2, 'support_qiskit': True, 'resilience_level': 2}\n",
            "base_primitive._run:INFO:2024-04-19 19:54:29,245: Submitting job using options {'options': {'default_shots': 8000}, 'version': 2, 'support_qiskit': True, 'resilience_level': 2}\n",
            "base_primitive._run:INFO:2024-04-19 19:54:36,609: Submitting job using options {'options': {'default_shots': 8000}, 'version': 2, 'support_qiskit': True, 'resilience_level': 2}\n",
            "base_primitive._run:INFO:2024-04-19 19:54:40,603: Submitting job using options {'options': {'default_shots': 8000}, 'version': 2, 'support_qiskit': True, 'resilience_level': 2}\n",
            "base_primitive._run:INFO:2024-04-19 19:54:44,813: Submitting job using options {'options': {'default_shots': 8000}, 'version': 2, 'support_qiskit': True, 'resilience_level': 2}\n",
            "base_primitive._run:INFO:2024-04-19 19:54:48,554: Submitting job using options {'options': {'default_shots': 8000}, 'version': 2, 'support_qiskit': True, 'resilience_level': 2}\n",
            "base_primitive._run:INFO:2024-04-19 19:54:52,645: Submitting job using options {'options': {'default_shots': 8000}, 'version': 2, 'support_qiskit': True, 'resilience_level': 2}\n",
            "base_primitive._run:INFO:2024-04-19 19:54:56,307: Submitting job using options {'options': {'default_shots': 8000}, 'version': 2, 'support_qiskit': True, 'resilience_level': 2}\n",
            "base_primitive._run:INFO:2024-04-19 19:55:00,728: Submitting job using options {'options': {'default_shots': 8000}, 'version': 2, 'support_qiskit': True, 'resilience_level': 2}\n",
            "base_primitive._run:INFO:2024-04-19 19:55:05,068: Submitting job using options {'options': {'default_shots': 8000}, 'version': 2, 'support_qiskit': True, 'resilience_level': 2}\n",
            "base_primitive._run:INFO:2024-04-19 19:55:12,990: Submitting job using options {'options': {'default_shots': 8000}, 'version': 2, 'support_qiskit': True, 'resilience_level': 2}\n",
            "base_primitive._run:INFO:2024-04-19 19:55:16,768: Submitting job using options {'options': {'default_shots': 8000}, 'version': 2, 'support_qiskit': True, 'resilience_level': 2}\n",
            "base_primitive._run:INFO:2024-04-19 19:55:20,576: Submitting job using options {'options': {'default_shots': 8000}, 'version': 2, 'support_qiskit': True, 'resilience_level': 2}\n",
            "base_primitive._run:INFO:2024-04-19 19:55:24,583: Submitting job using options {'options': {'default_shots': 8000}, 'version': 2, 'support_qiskit': True, 'resilience_level': 2}\n",
            "base_primitive._run:INFO:2024-04-19 19:55:28,633: Submitting job using options {'options': {'default_shots': 8000}, 'version': 2, 'support_qiskit': True, 'resilience_level': 2}\n",
            "base_primitive._run:INFO:2024-04-19 19:55:32,165: Submitting job using options {'options': {'default_shots': 8000}, 'version': 2, 'support_qiskit': True, 'resilience_level': 2}\n",
            "base_primitive._run:INFO:2024-04-19 19:55:36,263: Submitting job using options {'options': {'default_shots': 8000}, 'version': 2, 'support_qiskit': True, 'resilience_level': 2}\n"
          ]
        },
        {
          "name": "stdout",
          "output_type": "stream",
          "text": [
            "Completed for runs= 19\n"
          ]
        },
        {
          "name": "stderr",
          "output_type": "stream",
          "text": [
            "base_primitive._run:INFO:2024-04-19 19:55:40,093: Submitting job using options {'options': {'default_shots': 8000}, 'version': 2, 'support_qiskit': True, 'resilience_level': 2}\n",
            "base_primitive._run:INFO:2024-04-19 19:55:44,750: Submitting job using options {'options': {'default_shots': 8000}, 'version': 2, 'support_qiskit': True, 'resilience_level': 2}\n",
            "base_primitive._run:INFO:2024-04-19 19:55:49,744: Submitting job using options {'options': {'default_shots': 8000}, 'version': 2, 'support_qiskit': True, 'resilience_level': 2}\n",
            "base_primitive._run:INFO:2024-04-19 19:55:53,552: Submitting job using options {'options': {'default_shots': 8000}, 'version': 2, 'support_qiskit': True, 'resilience_level': 2}\n",
            "base_primitive._run:INFO:2024-04-19 19:55:57,509: Submitting job using options {'options': {'default_shots': 8000}, 'version': 2, 'support_qiskit': True, 'resilience_level': 2}\n",
            "base_primitive._run:INFO:2024-04-19 19:56:01,406: Submitting job using options {'options': {'default_shots': 8000}, 'version': 2, 'support_qiskit': True, 'resilience_level': 2}\n",
            "base_primitive._run:INFO:2024-04-19 19:56:08,596: Submitting job using options {'options': {'default_shots': 8000}, 'version': 2, 'support_qiskit': True, 'resilience_level': 2}\n",
            "base_primitive._run:INFO:2024-04-19 19:56:15,791: Submitting job using options {'options': {'default_shots': 8000}, 'version': 2, 'support_qiskit': True, 'resilience_level': 2}\n",
            "base_primitive._run:INFO:2024-04-19 19:56:19,950: Submitting job using options {'options': {'default_shots': 8000}, 'version': 2, 'support_qiskit': True, 'resilience_level': 2}\n",
            "base_primitive._run:INFO:2024-04-19 19:56:27,762: Submitting job using options {'options': {'default_shots': 8000}, 'version': 2, 'support_qiskit': True, 'resilience_level': 2}\n",
            "base_primitive._run:INFO:2024-04-19 19:56:34,632: Submitting job using options {'options': {'default_shots': 8000}, 'version': 2, 'support_qiskit': True, 'resilience_level': 2}\n",
            "base_primitive._run:INFO:2024-04-19 19:56:41,072: Submitting job using options {'options': {'default_shots': 8000}, 'version': 2, 'support_qiskit': True, 'resilience_level': 2}\n",
            "base_primitive._run:INFO:2024-04-19 19:56:45,092: Submitting job using options {'options': {'default_shots': 8000}, 'version': 2, 'support_qiskit': True, 'resilience_level': 2}\n",
            "base_primitive._run:INFO:2024-04-19 19:56:49,325: Submitting job using options {'options': {'default_shots': 8000}, 'version': 2, 'support_qiskit': True, 'resilience_level': 2}\n",
            "base_primitive._run:INFO:2024-04-19 19:56:53,409: Submitting job using options {'options': {'default_shots': 8000}, 'version': 2, 'support_qiskit': True, 'resilience_level': 2}\n",
            "base_primitive._run:INFO:2024-04-19 19:56:57,214: Submitting job using options {'options': {'default_shots': 8000}, 'version': 2, 'support_qiskit': True, 'resilience_level': 2}\n",
            "base_primitive._run:INFO:2024-04-19 19:57:02,129: Submitting job using options {'options': {'default_shots': 8000}, 'version': 2, 'support_qiskit': True, 'resilience_level': 2}\n",
            "base_primitive._run:INFO:2024-04-19 19:57:10,343: Submitting job using options {'options': {'default_shots': 8000}, 'version': 2, 'support_qiskit': True, 'resilience_level': 2}\n",
            "base_primitive._run:INFO:2024-04-19 19:57:14,560: Submitting job using options {'options': {'default_shots': 8000}, 'version': 2, 'support_qiskit': True, 'resilience_level': 2}\n",
            "base_primitive._run:INFO:2024-04-19 19:57:18,734: Submitting job using options {'options': {'default_shots': 8000}, 'version': 2, 'support_qiskit': True, 'resilience_level': 2}\n"
          ]
        },
        {
          "name": "stdout",
          "output_type": "stream",
          "text": [
            "Completed for runs= 20\n",
            "Emin_runs= [-1.745083821150402, -1.7088743389181915, -1.531452630977424, -1.749611870523594, -1.7859172935227208, -1.5349495132308824, -1.8190413120258655, -1.7216236202170268, -1.652377018039691, -1.69251706321289, -1.7446293499778252, -1.6941136066436076, -1.7158315538308342, -1.5798247721133412, -1.7364364094437215, -1.7262385846173403, -1.7882367068020004, -1.680525280129788, -1.691862916238128, -1.7654137485303938]\n"
          ]
        }
      ],
      "source": [
        "Energy_noisemit = []\n",
        "for i in runs:\n",
        "    Energy_noisemit.append(minimization_noisemitigation(8000))\n",
        "    print('Completed for runs=',i)\n",
        "print('Emin_runs=',Energy_noisemit)"
      ]
    },
    {
      "cell_type": "code",
      "execution_count": null,
      "id": "9f9d1673-b986-4ee5-9944-cad50c4c9217",
      "metadata": {
        "tags": [],
        "id": "9f9d1673-b986-4ee5-9944-cad50c4c9217",
        "outputId": "44b12627-cdd4-446e-f1c4-ba43c9397775"
      },
      "outputs": [
        {
          "data": {
            "text/plain": [
              "<matplotlib.legend.Legend at 0x7f6ba573bd60>"
            ]
          },
          "execution_count": 18,
          "metadata": {},
          "output_type": "execute_result"
        },
        {
          "data": {
            "image/png": "[encoded data removed]",
            "text/plain": [
              "<Figure size 640x480 with 1 Axes>"
            ]
          },
          "metadata": {},
          "output_type": "display_data"
        }
      ],
      "source": [
        "plt.hist(np.array(Energy_noisemit),label = 'QASM with noise mitigation')\n",
        "plt.xlabel('E(MeV)')\n",
        "plt.ylabel('Counts')\n",
        "plt.axvline(x = minimization_withoutnoise(estimator1),ymin = 0,ymax = 1,linestyle = '--',c = 'k',label = 'True value')\n",
        "# plt.xlim(-2,-1)\n",
        "plt.legend()"
      ]
    },
    {
      "cell_type": "code",
      "execution_count": null,
      "id": "21b51c5d-ac4f-4337-9ddc-c199a7794247",
      "metadata": {
        "tags": [],
        "colab": {
          "base_uri": "https://localhost:8080/",
          "height": 228
        },
        "id": "21b51c5d-ac4f-4337-9ddc-c199a7794247",
        "outputId": "25007668-0a8d-4fb4-cc59-7b65357ed988",
        "collapsed": true
      },
      "outputs": [
        {
          "output_type": "error",
          "ename": "NameError",
          "evalue": "name 'plt' is not defined",
          "traceback": [
            "\u001b[0;31m---------------------------------------------------------------------------\u001b[0m",
            "\u001b[0;31mNameError\u001b[0m                                 Traceback (most recent call last)",
            "\u001b[0;32m<ipython-input-1-185b547f9d52>\u001b[0m in \u001b[0;36m<cell line: 0>\u001b[0;34m()\u001b[0m\n\u001b[1;32m      1\u001b[0m \u001b[0;31m# Energy_noisemit = [-1.747026025859479, -1.5836117003775518, -1.6399319750504695, -1.9443348190496148, -1.8601579398472374, -1.5931078414660447, -1.8495867397888652, -1.7387997481858575, -1.5167474153492049, -1.857705358806287, -1.8580669274615462, -1.596398309922586, -1.3858867561858332, -1.7546750338355626, -1.6519006497522648, -1.7873947396900465, -1.484789428917324, -1.6066322637533634, -1.2805190425579673, -1.8800928320411856]\u001b[0m\u001b[0;34m\u001b[0m\u001b[0;34m\u001b[0m\u001b[0m\n\u001b[0;32m----> 2\u001b[0;31m \u001b[0mfig\u001b[0m \u001b[0;34m=\u001b[0m \u001b[0mplt\u001b[0m\u001b[0;34m.\u001b[0m\u001b[0mfigure\u001b[0m\u001b[0;34m(\u001b[0m\u001b[0;34m)\u001b[0m\u001b[0;34m\u001b[0m\u001b[0;34m\u001b[0m\u001b[0m\n\u001b[0m\u001b[1;32m      3\u001b[0m \u001b[0mgs\u001b[0m \u001b[0;34m=\u001b[0m \u001b[0mfig\u001b[0m\u001b[0;34m.\u001b[0m\u001b[0madd_gridspec\u001b[0m\u001b[0;34m(\u001b[0m\u001b[0;36m3\u001b[0m\u001b[0;34m,\u001b[0m\u001b[0;36m1\u001b[0m\u001b[0;34m,\u001b[0m \u001b[0mhspace\u001b[0m\u001b[0;34m=\u001b[0m\u001b[0;36m0\u001b[0m\u001b[0;34m)\u001b[0m\u001b[0;34m\u001b[0m\u001b[0;34m\u001b[0m\u001b[0m\n\u001b[1;32m      4\u001b[0m \u001b[0;34m(\u001b[0m\u001b[0max1\u001b[0m\u001b[0;34m,\u001b[0m \u001b[0max2\u001b[0m\u001b[0;34m,\u001b[0m \u001b[0max3\u001b[0m\u001b[0;34m)\u001b[0m \u001b[0;34m=\u001b[0m \u001b[0mgs\u001b[0m\u001b[0;34m.\u001b[0m\u001b[0msubplots\u001b[0m\u001b[0;34m(\u001b[0m\u001b[0msharex\u001b[0m\u001b[0;34m=\u001b[0m\u001b[0;32mTrue\u001b[0m\u001b[0;34m)\u001b[0m\u001b[0;34m\u001b[0m\u001b[0;34m\u001b[0m\u001b[0m\n\u001b[1;32m      5\u001b[0m \u001b[0;31m# fig, (ax1, ax2, ax3) = plt.subplots(1, 3, sharey=True)\u001b[0m\u001b[0;34m\u001b[0m\u001b[0;34m\u001b[0m\u001b[0m\n",
            "\u001b[0;31mNameError\u001b[0m: name 'plt' is not defined"
          ]
        }
      ],
      "source": [
        "# Energy_noisemit = [-1.747026025859479, -1.5836117003775518, -1.6399319750504695, -1.9443348190496148, -1.8601579398472374, -1.5931078414660447, -1.8495867397888652, -1.7387997481858575, -1.5167474153492049, -1.857705358806287, -1.8580669274615462, -1.596398309922586, -1.3858867561858332, -1.7546750338355626, -1.6519006497522648, -1.7873947396900465, -1.484789428917324, -1.6066322637533634, -1.2805190425579673, -1.8800928320411856]\n",
        "fig = plt.figure()\n",
        "gs = fig.add_gridspec(3,1, hspace=0)\n",
        "(ax1, ax2, ax3) = gs.subplots(sharex=True)\n",
        "# fig, (ax1, ax2, ax3) = plt.subplots(1, 3, sharey=True)\n",
        "ax1.hist(np.array(Energy_withoutnoise),label = 'QASM without noise',color = 'green')\n",
        "ax2.hist(np.array(Energy_withnoise),label = 'QASM with noise',color = 'blue')\n",
        "ax2.set_ylim(0,7)\n",
        "ax3.hist(np.array(Energy_noisemit),label = 'QASM with noise mitigation',color = 'red')\n",
        "ax1.axvline(x = minimization_withoutnoise(estimator1),ymin = 0,ymax = 1,linestyle = '--',c = 'k',label = 'True value')\n",
        "ax2.axvline(x = minimization_withoutnoise(estimator1),ymin = 0,ymax = 1,linestyle = '--',c = 'k',label = 'True value')\n",
        "ax3.axvline(x = minimization_withoutnoise(estimator1),ymin = 0,ymax = 1,linestyle = '--',c = 'k',label = 'True value')\n",
        "ax3.legend()\n",
        "ax2.legend()\n",
        "ax1.legend()\n",
        "plt.xlim(-2.02,-1.02)\n",
        "ax3.set_ylim(0,7)\n",
        "plt.xlabel('E(MeV)')\n",
        "ax2.set_ylabel('Counts')"
      ]
    }
  ],
  "metadata": {
    "kernelspec": {
      "display_name": "Qiskit v1.0.2 (ipykernel)",
      "language": "python",
      "name": "python3"
    },
    "language_info": {
      "codemirror_mode": {
        "name": "ipython",
        "version": 3
      },
      "file_extension": ".py",
      "mimetype": "text/x-python",
      "name": "python",
      "nbconvert_exporter": "python",
      "pygments_lexer": "ipython3",
      "version": "3.10.8"
    },
    "colab": {
      "provenance": []
    }
  },
  "nbformat": 4,
  "nbformat_minor": 5
}