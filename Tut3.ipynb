{
  "nbformat": 4,
  "nbformat_minor": 0,
  "metadata": {
    "colab": {
      "provenance": []
    },
    "kernelspec": {
      "name": "python3",
      "display_name": "Python 3"
    },
    "language_info": {
      "name": "python"
    }
  },
  "cells": [
    {
      "cell_type": "code",
      "execution_count": null,
      "metadata": {
        "id": "b8PiXrxANSzZ"
      },
      "outputs": [],
      "source": [
        "Q1 a"
      ]
    },
    {
      "cell_type": "code",
      "execution_count": null,
      "metadata": {
        "collapsed": true,
        "id": "rf76F1Hh6hJ6",
        "colab": {
          "base_uri": "https://localhost:8080/"
        },
        "outputId": "235396b6-6c8a-4ff9-e3fb-3a89bcaaffad"
      },
      "outputs": [
        {
          "output_type": "stream",
          "name": "stdout",
          "text": [
            "Collecting qiskit\n",
            "  Downloading qiskit-1.3.2-cp39-abi3-manylinux_2_17_x86_64.manylinux2014_x86_64.whl.metadata (12 kB)\n",
            "Collecting rustworkx>=0.15.0 (from qiskit)\n",
            "  Downloading rustworkx-0.16.0-cp39-abi3-manylinux_2_17_x86_64.manylinux2014_x86_64.whl.metadata (10 kB)\n",
            "Requirement already satisfied: numpy<3,>=1.17 in /usr/local/lib/python3.11/dist-packages (from qiskit) (1.26.4)\n",
            "Requirement already satisfied: scipy>=1.5 in /usr/local/lib/python3.11/dist-packages (from qiskit) (1.13.1)\n",
            "Requirement already satisfied: sympy>=1.3 in /usr/local/lib/python3.11/dist-packages (from qiskit) (1.13.1)\n",
            "Collecting dill>=0.3 (from qiskit)\n",
            "  Downloading dill-0.3.9-py3-none-any.whl.metadata (10 kB)\n",
            "Requirement already satisfied: python-dateutil>=2.8.0 in /usr/local/lib/python3.11/dist-packages (from qiskit) (2.8.2)\n",
            "Collecting stevedore>=3.0.0 (from qiskit)\n",
            "  Downloading stevedore-5.4.0-py3-none-any.whl.metadata (2.3 kB)\n",
            "Requirement already satisfied: typing-extensions in /usr/local/lib/python3.11/dist-packages (from qiskit) (4.12.2)\n",
            "Collecting symengine<0.14,>=0.11 (from qiskit)\n",
            "  Downloading symengine-0.13.0-cp311-cp311-manylinux_2_17_x86_64.manylinux2014_x86_64.whl.metadata (1.2 kB)\n",
            "Requirement already satisfied: six>=1.5 in /usr/local/lib/python3.11/dist-packages (from python-dateutil>=2.8.0->qiskit) (1.17.0)\n",
            "Collecting pbr>=2.0.0 (from stevedore>=3.0.0->qiskit)\n",
            "  Downloading pbr-6.1.1-py2.py3-none-any.whl.metadata (3.4 kB)\n",
            "Requirement already satisfied: mpmath<1.4,>=1.1.0 in /usr/local/lib/python3.11/dist-packages (from sympy>=1.3->qiskit) (1.3.0)\n",
            "Requirement already satisfied: setuptools in /usr/local/lib/python3.11/dist-packages (from pbr>=2.0.0->stevedore>=3.0.0->qiskit) (75.1.0)\n",
            "Downloading qiskit-1.3.2-cp39-abi3-manylinux_2_17_x86_64.manylinux2014_x86_64.whl (6.8 MB)\n",
            "\u001b[2K   \u001b[90m━━━━━━━━━━━━━━━━━━━━━━━━━━━━━━━━━━━━━━━━\u001b[0m \u001b[32m6.8/6.8 MB\u001b[0m \u001b[31m25.7 MB/s\u001b[0m eta \u001b[36m0:00:00\u001b[0m\n",
            "\u001b[?25hDownloading dill-0.3.9-py3-none-any.whl (119 kB)\n",
            "\u001b[2K   \u001b[90m━━━━━━━━━━━━━━━━━━━━━━━━━━━━━━━━━━━━━━━━\u001b[0m \u001b[32m119.4/119.4 kB\u001b[0m \u001b[31m6.0 MB/s\u001b[0m eta \u001b[36m0:00:00\u001b[0m\n",
            "\u001b[?25hDownloading rustworkx-0.16.0-cp39-abi3-manylinux_2_17_x86_64.manylinux2014_x86_64.whl (2.1 MB)\n",
            "\u001b[2K   \u001b[90m━━━━━━━━━━━━━━━━━━━━━━━━━━━━━━━━━━━━━━━━\u001b[0m \u001b[32m2.1/2.1 MB\u001b[0m \u001b[31m9.1 MB/s\u001b[0m eta \u001b[36m0:00:00\u001b[0m\n",
            "\u001b[?25hDownloading stevedore-5.4.0-py3-none-any.whl (49 kB)\n",
            "\u001b[2K   \u001b[90m━━━━━━━━━━━━━━━━━━━━━━━━━━━━━━━━━━━━━━━━\u001b[0m \u001b[32m49.5/49.5 kB\u001b[0m \u001b[31m3.1 MB/s\u001b[0m eta \u001b[36m0:00:00\u001b[0m\n",
            "\u001b[?25hDownloading symengine-0.13.0-cp311-cp311-manylinux_2_17_x86_64.manylinux2014_x86_64.whl (49.7 MB)\n",
            "\u001b[2K   \u001b[90m━━━━━━━━━━━━━━━━━━━━━━━━━━━━━━━━━━━━━━━━\u001b[0m \u001b[32m49.7/49.7 MB\u001b[0m \u001b[31m10.4 MB/s\u001b[0m eta \u001b[36m0:00:00\u001b[0m\n",
            "\u001b[?25hDownloading pbr-6.1.1-py2.py3-none-any.whl (108 kB)\n",
            "\u001b[2K   \u001b[90m━━━━━━━━━━━━━━━━━━━━━━━━━━━━━━━━━━━━━━━━\u001b[0m \u001b[32m109.0/109.0 kB\u001b[0m \u001b[31m5.0 MB/s\u001b[0m eta \u001b[36m0:00:00\u001b[0m\n",
            "\u001b[?25hInstalling collected packages: symengine, rustworkx, pbr, dill, stevedore, qiskit\n",
            "Successfully installed dill-0.3.9 pbr-6.1.1 qiskit-1.3.2 rustworkx-0.16.0 stevedore-5.4.0 symengine-0.13.0\n",
            "Collecting qiskit-ibm-runtime\n",
            "  Downloading qiskit_ibm_runtime-0.36.1-py3-none-any.whl.metadata (20 kB)\n",
            "Requirement already satisfied: requests>=2.19 in /usr/local/lib/python3.11/dist-packages (from qiskit-ibm-runtime) (2.32.3)\n",
            "Collecting requests-ntlm>=1.1.0 (from qiskit-ibm-runtime)\n",
            "  Downloading requests_ntlm-1.3.0-py3-none-any.whl.metadata (2.4 kB)\n",
            "Requirement already satisfied: numpy>=1.13 in /usr/local/lib/python3.11/dist-packages (from qiskit-ibm-runtime) (1.26.4)\n",
            "Requirement already satisfied: urllib3>=1.21.1 in /usr/local/lib/python3.11/dist-packages (from qiskit-ibm-runtime) (2.3.0)\n",
            "Requirement already satisfied: python-dateutil>=2.8.0 in /usr/local/lib/python3.11/dist-packages (from qiskit-ibm-runtime) (2.8.2)\n",
            "Requirement already satisfied: websocket-client>=1.5.1 in /usr/local/lib/python3.11/dist-packages (from qiskit-ibm-runtime) (1.8.0)\n",
            "Collecting ibm-platform-services>=0.22.6 (from qiskit-ibm-runtime)\n",
            "  Downloading ibm_platform_services-0.59.1-py3-none-any.whl.metadata (9.0 kB)\n",
            "Collecting pydantic<2.10,>=2.5.0 (from qiskit-ibm-runtime)\n",
            "  Downloading pydantic-2.9.2-py3-none-any.whl.metadata (149 kB)\n",
            "\u001b[2K     \u001b[90m━━━━━━━━━━━━━━━━━━━━━━━━━━━━━━━━━━━━━━━━\u001b[0m \u001b[32m149.4/149.4 kB\u001b[0m \u001b[31m4.7 MB/s\u001b[0m eta \u001b[36m0:00:00\u001b[0m\n",
            "\u001b[?25hRequirement already satisfied: qiskit>=1.3.2 in /usr/local/lib/python3.11/dist-packages (from qiskit-ibm-runtime) (1.3.2)\n",
            "Collecting ibm_cloud_sdk_core<4.0.0,>=3.22.0 (from ibm-platform-services>=0.22.6->qiskit-ibm-runtime)\n",
            "  Downloading ibm_cloud_sdk_core-3.22.1-py3-none-any.whl.metadata (8.6 kB)\n",
            "Requirement already satisfied: annotated-types>=0.6.0 in /usr/local/lib/python3.11/dist-packages (from pydantic<2.10,>=2.5.0->qiskit-ibm-runtime) (0.7.0)\n",
            "Collecting pydantic-core==2.23.4 (from pydantic<2.10,>=2.5.0->qiskit-ibm-runtime)\n",
            "  Downloading pydantic_core-2.23.4-cp311-cp311-manylinux_2_17_x86_64.manylinux2014_x86_64.whl.metadata (6.6 kB)\n",
            "Requirement already satisfied: typing-extensions>=4.6.1 in /usr/local/lib/python3.11/dist-packages (from pydantic<2.10,>=2.5.0->qiskit-ibm-runtime) (4.12.2)\n",
            "Requirement already satisfied: six>=1.5 in /usr/local/lib/python3.11/dist-packages (from python-dateutil>=2.8.0->qiskit-ibm-runtime) (1.17.0)\n",
            "Requirement already satisfied: rustworkx>=0.15.0 in /usr/local/lib/python3.11/dist-packages (from qiskit>=1.3.2->qiskit-ibm-runtime) (0.16.0)\n",
            "Requirement already satisfied: scipy>=1.5 in /usr/local/lib/python3.11/dist-packages (from qiskit>=1.3.2->qiskit-ibm-runtime) (1.13.1)\n",
            "Requirement already satisfied: sympy>=1.3 in /usr/local/lib/python3.11/dist-packages (from qiskit>=1.3.2->qiskit-ibm-runtime) (1.13.1)\n",
            "Requirement already satisfied: dill>=0.3 in /usr/local/lib/python3.11/dist-packages (from qiskit>=1.3.2->qiskit-ibm-runtime) (0.3.9)\n",
            "Requirement already satisfied: stevedore>=3.0.0 in /usr/local/lib/python3.11/dist-packages (from qiskit>=1.3.2->qiskit-ibm-runtime) (5.4.0)\n",
            "Requirement already satisfied: symengine<0.14,>=0.11 in /usr/local/lib/python3.11/dist-packages (from qiskit>=1.3.2->qiskit-ibm-runtime) (0.13.0)\n",
            "Requirement already satisfied: charset-normalizer<4,>=2 in /usr/local/lib/python3.11/dist-packages (from requests>=2.19->qiskit-ibm-runtime) (3.4.1)\n",
            "Requirement already satisfied: idna<4,>=2.5 in /usr/local/lib/python3.11/dist-packages (from requests>=2.19->qiskit-ibm-runtime) (3.10)\n",
            "Requirement already satisfied: certifi>=2017.4.17 in /usr/local/lib/python3.11/dist-packages (from requests>=2.19->qiskit-ibm-runtime) (2025.1.31)\n",
            "Requirement already satisfied: cryptography>=1.3 in /usr/local/lib/python3.11/dist-packages (from requests-ntlm>=1.1.0->qiskit-ibm-runtime) (43.0.3)\n",
            "Collecting pyspnego>=0.4.0 (from requests-ntlm>=1.1.0->qiskit-ibm-runtime)\n",
            "  Downloading pyspnego-0.11.2-py3-none-any.whl.metadata (5.4 kB)\n",
            "Requirement already satisfied: cffi>=1.12 in /usr/local/lib/python3.11/dist-packages (from cryptography>=1.3->requests-ntlm>=1.1.0->qiskit-ibm-runtime) (1.17.1)\n",
            "Requirement already satisfied: PyJWT<3.0.0,>=2.8.0 in /usr/local/lib/python3.11/dist-packages (from ibm_cloud_sdk_core<4.0.0,>=3.22.0->ibm-platform-services>=0.22.6->qiskit-ibm-runtime) (2.10.1)\n",
            "Requirement already satisfied: pbr>=2.0.0 in /usr/local/lib/python3.11/dist-packages (from stevedore>=3.0.0->qiskit>=1.3.2->qiskit-ibm-runtime) (6.1.1)\n",
            "Requirement already satisfied: mpmath<1.4,>=1.1.0 in /usr/local/lib/python3.11/dist-packages (from sympy>=1.3->qiskit>=1.3.2->qiskit-ibm-runtime) (1.3.0)\n",
            "Requirement already satisfied: pycparser in /usr/local/lib/python3.11/dist-packages (from cffi>=1.12->cryptography>=1.3->requests-ntlm>=1.1.0->qiskit-ibm-runtime) (2.22)\n",
            "Requirement already satisfied: setuptools in /usr/local/lib/python3.11/dist-packages (from pbr>=2.0.0->stevedore>=3.0.0->qiskit>=1.3.2->qiskit-ibm-runtime) (75.1.0)\n",
            "Downloading qiskit_ibm_runtime-0.36.1-py3-none-any.whl (3.1 MB)\n",
            "\u001b[2K   \u001b[90m━━━━━━━━━━━━━━━━━━━━━━━━━━━━━━━━━━━━━━━━\u001b[0m \u001b[32m3.1/3.1 MB\u001b[0m \u001b[31m36.4 MB/s\u001b[0m eta \u001b[36m0:00:00\u001b[0m\n",
            "\u001b[?25hDownloading ibm_platform_services-0.59.1-py3-none-any.whl (340 kB)\n",
            "\u001b[2K   \u001b[90m━━━━━━━━━━━━━━━━━━━━━━━━━━━━━━━━━━━━━━━━\u001b[0m \u001b[32m340.8/340.8 kB\u001b[0m \u001b[31m17.1 MB/s\u001b[0m eta \u001b[36m0:00:00\u001b[0m\n",
            "\u001b[?25hDownloading pydantic-2.9.2-py3-none-any.whl (434 kB)\n",
            "\u001b[2K   \u001b[90m━━━━━━━━━━━━━━━━━━━━━━━━━━━━━━━━━━━━━━━━\u001b[0m \u001b[32m434.9/434.9 kB\u001b[0m \u001b[31m20.9 MB/s\u001b[0m eta \u001b[36m0:00:00\u001b[0m\n",
            "\u001b[?25hDownloading pydantic_core-2.23.4-cp311-cp311-manylinux_2_17_x86_64.manylinux2014_x86_64.whl (2.1 MB)\n",
            "\u001b[2K   \u001b[90m━━━━━━━━━━━━━━━━━━━━━━━━━━━━━━━━━━━━━━━━\u001b[0m \u001b[32m2.1/2.1 MB\u001b[0m \u001b[31m35.2 MB/s\u001b[0m eta \u001b[36m0:00:00\u001b[0m\n",
            "\u001b[?25hDownloading requests_ntlm-1.3.0-py3-none-any.whl (6.6 kB)\n",
            "Downloading ibm_cloud_sdk_core-3.22.1-py3-none-any.whl (69 kB)\n",
            "\u001b[2K   \u001b[90m━━━━━━━━━━━━━━━━━━━━━━━━━━━━━━━━━━━━━━━━\u001b[0m \u001b[32m69.4/69.4 kB\u001b[0m \u001b[31m4.6 MB/s\u001b[0m eta \u001b[36m0:00:00\u001b[0m\n",
            "\u001b[?25hDownloading pyspnego-0.11.2-py3-none-any.whl (130 kB)\n",
            "\u001b[2K   \u001b[90m━━━━━━━━━━━━━━━━━━━━━━━━━━━━━━━━━━━━━━━━\u001b[0m \u001b[32m130.5/130.5 kB\u001b[0m \u001b[31m8.2 MB/s\u001b[0m eta \u001b[36m0:00:00\u001b[0m\n",
            "\u001b[?25hInstalling collected packages: pydantic-core, pydantic, ibm_cloud_sdk_core, pyspnego, ibm-platform-services, requests-ntlm, qiskit-ibm-runtime\n",
            "  Attempting uninstall: pydantic-core\n",
            "    Found existing installation: pydantic_core 2.27.2\n",
            "    Uninstalling pydantic_core-2.27.2:\n",
            "      Successfully uninstalled pydantic_core-2.27.2\n",
            "  Attempting uninstall: pydantic\n",
            "    Found existing installation: pydantic 2.10.6\n",
            "    Uninstalling pydantic-2.10.6:\n",
            "      Successfully uninstalled pydantic-2.10.6\n",
            "Successfully installed ibm-platform-services-0.59.1 ibm_cloud_sdk_core-3.22.1 pydantic-2.9.2 pydantic-core-2.23.4 pyspnego-0.11.2 qiskit-ibm-runtime-0.36.1 requests-ntlm-1.3.0\n",
            "Collecting qiskit-aer\n",
            "  Downloading qiskit_aer-0.16.1-cp311-cp311-manylinux_2_17_x86_64.manylinux2014_x86_64.whl.metadata (8.2 kB)\n",
            "Requirement already satisfied: qiskit>=1.1.0 in /usr/local/lib/python3.11/dist-packages (from qiskit-aer) (1.3.2)\n",
            "Requirement already satisfied: numpy>=1.16.3 in /usr/local/lib/python3.11/dist-packages (from qiskit-aer) (1.26.4)\n",
            "Requirement already satisfied: scipy>=1.0 in /usr/local/lib/python3.11/dist-packages (from qiskit-aer) (1.13.1)\n",
            "Requirement already satisfied: psutil>=5 in /usr/local/lib/python3.11/dist-packages (from qiskit-aer) (5.9.5)\n",
            "Requirement already satisfied: rustworkx>=0.15.0 in /usr/local/lib/python3.11/dist-packages (from qiskit>=1.1.0->qiskit-aer) (0.16.0)\n",
            "Requirement already satisfied: sympy>=1.3 in /usr/local/lib/python3.11/dist-packages (from qiskit>=1.1.0->qiskit-aer) (1.13.1)\n",
            "Requirement already satisfied: dill>=0.3 in /usr/local/lib/python3.11/dist-packages (from qiskit>=1.1.0->qiskit-aer) (0.3.9)\n",
            "Requirement already satisfied: python-dateutil>=2.8.0 in /usr/local/lib/python3.11/dist-packages (from qiskit>=1.1.0->qiskit-aer) (2.8.2)\n",
            "Requirement already satisfied: stevedore>=3.0.0 in /usr/local/lib/python3.11/dist-packages (from qiskit>=1.1.0->qiskit-aer) (5.4.0)\n",
            "Requirement already satisfied: typing-extensions in /usr/local/lib/python3.11/dist-packages (from qiskit>=1.1.0->qiskit-aer) (4.12.2)\n",
            "Requirement already satisfied: symengine<0.14,>=0.11 in /usr/local/lib/python3.11/dist-packages (from qiskit>=1.1.0->qiskit-aer) (0.13.0)\n",
            "Requirement already satisfied: six>=1.5 in /usr/local/lib/python3.11/dist-packages (from python-dateutil>=2.8.0->qiskit>=1.1.0->qiskit-aer) (1.17.0)\n",
            "Requirement already satisfied: pbr>=2.0.0 in /usr/local/lib/python3.11/dist-packages (from stevedore>=3.0.0->qiskit>=1.1.0->qiskit-aer) (6.1.1)\n",
            "Requirement already satisfied: mpmath<1.4,>=1.1.0 in /usr/local/lib/python3.11/dist-packages (from sympy>=1.3->qiskit>=1.1.0->qiskit-aer) (1.3.0)\n",
            "Requirement already satisfied: setuptools in /usr/local/lib/python3.11/dist-packages (from pbr>=2.0.0->stevedore>=3.0.0->qiskit>=1.1.0->qiskit-aer) (75.1.0)\n",
            "Downloading qiskit_aer-0.16.1-cp311-cp311-manylinux_2_17_x86_64.manylinux2014_x86_64.whl (12.4 MB)\n",
            "\u001b[2K   \u001b[90m━━━━━━━━━━━━━━━━━━━━━━━━━━━━━━━━━━━━━━━━\u001b[0m \u001b[32m12.4/12.4 MB\u001b[0m \u001b[31m76.7 MB/s\u001b[0m eta \u001b[36m0:00:00\u001b[0m\n",
            "\u001b[?25hInstalling collected packages: qiskit-aer\n",
            "Successfully installed qiskit-aer-0.16.1\n",
            "Requirement already satisfied: qiskit[visualization] in /usr/local/lib/python3.11/dist-packages (1.3.2)\n",
            "Requirement already satisfied: rustworkx>=0.15.0 in /usr/local/lib/python3.11/dist-packages (from qiskit[visualization]) (0.16.0)\n",
            "Requirement already satisfied: numpy<3,>=1.17 in /usr/local/lib/python3.11/dist-packages (from qiskit[visualization]) (1.26.4)\n",
            "Requirement already satisfied: scipy>=1.5 in /usr/local/lib/python3.11/dist-packages (from qiskit[visualization]) (1.13.1)\n",
            "Requirement already satisfied: sympy>=1.3 in /usr/local/lib/python3.11/dist-packages (from qiskit[visualization]) (1.13.1)\n",
            "Requirement already satisfied: dill>=0.3 in /usr/local/lib/python3.11/dist-packages (from qiskit[visualization]) (0.3.9)\n",
            "Requirement already satisfied: python-dateutil>=2.8.0 in /usr/local/lib/python3.11/dist-packages (from qiskit[visualization]) (2.8.2)\n",
            "Requirement already satisfied: stevedore>=3.0.0 in /usr/local/lib/python3.11/dist-packages (from qiskit[visualization]) (5.4.0)\n",
            "Requirement already satisfied: typing-extensions in /usr/local/lib/python3.11/dist-packages (from qiskit[visualization]) (4.12.2)\n",
            "Requirement already satisfied: symengine<0.14,>=0.11 in /usr/local/lib/python3.11/dist-packages (from qiskit[visualization]) (0.13.0)\n",
            "Requirement already satisfied: matplotlib>=3.3 in /usr/local/lib/python3.11/dist-packages (from qiskit[visualization]) (3.10.0)\n",
            "Requirement already satisfied: pydot in /usr/local/lib/python3.11/dist-packages (from qiskit[visualization]) (3.0.4)\n",
            "Requirement already satisfied: Pillow>=4.2.1 in /usr/local/lib/python3.11/dist-packages (from qiskit[visualization]) (11.1.0)\n",
            "Collecting pylatexenc>=1.4 (from qiskit[visualization])\n",
            "  Downloading pylatexenc-2.10.tar.gz (162 kB)\n",
            "\u001b[2K     \u001b[90m━━━━━━━━━━━━━━━━━━━━━━━━━━━━━━━━━━━━━━━━\u001b[0m \u001b[32m162.6/162.6 kB\u001b[0m \u001b[31m5.9 MB/s\u001b[0m eta \u001b[36m0:00:00\u001b[0m\n",
            "\u001b[?25h  Preparing metadata (setup.py) ... \u001b[?25l\u001b[?25hdone\n",
            "Requirement already satisfied: seaborn>=0.9.0 in /usr/local/lib/python3.11/dist-packages (from qiskit[visualization]) (0.13.2)\n",
            "Requirement already satisfied: contourpy>=1.0.1 in /usr/local/lib/python3.11/dist-packages (from matplotlib>=3.3->qiskit[visualization]) (1.3.1)\n",
            "Requirement already satisfied: cycler>=0.10 in /usr/local/lib/python3.11/dist-packages (from matplotlib>=3.3->qiskit[visualization]) (0.12.1)\n",
            "Requirement already satisfied: fonttools>=4.22.0 in /usr/local/lib/python3.11/dist-packages (from matplotlib>=3.3->qiskit[visualization]) (4.56.0)\n",
            "Requirement already satisfied: kiwisolver>=1.3.1 in /usr/local/lib/python3.11/dist-packages (from matplotlib>=3.3->qiskit[visualization]) (1.4.8)\n",
            "Requirement already satisfied: packaging>=20.0 in /usr/local/lib/python3.11/dist-packages (from matplotlib>=3.3->qiskit[visualization]) (24.2)\n",
            "Requirement already satisfied: pyparsing>=2.3.1 in /usr/local/lib/python3.11/dist-packages (from matplotlib>=3.3->qiskit[visualization]) (3.2.1)\n",
            "Requirement already satisfied: six>=1.5 in /usr/local/lib/python3.11/dist-packages (from python-dateutil>=2.8.0->qiskit[visualization]) (1.17.0)\n",
            "Requirement already satisfied: pandas>=1.2 in /usr/local/lib/python3.11/dist-packages (from seaborn>=0.9.0->qiskit[visualization]) (2.2.2)\n",
            "Requirement already satisfied: pbr>=2.0.0 in /usr/local/lib/python3.11/dist-packages (from stevedore>=3.0.0->qiskit[visualization]) (6.1.1)\n",
            "Requirement already satisfied: mpmath<1.4,>=1.1.0 in /usr/local/lib/python3.11/dist-packages (from sympy>=1.3->qiskit[visualization]) (1.3.0)\n",
            "Requirement already satisfied: pytz>=2020.1 in /usr/local/lib/python3.11/dist-packages (from pandas>=1.2->seaborn>=0.9.0->qiskit[visualization]) (2025.1)\n",
            "Requirement already satisfied: tzdata>=2022.7 in /usr/local/lib/python3.11/dist-packages (from pandas>=1.2->seaborn>=0.9.0->qiskit[visualization]) (2025.1)\n",
            "Requirement already satisfied: setuptools in /usr/local/lib/python3.11/dist-packages (from pbr>=2.0.0->stevedore>=3.0.0->qiskit[visualization]) (75.1.0)\n",
            "Building wheels for collected packages: pylatexenc\n",
            "  Building wheel for pylatexenc (setup.py) ... \u001b[?25l\u001b[?25hdone\n",
            "  Created wheel for pylatexenc: filename=pylatexenc-2.10-py3-none-any.whl size=136816 sha256=15bf96dc81a36d357e9a3ffb30911c59d5d8ff8039b5cdd7e2b2e494c75edfd2\n",
            "  Stored in directory: /root/.cache/pip/wheels/b1/7a/33/9fdd892f784ed4afda62b685ae3703adf4c91aa0f524c28f03\n",
            "Successfully built pylatexenc\n",
            "Installing collected packages: pylatexenc\n",
            "Successfully installed pylatexenc-2.10\n"
          ]
        }
      ],
      "source": [
        "# Uncomment the code given below\n",
        "!pip install qiskit\n",
        "!pip install qiskit-ibm-runtime\n",
        "!pip install qiskit-aer\n",
        "!pip install 'qiskit[visualization]'"
      ]
    },
    {
      "cell_type": "code",
      "source": [
        "from qiskit import QuantumCircuit, transpile\n",
        "from qiskit.visualization import plot_histogram\n",
        "from qiskit_aer import Aer\n",
        "import time\n",
        "import numpy as np\n",
        "def deutsch_jozsa_algorithm(n, oracle_type='balanced'):\n",
        "    qc = QuantumCircuit(n + 1, n)\n",
        "    qc.x(n)\n",
        "    qc.barrier()\n",
        "    for i in range(n + 1):\n",
        "        qc.h(i)\n",
        "    qc.barrier()\n",
        "    if oracle_type == 'balanced':\n",
        "        qc.cx(0, n)\n",
        "    elif oracle_type == 'constant':\n",
        "        pass\n",
        "    qc.barrier()\n",
        "    for i in range(n):\n",
        "        qc.h(i)\n",
        "    qc.barrier()\n",
        "    qc.measure(range(n), range(n))\n",
        "    return qc"
      ],
      "metadata": {
        "id": "izsKuO4xOxgm"
      },
      "execution_count": null,
      "outputs": []
    },
    {
      "cell_type": "markdown",
      "source": [],
      "metadata": {
        "id": "x_8MO29vPrCQ"
      }
    },
    {
      "cell_type": "code",
      "source": [
        "def balanced_dj_circuit():\n",
        "    n = 5\n",
        "    qc = deutsch_jozsa_algorithm(n, oracle_type='balanced')\n",
        "    simulator = Aer.get_backend('aer_simulator')\n",
        "    compiled_circuit = transpile(qc, simulator)\n",
        "    job = simulator.run(compiled_circuit, shots=1024)\n",
        "    result = job.result()\n",
        "    counts = result.get_counts()\n",
        "    plot_histogram(counts)\n",
        "    return counts\n",
        "\n",
        "counts_balanced = balanced_dj_circuit()\n",
        "print(\"Counts for balanced function:\", counts_balanced)"
      ],
      "metadata": {
        "colab": {
          "base_uri": "https://localhost:8080/"
        },
        "id": "a_BRih45PrXy",
        "outputId": "ba83845d-b625-4ac9-832d-638a64118be7"
      },
      "execution_count": null,
      "outputs": [
        {
          "output_type": "stream",
          "name": "stdout",
          "text": [
            "Counts for balanced function: {'00001': 1024}\n"
          ]
        }
      ]
    },
    {
      "cell_type": "code",
      "source": [
        "def constant_dj_circuit():\n",
        "    n = 3\n",
        "    qc = deutsch_jozsa_algorithm(n, oracle_type='constant')\n",
        "    simulator = Aer.get_backend('aer_simulator')\n",
        "    compiled_circuit = transpile(qc, simulator)\n",
        "    job = simulator.run(compiled_circuit, shots=1024)\n",
        "    result = job.result()\n",
        "    counts = result.get_counts()\n",
        "    plot_histogram(counts)\n",
        "    return counts\n",
        "\n",
        "counts_constant = constant_dj_circuit()\n",
        "print(\"Counts for constant function:\", counts_constant)"
      ],
      "metadata": {
        "colab": {
          "base_uri": "https://localhost:8080/"
        },
        "id": "kqcrpXoLP2b-",
        "outputId": "d993ad70-f334-4a8f-82f6-f2bc366d9fe5"
      },
      "execution_count": null,
      "outputs": [
        {
          "output_type": "stream",
          "name": "stdout",
          "text": [
            "Counts for constant function: {'000': 1024}\n"
          ]
        }
      ]
    },
    {
      "cell_type": "code",
      "source": [
        "def calculate_execution_time():\n",
        "    n = 20\n",
        "    start_time_balanced = time.time()\n",
        "    qc_balanced = deutsch_jozsa_algorithm(n, oracle_type='balanced')\n",
        "    simulator = Aer.get_backend('aer_simulator')\n",
        "    compiled_circuit = transpile(qc_balanced, simulator)\n",
        "    job = simulator.run(compiled_circuit, shots=1024)\n",
        "    job.result()\n",
        "    t1 = time.time() - start_time_balanced\n",
        "\n",
        "    start_time_constant = time.time()\n",
        "    qc_constant = deutsch_jozsa_algorithm(n, oracle_type='constant')\n",
        "    compiled_circuit = transpile(qc_constant, simulator)\n",
        "    job = simulator.run(compiled_circuit, shots=1024)\n",
        "    job.result()\n",
        "    t2 = time.time() - start_time_constant\n",
        "\n",
        "    print(f\"Execution time for balanced oracle (t1): {t1}\")\n",
        "    print(f\"Execution time for constant oracle (t2): {t2}\")\n",
        "    print(f\"Difference (t1 - t2): {t1 - t2}\")\n",
        "\n",
        "calculate_execution_time()"
      ],
      "metadata": {
        "colab": {
          "base_uri": "https://localhost:8080/"
        },
        "id": "BGQWucFiP5b-",
        "outputId": "b3eeea36-5213-4aac-ec20-8caeb4d02215"
      },
      "execution_count": null,
      "outputs": [
        {
          "output_type": "stream",
          "name": "stdout",
          "text": [
            "Execution time for balanced oracle (t1): 0.13335299491882324\n",
            "Execution time for constant oracle (t2): 0.13149428367614746\n",
            "Difference (t1 - t2): 0.0018587112426757812\n"
          ]
        }
      ]
    },
    {
      "cell_type": "markdown",
      "source": [
        "Q2"
      ],
      "metadata": {
        "id": "FDG47ffLQNOw"
      }
    },
    {
      "cell_type": "code",
      "source": [
        "S = [100, 500, 1000, 2500, 5000]\n",
        "\n",
        "def calculate_execution_time_vs_shots():\n",
        "    times_balanced = []\n",
        "    for shots in S:\n",
        "        start_time = time.time()\n",
        "        qc = deutsch_jozsa_algorithm(5, oracle_type='balanced')\n",
        "        simulator = Aer.get_backend('aer_simulator')\n",
        "        compiled_circuit = transpile(qc, simulator)\n",
        "        job = simulator.run(compiled_circuit, shots=shots)\n",
        "        job.result()\n",
        "        elapsed_time = time.time() - start_time\n",
        "        times_balanced.append(elapsed_time)\n",
        "    return times_balanced\n",
        "\n",
        "time_balanced = calculate_execution_time_vs_shots()\n",
        "print(\"Execution times for balanced oracle:\", time_balanced)"
      ],
      "metadata": {
        "colab": {
          "base_uri": "https://localhost:8080/"
        },
        "id": "j6QBVbP7QSp2",
        "outputId": "fc2987b6-943e-4412-9c81-974bb684daa1"
      },
      "execution_count": null,
      "outputs": [
        {
          "output_type": "stream",
          "name": "stdout",
          "text": [
            "Execution times for balanced oracle: [0.12851762771606445, 0.11099839210510254, 0.11635804176330566, 0.11658263206481934, 0.12925028800964355]\n"
          ]
        }
      ]
    },
    {
      "cell_type": "code",
      "source": [
        "import matplotlib.pyplot as plt\n",
        "\n",
        "plt.plot(S, time_balanced, marker='o')\n",
        "plt.xlabel('Number of Shots')\n",
        "plt.ylabel('Execution Time (seconds)')\n",
        "plt.title('Execution Time vs Number of Shots (Balanced Oracle)')\n",
        "plt.show()"
      ],
      "metadata": {
        "colab": {
          "base_uri": "https://localhost:8080/",
          "height": 472
        },
        "id": "2Kgj097GQVR1",
        "outputId": "c18251d2-23a2-4e12-91c1-10362127d364"
      },
      "execution_count": null,
      "outputs": [
        {
          "output_type": "display_data",
          "data": {
            "text/plain": [
              "<Figure size 640x480 with 1 Axes>"
            ],
            "image/png": "[encoded data removed]"
          },
          "metadata": {}
        }
      ]
    },
    {
      "cell_type": "markdown",
      "source": [
        "Q4"
      ],
      "metadata": {
        "id": "Dc5mA8OUQZR_"
      }
    },
    {
      "cell_type": "code",
      "source": [
        "def qft_rotations(circuit, n):\n",
        "    for i in range(n):\n",
        "        circuit.h(i)\n",
        "        for j in range(i + 1, n):\n",
        "            angle = 2 * np.pi / (2 ** (j - i + 1))\n",
        "            circuit.cp(angle, j, i)"
      ],
      "metadata": {
        "id": "YAdawGonQacO"
      },
      "execution_count": null,
      "outputs": []
    },
    {
      "cell_type": "code",
      "source": [
        "def qft(n):\n",
        "    qc = QuantumCircuit(n)\n",
        "    qft_rotations(qc, n)\n",
        "    qc.barrier()\n",
        "    return qc"
      ],
      "metadata": {
        "id": "IADuv8eXQdMO"
      },
      "execution_count": null,
      "outputs": []
    },
    {
      "cell_type": "code",
      "source": [
        "for n in [2, 3, 4]:\n",
        "    qc = qft(n)\n",
        "    print(f\"QFT Circuit for n={n}:\")\n",
        "    print(qc.draw())"
      ],
      "metadata": {
        "colab": {
          "base_uri": "https://localhost:8080/"
        },
        "id": "ip1wJ7KDQexO",
        "outputId": "93dd0196-6fbf-4acc-9dee-2dcbdad7e8cd"
      },
      "execution_count": null,
      "outputs": [
        {
          "output_type": "stream",
          "name": "stdout",
          "text": [
            "QFT Circuit for n=2:\n",
            "     ┌───┐               ░ \n",
            "q_0: ┤ H ├─■─────────────░─\n",
            "     └───┘ │P(π/2) ┌───┐ ░ \n",
            "q_1: ──────■───────┤ H ├─░─\n",
            "                   └───┘ ░ \n",
            "QFT Circuit for n=3:\n",
            "     ┌───┐                                      ░ \n",
            "q_0: ┤ H ├─■────────■───────────────────────────░─\n",
            "     └───┘ │P(π/2)  │       ┌───┐               ░ \n",
            "q_1: ──────■────────┼───────┤ H ├─■─────────────░─\n",
            "                    │P(π/4) └───┘ │P(π/2) ┌───┐ ░ \n",
            "q_2: ───────────────■─────────────■───────┤ H ├─░─\n",
            "                                          └───┘ ░ \n",
            "QFT Circuit for n=4:\n",
            "     ┌───┐                                                                     »\n",
            "q_0: ┤ H ├─■────────■─────────────■────────────────────────────────────────────»\n",
            "     └───┘ │P(π/2)  │       ┌───┐ │                                            »\n",
            "q_1: ──────■────────┼───────┤ H ├─┼────────■────────■──────────────────────────»\n",
            "                    │P(π/4) └───┘ │        │P(π/2)  │       ┌───┐              »\n",
            "q_2: ───────────────■─────────────┼────────■────────┼───────┤ H ├─■────────────»\n",
            "                                  │P(π/8)           │P(π/4) └───┘ │P(π/2) ┌───┐»\n",
            "q_3: ─────────────────────────────■─────────────────■─────────────■───────┤ H ├»\n",
            "                                                                          └───┘»\n",
            "«      ░ \n",
            "«q_0: ─░─\n",
            "«      ░ \n",
            "«q_1: ─░─\n",
            "«      ░ \n",
            "«q_2: ─░─\n",
            "«      ░ \n",
            "«q_3: ─░─\n",
            "«      ░ \n"
          ]
        }
      ]
    },
    {
      "cell_type": "code",
      "source": [
        "simulator = Aer.get_backend('statevector_simulator')\n",
        "\n",
        "for n in [2, 3, 4]:\n",
        "    qc = qft(n)\n",
        "    compiled_circuit = transpile(qc, simulator)\n",
        "    job = simulator.run(compiled_circuit)\n",
        "    result = job.result()\n",
        "    statevector = result.get_statevector()\n",
        "    print(f\"Statevector for n={n}:\", statevector)\n",
        "\n",
        "\n",
        "    probabilities = np.abs(statevector.data) ** 2\n",
        "    counts = {format(i, f'0{n}b'): prob for i, prob in enumerate(probabilities)}\n",
        "    plot_histogram(counts)"
      ],
      "metadata": {
        "colab": {
          "base_uri": "https://localhost:8080/"
        },
        "id": "Hb2S8oPxQqQn",
        "outputId": "9131de31-455a-43b6-f7a7-1cefa7b3d746"
      },
      "execution_count": null,
      "outputs": [
        {
          "output_type": "stream",
          "name": "stdout",
          "text": [
            "Statevector for n=2: Statevector([0.5+0.j, 0.5+0.j, 0.5+0.j, 0.5+0.j],\n",
            "            dims=(2, 2))\n",
            "Statevector for n=3: Statevector([0.35355339+0.j, 0.35355339+0.j, 0.35355339+0.j,\n",
            "             0.35355339+0.j, 0.35355339+0.j, 0.35355339+0.j,\n",
            "             0.35355339+0.j, 0.35355339+0.j],\n",
            "            dims=(2, 2, 2))\n",
            "Statevector for n=4: Statevector([0.25+0.j, 0.25+0.j, 0.25+0.j, 0.25+0.j, 0.25+0.j, 0.25+0.j,\n",
            "             0.25+0.j, 0.25+0.j, 0.25+0.j, 0.25+0.j, 0.25+0.j, 0.25+0.j,\n",
            "             0.25+0.j, 0.25+0.j, 0.25+0.j, 0.25+0.j],\n",
            "            dims=(2, 2, 2, 2))\n"
          ]
        }
      ]
    },
    {
      "cell_type": "markdown",
      "source": [
        "Q5"
      ],
      "metadata": {
        "id": "KzCUhqPDRKxO"
      }
    },
    {
      "cell_type": "code",
      "source": [
        "qc = QuantumCircuit(3)\n",
        "qc.x(1)\n",
        "qc.barrier()\n",
        "qc = qc.compose(qft(3))\n",
        "print(qc.draw())"
      ],
      "metadata": {
        "colab": {
          "base_uri": "https://localhost:8080/"
        },
        "id": "qp7FZKrpRLxm",
        "outputId": "cc2a120a-2b2c-485d-a9c7-e334d9632c8d"
      },
      "execution_count": null,
      "outputs": [
        {
          "output_type": "stream",
          "name": "stdout",
          "text": [
            "           ░ ┌───┐                                      ░ \n",
            "q_0: ──────░─┤ H ├─■────────■───────────────────────────░─\n",
            "     ┌───┐ ░ └───┘ │P(π/2)  │       ┌───┐               ░ \n",
            "q_1: ┤ X ├─░───────■────────┼───────┤ H ├─■─────────────░─\n",
            "     └───┘ ░                │P(π/4) └───┘ │P(π/2) ┌───┐ ░ \n",
            "q_2: ──────░────────────────■─────────────■───────┤ H ├─░─\n",
            "           ░                                      └───┘ ░ \n"
          ]
        }
      ]
    },
    {
      "cell_type": "code",
      "source": [
        "compiled_circuit = transpile(qc, simulator)\n",
        "job = simulator.run(compiled_circuit)\n",
        "result = job.result()\n",
        "statevector = result.get_statevector()\n",
        "print(\"Statevector:\", statevector)\n",
        "probabilities = np.abs(statevector.data) ** 2\n",
        "counts = {format(i, f'0{n}b'): prob for i, prob in enumerate(probabilities)}\n",
        "plot_histogram(counts)"
      ],
      "metadata": {
        "colab": {
          "base_uri": "https://localhost:8080/",
          "height": 617
        },
        "id": "FCxrNqoxROcH",
        "outputId": "fb26e4e0-1ced-4742-bb39-a46a21e99baf"
      },
      "execution_count": null,
      "outputs": [
        {
          "output_type": "stream",
          "name": "stdout",
          "text": [
            "Statevector: Statevector([ 3.53553391e-01-4.32978028e-17j,\n",
            "              6.49467042e-17+3.53553391e-01j,\n",
            "             -3.53553391e-01+4.32978028e-17j,\n",
            "             -6.49467042e-17-3.53553391e-01j,\n",
            "              3.53553391e-01-4.32978028e-17j,\n",
            "              6.49467042e-17+3.53553391e-01j,\n",
            "             -3.53553391e-01+4.32978028e-17j,\n",
            "             -6.49467042e-17-3.53553391e-01j],\n",
            "            dims=(2, 2, 2))\n"
          ]
        },
        {
          "output_type": "execute_result",
          "data": {
            "text/plain": [
              "<Figure size 640x480 with 1 Axes>"
            ],
            "image/png": "[encoded data removed]"
          },
          "metadata": {},
          "execution_count": 24
        }
      ]
    },
    {
      "cell_type": "code",
      "source": [
        "qc_inverse = qc.inverse()\n",
        "print(qc_inverse.draw())\n",
        "compiled_circuit = transpile(qc_inverse, simulator)\n",
        "job = simulator.run(compiled_circuit)\n",
        "result = job.result()\n",
        "statevector_inverse = result.get_statevector()\n",
        "print(\"Initial state after inverse QFT:\", statevector_inverse)"
      ],
      "metadata": {
        "colab": {
          "base_uri": "https://localhost:8080/"
        },
        "id": "x-BkghsHRZkA",
        "outputId": "e4c8dd9c-356d-4ef6-c6fe-fb6bce7cdc53"
      },
      "execution_count": null,
      "outputs": [
        {
          "output_type": "stream",
          "name": "stdout",
          "text": [
            "      ░                                         ┌───┐ ░      \n",
            "q_0: ─░──────────────────────■─────────■────────┤ H ├─░──────\n",
            "      ░                ┌───┐ │         │P(-π/2) └───┘ ░ ┌───┐\n",
            "q_1: ─░───────■────────┤ H ├─┼─────────■──────────────░─┤ X ├\n",
            "      ░ ┌───┐ │P(-π/2) └───┘ │P(-π/4)                 ░ └───┘\n",
            "q_2: ─░─┤ H ├─■──────────────■────────────────────────░──────\n",
            "      ░ └───┘                                         ░      \n",
            "Initial state after inverse QFT: Statevector([0.35355339+0.j, 0.35355339+0.j, 0.35355339+0.j,\n",
            "             0.35355339+0.j, 0.35355339+0.j, 0.35355339+0.j,\n",
            "             0.35355339+0.j, 0.35355339+0.j],\n",
            "            dims=(2, 2, 2))\n"
          ]
        }
      ]
    },
    {
      "cell_type": "markdown",
      "source": [
        "Q6"
      ],
      "metadata": {
        "id": "O6XhaP20R0f_"
      }
    },
    {
      "cell_type": "code",
      "source": [
        "# Create a quantum circuit with 4 qubits\n",
        "qc = QuantumCircuit(4)\n",
        "\n",
        "# Prepare the initial state |0110>\n",
        "qc.x(1)  # Flip qubit 1 to |1>\n",
        "qc.x(2)  # Flip qubit 2 to |1>\n",
        "\n",
        "# Add a barrier for clarity\n",
        "qc.barrier()\n",
        "\n",
        "# Apply QFT\n",
        "qc = qc.compose(qft(4))\n",
        "\n",
        "# Draw the circuit\n",
        "print(\"QFT Circuit for n=4 with initial state |0110>:\")\n",
        "print(qc.draw())"
      ],
      "metadata": {
        "colab": {
          "base_uri": "https://localhost:8080/"
        },
        "id": "_tUTq0yQR2A-",
        "outputId": "726fda8d-db65-4722-fb97-4fc4f9452d6f"
      },
      "execution_count": null,
      "outputs": [
        {
          "output_type": "stream",
          "name": "stdout",
          "text": [
            "QFT Circuit for n=4 with initial state |0110>:\n",
            "           ░ ┌───┐                                                       »\n",
            "q_0: ──────░─┤ H ├─■────────■─────────────■──────────────────────────────»\n",
            "     ┌───┐ ░ └───┘ │P(π/2)  │       ┌───┐ │                              »\n",
            "q_1: ┤ X ├─░───────■────────┼───────┤ H ├─┼────────■────────■────────────»\n",
            "     ├───┤ ░                │P(π/4) └───┘ │        │P(π/2)  │       ┌───┐»\n",
            "q_2: ┤ X ├─░────────────────■─────────────┼────────■────────┼───────┤ H ├»\n",
            "     └───┘ ░                              │P(π/8)           │P(π/4) └───┘»\n",
            "q_3: ──────░──────────────────────────────■─────────────────■────────────»\n",
            "           ░                                                             »\n",
            "«                    ░ \n",
            "«q_0: ───────────────░─\n",
            "«                    ░ \n",
            "«q_1: ───────────────░─\n",
            "«                    ░ \n",
            "«q_2: ─■─────────────░─\n",
            "«      │P(π/2) ┌───┐ ░ \n",
            "«q_3: ─■───────┤ H ├─░─\n",
            "«              └───┘ ░ \n"
          ]
        }
      ]
    },
    {
      "cell_type": "code",
      "source": [
        "# Simulate the circuit\n",
        "simulator = Aer.get_backend('statevector_simulator')\n",
        "compiled_circuit = transpile(qc, simulator)\n",
        "job = simulator.run(compiled_circuit)\n",
        "result = job.result()\n",
        "statevector = result.get_statevector()\n",
        "\n",
        "# Print the statevector\n",
        "print(\"Statevector:\", statevector)\n",
        "\n",
        "# Convert statevector to probabilities\n",
        "probabilities = np.abs(statevector.data) ** 2\n",
        "\n",
        "# Create a dictionary of counts from probabilities\n",
        "counts = {format(i, '04b'): prob for i, prob in enumerate(probabilities)}\n",
        "\n",
        "# Plot histogram using the counts dictionary\n",
        "plot_histogram(counts)"
      ],
      "metadata": {
        "colab": {
          "base_uri": "https://localhost:8080/",
          "height": 763
        },
        "id": "up4gAUYxSDMQ",
        "outputId": "32a73e17-7b42-48a0-d4bb-153c506cfe9c"
      },
      "execution_count": null,
      "outputs": [
        {
          "output_type": "stream",
          "name": "stdout",
          "text": [
            "Statevector: Statevector([ 2.50000000e-01-6.12323400e-17j,\n",
            "             -1.76776695e-01+1.76776695e-01j,\n",
            "             -7.65404249e-17-2.50000000e-01j,\n",
            "              1.76776695e-01+1.76776695e-01j,\n",
            "             -2.50000000e-01+6.12323400e-17j,\n",
            "              1.76776695e-01-1.76776695e-01j,\n",
            "              7.65404249e-17+2.50000000e-01j,\n",
            "             -1.76776695e-01-1.76776695e-01j,\n",
            "              2.50000000e-01-6.12323400e-17j,\n",
            "             -1.76776695e-01+1.76776695e-01j,\n",
            "             -7.65404249e-17-2.50000000e-01j,\n",
            "              1.76776695e-01+1.76776695e-01j,\n",
            "             -2.50000000e-01+6.12323400e-17j,\n",
            "              1.76776695e-01-1.76776695e-01j,\n",
            "              7.65404249e-17+2.50000000e-01j,\n",
            "             -1.76776695e-01-1.76776695e-01j],\n",
            "            dims=(2, 2, 2, 2))\n"
          ]
        },
        {
          "output_type": "execute_result",
          "data": {
            "text/plain": [
              "<Figure size 640x480 with 1 Axes>"
            ],
            "image/png": "[encoded data removed]"
          },
          "metadata": {},
          "execution_count": 27
        }
      ]
    },
    {
      "cell_type": "code",
      "source": [
        "# Perform the inverse QFT\n",
        "qc_inverse = qc.inverse()\n",
        "\n",
        "# Draw the inverse QFT circuit\n",
        "print(\"Inverse QFT Circuit:\")\n",
        "print(qc_inverse.draw())\n",
        "\n",
        "# Simulate the inverse QFT circuit\n",
        "compiled_circuit = transpile(qc_inverse, simulator)\n",
        "job = simulator.run(compiled_circuit)\n",
        "result = job.result()\n",
        "statevector_inverse = result.get_statevector()\n",
        "\n",
        "# Print the statevector after inverse QFT\n",
        "print(\"Initial state after inverse QFT:\", statevector_inverse)"
      ],
      "metadata": {
        "colab": {
          "base_uri": "https://localhost:8080/"
        },
        "id": "tIAD_i66SGyA",
        "outputId": "78189505-1116-4996-e149-3e087006ad93"
      },
      "execution_count": null,
      "outputs": [
        {
          "output_type": "stream",
          "name": "stdout",
          "text": [
            "Inverse QFT Circuit:\n",
            "      ░                                                                  »\n",
            "q_0: ─░──────────────────────────────────────────■──────────────■────────»\n",
            "      ░                                          │        ┌───┐ │        »\n",
            "q_1: ─░──────────────────────■─────────■─────────┼────────┤ H ├─┼────────»\n",
            "      ░                ┌───┐ │         │P(-π/2)  │        └───┘ │P(-π/4) »\n",
            "q_2: ─░───────■────────┤ H ├─┼─────────■─────────┼──────────────■────────»\n",
            "      ░ ┌───┐ │P(-π/2) └───┘ │P(-π/4)            │P(-π/8)                »\n",
            "q_3: ─░─┤ H ├─■──────────────■───────────────────■───────────────────────»\n",
            "      ░ └───┘                                                            »\n",
            "«               ┌───┐ ░      \n",
            "«q_0: ─■────────┤ H ├─░──────\n",
            "«      │P(-π/2) └───┘ ░ ┌───┐\n",
            "«q_1: ─■──────────────░─┤ X ├\n",
            "«                     ░ ├───┤\n",
            "«q_2: ────────────────░─┤ X ├\n",
            "«                     ░ └───┘\n",
            "«q_3: ────────────────░──────\n",
            "«                     ░      \n",
            "Initial state after inverse QFT: Statevector([0.25+0.j, 0.25+0.j, 0.25+0.j, 0.25+0.j, 0.25+0.j, 0.25+0.j,\n",
            "             0.25+0.j, 0.25+0.j, 0.25+0.j, 0.25+0.j, 0.25+0.j, 0.25+0.j,\n",
            "             0.25+0.j, 0.25+0.j, 0.25+0.j, 0.25+0.j],\n",
            "            dims=(2, 2, 2, 2))\n"
          ]
        }
      ]
    }
  ]
}