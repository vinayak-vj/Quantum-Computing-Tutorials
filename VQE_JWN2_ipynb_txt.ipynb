{
  "cells": [
    {
      "cell_type": "markdown",
      "id": "348ccfc9-6397-4427-a40b-5c6d81ab9997",
      "metadata": {
        "id": "348ccfc9-6397-4427-a40b-5c6d81ab9997"
      },
      "source": [
        "# Variational Eigen Solver for two qubit Hamiltonian using OH encoding with JW transformation"
      ]
    },
    {
      "cell_type": "code",
      "execution_count": null,
      "id": "bce259ff-d070-42cb-9b41-1dd7cc8093dd",
      "metadata": {
        "tags": [],
        "id": "bce259ff-d070-42cb-9b41-1dd7cc8093dd"
      },
      "outputs": [],
      "source": [
        "# General imports\n",
        "import numpy as np\n",
        "from scipy.optimize import minimize\n",
        "import matplotlib.pyplot as plt\n",
        "\n",
        "# Importing standard Qiskit libraries\n",
        "from qiskit import QuantumCircuit\n",
        "from qiskit.visualization import *\n",
        "from qiskit.quantum_info import SparsePauliOp\n",
        "from qiskit_ibm_runtime import QiskitRuntimeService, Sampler, Estimator, Session, Options\n",
        "from qiskit_ibm_runtime import EstimatorV2 as Estimator"
      ]
    },
    {
      "cell_type": "code",
      "execution_count": null,
      "id": "0c3c6e6d-9194-4005-a5c4-af3539ffc929",
      "metadata": {
        "tags": [],
        "id": "0c3c6e6d-9194-4005-a5c4-af3539ffc929",
        "outputId": "4fa7d8e9-f8a9-4a11-af9c-d77857a83976"
      },
      "outputs": [
        {
          "name": "stderr",
          "output_type": "stream",
          "text": [
            "qiskit_runtime_service.__init__:INFO:2024-04-04 11:47:45,044: Default instance: ibm-q/open/main\n"
          ]
        },
        {
          "name": "stdout",
          "output_type": "stream",
          "text": [
            "[<IBMBackend('simulator_extended_stabilizer')>, <IBMBackend('simulator_mps')>, <IBMBackend('simulator_statevector')>, <IBMBackend('simulator_stabilizer')>, <IBMBackend('ibm_brisbane')>, <IBMBackend('ibm_kyoto')>, <IBMBackend('ibm_osaka')>, <IBMBackend('ibmq_qasm_simulator')>]\n"
          ]
        }
      ],
      "source": [
        "# Loading your IBM Quantum account(s)\n",
        "service = QiskitRuntimeService(channel=\"ibm_quantum\")\n",
        "# To check for avilable backends\n",
        "avilable_backend = service.backends()\n",
        "print(avilable_backend)"
      ]
    },
    {
      "cell_type": "code",
      "execution_count": null,
      "id": "eadbb80d-8b1f-4a4b-95fc-d59a3c3d2c7b",
      "metadata": {
        "tags": [],
        "id": "eadbb80d-8b1f-4a4b-95fc-d59a3c3d2c7b"
      },
      "outputs": [],
      "source": [
        "#Simulator and Hamiltonian\n",
        "backend = service.backend('ibmq_qasm_simulator')\n",
        "hamiltonian = SparsePauliOp.from_list([(\"II\", 5.9067091), (\"IZ\", 0.218291),\n",
        "                                       (\"ZI\", -6.125), (\"XX\", -2.143304), (\"YY\", -2.143304)])"
      ]
    },
    {
      "cell_type": "code",
      "execution_count": null,
      "id": "963b6c77-f7ee-49f1-bb55-7f262aca5f08",
      "metadata": {
        "tags": [],
        "id": "963b6c77-f7ee-49f1-bb55-7f262aca5f08",
        "outputId": "1c44d7f5-a59e-4008-964d-ef9d01e5d32c"
      },
      "outputs": [
        {
          "data": {
            "image/png": "[encoded data removed]",
            "text/plain": [
              "<Figure size 287.294x200.667 with 1 Axes>"
            ]
          },
          "execution_count": 4,
          "metadata": {},
          "output_type": "execute_result"
        }
      ],
      "source": [
        "#Ansatze\n",
        "from qiskit.circuit import Parameter\n",
        "\n",
        "theta = Parameter('theta')\n",
        "ansatz = QuantumCircuit(2)\n",
        "ansatz.ry(theta,0)\n",
        "ansatz.x(1)\n",
        "ansatz.cx(0,1)\n",
        "num_params = ansatz.num_parameters\n",
        "ansatz.draw(\"mpl\")"
      ]
    },
    {
      "cell_type": "code",
      "execution_count": null,
      "id": "a28f747d-a938-4cc8-9cf7-cef148b5b263",
      "metadata": {
        "tags": [],
        "id": "a28f747d-a938-4cc8-9cf7-cef148b5b263"
      },
      "outputs": [],
      "source": [
        "#Function to calcuate energy\n",
        "def cost_func(params, ansatz, hamiltonian, estimator):\n",
        "    \"\"\"Parameters:\n",
        "       params (ndarray): Array of ansatz parameters\n",
        "       ansatz (QuantumCircuit): Parameterized ansatz circuit\n",
        "       hamiltonian (SparsePauliOp): Operator representation of Hamiltonian\n",
        "       estimator (EstimatorV2): Estimator primitive instance\"\"\"\n",
        "    pub = (ansatz, [hamiltonian], [params])\n",
        "    result = estimator.run(pubs=[pub]).result()\n",
        "    energy = result[0].data.evs[0]\n",
        "\n",
        "    return energy"
      ]
    },
    {
      "cell_type": "code",
      "execution_count": null,
      "id": "d72d79bb-46e1-468f-bf00-282670ff5afa",
      "metadata": {
        "tags": [],
        "id": "d72d79bb-46e1-468f-bf00-282670ff5afa"
      },
      "outputs": [],
      "source": [
        "#Specify a random initial set of parameters:\n",
        "x0 = 2 * np.pi * np.random.random(num_params)"
      ]
    },
    {
      "cell_type": "code",
      "execution_count": null,
      "id": "3efbe240-4dae-4172-b6a5-ca2fd6ce793c",
      "metadata": {
        "tags": [],
        "id": "3efbe240-4dae-4172-b6a5-ca2fd6ce793c",
        "outputId": "5da87105-c9e3-4d01-c157-4cc1b975c4ac"
      },
      "outputs": [
        {
          "name": "stderr",
          "output_type": "stream",
          "text": [
            "base_primitive._run:INFO:2024-04-04 11:47:52,720: Submitting job using options {'options': {'default_shots': 10000}, 'version': 2, 'support_qiskit': True}\n",
            "/opt/conda/lib/python3.10/site-packages/qiskit_ibm_runtime/qiskit_runtime_service.py:878: UserWarning: Cloud simulators will be deprecated on 15 May 2024. Use the new local testing mode in qiskit-ibm-runtime version 0.22.0 or later to meet your debugging needs.\n",
            "  warnings.warn(warning_message)\n",
            "base_primitive._run:INFO:2024-04-04 11:47:58,023: Submitting job using options {'options': {'default_shots': 10000}, 'version': 2, 'support_qiskit': True}\n",
            "base_primitive._run:INFO:2024-04-04 11:48:06,887: Submitting job using options {'options': {'default_shots': 10000}, 'version': 2, 'support_qiskit': True}\n",
            "base_primitive._run:INFO:2024-04-04 11:48:13,655: Submitting job using options {'options': {'default_shots': 10000}, 'version': 2, 'support_qiskit': True}\n",
            "base_primitive._run:INFO:2024-04-04 11:48:18,004: Submitting job using options {'options': {'default_shots': 10000}, 'version': 2, 'support_qiskit': True}\n",
            "base_primitive._run:INFO:2024-04-04 11:48:22,631: Submitting job using options {'options': {'default_shots': 10000}, 'version': 2, 'support_qiskit': True}\n",
            "base_primitive._run:INFO:2024-04-04 11:48:28,476: Submitting job using options {'options': {'default_shots': 10000}, 'version': 2, 'support_qiskit': True}\n",
            "base_primitive._run:INFO:2024-04-04 11:48:37,188: Submitting job using options {'options': {'default_shots': 10000}, 'version': 2, 'support_qiskit': True}\n",
            "base_primitive._run:INFO:2024-04-04 11:48:44,057: Submitting job using options {'options': {'default_shots': 10000}, 'version': 2, 'support_qiskit': True}\n",
            "base_primitive._run:INFO:2024-04-04 11:48:48,688: Submitting job using options {'options': {'default_shots': 10000}, 'version': 2, 'support_qiskit': True}\n",
            "base_primitive._run:INFO:2024-04-04 11:48:54,109: Submitting job using options {'options': {'default_shots': 10000}, 'version': 2, 'support_qiskit': True}\n",
            "base_primitive._run:INFO:2024-04-04 11:49:00,941: Submitting job using options {'options': {'default_shots': 10000}, 'version': 2, 'support_qiskit': True}\n",
            "base_primitive._run:INFO:2024-04-04 11:49:09,824: Submitting job using options {'options': {'default_shots': 10000}, 'version': 2, 'support_qiskit': True}\n",
            "base_primitive._run:INFO:2024-04-04 11:49:14,243: Submitting job using options {'options': {'default_shots': 10000}, 'version': 2, 'support_qiskit': True}\n",
            "base_primitive._run:INFO:2024-04-04 11:49:19,885: Submitting job using options {'options': {'default_shots': 10000}, 'version': 2, 'support_qiskit': True}\n",
            "base_primitive._run:INFO:2024-04-04 11:49:24,742: Submitting job using options {'options': {'default_shots': 10000}, 'version': 2, 'support_qiskit': True}\n",
            "base_primitive._run:INFO:2024-04-04 11:49:36,734: Submitting job using options {'options': {'default_shots': 10000}, 'version': 2, 'support_qiskit': True}\n",
            "base_primitive._run:INFO:2024-04-04 11:49:45,959: Submitting job using options {'options': {'default_shots': 10000}, 'version': 2, 'support_qiskit': True}\n",
            "base_primitive._run:INFO:2024-04-04 11:49:55,852: Submitting job using options {'options': {'default_shots': 10000}, 'version': 2, 'support_qiskit': True}\n",
            "base_primitive._run:INFO:2024-04-04 11:50:09,214: Submitting job using options {'options': {'default_shots': 10000}, 'version': 2, 'support_qiskit': True}\n",
            "base_primitive._run:INFO:2024-04-04 11:50:12,604: Submitting job using options {'options': {'default_shots': 10000}, 'version': 2, 'support_qiskit': True}\n",
            "base_primitive._run:INFO:2024-04-04 11:50:17,873: Submitting job using options {'options': {'default_shots': 10000}, 'version': 2, 'support_qiskit': True}\n"
          ]
        },
        {
          "name": "stdout",
          "output_type": "stream",
          "text": [
            "-1.7713607330670933\n"
          ]
        },
        {
          "name": "stderr",
          "output_type": "stream",
          "text": [
            "base_websocket_client.stream:INFO:2024-04-04 13:38:38,905: A websocket error occurred while streaming for job co7aqm84e2d51a9ih8tg. Connection closed with 1006.\n",
            "Traceback (most recent call last):\n",
            "  File \"/opt/conda/lib/python3.10/site-packages/websocket/_app.py\", line 500, in setSock\n",
            "    dispatcher.read(self.sock.sock, read, check)\n",
            "  File \"/opt/conda/lib/python3.10/site-packages/websocket/_app.py\", line 112, in read\n",
            "    if not read_callback():\n",
            "  File \"/opt/conda/lib/python3.10/site-packages/websocket/_app.py\", line 523, in read\n",
            "    raise e\n",
            "  File \"/opt/conda/lib/python3.10/site-packages/websocket/_app.py\", line 515, in read\n",
            "    op_code, frame = self.sock.recv_data_frame(True)\n",
            "  File \"/opt/conda/lib/python3.10/site-packages/websocket/_core.py\", line 437, in recv_data_frame\n",
            "    frame = self.recv_frame()\n",
            "  File \"/opt/conda/lib/python3.10/site-packages/websocket/_core.py\", line 478, in recv_frame\n",
            "    return self.frame_buffer.recv_frame()\n",
            "  File \"/opt/conda/lib/python3.10/site-packages/websocket/_abnf.py\", line 363, in recv_frame\n",
            "    self.recv_header()\n",
            "  File \"/opt/conda/lib/python3.10/site-packages/websocket/_abnf.py\", line 319, in recv_header\n",
            "    header = self.recv_strict(2)\n",
            "  File \"/opt/conda/lib/python3.10/site-packages/websocket/_abnf.py\", line 398, in recv_strict\n",
            "    bytes_ = self.recv(min(16384, shortage))\n",
            "  File \"/opt/conda/lib/python3.10/site-packages/websocket/_core.py\", line 563, in _recv\n",
            "    return recv(self.sock, bufsize)\n",
            "  File \"/opt/conda/lib/python3.10/site-packages/websocket/_socket.py\", line 129, in recv\n",
            "    raise WebSocketConnectionClosedException(\"Connection to remote host was lost.\")\n",
            "websocket._exceptions.WebSocketConnectionClosedException: Connection to remote host was lost.\n",
            "\n",
            "base_websocket_client.stream:INFO:2024-04-04 13:38:38,915: Retrying get_job_status via websocket after 0.5 seconds: Attempt #1\n"
          ]
        }
      ],
      "source": [
        "#Minimization function as a function of shots\n",
        "def minimization(S):\n",
        "    with Session(backend=backend) as session:\n",
        "        estimator = Estimator(session=session)\n",
        "        estimator.options.default_shots = S\n",
        "\n",
        "        res = minimize(\n",
        "        cost_func,\n",
        "        x0,\n",
        "        args=(ansatz, hamiltonian, estimator),\n",
        "        method=\"cobyla\",\n",
        "        # callback=callback\n",
        "    )\n",
        "    return(res.fun)\n",
        "#Result\n",
        "print('E_min =',minimization(10000))"
      ]
    },
    {
      "cell_type": "code",
      "execution_count": null,
      "id": "4f459f41-8548-42b9-82f6-92f32e433665",
      "metadata": {
        "tags": [],
        "id": "4f459f41-8548-42b9-82f6-92f32e433665",
        "outputId": "bfa68935-9c51-45f4-dda1-8091a6547a00"
      },
      "outputs": [
        {
          "name": "stderr",
          "output_type": "stream",
          "text": [
            "base_primitive._run:INFO:2024-04-04 11:50:24,129: Submitting job using options {'options': {'default_shots': 10}, 'version': 2, 'support_qiskit': True}\n",
            "base_primitive._run:INFO:2024-04-04 11:50:33,199: Submitting job using options {'options': {'default_shots': 10}, 'version': 2, 'support_qiskit': True}\n",
            "base_primitive._run:INFO:2024-04-04 11:50:43,298: Submitting job using options {'options': {'default_shots': 10}, 'version': 2, 'support_qiskit': True}\n",
            "base_primitive._run:INFO:2024-04-04 11:50:50,588: Submitting job using options {'options': {'default_shots': 10}, 'version': 2, 'support_qiskit': True}\n",
            "base_primitive._run:INFO:2024-04-04 11:50:58,303: Submitting job using options {'options': {'default_shots': 10}, 'version': 2, 'support_qiskit': True}\n",
            "base_primitive._run:INFO:2024-04-04 11:51:05,608: Submitting job using options {'options': {'default_shots': 10}, 'version': 2, 'support_qiskit': True}\n",
            "base_primitive._run:INFO:2024-04-04 11:51:18,510: Submitting job using options {'options': {'default_shots': 10}, 'version': 2, 'support_qiskit': True}\n",
            "base_primitive._run:INFO:2024-04-04 11:51:25,432: Submitting job using options {'options': {'default_shots': 10}, 'version': 2, 'support_qiskit': True}\n",
            "base_primitive._run:INFO:2024-04-04 11:51:33,285: Submitting job using options {'options': {'default_shots': 10}, 'version': 2, 'support_qiskit': True}\n",
            "base_primitive._run:INFO:2024-04-04 11:51:39,914: Submitting job using options {'options': {'default_shots': 10}, 'version': 2, 'support_qiskit': True}\n",
            "base_primitive._run:INFO:2024-04-04 11:51:52,799: Submitting job using options {'options': {'default_shots': 10}, 'version': 2, 'support_qiskit': True}\n",
            "base_primitive._run:INFO:2024-04-04 11:51:57,536: Submitting job using options {'options': {'default_shots': 10}, 'version': 2, 'support_qiskit': True}\n",
            "base_primitive._run:INFO:2024-04-04 11:52:03,164: Submitting job using options {'options': {'default_shots': 10}, 'version': 2, 'support_qiskit': True}\n",
            "base_primitive._run:INFO:2024-04-04 11:52:07,127: Submitting job using options {'options': {'default_shots': 10}, 'version': 2, 'support_qiskit': True}\n",
            "base_primitive._run:INFO:2024-04-04 11:52:11,516: Submitting job using options {'options': {'default_shots': 10}, 'version': 2, 'support_qiskit': True}\n",
            "base_primitive._run:INFO:2024-04-04 11:52:22,093: Submitting job using options {'options': {'default_shots': 10}, 'version': 2, 'support_qiskit': True}\n",
            "base_primitive._run:INFO:2024-04-04 11:52:29,538: Submitting job using options {'options': {'default_shots': 10}, 'version': 2, 'support_qiskit': True}\n",
            "base_primitive._run:INFO:2024-04-04 11:52:42,764: Submitting job using options {'options': {'default_shots': 10}, 'version': 2, 'support_qiskit': True}\n",
            "base_primitive._run:INFO:2024-04-04 11:52:52,188: Submitting job using options {'options': {'default_shots': 10}, 'version': 2, 'support_qiskit': True}\n",
            "base_primitive._run:INFO:2024-04-04 11:54:56,916: Submitting job using options {'options': {'default_shots': 10}, 'version': 2, 'support_qiskit': True}\n",
            "base_primitive._run:INFO:2024-04-04 11:55:01,972: Submitting job using options {'options': {'default_shots': 10}, 'version': 2, 'support_qiskit': True}\n"
          ]
        },
        {
          "name": "stdout",
          "output_type": "stream",
          "text": [
            "Completed for shots = 10.0\n"
          ]
        },
        {
          "name": "stderr",
          "output_type": "stream",
          "text": [
            "base_primitive._run:INFO:2024-04-04 11:55:08,496: Submitting job using options {'options': {'default_shots': 100}, 'version': 2, 'support_qiskit': True}\n",
            "base_primitive._run:INFO:2024-04-04 11:55:13,828: Submitting job using options {'options': {'default_shots': 100}, 'version': 2, 'support_qiskit': True}\n",
            "base_primitive._run:INFO:2024-04-04 11:55:20,357: Submitting job using options {'options': {'default_shots': 100}, 'version': 2, 'support_qiskit': True}\n",
            "base_primitive._run:INFO:2024-04-04 11:55:25,620: Submitting job using options {'options': {'default_shots': 100}, 'version': 2, 'support_qiskit': True}\n",
            "base_primitive._run:INFO:2024-04-04 11:55:29,224: Submitting job using options {'options': {'default_shots': 100}, 'version': 2, 'support_qiskit': True}\n",
            "base_primitive._run:INFO:2024-04-04 11:55:42,479: Submitting job using options {'options': {'default_shots': 100}, 'version': 2, 'support_qiskit': True}\n",
            "base_primitive._run:INFO:2024-04-04 11:55:49,944: Submitting job using options {'options': {'default_shots': 100}, 'version': 2, 'support_qiskit': True}\n",
            "base_primitive._run:INFO:2024-04-04 11:55:54,565: Submitting job using options {'options': {'default_shots': 100}, 'version': 2, 'support_qiskit': True}\n",
            "base_primitive._run:INFO:2024-04-04 11:56:03,216: Submitting job using options {'options': {'default_shots': 100}, 'version': 2, 'support_qiskit': True}\n",
            "base_primitive._run:INFO:2024-04-04 11:56:08,833: Submitting job using options {'options': {'default_shots': 100}, 'version': 2, 'support_qiskit': True}\n",
            "base_primitive._run:INFO:2024-04-04 11:56:12,894: Submitting job using options {'options': {'default_shots': 100}, 'version': 2, 'support_qiskit': True}\n",
            "base_primitive._run:INFO:2024-04-04 11:56:20,392: Submitting job using options {'options': {'default_shots': 100}, 'version': 2, 'support_qiskit': True}\n",
            "base_primitive._run:INFO:2024-04-04 11:56:31,377: Submitting job using options {'options': {'default_shots': 100}, 'version': 2, 'support_qiskit': True}\n",
            "base_primitive._run:INFO:2024-04-04 11:56:39,036: Submitting job using options {'options': {'default_shots': 100}, 'version': 2, 'support_qiskit': True}\n",
            "base_primitive._run:INFO:2024-04-04 11:56:50,003: Submitting job using options {'options': {'default_shots': 100}, 'version': 2, 'support_qiskit': True}\n",
            "base_primitive._run:INFO:2024-04-04 11:56:55,192: Submitting job using options {'options': {'default_shots': 100}, 'version': 2, 'support_qiskit': True}\n",
            "base_primitive._run:INFO:2024-04-04 11:57:02,944: Submitting job using options {'options': {'default_shots': 100}, 'version': 2, 'support_qiskit': True}\n",
            "base_primitive._run:INFO:2024-04-04 11:57:08,301: Submitting job using options {'options': {'default_shots': 100}, 'version': 2, 'support_qiskit': True}\n",
            "base_primitive._run:INFO:2024-04-04 11:57:18,388: Submitting job using options {'options': {'default_shots': 100}, 'version': 2, 'support_qiskit': True}\n",
            "base_primitive._run:INFO:2024-04-04 11:57:27,943: Submitting job using options {'options': {'default_shots': 100}, 'version': 2, 'support_qiskit': True}\n"
          ]
        },
        {
          "name": "stdout",
          "output_type": "stream",
          "text": [
            "Completed for shots = 100.0\n"
          ]
        },
        {
          "name": "stderr",
          "output_type": "stream",
          "text": [
            "base_primitive._run:INFO:2024-04-04 11:57:32,181: Submitting job using options {'options': {'default_shots': 1000}, 'version': 2, 'support_qiskit': True}\n",
            "base_primitive._run:INFO:2024-04-04 11:57:39,345: Submitting job using options {'options': {'default_shots': 1000}, 'version': 2, 'support_qiskit': True}\n",
            "base_primitive._run:INFO:2024-04-04 11:57:46,614: Submitting job using options {'options': {'default_shots': 1000}, 'version': 2, 'support_qiskit': True}\n",
            "base_primitive._run:INFO:2024-04-04 11:57:53,771: Submitting job using options {'options': {'default_shots': 1000}, 'version': 2, 'support_qiskit': True}\n",
            "base_primitive._run:INFO:2024-04-04 11:58:11,160: Submitting job using options {'options': {'default_shots': 1000}, 'version': 2, 'support_qiskit': True}\n",
            "base_primitive._run:INFO:2024-04-04 11:58:16,856: Submitting job using options {'options': {'default_shots': 1000}, 'version': 2, 'support_qiskit': True}\n",
            "base_primitive._run:INFO:2024-04-04 11:58:20,436: Submitting job using options {'options': {'default_shots': 1000}, 'version': 2, 'support_qiskit': True}\n",
            "base_primitive._run:INFO:2024-04-04 11:58:26,616: Submitting job using options {'options': {'default_shots': 1000}, 'version': 2, 'support_qiskit': True}\n",
            "base_primitive._run:INFO:2024-04-04 11:58:30,886: Submitting job using options {'options': {'default_shots': 1000}, 'version': 2, 'support_qiskit': True}\n",
            "base_primitive._run:INFO:2024-04-04 11:58:35,228: Submitting job using options {'options': {'default_shots': 1000}, 'version': 2, 'support_qiskit': True}\n",
            "base_primitive._run:INFO:2024-04-04 11:58:43,793: Submitting job using options {'options': {'default_shots': 1000}, 'version': 2, 'support_qiskit': True}\n",
            "base_primitive._run:INFO:2024-04-04 11:58:51,335: Submitting job using options {'options': {'default_shots': 1000}, 'version': 2, 'support_qiskit': True}\n",
            "base_primitive._run:INFO:2024-04-04 11:58:58,671: Submitting job using options {'options': {'default_shots': 1000}, 'version': 2, 'support_qiskit': True}\n",
            "base_primitive._run:INFO:2024-04-04 11:59:07,764: Submitting job using options {'options': {'default_shots': 1000}, 'version': 2, 'support_qiskit': True}\n",
            "base_primitive._run:INFO:2024-04-04 11:59:12,964: Submitting job using options {'options': {'default_shots': 1000}, 'version': 2, 'support_qiskit': True}\n",
            "base_primitive._run:INFO:2024-04-04 11:59:16,536: Submitting job using options {'options': {'default_shots': 1000}, 'version': 2, 'support_qiskit': True}\n",
            "base_primitive._run:INFO:2024-04-04 11:59:25,460: Submitting job using options {'options': {'default_shots': 1000}, 'version': 2, 'support_qiskit': True}\n",
            "base_primitive._run:INFO:2024-04-04 11:59:31,065: Submitting job using options {'options': {'default_shots': 1000}, 'version': 2, 'support_qiskit': True}\n",
            "base_primitive._run:INFO:2024-04-04 11:59:37,681: Submitting job using options {'options': {'default_shots': 1000}, 'version': 2, 'support_qiskit': True}\n",
            "base_primitive._run:INFO:2024-04-04 11:59:44,413: Submitting job using options {'options': {'default_shots': 1000}, 'version': 2, 'support_qiskit': True}\n",
            "base_primitive._run:INFO:2024-04-04 11:59:54,247: Submitting job using options {'options': {'default_shots': 1000}, 'version': 2, 'support_qiskit': True}\n"
          ]
        },
        {
          "name": "stdout",
          "output_type": "stream",
          "text": [
            "Completed for shots = 1000.0\n"
          ]
        },
        {
          "name": "stderr",
          "output_type": "stream",
          "text": [
            "base_primitive._run:INFO:2024-04-04 11:59:59,298: Submitting job using options {'options': {'default_shots': 10000}, 'version': 2, 'support_qiskit': True}\n",
            "base_primitive._run:INFO:2024-04-04 12:00:03,308: Submitting job using options {'options': {'default_shots': 10000}, 'version': 2, 'support_qiskit': True}\n",
            "base_primitive._run:INFO:2024-04-04 12:00:07,890: Submitting job using options {'options': {'default_shots': 10000}, 'version': 2, 'support_qiskit': True}\n",
            "base_primitive._run:INFO:2024-04-04 12:00:16,758: Submitting job using options {'options': {'default_shots': 10000}, 'version': 2, 'support_qiskit': True}\n",
            "base_primitive._run:INFO:2024-04-04 12:00:28,559: Submitting job using options {'options': {'default_shots': 10000}, 'version': 2, 'support_qiskit': True}\n",
            "base_primitive._run:INFO:2024-04-04 12:00:39,436: Submitting job using options {'options': {'default_shots': 10000}, 'version': 2, 'support_qiskit': True}\n",
            "base_primitive._run:INFO:2024-04-04 12:00:43,571: Submitting job using options {'options': {'default_shots': 10000}, 'version': 2, 'support_qiskit': True}\n",
            "base_primitive._run:INFO:2024-04-04 12:00:51,404: Submitting job using options {'options': {'default_shots': 10000}, 'version': 2, 'support_qiskit': True}\n",
            "base_primitive._run:INFO:2024-04-04 12:00:55,984: Submitting job using options {'options': {'default_shots': 10000}, 'version': 2, 'support_qiskit': True}\n",
            "base_primitive._run:INFO:2024-04-04 12:00:59,916: Submitting job using options {'options': {'default_shots': 10000}, 'version': 2, 'support_qiskit': True}\n",
            "base_primitive._run:INFO:2024-04-04 12:01:04,485: Submitting job using options {'options': {'default_shots': 10000}, 'version': 2, 'support_qiskit': True}\n",
            "base_primitive._run:INFO:2024-04-04 12:01:11,832: Submitting job using options {'options': {'default_shots': 10000}, 'version': 2, 'support_qiskit': True}\n",
            "base_primitive._run:INFO:2024-04-04 12:01:25,530: Submitting job using options {'options': {'default_shots': 10000}, 'version': 2, 'support_qiskit': True}\n",
            "base_primitive._run:INFO:2024-04-04 12:01:32,268: Submitting job using options {'options': {'default_shots': 10000}, 'version': 2, 'support_qiskit': True}\n",
            "base_primitive._run:INFO:2024-04-04 12:01:38,183: Submitting job using options {'options': {'default_shots': 10000}, 'version': 2, 'support_qiskit': True}\n",
            "base_primitive._run:INFO:2024-04-04 12:01:42,500: Submitting job using options {'options': {'default_shots': 10000}, 'version': 2, 'support_qiskit': True}\n",
            "base_primitive._run:INFO:2024-04-04 12:01:46,738: Submitting job using options {'options': {'default_shots': 10000}, 'version': 2, 'support_qiskit': True}\n",
            "base_primitive._run:INFO:2024-04-04 12:01:50,620: Submitting job using options {'options': {'default_shots': 10000}, 'version': 2, 'support_qiskit': True}\n",
            "base_primitive._run:INFO:2024-04-04 12:01:54,839: Submitting job using options {'options': {'default_shots': 10000}, 'version': 2, 'support_qiskit': True}\n",
            "base_primitive._run:INFO:2024-04-04 12:01:59,567: Submitting job using options {'options': {'default_shots': 10000}, 'version': 2, 'support_qiskit': True}\n"
          ]
        },
        {
          "name": "stdout",
          "output_type": "stream",
          "text": [
            "Completed for shots = 10000.0\n"
          ]
        },
        {
          "name": "stderr",
          "output_type": "stream",
          "text": [
            "base_primitive._run:INFO:2024-04-04 12:02:04,743: Submitting job using options {'options': {'default_shots': 100000}, 'version': 2, 'support_qiskit': True}\n",
            "base_primitive._run:INFO:2024-04-04 12:02:12,263: Submitting job using options {'options': {'default_shots': 100000}, 'version': 2, 'support_qiskit': True}\n",
            "base_primitive._run:INFO:2024-04-04 12:02:17,096: Submitting job using options {'options': {'default_shots': 100000}, 'version': 2, 'support_qiskit': True}\n",
            "base_primitive._run:INFO:2024-04-04 12:02:22,407: Submitting job using options {'options': {'default_shots': 100000}, 'version': 2, 'support_qiskit': True}\n",
            "base_primitive._run:INFO:2024-04-04 12:02:27,684: Submitting job using options {'options': {'default_shots': 100000}, 'version': 2, 'support_qiskit': True}\n",
            "base_primitive._run:INFO:2024-04-04 12:02:31,686: Submitting job using options {'options': {'default_shots': 100000}, 'version': 2, 'support_qiskit': True}\n",
            "base_primitive._run:INFO:2024-04-04 12:02:36,953: Submitting job using options {'options': {'default_shots': 100000}, 'version': 2, 'support_qiskit': True}\n",
            "base_primitive._run:INFO:2024-04-04 12:02:41,732: Submitting job using options {'options': {'default_shots': 100000}, 'version': 2, 'support_qiskit': True}\n",
            "base_primitive._run:INFO:2024-04-04 12:02:49,460: Submitting job using options {'options': {'default_shots': 100000}, 'version': 2, 'support_qiskit': True}\n",
            "base_primitive._run:INFO:2024-04-04 12:02:57,008: Submitting job using options {'options': {'default_shots': 100000}, 'version': 2, 'support_qiskit': True}\n",
            "base_primitive._run:INFO:2024-04-04 12:03:01,381: Submitting job using options {'options': {'default_shots': 100000}, 'version': 2, 'support_qiskit': True}\n",
            "base_primitive._run:INFO:2024-04-04 12:03:07,288: Submitting job using options {'options': {'default_shots': 100000}, 'version': 2, 'support_qiskit': True}\n",
            "base_primitive._run:INFO:2024-04-04 12:03:12,008: Submitting job using options {'options': {'default_shots': 100000}, 'version': 2, 'support_qiskit': True}\n",
            "base_primitive._run:INFO:2024-04-04 12:03:33,249: Submitting job using options {'options': {'default_shots': 100000}, 'version': 2, 'support_qiskit': True}\n",
            "base_primitive._run:INFO:2024-04-04 12:03:47,488: Submitting job using options {'options': {'default_shots': 100000}, 'version': 2, 'support_qiskit': True}\n",
            "base_primitive._run:INFO:2024-04-04 12:03:53,788: Submitting job using options {'options': {'default_shots': 100000}, 'version': 2, 'support_qiskit': True}\n",
            "base_primitive._run:INFO:2024-04-04 12:03:59,432: Submitting job using options {'options': {'default_shots': 100000}, 'version': 2, 'support_qiskit': True}\n",
            "base_primitive._run:INFO:2024-04-04 12:04:04,174: Submitting job using options {'options': {'default_shots': 100000}, 'version': 2, 'support_qiskit': True}\n",
            "base_primitive._run:INFO:2024-04-04 12:04:12,916: Submitting job using options {'options': {'default_shots': 100000}, 'version': 2, 'support_qiskit': True}\n",
            "base_primitive._run:INFO:2024-04-04 12:04:21,332: Submitting job using options {'options': {'default_shots': 100000}, 'version': 2, 'support_qiskit': True}\n",
            "base_primitive._run:INFO:2024-04-04 12:04:25,649: Submitting job using options {'options': {'default_shots': 100000}, 'version': 2, 'support_qiskit': True}\n",
            "base_primitive._run:INFO:2024-04-04 12:04:32,109: Submitting job using options {'options': {'default_shots': 100000}, 'version': 2, 'support_qiskit': True}\n"
          ]
        },
        {
          "name": "stdout",
          "output_type": "stream",
          "text": [
            "Completed for shots = 100000.0\n"
          ]
        },
        {
          "name": "stderr",
          "output_type": "stream",
          "text": [
            "base_primitive._run:INFO:2024-04-04 12:04:38,765: Submitting job using options {'options': {'default_shots': 1000000}, 'version': 2, 'support_qiskit': True}\n",
            "base_primitive._run:INFO:2024-04-04 12:04:49,713: Submitting job using options {'options': {'default_shots': 1000000}, 'version': 2, 'support_qiskit': True}\n",
            "base_primitive._run:INFO:2024-04-04 12:05:08,124: Submitting job using options {'options': {'default_shots': 1000000}, 'version': 2, 'support_qiskit': True}\n",
            "base_primitive._run:INFO:2024-04-04 12:05:26,232: Submitting job using options {'options': {'default_shots': 1000000}, 'version': 2, 'support_qiskit': True}\n",
            "base_primitive._run:INFO:2024-04-04 12:05:37,688: Submitting job using options {'options': {'default_shots': 1000000}, 'version': 2, 'support_qiskit': True}\n",
            "base_primitive._run:INFO:2024-04-04 12:05:52,305: Submitting job using options {'options': {'default_shots': 1000000}, 'version': 2, 'support_qiskit': True}\n",
            "base_primitive._run:INFO:2024-04-04 12:06:06,438: Submitting job using options {'options': {'default_shots': 1000000}, 'version': 2, 'support_qiskit': True}\n",
            "base_primitive._run:INFO:2024-04-04 12:06:23,327: Submitting job using options {'options': {'default_shots': 1000000}, 'version': 2, 'support_qiskit': True}\n",
            "base_primitive._run:INFO:2024-04-04 12:06:36,042: Submitting job using options {'options': {'default_shots': 1000000}, 'version': 2, 'support_qiskit': True}\n",
            "base_primitive._run:INFO:2024-04-04 12:06:50,795: Submitting job using options {'options': {'default_shots': 1000000}, 'version': 2, 'support_qiskit': True}\n",
            "base_primitive._run:INFO:2024-04-04 12:07:27,076: Submitting job using options {'options': {'default_shots': 1000000}, 'version': 2, 'support_qiskit': True}\n",
            "base_primitive._run:INFO:2024-04-04 12:07:38,044: Submitting job using options {'options': {'default_shots': 1000000}, 'version': 2, 'support_qiskit': True}\n",
            "base_primitive._run:INFO:2024-04-04 12:07:50,545: Submitting job using options {'options': {'default_shots': 1000000}, 'version': 2, 'support_qiskit': True}\n",
            "base_primitive._run:INFO:2024-04-04 12:08:02,938: Submitting job using options {'options': {'default_shots': 1000000}, 'version': 2, 'support_qiskit': True}\n",
            "base_primitive._run:INFO:2024-04-04 12:08:19,895: Submitting job using options {'options': {'default_shots': 1000000}, 'version': 2, 'support_qiskit': True}\n",
            "base_primitive._run:INFO:2024-04-04 12:08:35,301: Submitting job using options {'options': {'default_shots': 1000000}, 'version': 2, 'support_qiskit': True}\n",
            "base_primitive._run:INFO:2024-04-04 12:08:45,891: Submitting job using options {'options': {'default_shots': 1000000}, 'version': 2, 'support_qiskit': True}\n",
            "base_primitive._run:INFO:2024-04-04 12:08:59,372: Submitting job using options {'options': {'default_shots': 1000000}, 'version': 2, 'support_qiskit': True}\n",
            "base_primitive._run:INFO:2024-04-04 12:09:13,548: Submitting job using options {'options': {'default_shots': 1000000}, 'version': 2, 'support_qiskit': True}\n",
            "base_primitive._run:INFO:2024-04-04 12:09:26,452: Submitting job using options {'options': {'default_shots': 1000000}, 'version': 2, 'support_qiskit': True}\n",
            "base_primitive._run:INFO:2024-04-04 12:09:36,941: Submitting job using options {'options': {'default_shots': 1000000}, 'version': 2, 'support_qiskit': True}\n"
          ]
        },
        {
          "name": "stdout",
          "output_type": "stream",
          "text": [
            "Completed for shots = 1000000.0\n"
          ]
        },
        {
          "name": "stderr",
          "output_type": "stream",
          "text": [
            "base_primitive._run:INFO:2024-04-04 12:09:49,950: Submitting job using options {'options': {'default_shots': 10000000}, 'version': 2, 'support_qiskit': True}\n",
            "base_primitive._run:INFO:2024-04-04 12:13:11,955: Submitting job using options {'options': {'default_shots': 10000000}, 'version': 2, 'support_qiskit': True}\n",
            "base_primitive._run:INFO:2024-04-04 12:15:01,012: Submitting job using options {'options': {'default_shots': 10000000}, 'version': 2, 'support_qiskit': True}\n",
            "base_primitive._run:INFO:2024-04-04 12:16:43,037: Submitting job using options {'options': {'default_shots': 10000000}, 'version': 2, 'support_qiskit': True}\n",
            "base_primitive._run:INFO:2024-04-04 12:18:50,836: Submitting job using options {'options': {'default_shots': 10000000}, 'version': 2, 'support_qiskit': True}\n",
            "base_primitive._run:INFO:2024-04-04 12:20:57,224: Submitting job using options {'options': {'default_shots': 10000000}, 'version': 2, 'support_qiskit': True}\n",
            "base_primitive._run:INFO:2024-04-04 12:23:08,767: Submitting job using options {'options': {'default_shots': 10000000}, 'version': 2, 'support_qiskit': True}\n",
            "base_primitive._run:INFO:2024-04-04 12:25:30,001: Submitting job using options {'options': {'default_shots': 10000000}, 'version': 2, 'support_qiskit': True}\n",
            "base_primitive._run:INFO:2024-04-04 12:27:44,440: Submitting job using options {'options': {'default_shots': 10000000}, 'version': 2, 'support_qiskit': True}\n",
            "base_primitive._run:INFO:2024-04-04 12:29:34,111: Submitting job using options {'options': {'default_shots': 10000000}, 'version': 2, 'support_qiskit': True}\n",
            "base_primitive._run:INFO:2024-04-04 12:30:56,876: Submitting job using options {'options': {'default_shots': 10000000}, 'version': 2, 'support_qiskit': True}\n",
            "base_primitive._run:INFO:2024-04-04 12:33:06,545: Submitting job using options {'options': {'default_shots': 10000000}, 'version': 2, 'support_qiskit': True}\n",
            "base_primitive._run:INFO:2024-04-04 12:34:28,386: Submitting job using options {'options': {'default_shots': 10000000}, 'version': 2, 'support_qiskit': True}\n",
            "base_primitive._run:INFO:2024-04-04 12:36:11,380: Submitting job using options {'options': {'default_shots': 10000000}, 'version': 2, 'support_qiskit': True}\n",
            "base_primitive._run:INFO:2024-04-04 12:37:34,429: Submitting job using options {'options': {'default_shots': 10000000}, 'version': 2, 'support_qiskit': True}\n",
            "base_primitive._run:INFO:2024-04-04 12:39:52,611: Submitting job using options {'options': {'default_shots': 10000000}, 'version': 2, 'support_qiskit': True}\n",
            "base_primitive._run:INFO:2024-04-04 12:41:18,662: Submitting job using options {'options': {'default_shots': 10000000}, 'version': 2, 'support_qiskit': True}\n",
            "base_primitive._run:INFO:2024-04-04 12:43:44,900: Submitting job using options {'options': {'default_shots': 10000000}, 'version': 2, 'support_qiskit': True}\n",
            "base_primitive._run:INFO:2024-04-04 12:44:59,661: Submitting job using options {'options': {'default_shots': 10000000}, 'version': 2, 'support_qiskit': True}\n",
            "base_primitive._run:INFO:2024-04-04 12:46:34,826: Submitting job using options {'options': {'default_shots': 10000000}, 'version': 2, 'support_qiskit': True}\n"
          ]
        },
        {
          "name": "stdout",
          "output_type": "stream",
          "text": [
            "Completed for shots = 10000000.0\n"
          ]
        }
      ],
      "source": [
        "#For differnet value of shots\n",
        "Shots = [1e1,1e2,1e3,1e4,1e5,1e6,1e7]\n",
        "Emin = []\n",
        "for i in Shots:\n",
        "    result = minimization(i)\n",
        "    print('Completed for shots =',i)\n",
        "    Emin.append(result)"
      ]
    },
    {
      "cell_type": "code",
      "execution_count": null,
      "id": "0e196a36-b18e-454b-ad20-04d9199853b2",
      "metadata": {
        "tags": [],
        "id": "0e196a36-b18e-454b-ad20-04d9199853b2",
        "outputId": "d4ca0b32-0c1c-4a75-968f-9a496b9339b0"
      },
      "outputs": [
        {
          "name": "stdout",
          "output_type": "stream",
          "text": [
            "True_value: -1.7491610912381628\n",
            "E_min: [-1.6692594625000008, -2.3951925875000013, -1.5091276285156257, -1.7004595200079868, -1.747690381760001, -1.7482837862679994, -1.7507229982048007]\n"
          ]
        }
      ],
      "source": [
        "#Calculate true value using StatevectorEstimator\n",
        "from qiskit.primitives import StatevectorEstimator\n",
        "estimator1 = StatevectorEstimator()\n",
        "\n",
        "res1 = minimize(\n",
        "    cost_func,x0,\n",
        "    args=(ansatz, hamiltonian, estimator1),method=\"cobyla\")\n",
        "True_value = res1.fun\n",
        "print('True_value:',True_value)\n",
        "print('E_min:',Emin)"
      ]
    },
    {
      "cell_type": "code",
      "execution_count": null,
      "id": "fab0b6ba-1251-41ed-ace7-e93b6f237d21",
      "metadata": {
        "tags": [],
        "id": "fab0b6ba-1251-41ed-ace7-e93b6f237d21",
        "outputId": "3e34ffde-fade-46d1-8e4a-d43e51a69cf0"
      },
      "outputs": [
        {
          "name": "stdout",
          "output_type": "stream",
          "text": [
            "Median Absolute Deviation (MAD): 0.047230861752014075\n"
          ]
        }
      ],
      "source": [
        "#Calculation of MAD\n",
        "def median_absolute_deviation(data):\n",
        "    # Calculate the median of the dataset\n",
        "    median = np.median(data)\n",
        "\n",
        "    # Calculate the absolute deviations from the median\n",
        "    abs_deviations = np.abs(data - median)\n",
        "\n",
        "    # Calculate the median of the absolute deviations\n",
        "    mad = np.median(abs_deviations)\n",
        "\n",
        "    return mad\n",
        "\n",
        "#MAD for Emin (different shots)\n",
        "data = np.array(Emin)\n",
        "mad_value = median_absolute_deviation(data)\n",
        "print(\"Median Absolute Deviation (MAD):\", mad_value)"
      ]
    },
    {
      "cell_type": "code",
      "execution_count": null,
      "id": "9ffcf650-b3ea-4b89-9e7c-f83493f72ae8",
      "metadata": {
        "id": "9ffcf650-b3ea-4b89-9e7c-f83493f72ae8",
        "outputId": "852e9e24-d1a0-4c4c-ac18-8042319ac20c"
      },
      "outputs": [
        {
          "data": {
            "text/plain": [
              "<matplotlib.legend.Legend at 0x7f912c133760>"
            ]
          },
          "execution_count": 28,
          "metadata": {},
          "output_type": "execute_result"
        },
        {
          "data": {
            "image/png": "[encoded data removed]",
            "text/plain": [
              "<Figure size 640x480 with 1 Axes>"
            ]
          },
          "metadata": {},
          "output_type": "display_data"
        }
      ],
      "source": [
        "#Shots vs Emin\n",
        "plt.plot(Shots,Emin)\n",
        "plt.axhline(y=True_value, color='k', linestyle='--',label = 'True_value')\n",
        "plt.errorbar(Shots,Emin, yerr=mad_value, fmt='o', color='blue', ecolor='red', capsize=5)\n",
        "plt.xscale('log')\n",
        "plt.ylim(-2.5,-1.4)\n",
        "plt.xlim(85,5e7)\n",
        "plt.ylabel('E_min(MeV)')\n",
        "plt.xlabel('Shots')\n",
        "plt.legend()"
      ]
    },
    {
      "cell_type": "code",
      "execution_count": null,
      "id": "087e35cb-519e-4b1e-b495-4c20f0914bb9",
      "metadata": {
        "tags": [],
        "id": "087e35cb-519e-4b1e-b495-4c20f0914bb9",
        "outputId": "eb7506b7-9965-4376-bd5e-2a48a3ee5744"
      },
      "outputs": [
        {
          "data": {
            "text/plain": [
              "<matplotlib.legend.Legend at 0x7f912c0c1780>"
            ]
          },
          "execution_count": 29,
          "metadata": {},
          "output_type": "execute_result"
        },
        {
          "data": {
            "image/png": "[encoded data removed]",
            "text/plain": [
              "<Figure size 640x480 with 1 Axes>"
            ]
          },
          "metadata": {},
          "output_type": "display_data"
        }
      ],
      "source": [
        "#Relative error\n",
        "Error = []\n",
        "for i in Emin:\n",
        "    error = np.abs(True_value-i)/np.abs(True_value)\n",
        "    Error.append(error)\n",
        "Error\n",
        "plt.plot(Shots,Error,label = 'Relative error vs shots')\n",
        "plt.xscale('log')\n",
        "plt.xlim(100,1e7)\n",
        "plt.ylabel('Relative error')\n",
        "plt.xlabel('Shots')\n",
        "plt.legend()"
      ]
    },
    {
      "cell_type": "code",
      "execution_count": null,
      "id": "45543236-0ad1-4d15-9ad1-978c28fd4240",
      "metadata": {
        "tags": [],
        "id": "45543236-0ad1-4d15-9ad1-978c28fd4240",
        "outputId": "b2606e5a-8c4a-4ddd-f4bb-4d659089b18e"
      },
      "outputs": [
        {
          "name": "stderr",
          "output_type": "stream",
          "text": [
            "base_primitive._run:INFO:2024-04-04 12:48:33,264: Submitting job using options {'options': {'default_shots': 1000}, 'version': 2, 'support_qiskit': True}\n",
            "base_primitive._run:INFO:2024-04-04 12:48:37,280: Submitting job using options {'options': {'default_shots': 1000}, 'version': 2, 'support_qiskit': True}\n",
            "base_primitive._run:INFO:2024-04-04 12:48:40,366: Submitting job using options {'options': {'default_shots': 1000}, 'version': 2, 'support_qiskit': True}\n",
            "base_primitive._run:INFO:2024-04-04 12:48:43,888: Submitting job using options {'options': {'default_shots': 1000}, 'version': 2, 'support_qiskit': True}\n",
            "base_primitive._run:INFO:2024-04-04 12:48:47,848: Submitting job using options {'options': {'default_shots': 1000}, 'version': 2, 'support_qiskit': True}\n",
            "base_primitive._run:INFO:2024-04-04 12:48:51,572: Submitting job using options {'options': {'default_shots': 1000}, 'version': 2, 'support_qiskit': True}\n",
            "base_primitive._run:INFO:2024-04-04 12:48:54,734: Submitting job using options {'options': {'default_shots': 1000}, 'version': 2, 'support_qiskit': True}\n",
            "base_primitive._run:INFO:2024-04-04 12:48:59,213: Submitting job using options {'options': {'default_shots': 1000}, 'version': 2, 'support_qiskit': True}\n",
            "base_primitive._run:INFO:2024-04-04 12:49:02,228: Submitting job using options {'options': {'default_shots': 1000}, 'version': 2, 'support_qiskit': True}\n",
            "base_primitive._run:INFO:2024-04-04 12:49:05,362: Submitting job using options {'options': {'default_shots': 1000}, 'version': 2, 'support_qiskit': True}\n",
            "base_primitive._run:INFO:2024-04-04 12:49:09,043: Submitting job using options {'options': {'default_shots': 1000}, 'version': 2, 'support_qiskit': True}\n",
            "base_primitive._run:INFO:2024-04-04 12:49:12,496: Submitting job using options {'options': {'default_shots': 1000}, 'version': 2, 'support_qiskit': True}\n",
            "base_primitive._run:INFO:2024-04-04 12:49:18,089: Submitting job using options {'options': {'default_shots': 1000}, 'version': 2, 'support_qiskit': True}\n",
            "base_primitive._run:INFO:2024-04-04 12:49:21,680: Submitting job using options {'options': {'default_shots': 1000}, 'version': 2, 'support_qiskit': True}\n",
            "base_primitive._run:INFO:2024-04-04 12:49:26,177: Submitting job using options {'options': {'default_shots': 1000}, 'version': 2, 'support_qiskit': True}\n",
            "base_primitive._run:INFO:2024-04-04 12:49:29,474: Submitting job using options {'options': {'default_shots': 1000}, 'version': 2, 'support_qiskit': True}\n",
            "base_primitive._run:INFO:2024-04-04 12:49:35,568: Submitting job using options {'options': {'default_shots': 1000}, 'version': 2, 'support_qiskit': True}\n",
            "base_primitive._run:INFO:2024-04-04 12:49:39,026: Submitting job using options {'options': {'default_shots': 1000}, 'version': 2, 'support_qiskit': True}\n",
            "base_primitive._run:INFO:2024-04-04 12:49:44,767: Submitting job using options {'options': {'default_shots': 1000}, 'version': 2, 'support_qiskit': True}\n",
            "base_primitive._run:INFO:2024-04-04 12:49:47,848: Submitting job using options {'options': {'default_shots': 1000}, 'version': 2, 'support_qiskit': True}\n",
            "base_primitive._run:INFO:2024-04-04 12:49:51,201: Submitting job using options {'options': {'default_shots': 1000}, 'version': 2, 'support_qiskit': True}\n"
          ]
        },
        {
          "name": "stdout",
          "output_type": "stream",
          "text": [
            "Completed for runs= 1\n"
          ]
        },
        {
          "name": "stderr",
          "output_type": "stream",
          "text": [
            "base_primitive._run:INFO:2024-04-04 12:49:55,182: Submitting job using options {'options': {'default_shots': 1000}, 'version': 2, 'support_qiskit': True}\n",
            "base_primitive._run:INFO:2024-04-04 12:49:58,717: Submitting job using options {'options': {'default_shots': 1000}, 'version': 2, 'support_qiskit': True}\n",
            "base_primitive._run:INFO:2024-04-04 12:50:01,688: Submitting job using options {'options': {'default_shots': 1000}, 'version': 2, 'support_qiskit': True}\n",
            "base_primitive._run:INFO:2024-04-04 12:50:05,240: Submitting job using options {'options': {'default_shots': 1000}, 'version': 2, 'support_qiskit': True}\n",
            "base_primitive._run:INFO:2024-04-04 12:50:08,699: Submitting job using options {'options': {'default_shots': 1000}, 'version': 2, 'support_qiskit': True}\n",
            "base_primitive._run:INFO:2024-04-04 12:50:12,820: Submitting job using options {'options': {'default_shots': 1000}, 'version': 2, 'support_qiskit': True}\n",
            "base_primitive._run:INFO:2024-04-04 12:50:16,728: Submitting job using options {'options': {'default_shots': 1000}, 'version': 2, 'support_qiskit': True}\n",
            "base_primitive._run:INFO:2024-04-04 12:50:19,866: Submitting job using options {'options': {'default_shots': 1000}, 'version': 2, 'support_qiskit': True}\n",
            "base_primitive._run:INFO:2024-04-04 12:50:25,644: Submitting job using options {'options': {'default_shots': 1000}, 'version': 2, 'support_qiskit': True}\n",
            "base_primitive._run:INFO:2024-04-04 12:50:28,751: Submitting job using options {'options': {'default_shots': 1000}, 'version': 2, 'support_qiskit': True}\n",
            "base_primitive._run:INFO:2024-04-04 12:50:34,250: Submitting job using options {'options': {'default_shots': 1000}, 'version': 2, 'support_qiskit': True}\n",
            "base_primitive._run:INFO:2024-04-04 12:50:38,119: Submitting job using options {'options': {'default_shots': 1000}, 'version': 2, 'support_qiskit': True}\n",
            "base_primitive._run:INFO:2024-04-04 12:50:41,628: Submitting job using options {'options': {'default_shots': 1000}, 'version': 2, 'support_qiskit': True}\n",
            "base_primitive._run:INFO:2024-04-04 12:50:45,252: Submitting job using options {'options': {'default_shots': 1000}, 'version': 2, 'support_qiskit': True}\n",
            "base_primitive._run:INFO:2024-04-04 12:50:48,334: Submitting job using options {'options': {'default_shots': 1000}, 'version': 2, 'support_qiskit': True}\n",
            "base_primitive._run:INFO:2024-04-04 12:50:51,931: Submitting job using options {'options': {'default_shots': 1000}, 'version': 2, 'support_qiskit': True}\n",
            "base_primitive._run:INFO:2024-04-04 12:50:55,724: Submitting job using options {'options': {'default_shots': 1000}, 'version': 2, 'support_qiskit': True}\n",
            "base_primitive._run:INFO:2024-04-04 12:50:58,892: Submitting job using options {'options': {'default_shots': 1000}, 'version': 2, 'support_qiskit': True}\n",
            "base_primitive._run:INFO:2024-04-04 12:51:05,951: Submitting job using options {'options': {'default_shots': 1000}, 'version': 2, 'support_qiskit': True}\n",
            "base_primitive._run:INFO:2024-04-04 12:51:10,056: Submitting job using options {'options': {'default_shots': 1000}, 'version': 2, 'support_qiskit': True}\n"
          ]
        },
        {
          "name": "stdout",
          "output_type": "stream",
          "text": [
            "Completed for runs= 2\n"
          ]
        },
        {
          "name": "stderr",
          "output_type": "stream",
          "text": [
            "base_primitive._run:INFO:2024-04-04 12:51:13,724: Submitting job using options {'options': {'default_shots': 1000}, 'version': 2, 'support_qiskit': True}\n",
            "base_primitive._run:INFO:2024-04-04 12:51:16,637: Submitting job using options {'options': {'default_shots': 1000}, 'version': 2, 'support_qiskit': True}\n",
            "base_primitive._run:INFO:2024-04-04 12:51:20,580: Submitting job using options {'options': {'default_shots': 1000}, 'version': 2, 'support_qiskit': True}\n",
            "base_primitive._run:INFO:2024-04-04 12:51:23,960: Submitting job using options {'options': {'default_shots': 1000}, 'version': 2, 'support_qiskit': True}\n",
            "base_primitive._run:INFO:2024-04-04 12:51:27,361: Submitting job using options {'options': {'default_shots': 1000}, 'version': 2, 'support_qiskit': True}\n",
            "base_primitive._run:INFO:2024-04-04 12:51:30,826: Submitting job using options {'options': {'default_shots': 1000}, 'version': 2, 'support_qiskit': True}\n",
            "base_primitive._run:INFO:2024-04-04 12:51:33,988: Submitting job using options {'options': {'default_shots': 1000}, 'version': 2, 'support_qiskit': True}\n",
            "base_primitive._run:INFO:2024-04-04 12:51:37,620: Submitting job using options {'options': {'default_shots': 1000}, 'version': 2, 'support_qiskit': True}\n",
            "base_primitive._run:INFO:2024-04-04 12:51:40,559: Submitting job using options {'options': {'default_shots': 1000}, 'version': 2, 'support_qiskit': True}\n",
            "base_primitive._run:INFO:2024-04-04 12:51:44,080: Submitting job using options {'options': {'default_shots': 1000}, 'version': 2, 'support_qiskit': True}\n",
            "base_primitive._run:INFO:2024-04-04 12:51:47,584: Submitting job using options {'options': {'default_shots': 1000}, 'version': 2, 'support_qiskit': True}\n",
            "base_primitive._run:INFO:2024-04-04 12:51:51,081: Submitting job using options {'options': {'default_shots': 1000}, 'version': 2, 'support_qiskit': True}\n",
            "base_primitive._run:INFO:2024-04-04 12:51:54,843: Submitting job using options {'options': {'default_shots': 1000}, 'version': 2, 'support_qiskit': True}\n",
            "base_primitive._run:INFO:2024-04-04 12:51:57,998: Submitting job using options {'options': {'default_shots': 1000}, 'version': 2, 'support_qiskit': True}\n",
            "base_primitive._run:INFO:2024-04-04 12:52:01,764: Submitting job using options {'options': {'default_shots': 1000}, 'version': 2, 'support_qiskit': True}\n",
            "base_primitive._run:INFO:2024-04-04 12:52:05,256: Submitting job using options {'options': {'default_shots': 1000}, 'version': 2, 'support_qiskit': True}\n",
            "base_primitive._run:INFO:2024-04-04 12:52:09,091: Submitting job using options {'options': {'default_shots': 1000}, 'version': 2, 'support_qiskit': True}\n",
            "base_primitive._run:INFO:2024-04-04 12:52:12,404: Submitting job using options {'options': {'default_shots': 1000}, 'version': 2, 'support_qiskit': True}\n",
            "base_primitive._run:INFO:2024-04-04 12:52:16,333: Submitting job using options {'options': {'default_shots': 1000}, 'version': 2, 'support_qiskit': True}\n",
            "base_primitive._run:INFO:2024-04-04 12:52:19,332: Submitting job using options {'options': {'default_shots': 1000}, 'version': 2, 'support_qiskit': True}\n",
            "base_primitive._run:INFO:2024-04-04 12:52:22,334: Submitting job using options {'options': {'default_shots': 1000}, 'version': 2, 'support_qiskit': True}\n"
          ]
        },
        {
          "name": "stdout",
          "output_type": "stream",
          "text": [
            "Completed for runs= 3\n"
          ]
        },
        {
          "name": "stderr",
          "output_type": "stream",
          "text": [
            "base_primitive._run:INFO:2024-04-04 12:52:25,692: Submitting job using options {'options': {'default_shots': 1000}, 'version': 2, 'support_qiskit': True}\n",
            "base_primitive._run:INFO:2024-04-04 12:52:28,709: Submitting job using options {'options': {'default_shots': 1000}, 'version': 2, 'support_qiskit': True}\n",
            "base_primitive._run:INFO:2024-04-04 12:52:31,964: Submitting job using options {'options': {'default_shots': 1000}, 'version': 2, 'support_qiskit': True}\n",
            "base_primitive._run:INFO:2024-04-04 12:52:35,695: Submitting job using options {'options': {'default_shots': 1000}, 'version': 2, 'support_qiskit': True}\n",
            "base_primitive._run:INFO:2024-04-04 12:52:38,798: Submitting job using options {'options': {'default_shots': 1000}, 'version': 2, 'support_qiskit': True}\n",
            "base_primitive._run:INFO:2024-04-04 12:52:44,952: Submitting job using options {'options': {'default_shots': 1000}, 'version': 2, 'support_qiskit': True}\n",
            "base_primitive._run:INFO:2024-04-04 12:52:48,783: Submitting job using options {'options': {'default_shots': 1000}, 'version': 2, 'support_qiskit': True}\n",
            "base_primitive._run:INFO:2024-04-04 12:52:52,797: Submitting job using options {'options': {'default_shots': 1000}, 'version': 2, 'support_qiskit': True}\n",
            "base_primitive._run:INFO:2024-04-04 12:52:56,827: Submitting job using options {'options': {'default_shots': 1000}, 'version': 2, 'support_qiskit': True}\n",
            "base_primitive._run:INFO:2024-04-04 12:53:00,923: Submitting job using options {'options': {'default_shots': 1000}, 'version': 2, 'support_qiskit': True}\n",
            "base_primitive._run:INFO:2024-04-04 12:53:04,058: Submitting job using options {'options': {'default_shots': 1000}, 'version': 2, 'support_qiskit': True}\n",
            "base_primitive._run:INFO:2024-04-04 12:53:08,204: Submitting job using options {'options': {'default_shots': 1000}, 'version': 2, 'support_qiskit': True}\n",
            "base_primitive._run:INFO:2024-04-04 12:53:13,526: Submitting job using options {'options': {'default_shots': 1000}, 'version': 2, 'support_qiskit': True}\n",
            "base_primitive._run:INFO:2024-04-04 12:53:16,878: Submitting job using options {'options': {'default_shots': 1000}, 'version': 2, 'support_qiskit': True}\n",
            "base_primitive._run:INFO:2024-04-04 12:53:20,384: Submitting job using options {'options': {'default_shots': 1000}, 'version': 2, 'support_qiskit': True}\n",
            "base_primitive._run:INFO:2024-04-04 12:53:23,464: Submitting job using options {'options': {'default_shots': 1000}, 'version': 2, 'support_qiskit': True}\n",
            "base_primitive._run:INFO:2024-04-04 12:53:26,908: Submitting job using options {'options': {'default_shots': 1000}, 'version': 2, 'support_qiskit': True}\n",
            "base_primitive._run:INFO:2024-04-04 12:53:30,401: Submitting job using options {'options': {'default_shots': 1000}, 'version': 2, 'support_qiskit': True}\n",
            "base_primitive._run:INFO:2024-04-04 12:53:35,265: Submitting job using options {'options': {'default_shots': 1000}, 'version': 2, 'support_qiskit': True}\n",
            "base_primitive._run:INFO:2024-04-04 12:53:38,803: Submitting job using options {'options': {'default_shots': 1000}, 'version': 2, 'support_qiskit': True}\n",
            "base_primitive._run:INFO:2024-04-04 12:53:42,440: Submitting job using options {'options': {'default_shots': 1000}, 'version': 2, 'support_qiskit': True}\n"
          ]
        },
        {
          "name": "stdout",
          "output_type": "stream",
          "text": [
            "Completed for runs= 4\n"
          ]
        },
        {
          "name": "stderr",
          "output_type": "stream",
          "text": [
            "base_primitive._run:INFO:2024-04-04 12:53:46,311: Submitting job using options {'options': {'default_shots': 1000}, 'version': 2, 'support_qiskit': True}\n",
            "base_primitive._run:INFO:2024-04-04 12:53:50,400: Submitting job using options {'options': {'default_shots': 1000}, 'version': 2, 'support_qiskit': True}\n",
            "base_primitive._run:INFO:2024-04-04 12:53:54,075: Submitting job using options {'options': {'default_shots': 1000}, 'version': 2, 'support_qiskit': True}\n",
            "base_primitive._run:INFO:2024-04-04 12:53:57,336: Submitting job using options {'options': {'default_shots': 1000}, 'version': 2, 'support_qiskit': True}\n",
            "base_primitive._run:INFO:2024-04-04 12:54:00,912: Submitting job using options {'options': {'default_shots': 1000}, 'version': 2, 'support_qiskit': True}\n",
            "base_primitive._run:INFO:2024-04-04 12:54:04,420: Submitting job using options {'options': {'default_shots': 1000}, 'version': 2, 'support_qiskit': True}\n",
            "base_primitive._run:INFO:2024-04-04 12:54:10,175: Submitting job using options {'options': {'default_shots': 1000}, 'version': 2, 'support_qiskit': True}\n",
            "base_primitive._run:INFO:2024-04-04 12:54:13,610: Submitting job using options {'options': {'default_shots': 1000}, 'version': 2, 'support_qiskit': True}\n",
            "base_primitive._run:INFO:2024-04-04 12:54:17,037: Submitting job using options {'options': {'default_shots': 1000}, 'version': 2, 'support_qiskit': True}\n",
            "base_primitive._run:INFO:2024-04-04 12:54:20,776: Submitting job using options {'options': {'default_shots': 1000}, 'version': 2, 'support_qiskit': True}\n",
            "base_primitive._run:INFO:2024-04-04 12:54:24,292: Submitting job using options {'options': {'default_shots': 1000}, 'version': 2, 'support_qiskit': True}\n",
            "base_primitive._run:INFO:2024-04-04 12:54:29,816: Submitting job using options {'options': {'default_shots': 1000}, 'version': 2, 'support_qiskit': True}\n",
            "base_primitive._run:INFO:2024-04-04 12:54:32,820: Submitting job using options {'options': {'default_shots': 1000}, 'version': 2, 'support_qiskit': True}\n",
            "base_primitive._run:INFO:2024-04-04 12:54:38,672: Submitting job using options {'options': {'default_shots': 1000}, 'version': 2, 'support_qiskit': True}\n",
            "base_primitive._run:INFO:2024-04-04 12:54:42,998: Submitting job using options {'options': {'default_shots': 1000}, 'version': 2, 'support_qiskit': True}\n",
            "base_primitive._run:INFO:2024-04-04 12:54:49,091: Submitting job using options {'options': {'default_shots': 1000}, 'version': 2, 'support_qiskit': True}\n",
            "base_primitive._run:INFO:2024-04-04 12:54:52,120: Submitting job using options {'options': {'default_shots': 1000}, 'version': 2, 'support_qiskit': True}\n",
            "base_primitive._run:INFO:2024-04-04 12:54:55,902: Submitting job using options {'options': {'default_shots': 1000}, 'version': 2, 'support_qiskit': True}\n",
            "base_primitive._run:INFO:2024-04-04 12:54:59,689: Submitting job using options {'options': {'default_shots': 1000}, 'version': 2, 'support_qiskit': True}\n",
            "base_primitive._run:INFO:2024-04-04 12:55:03,942: Submitting job using options {'options': {'default_shots': 1000}, 'version': 2, 'support_qiskit': True}\n"
          ]
        },
        {
          "name": "stdout",
          "output_type": "stream",
          "text": [
            "Completed for runs= 5\n"
          ]
        },
        {
          "name": "stderr",
          "output_type": "stream",
          "text": [
            "base_primitive._run:INFO:2024-04-04 12:55:06,985: Submitting job using options {'options': {'default_shots': 1000}, 'version': 2, 'support_qiskit': True}\n",
            "base_primitive._run:INFO:2024-04-04 12:55:10,692: Submitting job using options {'options': {'default_shots': 1000}, 'version': 2, 'support_qiskit': True}\n",
            "base_primitive._run:INFO:2024-04-04 12:55:14,228: Submitting job using options {'options': {'default_shots': 1000}, 'version': 2, 'support_qiskit': True}\n",
            "base_primitive._run:INFO:2024-04-04 12:55:17,665: Submitting job using options {'options': {'default_shots': 1000}, 'version': 2, 'support_qiskit': True}\n",
            "base_primitive._run:INFO:2024-04-04 12:55:21,555: Submitting job using options {'options': {'default_shots': 1000}, 'version': 2, 'support_qiskit': True}\n",
            "base_primitive._run:INFO:2024-04-04 12:55:24,584: Submitting job using options {'options': {'default_shots': 1000}, 'version': 2, 'support_qiskit': True}\n",
            "base_primitive._run:INFO:2024-04-04 12:55:28,115: Submitting job using options {'options': {'default_shots': 1000}, 'version': 2, 'support_qiskit': True}\n",
            "base_primitive._run:INFO:2024-04-04 12:55:33,949: Submitting job using options {'options': {'default_shots': 1000}, 'version': 2, 'support_qiskit': True}\n",
            "base_primitive._run:INFO:2024-04-04 12:55:38,032: Submitting job using options {'options': {'default_shots': 1000}, 'version': 2, 'support_qiskit': True}\n",
            "base_primitive._run:INFO:2024-04-04 12:55:42,105: Submitting job using options {'options': {'default_shots': 1000}, 'version': 2, 'support_qiskit': True}\n",
            "base_primitive._run:INFO:2024-04-04 12:55:45,892: Submitting job using options {'options': {'default_shots': 1000}, 'version': 2, 'support_qiskit': True}\n",
            "base_primitive._run:INFO:2024-04-04 12:55:50,040: Submitting job using options {'options': {'default_shots': 1000}, 'version': 2, 'support_qiskit': True}\n",
            "base_primitive._run:INFO:2024-04-04 12:55:53,736: Submitting job using options {'options': {'default_shots': 1000}, 'version': 2, 'support_qiskit': True}\n",
            "base_primitive._run:INFO:2024-04-04 12:55:56,914: Submitting job using options {'options': {'default_shots': 1000}, 'version': 2, 'support_qiskit': True}\n",
            "base_primitive._run:INFO:2024-04-04 12:56:00,442: Submitting job using options {'options': {'default_shots': 1000}, 'version': 2, 'support_qiskit': True}\n",
            "base_primitive._run:INFO:2024-04-04 12:56:04,532: Submitting job using options {'options': {'default_shots': 1000}, 'version': 2, 'support_qiskit': True}\n",
            "base_primitive._run:INFO:2024-04-04 12:56:08,652: Submitting job using options {'options': {'default_shots': 1000}, 'version': 2, 'support_qiskit': True}\n",
            "base_primitive._run:INFO:2024-04-04 12:56:12,458: Submitting job using options {'options': {'default_shots': 1000}, 'version': 2, 'support_qiskit': True}\n",
            "base_primitive._run:INFO:2024-04-04 12:56:15,600: Submitting job using options {'options': {'default_shots': 1000}, 'version': 2, 'support_qiskit': True}\n",
            "base_primitive._run:INFO:2024-04-04 12:56:19,992: Submitting job using options {'options': {'default_shots': 1000}, 'version': 2, 'support_qiskit': True}\n",
            "base_primitive._run:INFO:2024-04-04 12:56:26,848: Submitting job using options {'options': {'default_shots': 1000}, 'version': 2, 'support_qiskit': True}\n",
            "base_primitive._run:INFO:2024-04-04 12:56:30,344: Submitting job using options {'options': {'default_shots': 1000}, 'version': 2, 'support_qiskit': True}\n"
          ]
        },
        {
          "name": "stdout",
          "output_type": "stream",
          "text": [
            "Completed for runs= 6\n"
          ]
        },
        {
          "name": "stderr",
          "output_type": "stream",
          "text": [
            "base_primitive._run:INFO:2024-04-04 12:56:37,664: Submitting job using options {'options': {'default_shots': 1000}, 'version': 2, 'support_qiskit': True}\n",
            "base_primitive._run:INFO:2024-04-04 12:56:41,116: Submitting job using options {'options': {'default_shots': 1000}, 'version': 2, 'support_qiskit': True}\n",
            "base_primitive._run:INFO:2024-04-04 12:56:45,217: Submitting job using options {'options': {'default_shots': 1000}, 'version': 2, 'support_qiskit': True}\n",
            "base_primitive._run:INFO:2024-04-04 12:56:48,461: Submitting job using options {'options': {'default_shots': 1000}, 'version': 2, 'support_qiskit': True}\n",
            "base_primitive._run:INFO:2024-04-04 12:56:52,715: Submitting job using options {'options': {'default_shots': 1000}, 'version': 2, 'support_qiskit': True}\n",
            "base_primitive._run:INFO:2024-04-04 12:56:56,910: Submitting job using options {'options': {'default_shots': 1000}, 'version': 2, 'support_qiskit': True}\n",
            "base_primitive._run:INFO:2024-04-04 12:57:00,474: Submitting job using options {'options': {'default_shots': 1000}, 'version': 2, 'support_qiskit': True}\n",
            "base_primitive._run:INFO:2024-04-04 12:57:04,384: Submitting job using options {'options': {'default_shots': 1000}, 'version': 2, 'support_qiskit': True}\n",
            "base_primitive._run:INFO:2024-04-04 12:57:07,898: Submitting job using options {'options': {'default_shots': 1000}, 'version': 2, 'support_qiskit': True}\n",
            "base_primitive._run:INFO:2024-04-04 12:57:19,273: Submitting job using options {'options': {'default_shots': 1000}, 'version': 2, 'support_qiskit': True}\n",
            "base_primitive._run:INFO:2024-04-04 12:57:24,703: Submitting job using options {'options': {'default_shots': 1000}, 'version': 2, 'support_qiskit': True}\n",
            "base_primitive._run:INFO:2024-04-04 12:57:32,684: Submitting job using options {'options': {'default_shots': 1000}, 'version': 2, 'support_qiskit': True}\n",
            "base_primitive._run:INFO:2024-04-04 12:57:43,503: Submitting job using options {'options': {'default_shots': 1000}, 'version': 2, 'support_qiskit': True}\n",
            "base_primitive._run:INFO:2024-04-04 12:57:51,492: Submitting job using options {'options': {'default_shots': 1000}, 'version': 2, 'support_qiskit': True}\n",
            "base_primitive._run:INFO:2024-04-04 12:58:03,530: Submitting job using options {'options': {'default_shots': 1000}, 'version': 2, 'support_qiskit': True}\n",
            "base_primitive._run:INFO:2024-04-04 12:58:09,483: Submitting job using options {'options': {'default_shots': 1000}, 'version': 2, 'support_qiskit': True}\n",
            "base_primitive._run:INFO:2024-04-04 12:58:13,004: Submitting job using options {'options': {'default_shots': 1000}, 'version': 2, 'support_qiskit': True}\n",
            "base_primitive._run:INFO:2024-04-04 12:58:20,460: Submitting job using options {'options': {'default_shots': 1000}, 'version': 2, 'support_qiskit': True}\n",
            "base_primitive._run:INFO:2024-04-04 12:58:24,060: Submitting job using options {'options': {'default_shots': 1000}, 'version': 2, 'support_qiskit': True}\n"
          ]
        },
        {
          "name": "stdout",
          "output_type": "stream",
          "text": [
            "Completed for runs= 7\n"
          ]
        },
        {
          "name": "stderr",
          "output_type": "stream",
          "text": [
            "base_primitive._run:INFO:2024-04-04 12:58:34,969: Submitting job using options {'options': {'default_shots': 1000}, 'version': 2, 'support_qiskit': True}\n",
            "base_primitive._run:INFO:2024-04-04 12:58:45,869: Submitting job using options {'options': {'default_shots': 1000}, 'version': 2, 'support_qiskit': True}\n",
            "base_primitive._run:INFO:2024-04-04 12:58:49,352: Submitting job using options {'options': {'default_shots': 1000}, 'version': 2, 'support_qiskit': True}\n",
            "base_primitive._run:INFO:2024-04-04 12:58:53,122: Submitting job using options {'options': {'default_shots': 1000}, 'version': 2, 'support_qiskit': True}\n",
            "base_primitive._run:INFO:2024-04-04 12:58:56,260: Submitting job using options {'options': {'default_shots': 1000}, 'version': 2, 'support_qiskit': True}\n",
            "base_primitive._run:INFO:2024-04-04 12:58:59,669: Submitting job using options {'options': {'default_shots': 1000}, 'version': 2, 'support_qiskit': True}\n",
            "base_primitive._run:INFO:2024-04-04 12:59:05,133: Submitting job using options {'options': {'default_shots': 1000}, 'version': 2, 'support_qiskit': True}\n",
            "base_primitive._run:INFO:2024-04-04 12:59:14,264: Submitting job using options {'options': {'default_shots': 1000}, 'version': 2, 'support_qiskit': True}\n",
            "base_primitive._run:INFO:2024-04-04 12:59:24,813: Submitting job using options {'options': {'default_shots': 1000}, 'version': 2, 'support_qiskit': True}\n",
            "base_primitive._run:INFO:2024-04-04 12:59:38,339: Submitting job using options {'options': {'default_shots': 1000}, 'version': 2, 'support_qiskit': True}\n",
            "base_primitive._run:INFO:2024-04-04 12:59:42,431: Submitting job using options {'options': {'default_shots': 1000}, 'version': 2, 'support_qiskit': True}\n",
            "base_primitive._run:INFO:2024-04-04 12:59:51,670: Submitting job using options {'options': {'default_shots': 1000}, 'version': 2, 'support_qiskit': True}\n",
            "base_primitive._run:INFO:2024-04-04 13:00:06,080: Submitting job using options {'options': {'default_shots': 1000}, 'version': 2, 'support_qiskit': True}\n",
            "base_primitive._run:INFO:2024-04-04 13:00:10,314: Submitting job using options {'options': {'default_shots': 1000}, 'version': 2, 'support_qiskit': True}\n",
            "base_primitive._run:INFO:2024-04-04 13:00:18,592: Submitting job using options {'options': {'default_shots': 1000}, 'version': 2, 'support_qiskit': True}\n",
            "base_primitive._run:INFO:2024-04-04 13:00:23,904: Submitting job using options {'options': {'default_shots': 1000}, 'version': 2, 'support_qiskit': True}\n",
            "base_primitive._run:INFO:2024-04-04 13:00:31,821: Submitting job using options {'options': {'default_shots': 1000}, 'version': 2, 'support_qiskit': True}\n",
            "base_primitive._run:INFO:2024-04-04 13:00:40,153: Submitting job using options {'options': {'default_shots': 1000}, 'version': 2, 'support_qiskit': True}\n",
            "base_primitive._run:INFO:2024-04-04 13:00:47,132: Submitting job using options {'options': {'default_shots': 1000}, 'version': 2, 'support_qiskit': True}\n",
            "base_primitive._run:INFO:2024-04-04 13:00:51,060: Submitting job using options {'options': {'default_shots': 1000}, 'version': 2, 'support_qiskit': True}\n"
          ]
        },
        {
          "name": "stdout",
          "output_type": "stream",
          "text": [
            "Completed for runs= 8\n"
          ]
        },
        {
          "name": "stderr",
          "output_type": "stream",
          "text": [
            "base_primitive._run:INFO:2024-04-04 13:00:55,265: Submitting job using options {'options': {'default_shots': 1000}, 'version': 2, 'support_qiskit': True}\n",
            "base_primitive._run:INFO:2024-04-04 13:01:04,372: Submitting job using options {'options': {'default_shots': 1000}, 'version': 2, 'support_qiskit': True}\n",
            "base_primitive._run:INFO:2024-04-04 13:01:13,808: Submitting job using options {'options': {'default_shots': 1000}, 'version': 2, 'support_qiskit': True}\n",
            "base_primitive._run:INFO:2024-04-04 13:01:17,068: Submitting job using options {'options': {'default_shots': 1000}, 'version': 2, 'support_qiskit': True}\n",
            "base_primitive._run:INFO:2024-04-04 13:01:24,510: Submitting job using options {'options': {'default_shots': 1000}, 'version': 2, 'support_qiskit': True}\n",
            "base_primitive._run:INFO:2024-04-04 13:01:28,049: Submitting job using options {'options': {'default_shots': 1000}, 'version': 2, 'support_qiskit': True}\n",
            "base_primitive._run:INFO:2024-04-04 13:01:31,556: Submitting job using options {'options': {'default_shots': 1000}, 'version': 2, 'support_qiskit': True}\n",
            "base_primitive._run:INFO:2024-04-04 13:01:38,721: Submitting job using options {'options': {'default_shots': 1000}, 'version': 2, 'support_qiskit': True}\n",
            "base_primitive._run:INFO:2024-04-04 13:01:47,977: Submitting job using options {'options': {'default_shots': 1000}, 'version': 2, 'support_qiskit': True}\n",
            "base_primitive._run:INFO:2024-04-04 13:01:57,197: Submitting job using options {'options': {'default_shots': 1000}, 'version': 2, 'support_qiskit': True}\n",
            "base_primitive._run:INFO:2024-04-04 13:02:03,986: Submitting job using options {'options': {'default_shots': 1000}, 'version': 2, 'support_qiskit': True}\n",
            "base_primitive._run:INFO:2024-04-04 13:02:08,324: Submitting job using options {'options': {'default_shots': 1000}, 'version': 2, 'support_qiskit': True}\n",
            "base_primitive._run:INFO:2024-04-04 13:02:14,436: Submitting job using options {'options': {'default_shots': 1000}, 'version': 2, 'support_qiskit': True}\n",
            "base_primitive._run:INFO:2024-04-04 13:02:23,660: Submitting job using options {'options': {'default_shots': 1000}, 'version': 2, 'support_qiskit': True}\n",
            "base_primitive._run:INFO:2024-04-04 13:02:28,022: Submitting job using options {'options': {'default_shots': 1000}, 'version': 2, 'support_qiskit': True}\n",
            "base_primitive._run:INFO:2024-04-04 13:02:38,661: Submitting job using options {'options': {'default_shots': 1000}, 'version': 2, 'support_qiskit': True}\n",
            "base_primitive._run:INFO:2024-04-04 13:02:47,124: Submitting job using options {'options': {'default_shots': 1000}, 'version': 2, 'support_qiskit': True}\n",
            "base_primitive._run:INFO:2024-04-04 13:02:50,534: Submitting job using options {'options': {'default_shots': 1000}, 'version': 2, 'support_qiskit': True}\n",
            "base_primitive._run:INFO:2024-04-04 13:02:54,072: Submitting job using options {'options': {'default_shots': 1000}, 'version': 2, 'support_qiskit': True}\n",
            "base_primitive._run:INFO:2024-04-04 13:03:01,560: Submitting job using options {'options': {'default_shots': 1000}, 'version': 2, 'support_qiskit': True}\n",
            "base_primitive._run:INFO:2024-04-04 13:03:09,124: Submitting job using options {'options': {'default_shots': 1000}, 'version': 2, 'support_qiskit': True}\n",
            "base_primitive._run:INFO:2024-04-04 13:03:20,117: Submitting job using options {'options': {'default_shots': 1000}, 'version': 2, 'support_qiskit': True}\n"
          ]
        },
        {
          "name": "stdout",
          "output_type": "stream",
          "text": [
            "Completed for runs= 9\n"
          ]
        },
        {
          "name": "stderr",
          "output_type": "stream",
          "text": [
            "base_primitive._run:INFO:2024-04-04 13:03:24,176: Submitting job using options {'options': {'default_shots': 1000}, 'version': 2, 'support_qiskit': True}\n",
            "base_primitive._run:INFO:2024-04-04 13:03:27,871: Submitting job using options {'options': {'default_shots': 1000}, 'version': 2, 'support_qiskit': True}\n",
            "base_primitive._run:INFO:2024-04-04 13:03:32,168: Submitting job using options {'options': {'default_shots': 1000}, 'version': 2, 'support_qiskit': True}\n",
            "base_primitive._run:INFO:2024-04-04 13:03:35,831: Submitting job using options {'options': {'default_shots': 1000}, 'version': 2, 'support_qiskit': True}\n",
            "base_primitive._run:INFO:2024-04-04 13:03:39,848: Submitting job using options {'options': {'default_shots': 1000}, 'version': 2, 'support_qiskit': True}\n",
            "base_primitive._run:INFO:2024-04-04 13:03:52,131: Submitting job using options {'options': {'default_shots': 1000}, 'version': 2, 'support_qiskit': True}\n",
            "base_primitive._run:INFO:2024-04-04 13:03:59,260: Submitting job using options {'options': {'default_shots': 1000}, 'version': 2, 'support_qiskit': True}\n",
            "base_primitive._run:INFO:2024-04-04 13:04:03,598: Submitting job using options {'options': {'default_shots': 1000}, 'version': 2, 'support_qiskit': True}\n",
            "base_primitive._run:INFO:2024-04-04 13:04:12,590: Submitting job using options {'options': {'default_shots': 1000}, 'version': 2, 'support_qiskit': True}\n",
            "base_primitive._run:INFO:2024-04-04 13:04:16,328: Submitting job using options {'options': {'default_shots': 1000}, 'version': 2, 'support_qiskit': True}\n",
            "base_primitive._run:INFO:2024-04-04 13:04:19,527: Submitting job using options {'options': {'default_shots': 1000}, 'version': 2, 'support_qiskit': True}\n",
            "base_primitive._run:INFO:2024-04-04 13:04:24,484: Submitting job using options {'options': {'default_shots': 1000}, 'version': 2, 'support_qiskit': True}\n",
            "base_primitive._run:INFO:2024-04-04 13:04:33,340: Submitting job using options {'options': {'default_shots': 1000}, 'version': 2, 'support_qiskit': True}\n",
            "base_primitive._run:INFO:2024-04-04 13:04:37,704: Submitting job using options {'options': {'default_shots': 1000}, 'version': 2, 'support_qiskit': True}\n",
            "base_primitive._run:INFO:2024-04-04 13:04:45,158: Submitting job using options {'options': {'default_shots': 1000}, 'version': 2, 'support_qiskit': True}\n",
            "base_primitive._run:INFO:2024-04-04 13:04:58,160: Submitting job using options {'options': {'default_shots': 1000}, 'version': 2, 'support_qiskit': True}\n",
            "base_primitive._run:INFO:2024-04-04 13:05:01,944: Submitting job using options {'options': {'default_shots': 1000}, 'version': 2, 'support_qiskit': True}\n",
            "base_primitive._run:INFO:2024-04-04 13:05:06,840: Submitting job using options {'options': {'default_shots': 1000}, 'version': 2, 'support_qiskit': True}\n",
            "base_primitive._run:INFO:2024-04-04 13:05:14,366: Submitting job using options {'options': {'default_shots': 1000}, 'version': 2, 'support_qiskit': True}\n",
            "base_primitive._run:INFO:2024-04-04 13:05:22,420: Submitting job using options {'options': {'default_shots': 1000}, 'version': 2, 'support_qiskit': True}\n"
          ]
        },
        {
          "name": "stdout",
          "output_type": "stream",
          "text": [
            "Completed for runs= 10\n"
          ]
        },
        {
          "name": "stderr",
          "output_type": "stream",
          "text": [
            "base_primitive._run:INFO:2024-04-04 13:05:31,546: Submitting job using options {'options': {'default_shots': 1000}, 'version': 2, 'support_qiskit': True}\n",
            "base_primitive._run:INFO:2024-04-04 13:05:38,733: Submitting job using options {'options': {'default_shots': 1000}, 'version': 2, 'support_qiskit': True}\n",
            "base_primitive._run:INFO:2024-04-04 13:05:42,060: Submitting job using options {'options': {'default_shots': 1000}, 'version': 2, 'support_qiskit': True}\n",
            "base_primitive._run:INFO:2024-04-04 13:05:45,357: Submitting job using options {'options': {'default_shots': 1000}, 'version': 2, 'support_qiskit': True}\n",
            "base_primitive._run:INFO:2024-04-04 13:05:48,981: Submitting job using options {'options': {'default_shots': 1000}, 'version': 2, 'support_qiskit': True}\n",
            "base_primitive._run:INFO:2024-04-04 13:06:00,601: Submitting job using options {'options': {'default_shots': 1000}, 'version': 2, 'support_qiskit': True}\n",
            "base_primitive._run:INFO:2024-04-04 13:06:10,592: Submitting job using options {'options': {'default_shots': 1000}, 'version': 2, 'support_qiskit': True}\n",
            "base_primitive._run:INFO:2024-04-04 13:06:14,705: Submitting job using options {'options': {'default_shots': 1000}, 'version': 2, 'support_qiskit': True}\n",
            "base_primitive._run:INFO:2024-04-04 13:06:18,100: Submitting job using options {'options': {'default_shots': 1000}, 'version': 2, 'support_qiskit': True}\n",
            "base_primitive._run:INFO:2024-04-04 13:06:25,876: Submitting job using options {'options': {'default_shots': 1000}, 'version': 2, 'support_qiskit': True}\n",
            "base_primitive._run:INFO:2024-04-04 13:06:31,768: Submitting job using options {'options': {'default_shots': 1000}, 'version': 2, 'support_qiskit': True}\n",
            "base_primitive._run:INFO:2024-04-04 13:06:39,604: Submitting job using options {'options': {'default_shots': 1000}, 'version': 2, 'support_qiskit': True}\n",
            "base_primitive._run:INFO:2024-04-04 13:06:48,374: Submitting job using options {'options': {'default_shots': 1000}, 'version': 2, 'support_qiskit': True}\n",
            "base_primitive._run:INFO:2024-04-04 13:06:52,018: Submitting job using options {'options': {'default_shots': 1000}, 'version': 2, 'support_qiskit': True}\n",
            "base_primitive._run:INFO:2024-04-04 13:07:01,816: Submitting job using options {'options': {'default_shots': 1000}, 'version': 2, 'support_qiskit': True}\n",
            "base_primitive._run:INFO:2024-04-04 13:07:10,227: Submitting job using options {'options': {'default_shots': 1000}, 'version': 2, 'support_qiskit': True}\n",
            "base_primitive._run:INFO:2024-04-04 13:07:19,436: Submitting job using options {'options': {'default_shots': 1000}, 'version': 2, 'support_qiskit': True}\n",
            "base_primitive._run:INFO:2024-04-04 13:07:26,803: Submitting job using options {'options': {'default_shots': 1000}, 'version': 2, 'support_qiskit': True}\n",
            "base_primitive._run:INFO:2024-04-04 13:07:30,364: Submitting job using options {'options': {'default_shots': 1000}, 'version': 2, 'support_qiskit': True}\n",
            "base_primitive._run:INFO:2024-04-04 13:07:34,363: Submitting job using options {'options': {'default_shots': 1000}, 'version': 2, 'support_qiskit': True}\n",
            "base_primitive._run:INFO:2024-04-04 13:07:38,507: Submitting job using options {'options': {'default_shots': 1000}, 'version': 2, 'support_qiskit': True}\n",
            "base_primitive._run:INFO:2024-04-04 13:07:43,051: Submitting job using options {'options': {'default_shots': 1000}, 'version': 2, 'support_qiskit': True}\n"
          ]
        },
        {
          "name": "stdout",
          "output_type": "stream",
          "text": [
            "Completed for runs= 11\n"
          ]
        },
        {
          "name": "stderr",
          "output_type": "stream",
          "text": [
            "base_primitive._run:INFO:2024-04-04 13:07:50,896: Submitting job using options {'options': {'default_shots': 1000}, 'version': 2, 'support_qiskit': True}\n",
            "base_primitive._run:INFO:2024-04-04 13:07:58,874: Submitting job using options {'options': {'default_shots': 1000}, 'version': 2, 'support_qiskit': True}\n",
            "base_primitive._run:INFO:2024-04-04 13:08:14,720: Submitting job using options {'options': {'default_shots': 1000}, 'version': 2, 'support_qiskit': True}\n",
            "base_primitive._run:INFO:2024-04-04 13:08:18,395: Submitting job using options {'options': {'default_shots': 1000}, 'version': 2, 'support_qiskit': True}\n",
            "base_primitive._run:INFO:2024-04-04 13:08:21,956: Submitting job using options {'options': {'default_shots': 1000}, 'version': 2, 'support_qiskit': True}\n",
            "base_primitive._run:INFO:2024-04-04 13:08:34,016: Submitting job using options {'options': {'default_shots': 1000}, 'version': 2, 'support_qiskit': True}\n",
            "base_primitive._run:INFO:2024-04-04 13:08:51,644: Submitting job using options {'options': {'default_shots': 1000}, 'version': 2, 'support_qiskit': True}\n",
            "base_primitive._run:INFO:2024-04-04 13:08:55,833: Submitting job using options {'options': {'default_shots': 1000}, 'version': 2, 'support_qiskit': True}\n",
            "base_primitive._run:INFO:2024-04-04 13:08:59,334: Submitting job using options {'options': {'default_shots': 1000}, 'version': 2, 'support_qiskit': True}\n",
            "base_primitive._run:INFO:2024-04-04 13:09:10,874: Submitting job using options {'options': {'default_shots': 1000}, 'version': 2, 'support_qiskit': True}\n",
            "base_primitive._run:INFO:2024-04-04 13:09:17,848: Submitting job using options {'options': {'default_shots': 1000}, 'version': 2, 'support_qiskit': True}\n",
            "base_primitive._run:INFO:2024-04-04 13:09:21,967: Submitting job using options {'options': {'default_shots': 1000}, 'version': 2, 'support_qiskit': True}\n",
            "base_primitive._run:INFO:2024-04-04 13:09:25,648: Submitting job using options {'options': {'default_shots': 1000}, 'version': 2, 'support_qiskit': True}\n",
            "base_primitive._run:INFO:2024-04-04 13:09:29,768: Submitting job using options {'options': {'default_shots': 1000}, 'version': 2, 'support_qiskit': True}\n",
            "base_primitive._run:INFO:2024-04-04 13:09:33,763: Submitting job using options {'options': {'default_shots': 1000}, 'version': 2, 'support_qiskit': True}\n",
            "base_primitive._run:INFO:2024-04-04 13:09:44,604: Submitting job using options {'options': {'default_shots': 1000}, 'version': 2, 'support_qiskit': True}\n",
            "base_primitive._run:INFO:2024-04-04 13:09:52,524: Submitting job using options {'options': {'default_shots': 1000}, 'version': 2, 'support_qiskit': True}\n",
            "base_primitive._run:INFO:2024-04-04 13:09:59,580: Submitting job using options {'options': {'default_shots': 1000}, 'version': 2, 'support_qiskit': True}\n",
            "base_primitive._run:INFO:2024-04-04 13:10:03,665: Submitting job using options {'options': {'default_shots': 1000}, 'version': 2, 'support_qiskit': True}\n",
            "base_primitive._run:INFO:2024-04-04 13:10:12,371: Submitting job using options {'options': {'default_shots': 1000}, 'version': 2, 'support_qiskit': True}\n",
            "base_primitive._run:INFO:2024-04-04 13:10:24,829: Submitting job using options {'options': {'default_shots': 1000}, 'version': 2, 'support_qiskit': True}\n"
          ]
        },
        {
          "name": "stdout",
          "output_type": "stream",
          "text": [
            "Completed for runs= 12\n"
          ]
        },
        {
          "name": "stderr",
          "output_type": "stream",
          "text": [
            "base_primitive._run:INFO:2024-04-04 13:10:32,230: Submitting job using options {'options': {'default_shots': 1000}, 'version': 2, 'support_qiskit': True}\n",
            "base_primitive._run:INFO:2024-04-04 13:10:40,504: Submitting job using options {'options': {'default_shots': 1000}, 'version': 2, 'support_qiskit': True}\n",
            "base_primitive._run:INFO:2024-04-04 13:10:48,463: Submitting job using options {'options': {'default_shots': 1000}, 'version': 2, 'support_qiskit': True}\n",
            "base_primitive._run:INFO:2024-04-04 13:10:59,002: Submitting job using options {'options': {'default_shots': 1000}, 'version': 2, 'support_qiskit': True}\n",
            "base_primitive._run:INFO:2024-04-04 13:11:08,311: Submitting job using options {'options': {'default_shots': 1000}, 'version': 2, 'support_qiskit': True}\n",
            "base_primitive._run:INFO:2024-04-04 13:11:17,744: Submitting job using options {'options': {'default_shots': 1000}, 'version': 2, 'support_qiskit': True}\n",
            "base_primitive._run:INFO:2024-04-04 13:11:24,151: Submitting job using options {'options': {'default_shots': 1000}, 'version': 2, 'support_qiskit': True}\n",
            "base_primitive._run:INFO:2024-04-04 13:11:32,302: Submitting job using options {'options': {'default_shots': 1000}, 'version': 2, 'support_qiskit': True}\n",
            "base_primitive._run:INFO:2024-04-04 13:11:47,608: Submitting job using options {'options': {'default_shots': 1000}, 'version': 2, 'support_qiskit': True}\n",
            "base_primitive._run:INFO:2024-04-04 13:11:51,392: Submitting job using options {'options': {'default_shots': 1000}, 'version': 2, 'support_qiskit': True}\n",
            "base_primitive._run:INFO:2024-04-04 13:12:00,395: Submitting job using options {'options': {'default_shots': 1000}, 'version': 2, 'support_qiskit': True}\n",
            "base_primitive._run:INFO:2024-04-04 13:12:10,168: Submitting job using options {'options': {'default_shots': 1000}, 'version': 2, 'support_qiskit': True}\n",
            "base_primitive._run:INFO:2024-04-04 13:12:19,928: Submitting job using options {'options': {'default_shots': 1000}, 'version': 2, 'support_qiskit': True}\n",
            "base_primitive._run:INFO:2024-04-04 13:12:27,216: Submitting job using options {'options': {'default_shots': 1000}, 'version': 2, 'support_qiskit': True}\n",
            "base_primitive._run:INFO:2024-04-04 13:12:31,005: Submitting job using options {'options': {'default_shots': 1000}, 'version': 2, 'support_qiskit': True}\n",
            "base_primitive._run:INFO:2024-04-04 13:12:34,604: Submitting job using options {'options': {'default_shots': 1000}, 'version': 2, 'support_qiskit': True}\n",
            "base_primitive._run:INFO:2024-04-04 13:12:38,736: Submitting job using options {'options': {'default_shots': 1000}, 'version': 2, 'support_qiskit': True}\n",
            "base_primitive._run:INFO:2024-04-04 13:12:42,127: Submitting job using options {'options': {'default_shots': 1000}, 'version': 2, 'support_qiskit': True}\n",
            "base_primitive._run:INFO:2024-04-04 13:12:54,011: Submitting job using options {'options': {'default_shots': 1000}, 'version': 2, 'support_qiskit': True}\n",
            "base_primitive._run:INFO:2024-04-04 13:12:57,792: Submitting job using options {'options': {'default_shots': 1000}, 'version': 2, 'support_qiskit': True}\n",
            "base_primitive._run:INFO:2024-04-04 13:13:07,377: Submitting job using options {'options': {'default_shots': 1000}, 'version': 2, 'support_qiskit': True}\n",
            "base_primitive._run:INFO:2024-04-04 13:13:11,435: Submitting job using options {'options': {'default_shots': 1000}, 'version': 2, 'support_qiskit': True}\n"
          ]
        },
        {
          "name": "stdout",
          "output_type": "stream",
          "text": [
            "Completed for runs= 13\n"
          ]
        },
        {
          "name": "stderr",
          "output_type": "stream",
          "text": [
            "base_primitive._run:INFO:2024-04-04 13:13:15,092: Submitting job using options {'options': {'default_shots': 1000}, 'version': 2, 'support_qiskit': True}\n",
            "base_primitive._run:INFO:2024-04-04 13:13:18,832: Submitting job using options {'options': {'default_shots': 1000}, 'version': 2, 'support_qiskit': True}\n",
            "base_primitive._run:INFO:2024-04-04 13:13:22,635: Submitting job using options {'options': {'default_shots': 1000}, 'version': 2, 'support_qiskit': True}\n",
            "base_primitive._run:INFO:2024-04-04 13:13:26,485: Submitting job using options {'options': {'default_shots': 1000}, 'version': 2, 'support_qiskit': True}\n",
            "base_primitive._run:INFO:2024-04-04 13:13:34,988: Submitting job using options {'options': {'default_shots': 1000}, 'version': 2, 'support_qiskit': True}\n",
            "base_primitive._run:INFO:2024-04-04 13:13:51,068: Submitting job using options {'options': {'default_shots': 1000}, 'version': 2, 'support_qiskit': True}\n",
            "base_primitive._run:INFO:2024-04-04 13:13:54,929: Submitting job using options {'options': {'default_shots': 1000}, 'version': 2, 'support_qiskit': True}\n",
            "base_primitive._run:INFO:2024-04-04 13:14:01,968: Submitting job using options {'options': {'default_shots': 1000}, 'version': 2, 'support_qiskit': True}\n",
            "base_primitive._run:INFO:2024-04-04 13:14:13,924: Submitting job using options {'options': {'default_shots': 1000}, 'version': 2, 'support_qiskit': True}\n",
            "base_primitive._run:INFO:2024-04-04 13:14:24,815: Submitting job using options {'options': {'default_shots': 1000}, 'version': 2, 'support_qiskit': True}\n",
            "base_primitive._run:INFO:2024-04-04 13:14:28,868: Submitting job using options {'options': {'default_shots': 1000}, 'version': 2, 'support_qiskit': True}\n",
            "base_primitive._run:INFO:2024-04-04 13:14:35,916: Submitting job using options {'options': {'default_shots': 1000}, 'version': 2, 'support_qiskit': True}\n",
            "base_primitive._run:INFO:2024-04-04 13:14:48,084: Submitting job using options {'options': {'default_shots': 1000}, 'version': 2, 'support_qiskit': True}\n",
            "base_primitive._run:INFO:2024-04-04 13:14:56,073: Submitting job using options {'options': {'default_shots': 1000}, 'version': 2, 'support_qiskit': True}\n",
            "base_primitive._run:INFO:2024-04-04 13:14:59,986: Submitting job using options {'options': {'default_shots': 1000}, 'version': 2, 'support_qiskit': True}\n",
            "base_primitive._run:INFO:2024-04-04 13:15:03,704: Submitting job using options {'options': {'default_shots': 1000}, 'version': 2, 'support_qiskit': True}\n",
            "base_primitive._run:INFO:2024-04-04 13:15:10,869: Submitting job using options {'options': {'default_shots': 1000}, 'version': 2, 'support_qiskit': True}\n",
            "base_primitive._run:INFO:2024-04-04 13:15:14,879: Submitting job using options {'options': {'default_shots': 1000}, 'version': 2, 'support_qiskit': True}\n",
            "base_primitive._run:INFO:2024-04-04 13:15:26,907: Submitting job using options {'options': {'default_shots': 1000}, 'version': 2, 'support_qiskit': True}\n",
            "base_primitive._run:INFO:2024-04-04 13:15:36,447: Submitting job using options {'options': {'default_shots': 1000}, 'version': 2, 'support_qiskit': True}\n"
          ]
        },
        {
          "name": "stdout",
          "output_type": "stream",
          "text": [
            "Completed for runs= 14\n"
          ]
        },
        {
          "name": "stderr",
          "output_type": "stream",
          "text": [
            "base_primitive._run:INFO:2024-04-04 13:15:44,419: Submitting job using options {'options': {'default_shots': 1000}, 'version': 2, 'support_qiskit': True}\n",
            "base_primitive._run:INFO:2024-04-04 13:15:47,736: Submitting job using options {'options': {'default_shots': 1000}, 'version': 2, 'support_qiskit': True}\n",
            "base_primitive._run:INFO:2024-04-04 13:16:00,856: Submitting job using options {'options': {'default_shots': 1000}, 'version': 2, 'support_qiskit': True}\n",
            "base_primitive._run:INFO:2024-04-04 13:16:05,126: Submitting job using options {'options': {'default_shots': 1000}, 'version': 2, 'support_qiskit': True}\n",
            "base_primitive._run:INFO:2024-04-04 13:16:14,379: Submitting job using options {'options': {'default_shots': 1000}, 'version': 2, 'support_qiskit': True}\n",
            "base_primitive._run:INFO:2024-04-04 13:16:18,632: Submitting job using options {'options': {'default_shots': 1000}, 'version': 2, 'support_qiskit': True}\n",
            "base_primitive._run:INFO:2024-04-04 13:16:22,080: Submitting job using options {'options': {'default_shots': 1000}, 'version': 2, 'support_qiskit': True}\n",
            "base_primitive._run:INFO:2024-04-04 13:16:25,346: Submitting job using options {'options': {'default_shots': 1000}, 'version': 2, 'support_qiskit': True}\n",
            "base_primitive._run:INFO:2024-04-04 13:16:29,193: Submitting job using options {'options': {'default_shots': 1000}, 'version': 2, 'support_qiskit': True}\n",
            "base_primitive._run:INFO:2024-04-04 13:16:43,056: Submitting job using options {'options': {'default_shots': 1000}, 'version': 2, 'support_qiskit': True}\n",
            "base_primitive._run:INFO:2024-04-04 13:16:50,052: Submitting job using options {'options': {'default_shots': 1000}, 'version': 2, 'support_qiskit': True}\n",
            "base_primitive._run:INFO:2024-04-04 13:16:56,172: Submitting job using options {'options': {'default_shots': 1000}, 'version': 2, 'support_qiskit': True}\n",
            "base_primitive._run:INFO:2024-04-04 13:16:59,880: Submitting job using options {'options': {'default_shots': 1000}, 'version': 2, 'support_qiskit': True}\n",
            "base_primitive._run:INFO:2024-04-04 13:17:04,998: Submitting job using options {'options': {'default_shots': 1000}, 'version': 2, 'support_qiskit': True}\n",
            "base_primitive._run:INFO:2024-04-04 13:17:09,430: Submitting job using options {'options': {'default_shots': 1000}, 'version': 2, 'support_qiskit': True}\n",
            "base_primitive._run:INFO:2024-04-04 13:17:13,308: Submitting job using options {'options': {'default_shots': 1000}, 'version': 2, 'support_qiskit': True}\n",
            "base_primitive._run:INFO:2024-04-04 13:17:26,303: Submitting job using options {'options': {'default_shots': 1000}, 'version': 2, 'support_qiskit': True}\n",
            "base_primitive._run:INFO:2024-04-04 13:17:36,993: Submitting job using options {'options': {'default_shots': 1000}, 'version': 2, 'support_qiskit': True}\n",
            "base_primitive._run:INFO:2024-04-04 13:17:40,808: Submitting job using options {'options': {'default_shots': 1000}, 'version': 2, 'support_qiskit': True}\n",
            "base_primitive._run:INFO:2024-04-04 13:17:44,592: Submitting job using options {'options': {'default_shots': 1000}, 'version': 2, 'support_qiskit': True}\n",
            "base_primitive._run:INFO:2024-04-04 13:17:47,818: Submitting job using options {'options': {'default_shots': 1000}, 'version': 2, 'support_qiskit': True}\n",
            "base_primitive._run:INFO:2024-04-04 13:17:51,124: Submitting job using options {'options': {'default_shots': 1000}, 'version': 2, 'support_qiskit': True}\n"
          ]
        },
        {
          "name": "stdout",
          "output_type": "stream",
          "text": [
            "Completed for runs= 15\n"
          ]
        },
        {
          "name": "stderr",
          "output_type": "stream",
          "text": [
            "base_primitive._run:INFO:2024-04-04 13:17:54,613: Submitting job using options {'options': {'default_shots': 1000}, 'version': 2, 'support_qiskit': True}\n",
            "base_primitive._run:INFO:2024-04-04 13:18:06,587: Submitting job using options {'options': {'default_shots': 1000}, 'version': 2, 'support_qiskit': True}\n",
            "base_primitive._run:INFO:2024-04-04 13:18:14,574: Submitting job using options {'options': {'default_shots': 1000}, 'version': 2, 'support_qiskit': True}\n",
            "base_primitive._run:INFO:2024-04-04 13:18:18,164: Submitting job using options {'options': {'default_shots': 1000}, 'version': 2, 'support_qiskit': True}\n",
            "base_primitive._run:INFO:2024-04-04 13:18:21,978: Submitting job using options {'options': {'default_shots': 1000}, 'version': 2, 'support_qiskit': True}\n",
            "base_primitive._run:INFO:2024-04-04 13:18:26,588: Submitting job using options {'options': {'default_shots': 1000}, 'version': 2, 'support_qiskit': True}\n",
            "base_primitive._run:INFO:2024-04-04 13:18:29,881: Submitting job using options {'options': {'default_shots': 1000}, 'version': 2, 'support_qiskit': True}\n",
            "base_primitive._run:INFO:2024-04-04 13:18:34,091: Submitting job using options {'options': {'default_shots': 1000}, 'version': 2, 'support_qiskit': True}\n",
            "base_primitive._run:INFO:2024-04-04 13:18:48,365: Submitting job using options {'options': {'default_shots': 1000}, 'version': 2, 'support_qiskit': True}\n",
            "base_primitive._run:INFO:2024-04-04 13:18:56,282: Submitting job using options {'options': {'default_shots': 1000}, 'version': 2, 'support_qiskit': True}\n",
            "base_primitive._run:INFO:2024-04-04 13:19:00,285: Submitting job using options {'options': {'default_shots': 1000}, 'version': 2, 'support_qiskit': True}\n",
            "base_primitive._run:INFO:2024-04-04 13:19:05,728: Submitting job using options {'options': {'default_shots': 1000}, 'version': 2, 'support_qiskit': True}\n",
            "base_primitive._run:INFO:2024-04-04 13:19:09,861: Submitting job using options {'options': {'default_shots': 1000}, 'version': 2, 'support_qiskit': True}\n",
            "base_primitive._run:INFO:2024-04-04 13:19:14,302: Submitting job using options {'options': {'default_shots': 1000}, 'version': 2, 'support_qiskit': True}\n",
            "base_primitive._run:INFO:2024-04-04 13:19:17,590: Submitting job using options {'options': {'default_shots': 1000}, 'version': 2, 'support_qiskit': True}\n",
            "base_primitive._run:INFO:2024-04-04 13:19:28,176: Submitting job using options {'options': {'default_shots': 1000}, 'version': 2, 'support_qiskit': True}\n",
            "base_primitive._run:INFO:2024-04-04 13:19:35,320: Submitting job using options {'options': {'default_shots': 1000}, 'version': 2, 'support_qiskit': True}\n",
            "base_primitive._run:INFO:2024-04-04 13:19:41,588: Submitting job using options {'options': {'default_shots': 1000}, 'version': 2, 'support_qiskit': True}\n",
            "base_primitive._run:INFO:2024-04-04 13:19:49,928: Submitting job using options {'options': {'default_shots': 1000}, 'version': 2, 'support_qiskit': True}\n",
            "base_primitive._run:INFO:2024-04-04 13:19:57,583: Submitting job using options {'options': {'default_shots': 1000}, 'version': 2, 'support_qiskit': True}\n",
            "base_primitive._run:INFO:2024-04-04 13:20:01,468: Submitting job using options {'options': {'default_shots': 1000}, 'version': 2, 'support_qiskit': True}\n",
            "base_primitive._run:INFO:2024-04-04 13:20:12,622: Submitting job using options {'options': {'default_shots': 1000}, 'version': 2, 'support_qiskit': True}\n"
          ]
        },
        {
          "name": "stdout",
          "output_type": "stream",
          "text": [
            "Completed for runs= 16\n"
          ]
        },
        {
          "name": "stderr",
          "output_type": "stream",
          "text": [
            "base_primitive._run:INFO:2024-04-04 13:20:27,975: Submitting job using options {'options': {'default_shots': 1000}, 'version': 2, 'support_qiskit': True}\n",
            "base_primitive._run:INFO:2024-04-04 13:20:31,911: Submitting job using options {'options': {'default_shots': 1000}, 'version': 2, 'support_qiskit': True}\n",
            "base_primitive._run:INFO:2024-04-04 13:20:35,611: Submitting job using options {'options': {'default_shots': 1000}, 'version': 2, 'support_qiskit': True}\n",
            "base_primitive._run:INFO:2024-04-04 13:20:43,861: Submitting job using options {'options': {'default_shots': 1000}, 'version': 2, 'support_qiskit': True}\n",
            "base_primitive._run:INFO:2024-04-04 13:20:51,883: Submitting job using options {'options': {'default_shots': 1000}, 'version': 2, 'support_qiskit': True}\n",
            "base_primitive._run:INFO:2024-04-04 13:21:01,230: Submitting job using options {'options': {'default_shots': 1000}, 'version': 2, 'support_qiskit': True}\n",
            "base_primitive._run:INFO:2024-04-04 13:21:16,764: Submitting job using options {'options': {'default_shots': 1000}, 'version': 2, 'support_qiskit': True}\n",
            "base_primitive._run:INFO:2024-04-04 13:21:20,242: Submitting job using options {'options': {'default_shots': 1000}, 'version': 2, 'support_qiskit': True}\n",
            "base_primitive._run:INFO:2024-04-04 13:21:28,224: Submitting job using options {'options': {'default_shots': 1000}, 'version': 2, 'support_qiskit': True}\n",
            "base_primitive._run:INFO:2024-04-04 13:21:34,477: Submitting job using options {'options': {'default_shots': 1000}, 'version': 2, 'support_qiskit': True}\n",
            "base_primitive._run:INFO:2024-04-04 13:21:43,702: Submitting job using options {'options': {'default_shots': 1000}, 'version': 2, 'support_qiskit': True}\n",
            "base_primitive._run:INFO:2024-04-04 13:21:50,820: Submitting job using options {'options': {'default_shots': 1000}, 'version': 2, 'support_qiskit': True}\n",
            "base_primitive._run:INFO:2024-04-04 13:21:54,182: Submitting job using options {'options': {'default_shots': 1000}, 'version': 2, 'support_qiskit': True}\n",
            "base_primitive._run:INFO:2024-04-04 13:21:58,445: Submitting job using options {'options': {'default_shots': 1000}, 'version': 2, 'support_qiskit': True}\n",
            "base_primitive._run:INFO:2024-04-04 13:22:08,068: Submitting job using options {'options': {'default_shots': 1000}, 'version': 2, 'support_qiskit': True}\n",
            "base_primitive._run:INFO:2024-04-04 13:22:12,868: Submitting job using options {'options': {'default_shots': 1000}, 'version': 2, 'support_qiskit': True}\n",
            "base_primitive._run:INFO:2024-04-04 13:22:18,420: Submitting job using options {'options': {'default_shots': 1000}, 'version': 2, 'support_qiskit': True}\n",
            "base_primitive._run:INFO:2024-04-04 13:22:27,407: Submitting job using options {'options': {'default_shots': 1000}, 'version': 2, 'support_qiskit': True}\n",
            "base_primitive._run:INFO:2024-04-04 13:22:31,763: Submitting job using options {'options': {'default_shots': 1000}, 'version': 2, 'support_qiskit': True}\n",
            "base_primitive._run:INFO:2024-04-04 13:22:36,134: Submitting job using options {'options': {'default_shots': 1000}, 'version': 2, 'support_qiskit': True}\n",
            "base_primitive._run:INFO:2024-04-04 13:22:40,436: Submitting job using options {'options': {'default_shots': 1000}, 'version': 2, 'support_qiskit': True}\n"
          ]
        },
        {
          "name": "stdout",
          "output_type": "stream",
          "text": [
            "Completed for runs= 17\n"
          ]
        },
        {
          "name": "stderr",
          "output_type": "stream",
          "text": [
            "base_primitive._run:INFO:2024-04-04 13:22:53,555: Submitting job using options {'options': {'default_shots': 1000}, 'version': 2, 'support_qiskit': True}\n",
            "base_primitive._run:INFO:2024-04-04 13:23:03,904: Submitting job using options {'options': {'default_shots': 1000}, 'version': 2, 'support_qiskit': True}\n",
            "base_primitive._run:INFO:2024-04-04 13:23:09,631: Submitting job using options {'options': {'default_shots': 1000}, 'version': 2, 'support_qiskit': True}\n",
            "base_primitive._run:INFO:2024-04-04 13:23:13,667: Submitting job using options {'options': {'default_shots': 1000}, 'version': 2, 'support_qiskit': True}\n",
            "base_primitive._run:INFO:2024-04-04 13:23:17,488: Submitting job using options {'options': {'default_shots': 1000}, 'version': 2, 'support_qiskit': True}\n",
            "base_primitive._run:INFO:2024-04-04 13:23:20,936: Submitting job using options {'options': {'default_shots': 1000}, 'version': 2, 'support_qiskit': True}\n",
            "base_primitive._run:INFO:2024-04-04 13:23:32,419: Submitting job using options {'options': {'default_shots': 1000}, 'version': 2, 'support_qiskit': True}\n",
            "base_primitive._run:INFO:2024-04-04 13:23:36,780: Submitting job using options {'options': {'default_shots': 1000}, 'version': 2, 'support_qiskit': True}\n",
            "base_primitive._run:INFO:2024-04-04 13:23:53,380: Submitting job using options {'options': {'default_shots': 1000}, 'version': 2, 'support_qiskit': True}\n",
            "base_primitive._run:INFO:2024-04-04 13:23:57,384: Submitting job using options {'options': {'default_shots': 1000}, 'version': 2, 'support_qiskit': True}\n",
            "base_primitive._run:INFO:2024-04-04 13:24:01,220: Submitting job using options {'options': {'default_shots': 1000}, 'version': 2, 'support_qiskit': True}\n",
            "base_primitive._run:INFO:2024-04-04 13:24:05,975: Submitting job using options {'options': {'default_shots': 1000}, 'version': 2, 'support_qiskit': True}\n",
            "base_primitive._run:INFO:2024-04-04 13:24:17,696: Submitting job using options {'options': {'default_shots': 1000}, 'version': 2, 'support_qiskit': True}\n",
            "base_primitive._run:INFO:2024-04-04 13:24:27,971: Submitting job using options {'options': {'default_shots': 1000}, 'version': 2, 'support_qiskit': True}\n",
            "base_primitive._run:INFO:2024-04-04 13:24:31,342: Submitting job using options {'options': {'default_shots': 1000}, 'version': 2, 'support_qiskit': True}\n",
            "base_primitive._run:INFO:2024-04-04 13:24:41,095: Submitting job using options {'options': {'default_shots': 1000}, 'version': 2, 'support_qiskit': True}\n",
            "base_primitive._run:INFO:2024-04-04 13:24:50,511: Submitting job using options {'options': {'default_shots': 1000}, 'version': 2, 'support_qiskit': True}\n",
            "base_primitive._run:INFO:2024-04-04 13:25:00,900: Submitting job using options {'options': {'default_shots': 1000}, 'version': 2, 'support_qiskit': True}\n",
            "base_primitive._run:INFO:2024-04-04 13:25:04,572: Submitting job using options {'options': {'default_shots': 1000}, 'version': 2, 'support_qiskit': True}\n"
          ]
        },
        {
          "name": "stdout",
          "output_type": "stream",
          "text": [
            "Completed for runs= 18\n"
          ]
        },
        {
          "name": "stderr",
          "output_type": "stream",
          "text": [
            "base_primitive._run:INFO:2024-04-04 13:25:08,196: Submitting job using options {'options': {'default_shots': 1000}, 'version': 2, 'support_qiskit': True}\n",
            "base_primitive._run:INFO:2024-04-04 13:25:11,336: Submitting job using options {'options': {'default_shots': 1000}, 'version': 2, 'support_qiskit': True}\n",
            "base_primitive._run:INFO:2024-04-04 13:25:15,152: Submitting job using options {'options': {'default_shots': 1000}, 'version': 2, 'support_qiskit': True}\n",
            "base_primitive._run:INFO:2024-04-04 13:25:26,554: Submitting job using options {'options': {'default_shots': 1000}, 'version': 2, 'support_qiskit': True}\n",
            "base_primitive._run:INFO:2024-04-04 13:25:30,724: Submitting job using options {'options': {'default_shots': 1000}, 'version': 2, 'support_qiskit': True}\n",
            "base_primitive._run:INFO:2024-04-04 13:25:42,095: Submitting job using options {'options': {'default_shots': 1000}, 'version': 2, 'support_qiskit': True}\n",
            "base_primitive._run:INFO:2024-04-04 13:25:46,610: Submitting job using options {'options': {'default_shots': 1000}, 'version': 2, 'support_qiskit': True}\n",
            "base_primitive._run:INFO:2024-04-04 13:25:51,671: Submitting job using options {'options': {'default_shots': 1000}, 'version': 2, 'support_qiskit': True}\n",
            "base_primitive._run:INFO:2024-04-04 13:25:57,441: Submitting job using options {'options': {'default_shots': 1000}, 'version': 2, 'support_qiskit': True}\n",
            "base_primitive._run:INFO:2024-04-04 13:26:06,836: Submitting job using options {'options': {'default_shots': 1000}, 'version': 2, 'support_qiskit': True}\n",
            "base_primitive._run:INFO:2024-04-04 13:26:15,608: Submitting job using options {'options': {'default_shots': 1000}, 'version': 2, 'support_qiskit': True}\n",
            "base_primitive._run:INFO:2024-04-04 13:26:20,483: Submitting job using options {'options': {'default_shots': 1000}, 'version': 2, 'support_qiskit': True}\n",
            "base_primitive._run:INFO:2024-04-04 13:26:24,016: Submitting job using options {'options': {'default_shots': 1000}, 'version': 2, 'support_qiskit': True}\n",
            "base_primitive._run:INFO:2024-04-04 13:26:28,432: Submitting job using options {'options': {'default_shots': 1000}, 'version': 2, 'support_qiskit': True}\n",
            "base_primitive._run:INFO:2024-04-04 13:26:32,881: Submitting job using options {'options': {'default_shots': 1000}, 'version': 2, 'support_qiskit': True}\n",
            "base_primitive._run:INFO:2024-04-04 13:26:45,288: Submitting job using options {'options': {'default_shots': 1000}, 'version': 2, 'support_qiskit': True}\n",
            "base_primitive._run:INFO:2024-04-04 13:27:01,437: Submitting job using options {'options': {'default_shots': 1000}, 'version': 2, 'support_qiskit': True}\n",
            "base_primitive._run:INFO:2024-04-04 13:27:08,198: Submitting job using options {'options': {'default_shots': 1000}, 'version': 2, 'support_qiskit': True}\n",
            "base_primitive._run:INFO:2024-04-04 13:27:18,966: Submitting job using options {'options': {'default_shots': 1000}, 'version': 2, 'support_qiskit': True}\n",
            "base_primitive._run:INFO:2024-04-04 13:27:30,247: Submitting job using options {'options': {'default_shots': 1000}, 'version': 2, 'support_qiskit': True}\n"
          ]
        },
        {
          "name": "stdout",
          "output_type": "stream",
          "text": [
            "Completed for runs= 19\n"
          ]
        },
        {
          "name": "stderr",
          "output_type": "stream",
          "text": [
            "base_primitive._run:INFO:2024-04-04 13:27:34,153: Submitting job using options {'options': {'default_shots': 1000}, 'version': 2, 'support_qiskit': True}\n",
            "base_primitive._run:INFO:2024-04-04 13:27:38,311: Submitting job using options {'options': {'default_shots': 1000}, 'version': 2, 'support_qiskit': True}\n",
            "base_primitive._run:INFO:2024-04-04 13:27:42,040: Submitting job using options {'options': {'default_shots': 1000}, 'version': 2, 'support_qiskit': True}\n",
            "base_primitive._run:INFO:2024-04-04 13:27:45,564: Submitting job using options {'options': {'default_shots': 1000}, 'version': 2, 'support_qiskit': True}\n",
            "base_primitive._run:INFO:2024-04-04 13:27:49,055: Submitting job using options {'options': {'default_shots': 1000}, 'version': 2, 'support_qiskit': True}\n",
            "base_primitive._run:INFO:2024-04-04 13:27:52,514: Submitting job using options {'options': {'default_shots': 1000}, 'version': 2, 'support_qiskit': True}\n",
            "base_primitive._run:INFO:2024-04-04 13:27:55,640: Submitting job using options {'options': {'default_shots': 1000}, 'version': 2, 'support_qiskit': True}\n",
            "base_primitive._run:INFO:2024-04-04 13:27:58,759: Submitting job using options {'options': {'default_shots': 1000}, 'version': 2, 'support_qiskit': True}\n",
            "base_primitive._run:INFO:2024-04-04 13:28:02,496: Submitting job using options {'options': {'default_shots': 1000}, 'version': 2, 'support_qiskit': True}\n",
            "base_primitive._run:INFO:2024-04-04 13:28:06,156: Submitting job using options {'options': {'default_shots': 1000}, 'version': 2, 'support_qiskit': True}\n",
            "base_primitive._run:INFO:2024-04-04 13:28:09,672: Submitting job using options {'options': {'default_shots': 1000}, 'version': 2, 'support_qiskit': True}\n",
            "base_primitive._run:INFO:2024-04-04 13:28:15,088: Submitting job using options {'options': {'default_shots': 1000}, 'version': 2, 'support_qiskit': True}\n",
            "base_primitive._run:INFO:2024-04-04 13:28:22,384: Submitting job using options {'options': {'default_shots': 1000}, 'version': 2, 'support_qiskit': True}\n",
            "base_primitive._run:INFO:2024-04-04 13:28:26,038: Submitting job using options {'options': {'default_shots': 1000}, 'version': 2, 'support_qiskit': True}\n",
            "base_primitive._run:INFO:2024-04-04 13:28:29,752: Submitting job using options {'options': {'default_shots': 1000}, 'version': 2, 'support_qiskit': True}\n",
            "base_primitive._run:INFO:2024-04-04 13:28:32,897: Submitting job using options {'options': {'default_shots': 1000}, 'version': 2, 'support_qiskit': True}\n",
            "base_primitive._run:INFO:2024-04-04 13:28:36,418: Submitting job using options {'options': {'default_shots': 1000}, 'version': 2, 'support_qiskit': True}\n",
            "base_primitive._run:INFO:2024-04-04 13:28:40,101: Submitting job using options {'options': {'default_shots': 1000}, 'version': 2, 'support_qiskit': True}\n",
            "base_primitive._run:INFO:2024-04-04 13:28:43,448: Submitting job using options {'options': {'default_shots': 1000}, 'version': 2, 'support_qiskit': True}\n",
            "base_primitive._run:INFO:2024-04-04 13:28:47,576: Submitting job using options {'options': {'default_shots': 1000}, 'version': 2, 'support_qiskit': True}\n",
            "base_primitive._run:INFO:2024-04-04 13:28:51,271: Submitting job using options {'options': {'default_shots': 1000}, 'version': 2, 'support_qiskit': True}\n",
            "base_primitive._run:INFO:2024-04-04 13:28:54,561: Submitting job using options {'options': {'default_shots': 1000}, 'version': 2, 'support_qiskit': True}\n"
          ]
        },
        {
          "name": "stdout",
          "output_type": "stream",
          "text": [
            "Completed for runs= 20\n"
          ]
        },
        {
          "name": "stderr",
          "output_type": "stream",
          "text": [
            "base_primitive._run:INFO:2024-04-04 13:28:57,608: Submitting job using options {'options': {'default_shots': 1000}, 'version': 2, 'support_qiskit': True}\n",
            "base_primitive._run:INFO:2024-04-04 13:29:01,955: Submitting job using options {'options': {'default_shots': 1000}, 'version': 2, 'support_qiskit': True}\n",
            "base_primitive._run:INFO:2024-04-04 13:29:05,255: Submitting job using options {'options': {'default_shots': 1000}, 'version': 2, 'support_qiskit': True}\n",
            "base_primitive._run:INFO:2024-04-04 13:29:08,723: Submitting job using options {'options': {'default_shots': 1000}, 'version': 2, 'support_qiskit': True}\n",
            "base_primitive._run:INFO:2024-04-04 13:29:12,079: Submitting job using options {'options': {'default_shots': 1000}, 'version': 2, 'support_qiskit': True}\n",
            "base_primitive._run:INFO:2024-04-04 13:29:16,094: Submitting job using options {'options': {'default_shots': 1000}, 'version': 2, 'support_qiskit': True}\n",
            "base_primitive._run:INFO:2024-04-04 13:29:19,240: Submitting job using options {'options': {'default_shots': 1000}, 'version': 2, 'support_qiskit': True}\n",
            "base_primitive._run:INFO:2024-04-04 13:29:22,388: Submitting job using options {'options': {'default_shots': 1000}, 'version': 2, 'support_qiskit': True}\n",
            "base_primitive._run:INFO:2024-04-04 13:29:26,636: Submitting job using options {'options': {'default_shots': 1000}, 'version': 2, 'support_qiskit': True}\n",
            "base_primitive._run:INFO:2024-04-04 13:29:30,096: Submitting job using options {'options': {'default_shots': 1000}, 'version': 2, 'support_qiskit': True}\n",
            "base_primitive._run:INFO:2024-04-04 13:29:37,805: Submitting job using options {'options': {'default_shots': 1000}, 'version': 2, 'support_qiskit': True}\n",
            "base_primitive._run:INFO:2024-04-04 13:29:41,474: Submitting job using options {'options': {'default_shots': 1000}, 'version': 2, 'support_qiskit': True}\n",
            "base_primitive._run:INFO:2024-04-04 13:29:45,266: Submitting job using options {'options': {'default_shots': 1000}, 'version': 2, 'support_qiskit': True}\n",
            "base_primitive._run:INFO:2024-04-04 13:29:50,140: Submitting job using options {'options': {'default_shots': 1000}, 'version': 2, 'support_qiskit': True}\n",
            "base_primitive._run:INFO:2024-04-04 13:29:53,708: Submitting job using options {'options': {'default_shots': 1000}, 'version': 2, 'support_qiskit': True}\n",
            "base_primitive._run:INFO:2024-04-04 13:29:58,536: Submitting job using options {'options': {'default_shots': 1000}, 'version': 2, 'support_qiskit': True}\n",
            "base_primitive._run:INFO:2024-04-04 13:30:01,740: Submitting job using options {'options': {'default_shots': 1000}, 'version': 2, 'support_qiskit': True}\n",
            "base_primitive._run:INFO:2024-04-04 13:30:04,922: Submitting job using options {'options': {'default_shots': 1000}, 'version': 2, 'support_qiskit': True}\n",
            "base_primitive._run:INFO:2024-04-04 13:30:08,520: Submitting job using options {'options': {'default_shots': 1000}, 'version': 2, 'support_qiskit': True}\n",
            "base_primitive._run:INFO:2024-04-04 13:30:11,908: Submitting job using options {'options': {'default_shots': 1000}, 'version': 2, 'support_qiskit': True}\n",
            "base_primitive._run:INFO:2024-04-04 13:30:16,128: Submitting job using options {'options': {'default_shots': 1000}, 'version': 2, 'support_qiskit': True}\n",
            "base_primitive._run:INFO:2024-04-04 13:30:19,241: Submitting job using options {'options': {'default_shots': 1000}, 'version': 2, 'support_qiskit': True}\n",
            "base_primitive._run:INFO:2024-04-04 13:30:22,835: Submitting job using options {'options': {'default_shots': 1000}, 'version': 2, 'support_qiskit': True}\n"
          ]
        },
        {
          "name": "stdout",
          "output_type": "stream",
          "text": [
            "Completed for runs= 21\n"
          ]
        },
        {
          "name": "stderr",
          "output_type": "stream",
          "text": [
            "base_primitive._run:INFO:2024-04-04 13:30:26,665: Submitting job using options {'options': {'default_shots': 1000}, 'version': 2, 'support_qiskit': True}\n",
            "base_primitive._run:INFO:2024-04-04 13:30:29,943: Submitting job using options {'options': {'default_shots': 1000}, 'version': 2, 'support_qiskit': True}\n",
            "base_primitive._run:INFO:2024-04-04 13:30:34,053: Submitting job using options {'options': {'default_shots': 1000}, 'version': 2, 'support_qiskit': True}\n",
            "base_primitive._run:INFO:2024-04-04 13:30:37,984: Submitting job using options {'options': {'default_shots': 1000}, 'version': 2, 'support_qiskit': True}\n",
            "base_primitive._run:INFO:2024-04-04 13:30:41,952: Submitting job using options {'options': {'default_shots': 1000}, 'version': 2, 'support_qiskit': True}\n",
            "base_primitive._run:INFO:2024-04-04 13:30:45,743: Submitting job using options {'options': {'default_shots': 1000}, 'version': 2, 'support_qiskit': True}\n",
            "base_primitive._run:INFO:2024-04-04 13:30:49,624: Submitting job using options {'options': {'default_shots': 1000}, 'version': 2, 'support_qiskit': True}\n",
            "base_primitive._run:INFO:2024-04-04 13:30:53,388: Submitting job using options {'options': {'default_shots': 1000}, 'version': 2, 'support_qiskit': True}\n",
            "base_primitive._run:INFO:2024-04-04 13:30:57,283: Submitting job using options {'options': {'default_shots': 1000}, 'version': 2, 'support_qiskit': True}\n",
            "base_primitive._run:INFO:2024-04-04 13:31:01,016: Submitting job using options {'options': {'default_shots': 1000}, 'version': 2, 'support_qiskit': True}\n",
            "base_primitive._run:INFO:2024-04-04 13:31:04,788: Submitting job using options {'options': {'default_shots': 1000}, 'version': 2, 'support_qiskit': True}\n",
            "base_primitive._run:INFO:2024-04-04 13:31:11,384: Submitting job using options {'options': {'default_shots': 1000}, 'version': 2, 'support_qiskit': True}\n",
            "base_primitive._run:INFO:2024-04-04 13:31:15,122: Submitting job using options {'options': {'default_shots': 1000}, 'version': 2, 'support_qiskit': True}\n",
            "base_primitive._run:INFO:2024-04-04 13:31:18,728: Submitting job using options {'options': {'default_shots': 1000}, 'version': 2, 'support_qiskit': True}\n",
            "base_primitive._run:INFO:2024-04-04 13:31:22,515: Submitting job using options {'options': {'default_shots': 1000}, 'version': 2, 'support_qiskit': True}\n",
            "base_primitive._run:INFO:2024-04-04 13:31:34,032: Submitting job using options {'options': {'default_shots': 1000}, 'version': 2, 'support_qiskit': True}\n",
            "base_primitive._run:INFO:2024-04-04 13:31:40,159: Submitting job using options {'options': {'default_shots': 1000}, 'version': 2, 'support_qiskit': True}\n",
            "base_primitive._run:INFO:2024-04-04 13:31:45,030: Submitting job using options {'options': {'default_shots': 1000}, 'version': 2, 'support_qiskit': True}\n",
            "base_primitive._run:INFO:2024-04-04 13:31:52,748: Submitting job using options {'options': {'default_shots': 1000}, 'version': 2, 'support_qiskit': True}\n",
            "base_primitive._run:INFO:2024-04-04 13:32:01,838: Submitting job using options {'options': {'default_shots': 1000}, 'version': 2, 'support_qiskit': True}\n",
            "base_primitive._run:INFO:2024-04-04 13:32:11,512: Submitting job using options {'options': {'default_shots': 1000}, 'version': 2, 'support_qiskit': True}\n",
            "base_primitive._run:INFO:2024-04-04 13:32:15,317: Submitting job using options {'options': {'default_shots': 1000}, 'version': 2, 'support_qiskit': True}\n"
          ]
        },
        {
          "name": "stdout",
          "output_type": "stream",
          "text": [
            "Completed for runs= 22\n"
          ]
        },
        {
          "name": "stderr",
          "output_type": "stream",
          "text": [
            "base_primitive._run:INFO:2024-04-04 13:32:25,110: Submitting job using options {'options': {'default_shots': 1000}, 'version': 2, 'support_qiskit': True}\n",
            "base_primitive._run:INFO:2024-04-04 13:32:29,062: Submitting job using options {'options': {'default_shots': 1000}, 'version': 2, 'support_qiskit': True}\n",
            "base_primitive._run:INFO:2024-04-04 13:32:32,655: Submitting job using options {'options': {'default_shots': 1000}, 'version': 2, 'support_qiskit': True}\n",
            "base_primitive._run:INFO:2024-04-04 13:32:37,296: Submitting job using options {'options': {'default_shots': 1000}, 'version': 2, 'support_qiskit': True}\n",
            "base_primitive._run:INFO:2024-04-04 13:32:50,656: Submitting job using options {'options': {'default_shots': 1000}, 'version': 2, 'support_qiskit': True}\n",
            "base_primitive._run:INFO:2024-04-04 13:32:59,860: Submitting job using options {'options': {'default_shots': 1000}, 'version': 2, 'support_qiskit': True}\n",
            "base_primitive._run:INFO:2024-04-04 13:33:08,061: Submitting job using options {'options': {'default_shots': 1000}, 'version': 2, 'support_qiskit': True}\n",
            "base_primitive._run:INFO:2024-04-04 13:33:11,276: Submitting job using options {'options': {'default_shots': 1000}, 'version': 2, 'support_qiskit': True}\n",
            "base_primitive._run:INFO:2024-04-04 13:33:15,944: Submitting job using options {'options': {'default_shots': 1000}, 'version': 2, 'support_qiskit': True}\n",
            "base_primitive._run:INFO:2024-04-04 13:33:23,798: Submitting job using options {'options': {'default_shots': 1000}, 'version': 2, 'support_qiskit': True}\n",
            "base_primitive._run:INFO:2024-04-04 13:33:27,664: Submitting job using options {'options': {'default_shots': 1000}, 'version': 2, 'support_qiskit': True}\n",
            "base_primitive._run:INFO:2024-04-04 13:33:36,512: Submitting job using options {'options': {'default_shots': 1000}, 'version': 2, 'support_qiskit': True}\n",
            "base_primitive._run:INFO:2024-04-04 13:33:44,204: Submitting job using options {'options': {'default_shots': 1000}, 'version': 2, 'support_qiskit': True}\n",
            "base_primitive._run:INFO:2024-04-04 13:33:47,408: Submitting job using options {'options': {'default_shots': 1000}, 'version': 2, 'support_qiskit': True}\n",
            "base_primitive._run:INFO:2024-04-04 13:33:52,247: Submitting job using options {'options': {'default_shots': 1000}, 'version': 2, 'support_qiskit': True}\n",
            "base_primitive._run:INFO:2024-04-04 13:34:07,744: Submitting job using options {'options': {'default_shots': 1000}, 'version': 2, 'support_qiskit': True}\n",
            "base_primitive._run:INFO:2024-04-04 13:34:16,620: Submitting job using options {'options': {'default_shots': 1000}, 'version': 2, 'support_qiskit': True}\n",
            "base_primitive._run:INFO:2024-04-04 13:34:25,236: Submitting job using options {'options': {'default_shots': 1000}, 'version': 2, 'support_qiskit': True}\n",
            "base_primitive._run:INFO:2024-04-04 13:34:28,909: Submitting job using options {'options': {'default_shots': 1000}, 'version': 2, 'support_qiskit': True}\n",
            "base_primitive._run:INFO:2024-04-04 13:34:34,114: Submitting job using options {'options': {'default_shots': 1000}, 'version': 2, 'support_qiskit': True}\n"
          ]
        },
        {
          "name": "stdout",
          "output_type": "stream",
          "text": [
            "Completed for runs= 23\n"
          ]
        },
        {
          "name": "stderr",
          "output_type": "stream",
          "text": [
            "base_primitive._run:INFO:2024-04-04 13:34:41,390: Submitting job using options {'options': {'default_shots': 1000}, 'version': 2, 'support_qiskit': True}\n",
            "base_primitive._run:INFO:2024-04-04 13:34:45,807: Submitting job using options {'options': {'default_shots': 1000}, 'version': 2, 'support_qiskit': True}\n",
            "base_primitive._run:INFO:2024-04-04 13:34:55,372: Submitting job using options {'options': {'default_shots': 1000}, 'version': 2, 'support_qiskit': True}\n",
            "base_primitive._run:INFO:2024-04-04 13:35:03,682: Submitting job using options {'options': {'default_shots': 1000}, 'version': 2, 'support_qiskit': True}\n",
            "base_primitive._run:INFO:2024-04-04 13:35:06,857: Submitting job using options {'options': {'default_shots': 1000}, 'version': 2, 'support_qiskit': True}\n",
            "base_primitive._run:INFO:2024-04-04 13:35:10,853: Submitting job using options {'options': {'default_shots': 1000}, 'version': 2, 'support_qiskit': True}\n",
            "base_primitive._run:INFO:2024-04-04 13:35:23,241: Submitting job using options {'options': {'default_shots': 1000}, 'version': 2, 'support_qiskit': True}\n",
            "base_primitive._run:INFO:2024-04-04 13:35:33,876: Submitting job using options {'options': {'default_shots': 1000}, 'version': 2, 'support_qiskit': True}\n",
            "base_primitive._run:INFO:2024-04-04 13:35:40,357: Submitting job using options {'options': {'default_shots': 1000}, 'version': 2, 'support_qiskit': True}\n",
            "base_primitive._run:INFO:2024-04-04 13:35:43,813: Submitting job using options {'options': {'default_shots': 1000}, 'version': 2, 'support_qiskit': True}\n",
            "base_primitive._run:INFO:2024-04-04 13:35:47,099: Submitting job using options {'options': {'default_shots': 1000}, 'version': 2, 'support_qiskit': True}\n",
            "base_primitive._run:INFO:2024-04-04 13:35:50,336: Submitting job using options {'options': {'default_shots': 1000}, 'version': 2, 'support_qiskit': True}\n",
            "base_primitive._run:INFO:2024-04-04 13:36:01,887: Submitting job using options {'options': {'default_shots': 1000}, 'version': 2, 'support_qiskit': True}\n",
            "base_primitive._run:INFO:2024-04-04 13:36:05,454: Submitting job using options {'options': {'default_shots': 1000}, 'version': 2, 'support_qiskit': True}\n",
            "base_primitive._run:INFO:2024-04-04 13:36:16,064: Submitting job using options {'options': {'default_shots': 1000}, 'version': 2, 'support_qiskit': True}\n",
            "base_primitive._run:INFO:2024-04-04 13:36:20,321: Submitting job using options {'options': {'default_shots': 1000}, 'version': 2, 'support_qiskit': True}\n",
            "base_primitive._run:INFO:2024-04-04 13:36:24,208: Submitting job using options {'options': {'default_shots': 1000}, 'version': 2, 'support_qiskit': True}\n",
            "base_primitive._run:INFO:2024-04-04 13:36:28,404: Submitting job using options {'options': {'default_shots': 1000}, 'version': 2, 'support_qiskit': True}\n",
            "base_primitive._run:INFO:2024-04-04 13:36:41,665: Submitting job using options {'options': {'default_shots': 1000}, 'version': 2, 'support_qiskit': True}\n",
            "base_primitive._run:INFO:2024-04-04 13:36:52,463: Submitting job using options {'options': {'default_shots': 1000}, 'version': 2, 'support_qiskit': True}\n"
          ]
        },
        {
          "name": "stdout",
          "output_type": "stream",
          "text": [
            "Completed for runs= 24\n"
          ]
        },
        {
          "name": "stderr",
          "output_type": "stream",
          "text": [
            "base_primitive._run:INFO:2024-04-04 13:36:59,845: Submitting job using options {'options': {'default_shots': 1000}, 'version': 2, 'support_qiskit': True}\n",
            "base_primitive._run:INFO:2024-04-04 13:37:03,191: Submitting job using options {'options': {'default_shots': 1000}, 'version': 2, 'support_qiskit': True}\n",
            "base_primitive._run:INFO:2024-04-04 13:37:06,780: Submitting job using options {'options': {'default_shots': 1000}, 'version': 2, 'support_qiskit': True}\n",
            "base_primitive._run:INFO:2024-04-04 13:37:10,760: Submitting job using options {'options': {'default_shots': 1000}, 'version': 2, 'support_qiskit': True}\n",
            "base_primitive._run:INFO:2024-04-04 13:37:18,668: Submitting job using options {'options': {'default_shots': 1000}, 'version': 2, 'support_qiskit': True}\n",
            "base_primitive._run:INFO:2024-04-04 13:37:22,121: Submitting job using options {'options': {'default_shots': 1000}, 'version': 2, 'support_qiskit': True}\n",
            "base_primitive._run:INFO:2024-04-04 13:37:32,087: Submitting job using options {'options': {'default_shots': 1000}, 'version': 2, 'support_qiskit': True}\n",
            "base_primitive._run:INFO:2024-04-04 13:37:39,293: Submitting job using options {'options': {'default_shots': 1000}, 'version': 2, 'support_qiskit': True}\n",
            "base_primitive._run:INFO:2024-04-04 13:37:43,153: Submitting job using options {'options': {'default_shots': 1000}, 'version': 2, 'support_qiskit': True}\n",
            "base_primitive._run:INFO:2024-04-04 13:37:46,513: Submitting job using options {'options': {'default_shots': 1000}, 'version': 2, 'support_qiskit': True}\n",
            "base_primitive._run:INFO:2024-04-04 13:37:51,384: Submitting job using options {'options': {'default_shots': 1000}, 'version': 2, 'support_qiskit': True}\n",
            "base_primitive._run:INFO:2024-04-04 13:38:04,436: Submitting job using options {'options': {'default_shots': 1000}, 'version': 2, 'support_qiskit': True}\n",
            "base_primitive._run:INFO:2024-04-04 13:38:08,048: Submitting job using options {'options': {'default_shots': 1000}, 'version': 2, 'support_qiskit': True}\n",
            "base_primitive._run:INFO:2024-04-04 13:38:17,726: Submitting job using options {'options': {'default_shots': 1000}, 'version': 2, 'support_qiskit': True}\n",
            "base_primitive._run:INFO:2024-04-04 13:38:21,291: Submitting job using options {'options': {'default_shots': 1000}, 'version': 2, 'support_qiskit': True}\n",
            "base_primitive._run:INFO:2024-04-04 13:38:28,664: Submitting job using options {'options': {'default_shots': 1000}, 'version': 2, 'support_qiskit': True}\n",
            "base_primitive._run:INFO:2024-04-04 13:38:32,510: Submitting job using options {'options': {'default_shots': 1000}, 'version': 2, 'support_qiskit': True}\n",
            "base_primitive._run:INFO:2024-04-04 13:38:43,264: Submitting job using options {'options': {'default_shots': 1000}, 'version': 2, 'support_qiskit': True}\n",
            "base_primitive._run:INFO:2024-04-04 13:38:46,872: Submitting job using options {'options': {'default_shots': 1000}, 'version': 2, 'support_qiskit': True}\n",
            "base_primitive._run:INFO:2024-04-04 13:38:54,184: Submitting job using options {'options': {'default_shots': 1000}, 'version': 2, 'support_qiskit': True}\n"
          ]
        },
        {
          "name": "stdout",
          "output_type": "stream",
          "text": [
            "Completed for runs= 25\n"
          ]
        },
        {
          "name": "stderr",
          "output_type": "stream",
          "text": [
            "base_primitive._run:INFO:2024-04-04 13:39:01,801: Submitting job using options {'options': {'default_shots': 1000}, 'version': 2, 'support_qiskit': True}\n",
            "base_primitive._run:INFO:2024-04-04 13:39:06,100: Submitting job using options {'options': {'default_shots': 1000}, 'version': 2, 'support_qiskit': True}\n",
            "base_primitive._run:INFO:2024-04-04 13:39:13,932: Submitting job using options {'options': {'default_shots': 1000}, 'version': 2, 'support_qiskit': True}\n",
            "base_primitive._run:INFO:2024-04-04 13:39:23,516: Submitting job using options {'options': {'default_shots': 1000}, 'version': 2, 'support_qiskit': True}\n",
            "base_primitive._run:INFO:2024-04-04 13:39:30,192: Submitting job using options {'options': {'default_shots': 1000}, 'version': 2, 'support_qiskit': True}\n",
            "base_primitive._run:INFO:2024-04-04 13:39:38,664: Submitting job using options {'options': {'default_shots': 1000}, 'version': 2, 'support_qiskit': True}\n",
            "base_primitive._run:INFO:2024-04-04 13:39:46,337: Submitting job using options {'options': {'default_shots': 1000}, 'version': 2, 'support_qiskit': True}\n",
            "base_primitive._run:INFO:2024-04-04 13:39:50,848: Submitting job using options {'options': {'default_shots': 1000}, 'version': 2, 'support_qiskit': True}\n",
            "base_primitive._run:INFO:2024-04-04 13:40:03,068: Submitting job using options {'options': {'default_shots': 1000}, 'version': 2, 'support_qiskit': True}\n",
            "base_primitive._run:INFO:2024-04-04 13:40:11,800: Submitting job using options {'options': {'default_shots': 1000}, 'version': 2, 'support_qiskit': True}\n",
            "base_primitive._run:INFO:2024-04-04 13:40:19,179: Submitting job using options {'options': {'default_shots': 1000}, 'version': 2, 'support_qiskit': True}\n",
            "base_primitive._run:INFO:2024-04-04 13:40:22,252: Submitting job using options {'options': {'default_shots': 1000}, 'version': 2, 'support_qiskit': True}\n",
            "base_primitive._run:INFO:2024-04-04 13:40:28,794: Submitting job using options {'options': {'default_shots': 1000}, 'version': 2, 'support_qiskit': True}\n",
            "base_primitive._run:INFO:2024-04-04 13:40:44,184: Submitting job using options {'options': {'default_shots': 1000}, 'version': 2, 'support_qiskit': True}\n",
            "base_primitive._run:INFO:2024-04-04 13:40:52,783: Submitting job using options {'options': {'default_shots': 1000}, 'version': 2, 'support_qiskit': True}\n",
            "base_primitive._run:INFO:2024-04-04 13:41:01,760: Submitting job using options {'options': {'default_shots': 1000}, 'version': 2, 'support_qiskit': True}\n",
            "base_primitive._run:INFO:2024-04-04 13:41:05,500: Submitting job using options {'options': {'default_shots': 1000}, 'version': 2, 'support_qiskit': True}\n",
            "base_primitive._run:INFO:2024-04-04 13:41:09,156: Submitting job using options {'options': {'default_shots': 1000}, 'version': 2, 'support_qiskit': True}\n",
            "base_primitive._run:INFO:2024-04-04 13:41:21,504: Submitting job using options {'options': {'default_shots': 1000}, 'version': 2, 'support_qiskit': True}\n",
            "base_primitive._run:INFO:2024-04-04 13:41:26,523: Submitting job using options {'options': {'default_shots': 1000}, 'version': 2, 'support_qiskit': True}\n",
            "base_primitive._run:INFO:2024-04-04 13:41:31,481: Submitting job using options {'options': {'default_shots': 1000}, 'version': 2, 'support_qiskit': True}\n"
          ]
        },
        {
          "name": "stdout",
          "output_type": "stream",
          "text": [
            "Completed for runs= 26\n"
          ]
        },
        {
          "name": "stderr",
          "output_type": "stream",
          "text": [
            "base_primitive._run:INFO:2024-04-04 13:41:40,870: Submitting job using options {'options': {'default_shots': 1000}, 'version': 2, 'support_qiskit': True}\n",
            "base_primitive._run:INFO:2024-04-04 13:41:44,553: Submitting job using options {'options': {'default_shots': 1000}, 'version': 2, 'support_qiskit': True}\n",
            "base_primitive._run:INFO:2024-04-04 13:41:48,200: Submitting job using options {'options': {'default_shots': 1000}, 'version': 2, 'support_qiskit': True}\n",
            "base_primitive._run:INFO:2024-04-04 13:41:51,489: Submitting job using options {'options': {'default_shots': 1000}, 'version': 2, 'support_qiskit': True}\n",
            "base_primitive._run:INFO:2024-04-04 13:42:03,234: Submitting job using options {'options': {'default_shots': 1000}, 'version': 2, 'support_qiskit': True}\n",
            "base_primitive._run:INFO:2024-04-04 13:42:18,380: Submitting job using options {'options': {'default_shots': 1000}, 'version': 2, 'support_qiskit': True}\n",
            "base_primitive._run:INFO:2024-04-04 13:42:26,033: Submitting job using options {'options': {'default_shots': 1000}, 'version': 2, 'support_qiskit': True}\n",
            "base_primitive._run:INFO:2024-04-04 13:42:31,324: Submitting job using options {'options': {'default_shots': 1000}, 'version': 2, 'support_qiskit': True}\n",
            "base_primitive._run:INFO:2024-04-04 13:42:40,394: Submitting job using options {'options': {'default_shots': 1000}, 'version': 2, 'support_qiskit': True}\n",
            "base_primitive._run:INFO:2024-04-04 13:42:48,684: Submitting job using options {'options': {'default_shots': 1000}, 'version': 2, 'support_qiskit': True}\n",
            "base_primitive._run:INFO:2024-04-04 13:42:56,492: Submitting job using options {'options': {'default_shots': 1000}, 'version': 2, 'support_qiskit': True}\n",
            "base_primitive._run:INFO:2024-04-04 13:43:06,536: Submitting job using options {'options': {'default_shots': 1000}, 'version': 2, 'support_qiskit': True}\n",
            "base_primitive._run:INFO:2024-04-04 13:43:18,512: Submitting job using options {'options': {'default_shots': 1000}, 'version': 2, 'support_qiskit': True}\n",
            "base_primitive._run:INFO:2024-04-04 13:43:25,019: Submitting job using options {'options': {'default_shots': 1000}, 'version': 2, 'support_qiskit': True}\n",
            "base_primitive._run:INFO:2024-04-04 13:43:30,876: Submitting job using options {'options': {'default_shots': 1000}, 'version': 2, 'support_qiskit': True}\n",
            "base_primitive._run:INFO:2024-04-04 13:43:37,736: Submitting job using options {'options': {'default_shots': 1000}, 'version': 2, 'support_qiskit': True}\n",
            "base_primitive._run:INFO:2024-04-04 13:43:43,861: Submitting job using options {'options': {'default_shots': 1000}, 'version': 2, 'support_qiskit': True}\n",
            "base_primitive._run:INFO:2024-04-04 13:43:54,396: Submitting job using options {'options': {'default_shots': 1000}, 'version': 2, 'support_qiskit': True}\n",
            "base_primitive._run:INFO:2024-04-04 13:44:03,860: Submitting job using options {'options': {'default_shots': 1000}, 'version': 2, 'support_qiskit': True}\n",
            "base_primitive._run:INFO:2024-04-04 13:44:09,000: Submitting job using options {'options': {'default_shots': 1000}, 'version': 2, 'support_qiskit': True}\n",
            "base_primitive._run:INFO:2024-04-04 13:44:12,703: Submitting job using options {'options': {'default_shots': 1000}, 'version': 2, 'support_qiskit': True}\n",
            "base_primitive._run:INFO:2024-04-04 13:44:22,920: Submitting job using options {'options': {'default_shots': 1000}, 'version': 2, 'support_qiskit': True}\n"
          ]
        },
        {
          "name": "stdout",
          "output_type": "stream",
          "text": [
            "Completed for runs= 27\n"
          ]
        },
        {
          "name": "stderr",
          "output_type": "stream",
          "text": [
            "base_primitive._run:INFO:2024-04-04 13:44:31,655: Submitting job using options {'options': {'default_shots': 1000}, 'version': 2, 'support_qiskit': True}\n",
            "base_primitive._run:INFO:2024-04-04 13:44:35,112: Submitting job using options {'options': {'default_shots': 1000}, 'version': 2, 'support_qiskit': True}\n",
            "base_primitive._run:INFO:2024-04-04 13:44:39,429: Submitting job using options {'options': {'default_shots': 1000}, 'version': 2, 'support_qiskit': True}\n",
            "base_primitive._run:INFO:2024-04-04 13:44:47,226: Submitting job using options {'options': {'default_shots': 1000}, 'version': 2, 'support_qiskit': True}\n",
            "base_primitive._run:INFO:2024-04-04 13:44:51,204: Submitting job using options {'options': {'default_shots': 1000}, 'version': 2, 'support_qiskit': True}\n",
            "base_primitive._run:INFO:2024-04-04 13:44:55,460: Submitting job using options {'options': {'default_shots': 1000}, 'version': 2, 'support_qiskit': True}\n",
            "base_primitive._run:INFO:2024-04-04 13:44:59,462: Submitting job using options {'options': {'default_shots': 1000}, 'version': 2, 'support_qiskit': True}\n",
            "base_primitive._run:INFO:2024-04-04 13:45:03,743: Submitting job using options {'options': {'default_shots': 1000}, 'version': 2, 'support_qiskit': True}\n",
            "base_primitive._run:INFO:2024-04-04 13:45:12,028: Submitting job using options {'options': {'default_shots': 1000}, 'version': 2, 'support_qiskit': True}\n",
            "base_primitive._run:INFO:2024-04-04 13:45:19,933: Submitting job using options {'options': {'default_shots': 1000}, 'version': 2, 'support_qiskit': True}\n",
            "base_primitive._run:INFO:2024-04-04 13:45:27,026: Submitting job using options {'options': {'default_shots': 1000}, 'version': 2, 'support_qiskit': True}\n",
            "base_primitive._run:INFO:2024-04-04 13:45:35,029: Submitting job using options {'options': {'default_shots': 1000}, 'version': 2, 'support_qiskit': True}\n",
            "base_primitive._run:INFO:2024-04-04 13:45:39,267: Submitting job using options {'options': {'default_shots': 1000}, 'version': 2, 'support_qiskit': True}\n",
            "base_primitive._run:INFO:2024-04-04 13:45:43,276: Submitting job using options {'options': {'default_shots': 1000}, 'version': 2, 'support_qiskit': True}\n",
            "base_primitive._run:INFO:2024-04-04 13:45:47,172: Submitting job using options {'options': {'default_shots': 1000}, 'version': 2, 'support_qiskit': True}\n",
            "base_primitive._run:INFO:2024-04-04 13:45:50,899: Submitting job using options {'options': {'default_shots': 1000}, 'version': 2, 'support_qiskit': True}\n",
            "base_primitive._run:INFO:2024-04-04 13:46:04,797: Submitting job using options {'options': {'default_shots': 1000}, 'version': 2, 'support_qiskit': True}\n",
            "base_primitive._run:INFO:2024-04-04 13:46:21,212: Submitting job using options {'options': {'default_shots': 1000}, 'version': 2, 'support_qiskit': True}\n",
            "base_primitive._run:INFO:2024-04-04 13:46:25,680: Submitting job using options {'options': {'default_shots': 1000}, 'version': 2, 'support_qiskit': True}\n"
          ]
        },
        {
          "name": "stdout",
          "output_type": "stream",
          "text": [
            "Completed for runs= 28\n"
          ]
        },
        {
          "name": "stderr",
          "output_type": "stream",
          "text": [
            "base_primitive._run:INFO:2024-04-04 13:46:29,252: Submitting job using options {'options': {'default_shots': 1000}, 'version': 2, 'support_qiskit': True}\n",
            "base_primitive._run:INFO:2024-04-04 13:46:32,698: Submitting job using options {'options': {'default_shots': 1000}, 'version': 2, 'support_qiskit': True}\n",
            "base_primitive._run:INFO:2024-04-04 13:46:36,426: Submitting job using options {'options': {'default_shots': 1000}, 'version': 2, 'support_qiskit': True}\n",
            "base_primitive._run:INFO:2024-04-04 13:46:49,944: Submitting job using options {'options': {'default_shots': 1000}, 'version': 2, 'support_qiskit': True}\n",
            "base_primitive._run:INFO:2024-04-04 13:46:53,637: Submitting job using options {'options': {'default_shots': 1000}, 'version': 2, 'support_qiskit': True}\n",
            "base_primitive._run:INFO:2024-04-04 13:46:59,161: Submitting job using options {'options': {'default_shots': 1000}, 'version': 2, 'support_qiskit': True}\n",
            "base_primitive._run:INFO:2024-04-04 13:47:06,075: Submitting job using options {'options': {'default_shots': 1000}, 'version': 2, 'support_qiskit': True}\n",
            "base_primitive._run:INFO:2024-04-04 13:47:17,036: Submitting job using options {'options': {'default_shots': 1000}, 'version': 2, 'support_qiskit': True}\n",
            "base_primitive._run:INFO:2024-04-04 13:47:25,988: Submitting job using options {'options': {'default_shots': 1000}, 'version': 2, 'support_qiskit': True}\n",
            "base_primitive._run:INFO:2024-04-04 13:47:29,489: Submitting job using options {'options': {'default_shots': 1000}, 'version': 2, 'support_qiskit': True}\n",
            "base_primitive._run:INFO:2024-04-04 13:47:38,668: Submitting job using options {'options': {'default_shots': 1000}, 'version': 2, 'support_qiskit': True}\n",
            "base_primitive._run:INFO:2024-04-04 13:47:42,985: Submitting job using options {'options': {'default_shots': 1000}, 'version': 2, 'support_qiskit': True}\n",
            "base_primitive._run:INFO:2024-04-04 13:47:51,300: Submitting job using options {'options': {'default_shots': 1000}, 'version': 2, 'support_qiskit': True}\n",
            "base_primitive._run:INFO:2024-04-04 13:48:01,315: Submitting job using options {'options': {'default_shots': 1000}, 'version': 2, 'support_qiskit': True}\n",
            "base_primitive._run:INFO:2024-04-04 13:48:09,652: Submitting job using options {'options': {'default_shots': 1000}, 'version': 2, 'support_qiskit': True}\n",
            "base_primitive._run:INFO:2024-04-04 13:48:19,000: Submitting job using options {'options': {'default_shots': 1000}, 'version': 2, 'support_qiskit': True}\n",
            "base_primitive._run:INFO:2024-04-04 13:48:22,491: Submitting job using options {'options': {'default_shots': 1000}, 'version': 2, 'support_qiskit': True}\n",
            "base_primitive._run:INFO:2024-04-04 13:48:25,956: Submitting job using options {'options': {'default_shots': 1000}, 'version': 2, 'support_qiskit': True}\n",
            "base_primitive._run:INFO:2024-04-04 13:48:30,058: Submitting job using options {'options': {'default_shots': 1000}, 'version': 2, 'support_qiskit': True}\n",
            "base_primitive._run:INFO:2024-04-04 13:48:41,147: Submitting job using options {'options': {'default_shots': 1000}, 'version': 2, 'support_qiskit': True}\n"
          ]
        },
        {
          "name": "stdout",
          "output_type": "stream",
          "text": [
            "Completed for runs= 29\n"
          ]
        },
        {
          "name": "stderr",
          "output_type": "stream",
          "text": [
            "base_primitive._run:INFO:2024-04-04 13:48:48,324: Submitting job using options {'options': {'default_shots': 1000}, 'version': 2, 'support_qiskit': True}\n",
            "base_primitive._run:INFO:2024-04-04 13:49:06,370: Submitting job using options {'options': {'default_shots': 1000}, 'version': 2, 'support_qiskit': True}\n",
            "base_primitive._run:INFO:2024-04-04 13:49:10,031: Submitting job using options {'options': {'default_shots': 1000}, 'version': 2, 'support_qiskit': True}\n",
            "base_primitive._run:INFO:2024-04-04 13:49:13,421: Submitting job using options {'options': {'default_shots': 1000}, 'version': 2, 'support_qiskit': True}\n",
            "base_primitive._run:INFO:2024-04-04 13:49:17,169: Submitting job using options {'options': {'default_shots': 1000}, 'version': 2, 'support_qiskit': True}\n",
            "base_primitive._run:INFO:2024-04-04 13:49:26,862: Submitting job using options {'options': {'default_shots': 1000}, 'version': 2, 'support_qiskit': True}\n",
            "base_primitive._run:INFO:2024-04-04 13:49:44,920: Submitting job using options {'options': {'default_shots': 1000}, 'version': 2, 'support_qiskit': True}\n",
            "base_primitive._run:INFO:2024-04-04 13:49:49,860: Submitting job using options {'options': {'default_shots': 1000}, 'version': 2, 'support_qiskit': True}\n",
            "base_primitive._run:INFO:2024-04-04 13:49:53,976: Submitting job using options {'options': {'default_shots': 1000}, 'version': 2, 'support_qiskit': True}\n",
            "base_primitive._run:INFO:2024-04-04 13:49:58,564: Submitting job using options {'options': {'default_shots': 1000}, 'version': 2, 'support_qiskit': True}\n",
            "base_primitive._run:INFO:2024-04-04 13:50:09,830: Submitting job using options {'options': {'default_shots': 1000}, 'version': 2, 'support_qiskit': True}\n",
            "base_primitive._run:INFO:2024-04-04 13:50:13,648: Submitting job using options {'options': {'default_shots': 1000}, 'version': 2, 'support_qiskit': True}\n",
            "base_primitive._run:INFO:2024-04-04 13:50:22,296: Submitting job using options {'options': {'default_shots': 1000}, 'version': 2, 'support_qiskit': True}\n",
            "base_primitive._run:INFO:2024-04-04 13:50:31,744: Submitting job using options {'options': {'default_shots': 1000}, 'version': 2, 'support_qiskit': True}\n",
            "base_primitive._run:INFO:2024-04-04 13:50:37,584: Submitting job using options {'options': {'default_shots': 1000}, 'version': 2, 'support_qiskit': True}\n",
            "base_primitive._run:INFO:2024-04-04 13:50:49,876: Submitting job using options {'options': {'default_shots': 1000}, 'version': 2, 'support_qiskit': True}\n",
            "base_primitive._run:INFO:2024-04-04 13:51:03,908: Submitting job using options {'options': {'default_shots': 1000}, 'version': 2, 'support_qiskit': True}\n",
            "base_primitive._run:INFO:2024-04-04 13:51:11,168: Submitting job using options {'options': {'default_shots': 1000}, 'version': 2, 'support_qiskit': True}\n",
            "base_primitive._run:INFO:2024-04-04 13:51:21,003: Submitting job using options {'options': {'default_shots': 1000}, 'version': 2, 'support_qiskit': True}\n",
            "base_primitive._run:INFO:2024-04-04 13:51:33,497: Submitting job using options {'options': {'default_shots': 1000}, 'version': 2, 'support_qiskit': True}\n",
            "base_primitive._run:INFO:2024-04-04 13:51:38,876: Submitting job using options {'options': {'default_shots': 1000}, 'version': 2, 'support_qiskit': True}\n"
          ]
        },
        {
          "name": "stdout",
          "output_type": "stream",
          "text": [
            "Completed for runs= 30\n"
          ]
        },
        {
          "name": "stderr",
          "output_type": "stream",
          "text": [
            "base_primitive._run:INFO:2024-04-04 13:51:46,363: Submitting job using options {'options': {'default_shots': 1000}, 'version': 2, 'support_qiskit': True}\n",
            "base_primitive._run:INFO:2024-04-04 13:51:50,324: Submitting job using options {'options': {'default_shots': 1000}, 'version': 2, 'support_qiskit': True}\n",
            "base_primitive._run:INFO:2024-04-04 13:51:53,658: Submitting job using options {'options': {'default_shots': 1000}, 'version': 2, 'support_qiskit': True}\n",
            "base_primitive._run:INFO:2024-04-04 13:51:58,147: Submitting job using options {'options': {'default_shots': 1000}, 'version': 2, 'support_qiskit': True}\n",
            "base_primitive._run:INFO:2024-04-04 13:52:01,776: Submitting job using options {'options': {'default_shots': 1000}, 'version': 2, 'support_qiskit': True}\n",
            "base_primitive._run:INFO:2024-04-04 13:52:08,532: Submitting job using options {'options': {'default_shots': 1000}, 'version': 2, 'support_qiskit': True}\n",
            "base_primitive._run:INFO:2024-04-04 13:52:15,960: Submitting job using options {'options': {'default_shots': 1000}, 'version': 2, 'support_qiskit': True}\n",
            "base_primitive._run:INFO:2024-04-04 13:52:23,980: Submitting job using options {'options': {'default_shots': 1000}, 'version': 2, 'support_qiskit': True}\n",
            "base_primitive._run:INFO:2024-04-04 13:52:33,813: Submitting job using options {'options': {'default_shots': 1000}, 'version': 2, 'support_qiskit': True}\n",
            "base_primitive._run:INFO:2024-04-04 13:52:39,280: Submitting job using options {'options': {'default_shots': 1000}, 'version': 2, 'support_qiskit': True}\n",
            "base_primitive._run:INFO:2024-04-04 13:52:43,612: Submitting job using options {'options': {'default_shots': 1000}, 'version': 2, 'support_qiskit': True}\n",
            "base_primitive._run:INFO:2024-04-04 13:52:51,144: Submitting job using options {'options': {'default_shots': 1000}, 'version': 2, 'support_qiskit': True}\n",
            "base_primitive._run:INFO:2024-04-04 13:52:58,364: Submitting job using options {'options': {'default_shots': 1000}, 'version': 2, 'support_qiskit': True}\n",
            "base_primitive._run:INFO:2024-04-04 13:53:01,944: Submitting job using options {'options': {'default_shots': 1000}, 'version': 2, 'support_qiskit': True}\n",
            "base_primitive._run:INFO:2024-04-04 13:53:05,808: Submitting job using options {'options': {'default_shots': 1000}, 'version': 2, 'support_qiskit': True}\n",
            "base_primitive._run:INFO:2024-04-04 13:53:13,195: Submitting job using options {'options': {'default_shots': 1000}, 'version': 2, 'support_qiskit': True}\n",
            "base_primitive._run:INFO:2024-04-04 13:53:21,588: Submitting job using options {'options': {'default_shots': 1000}, 'version': 2, 'support_qiskit': True}\n",
            "base_primitive._run:INFO:2024-04-04 13:53:28,172: Submitting job using options {'options': {'default_shots': 1000}, 'version': 2, 'support_qiskit': True}\n",
            "base_primitive._run:INFO:2024-04-04 13:53:35,132: Submitting job using options {'options': {'default_shots': 1000}, 'version': 2, 'support_qiskit': True}\n",
            "base_primitive._run:INFO:2024-04-04 13:53:41,528: Submitting job using options {'options': {'default_shots': 1000}, 'version': 2, 'support_qiskit': True}\n",
            "base_primitive._run:INFO:2024-04-04 13:53:45,781: Submitting job using options {'options': {'default_shots': 1000}, 'version': 2, 'support_qiskit': True}\n"
          ]
        },
        {
          "name": "stdout",
          "output_type": "stream",
          "text": [
            "Completed for runs= 31\n"
          ]
        },
        {
          "name": "stderr",
          "output_type": "stream",
          "text": [
            "base_primitive._run:INFO:2024-04-04 13:53:49,461: Submitting job using options {'options': {'default_shots': 1000}, 'version': 2, 'support_qiskit': True}\n",
            "base_primitive._run:INFO:2024-04-04 13:53:52,600: Submitting job using options {'options': {'default_shots': 1000}, 'version': 2, 'support_qiskit': True}\n",
            "base_primitive._run:INFO:2024-04-04 13:53:56,563: Submitting job using options {'options': {'default_shots': 1000}, 'version': 2, 'support_qiskit': True}\n",
            "base_primitive._run:INFO:2024-04-04 13:54:07,834: Submitting job using options {'options': {'default_shots': 1000}, 'version': 2, 'support_qiskit': True}\n",
            "base_primitive._run:INFO:2024-04-04 13:54:14,651: Submitting job using options {'options': {'default_shots': 1000}, 'version': 2, 'support_qiskit': True}\n",
            "base_primitive._run:INFO:2024-04-04 13:54:24,912: Submitting job using options {'options': {'default_shots': 1000}, 'version': 2, 'support_qiskit': True}\n",
            "base_primitive._run:INFO:2024-04-04 13:54:28,508: Submitting job using options {'options': {'default_shots': 1000}, 'version': 2, 'support_qiskit': True}\n",
            "base_primitive._run:INFO:2024-04-04 13:54:32,204: Submitting job using options {'options': {'default_shots': 1000}, 'version': 2, 'support_qiskit': True}\n",
            "base_primitive._run:INFO:2024-04-04 13:54:39,133: Submitting job using options {'options': {'default_shots': 1000}, 'version': 2, 'support_qiskit': True}\n",
            "base_primitive._run:INFO:2024-04-04 13:54:47,992: Submitting job using options {'options': {'default_shots': 1000}, 'version': 2, 'support_qiskit': True}\n",
            "base_primitive._run:INFO:2024-04-04 13:54:56,266: Submitting job using options {'options': {'default_shots': 1000}, 'version': 2, 'support_qiskit': True}\n",
            "base_primitive._run:INFO:2024-04-04 13:54:59,898: Submitting job using options {'options': {'default_shots': 1000}, 'version': 2, 'support_qiskit': True}\n",
            "base_primitive._run:INFO:2024-04-04 13:55:05,040: Submitting job using options {'options': {'default_shots': 1000}, 'version': 2, 'support_qiskit': True}\n",
            "base_primitive._run:INFO:2024-04-04 13:55:09,377: Submitting job using options {'options': {'default_shots': 1000}, 'version': 2, 'support_qiskit': True}\n",
            "base_primitive._run:INFO:2024-04-04 13:55:19,600: Submitting job using options {'options': {'default_shots': 1000}, 'version': 2, 'support_qiskit': True}\n",
            "base_primitive._run:INFO:2024-04-04 13:55:24,732: Submitting job using options {'options': {'default_shots': 1000}, 'version': 2, 'support_qiskit': True}\n",
            "base_primitive._run:INFO:2024-04-04 13:55:29,764: Submitting job using options {'options': {'default_shots': 1000}, 'version': 2, 'support_qiskit': True}\n",
            "base_primitive._run:INFO:2024-04-04 13:55:43,674: Submitting job using options {'options': {'default_shots': 1000}, 'version': 2, 'support_qiskit': True}\n",
            "base_primitive._run:INFO:2024-04-04 13:55:47,403: Submitting job using options {'options': {'default_shots': 1000}, 'version': 2, 'support_qiskit': True}\n",
            "base_primitive._run:INFO:2024-04-04 13:55:54,032: Submitting job using options {'options': {'default_shots': 1000}, 'version': 2, 'support_qiskit': True}\n",
            "base_primitive._run:INFO:2024-04-04 13:56:04,264: Submitting job using options {'options': {'default_shots': 1000}, 'version': 2, 'support_qiskit': True}\n"
          ]
        },
        {
          "name": "stdout",
          "output_type": "stream",
          "text": [
            "Completed for runs= 32\n"
          ]
        },
        {
          "name": "stderr",
          "output_type": "stream",
          "text": [
            "base_primitive._run:INFO:2024-04-04 13:56:10,525: Submitting job using options {'options': {'default_shots': 1000}, 'version': 2, 'support_qiskit': True}\n",
            "base_primitive._run:INFO:2024-04-04 13:56:16,228: Submitting job using options {'options': {'default_shots': 1000}, 'version': 2, 'support_qiskit': True}\n",
            "base_primitive._run:INFO:2024-04-04 13:56:23,057: Submitting job using options {'options': {'default_shots': 1000}, 'version': 2, 'support_qiskit': True}\n",
            "base_primitive._run:INFO:2024-04-04 13:56:26,775: Submitting job using options {'options': {'default_shots': 1000}, 'version': 2, 'support_qiskit': True}\n",
            "base_primitive._run:INFO:2024-04-04 13:56:30,102: Submitting job using options {'options': {'default_shots': 1000}, 'version': 2, 'support_qiskit': True}\n",
            "base_primitive._run:INFO:2024-04-04 13:56:35,096: Submitting job using options {'options': {'default_shots': 1000}, 'version': 2, 'support_qiskit': True}\n",
            "base_primitive._run:INFO:2024-04-04 13:56:46,449: Submitting job using options {'options': {'default_shots': 1000}, 'version': 2, 'support_qiskit': True}\n",
            "base_primitive._run:INFO:2024-04-04 13:56:53,008: Submitting job using options {'options': {'default_shots': 1000}, 'version': 2, 'support_qiskit': True}\n",
            "base_primitive._run:INFO:2024-04-04 13:56:57,896: Submitting job using options {'options': {'default_shots': 1000}, 'version': 2, 'support_qiskit': True}\n",
            "base_primitive._run:INFO:2024-04-04 13:57:06,960: Submitting job using options {'options': {'default_shots': 1000}, 'version': 2, 'support_qiskit': True}\n",
            "base_primitive._run:INFO:2024-04-04 13:57:10,800: Submitting job using options {'options': {'default_shots': 1000}, 'version': 2, 'support_qiskit': True}\n",
            "base_primitive._run:INFO:2024-04-04 13:57:14,308: Submitting job using options {'options': {'default_shots': 1000}, 'version': 2, 'support_qiskit': True}\n",
            "base_primitive._run:INFO:2024-04-04 13:57:26,255: Submitting job using options {'options': {'default_shots': 1000}, 'version': 2, 'support_qiskit': True}\n",
            "base_primitive._run:INFO:2024-04-04 13:57:38,009: Submitting job using options {'options': {'default_shots': 1000}, 'version': 2, 'support_qiskit': True}\n",
            "base_primitive._run:INFO:2024-04-04 13:57:50,981: Submitting job using options {'options': {'default_shots': 1000}, 'version': 2, 'support_qiskit': True}\n",
            "base_primitive._run:INFO:2024-04-04 13:57:55,628: Submitting job using options {'options': {'default_shots': 1000}, 'version': 2, 'support_qiskit': True}\n",
            "base_primitive._run:INFO:2024-04-04 13:58:08,001: Submitting job using options {'options': {'default_shots': 1000}, 'version': 2, 'support_qiskit': True}\n",
            "base_primitive._run:INFO:2024-04-04 13:58:11,341: Submitting job using options {'options': {'default_shots': 1000}, 'version': 2, 'support_qiskit': True}\n",
            "base_primitive._run:INFO:2024-04-04 13:58:21,503: Submitting job using options {'options': {'default_shots': 1000}, 'version': 2, 'support_qiskit': True}\n",
            "base_primitive._run:INFO:2024-04-04 13:58:27,596: Submitting job using options {'options': {'default_shots': 1000}, 'version': 2, 'support_qiskit': True}\n",
            "base_primitive._run:INFO:2024-04-04 13:58:31,008: Submitting job using options {'options': {'default_shots': 1000}, 'version': 2, 'support_qiskit': True}\n"
          ]
        },
        {
          "name": "stdout",
          "output_type": "stream",
          "text": [
            "Completed for runs= 33\n"
          ]
        },
        {
          "name": "stderr",
          "output_type": "stream",
          "text": [
            "base_primitive._run:INFO:2024-04-04 13:58:40,206: Submitting job using options {'options': {'default_shots': 1000}, 'version': 2, 'support_qiskit': True}\n",
            "base_primitive._run:INFO:2024-04-04 13:58:50,919: Submitting job using options {'options': {'default_shots': 1000}, 'version': 2, 'support_qiskit': True}\n",
            "base_primitive._run:INFO:2024-04-04 13:58:55,933: Submitting job using options {'options': {'default_shots': 1000}, 'version': 2, 'support_qiskit': True}\n",
            "base_primitive._run:INFO:2024-04-04 13:59:07,354: Submitting job using options {'options': {'default_shots': 1000}, 'version': 2, 'support_qiskit': True}\n",
            "base_primitive._run:INFO:2024-04-04 13:59:13,276: Submitting job using options {'options': {'default_shots': 1000}, 'version': 2, 'support_qiskit': True}\n",
            "base_primitive._run:INFO:2024-04-04 13:59:16,618: Submitting job using options {'options': {'default_shots': 1000}, 'version': 2, 'support_qiskit': True}\n",
            "base_primitive._run:INFO:2024-04-04 13:59:23,042: Submitting job using options {'options': {'default_shots': 1000}, 'version': 2, 'support_qiskit': True}\n",
            "base_primitive._run:INFO:2024-04-04 13:59:32,302: Submitting job using options {'options': {'default_shots': 1000}, 'version': 2, 'support_qiskit': True}\n",
            "base_primitive._run:INFO:2024-04-04 13:59:37,261: Submitting job using options {'options': {'default_shots': 1000}, 'version': 2, 'support_qiskit': True}\n",
            "base_primitive._run:INFO:2024-04-04 13:59:41,082: Submitting job using options {'options': {'default_shots': 1000}, 'version': 2, 'support_qiskit': True}\n",
            "base_primitive._run:INFO:2024-04-04 13:59:44,898: Submitting job using options {'options': {'default_shots': 1000}, 'version': 2, 'support_qiskit': True}\n",
            "base_primitive._run:INFO:2024-04-04 13:59:53,074: Submitting job using options {'options': {'default_shots': 1000}, 'version': 2, 'support_qiskit': True}\n",
            "base_primitive._run:INFO:2024-04-04 14:00:01,167: Submitting job using options {'options': {'default_shots': 1000}, 'version': 2, 'support_qiskit': True}\n",
            "base_primitive._run:INFO:2024-04-04 14:00:11,373: Submitting job using options {'options': {'default_shots': 1000}, 'version': 2, 'support_qiskit': True}\n",
            "base_primitive._run:INFO:2024-04-04 14:00:20,321: Submitting job using options {'options': {'default_shots': 1000}, 'version': 2, 'support_qiskit': True}\n",
            "base_primitive._run:INFO:2024-04-04 14:00:24,437: Submitting job using options {'options': {'default_shots': 1000}, 'version': 2, 'support_qiskit': True}\n",
            "base_primitive._run:INFO:2024-04-04 14:00:33,248: Submitting job using options {'options': {'default_shots': 1000}, 'version': 2, 'support_qiskit': True}\n",
            "base_primitive._run:INFO:2024-04-04 14:00:36,879: Submitting job using options {'options': {'default_shots': 1000}, 'version': 2, 'support_qiskit': True}\n",
            "base_primitive._run:INFO:2024-04-04 14:00:49,312: Submitting job using options {'options': {'default_shots': 1000}, 'version': 2, 'support_qiskit': True}\n",
            "base_primitive._run:INFO:2024-04-04 14:00:57,228: Submitting job using options {'options': {'default_shots': 1000}, 'version': 2, 'support_qiskit': True}\n",
            "base_primitive._run:INFO:2024-04-04 14:01:01,596: Submitting job using options {'options': {'default_shots': 1000}, 'version': 2, 'support_qiskit': True}\n"
          ]
        },
        {
          "name": "stdout",
          "output_type": "stream",
          "text": [
            "Completed for runs= 34\n"
          ]
        },
        {
          "name": "stderr",
          "output_type": "stream",
          "text": [
            "base_primitive._run:INFO:2024-04-04 14:01:08,144: Submitting job using options {'options': {'default_shots': 1000}, 'version': 2, 'support_qiskit': True}\n",
            "base_primitive._run:INFO:2024-04-04 14:01:12,268: Submitting job using options {'options': {'default_shots': 1000}, 'version': 2, 'support_qiskit': True}\n",
            "base_primitive._run:INFO:2024-04-04 14:01:19,867: Submitting job using options {'options': {'default_shots': 1000}, 'version': 2, 'support_qiskit': True}\n",
            "base_primitive._run:INFO:2024-04-04 14:01:32,765: Submitting job using options {'options': {'default_shots': 1000}, 'version': 2, 'support_qiskit': True}\n",
            "base_primitive._run:INFO:2024-04-04 14:01:36,486: Submitting job using options {'options': {'default_shots': 1000}, 'version': 2, 'support_qiskit': True}\n",
            "base_primitive._run:INFO:2024-04-04 14:01:51,493: Submitting job using options {'options': {'default_shots': 1000}, 'version': 2, 'support_qiskit': True}\n",
            "base_primitive._run:INFO:2024-04-04 14:01:54,980: Submitting job using options {'options': {'default_shots': 1000}, 'version': 2, 'support_qiskit': True}\n",
            "base_primitive._run:INFO:2024-04-04 14:01:58,732: Submitting job using options {'options': {'default_shots': 1000}, 'version': 2, 'support_qiskit': True}\n",
            "base_primitive._run:INFO:2024-04-04 14:02:15,597: Submitting job using options {'options': {'default_shots': 1000}, 'version': 2, 'support_qiskit': True}\n",
            "base_primitive._run:INFO:2024-04-04 14:02:26,736: Submitting job using options {'options': {'default_shots': 1000}, 'version': 2, 'support_qiskit': True}\n",
            "base_primitive._run:INFO:2024-04-04 14:02:31,821: Submitting job using options {'options': {'default_shots': 1000}, 'version': 2, 'support_qiskit': True}\n",
            "base_primitive._run:INFO:2024-04-04 14:02:35,528: Submitting job using options {'options': {'default_shots': 1000}, 'version': 2, 'support_qiskit': True}\n",
            "base_primitive._run:INFO:2024-04-04 14:02:38,916: Submitting job using options {'options': {'default_shots': 1000}, 'version': 2, 'support_qiskit': True}\n",
            "base_primitive._run:INFO:2024-04-04 14:02:42,868: Submitting job using options {'options': {'default_shots': 1000}, 'version': 2, 'support_qiskit': True}\n",
            "base_primitive._run:INFO:2024-04-04 14:02:53,966: Submitting job using options {'options': {'default_shots': 1000}, 'version': 2, 'support_qiskit': True}\n",
            "base_primitive._run:INFO:2024-04-04 14:03:00,624: Submitting job using options {'options': {'default_shots': 1000}, 'version': 2, 'support_qiskit': True}\n",
            "base_primitive._run:INFO:2024-04-04 14:03:06,351: Submitting job using options {'options': {'default_shots': 1000}, 'version': 2, 'support_qiskit': True}\n",
            "base_primitive._run:INFO:2024-04-04 14:03:13,262: Submitting job using options {'options': {'default_shots': 1000}, 'version': 2, 'support_qiskit': True}\n",
            "base_primitive._run:INFO:2024-04-04 14:03:16,840: Submitting job using options {'options': {'default_shots': 1000}, 'version': 2, 'support_qiskit': True}\n",
            "base_primitive._run:INFO:2024-04-04 14:03:23,662: Submitting job using options {'options': {'default_shots': 1000}, 'version': 2, 'support_qiskit': True}\n",
            "base_primitive._run:INFO:2024-04-04 14:03:29,032: Submitting job using options {'options': {'default_shots': 1000}, 'version': 2, 'support_qiskit': True}\n"
          ]
        },
        {
          "name": "stdout",
          "output_type": "stream",
          "text": [
            "Completed for runs= 35\n"
          ]
        },
        {
          "name": "stderr",
          "output_type": "stream",
          "text": [
            "base_primitive._run:INFO:2024-04-04 14:03:36,012: Submitting job using options {'options': {'default_shots': 1000}, 'version': 2, 'support_qiskit': True}\n",
            "base_primitive._run:INFO:2024-04-04 14:03:49,780: Submitting job using options {'options': {'default_shots': 1000}, 'version': 2, 'support_qiskit': True}\n",
            "base_primitive._run:INFO:2024-04-04 14:03:53,175: Submitting job using options {'options': {'default_shots': 1000}, 'version': 2, 'support_qiskit': True}\n",
            "base_primitive._run:INFO:2024-04-04 14:04:01,387: Submitting job using options {'options': {'default_shots': 1000}, 'version': 2, 'support_qiskit': True}\n",
            "base_primitive._run:INFO:2024-04-04 14:04:10,940: Submitting job using options {'options': {'default_shots': 1000}, 'version': 2, 'support_qiskit': True}\n",
            "base_primitive._run:INFO:2024-04-04 14:04:18,829: Submitting job using options {'options': {'default_shots': 1000}, 'version': 2, 'support_qiskit': True}\n",
            "base_primitive._run:INFO:2024-04-04 14:04:30,188: Submitting job using options {'options': {'default_shots': 1000}, 'version': 2, 'support_qiskit': True}\n",
            "base_primitive._run:INFO:2024-04-04 14:04:35,080: Submitting job using options {'options': {'default_shots': 1000}, 'version': 2, 'support_qiskit': True}\n",
            "base_primitive._run:INFO:2024-04-04 14:04:38,559: Submitting job using options {'options': {'default_shots': 1000}, 'version': 2, 'support_qiskit': True}\n",
            "base_primitive._run:INFO:2024-04-04 14:04:42,360: Submitting job using options {'options': {'default_shots': 1000}, 'version': 2, 'support_qiskit': True}\n",
            "base_primitive._run:INFO:2024-04-04 14:04:48,883: Submitting job using options {'options': {'default_shots': 1000}, 'version': 2, 'support_qiskit': True}\n",
            "base_primitive._run:INFO:2024-04-04 14:04:57,008: Submitting job using options {'options': {'default_shots': 1000}, 'version': 2, 'support_qiskit': True}\n",
            "base_primitive._run:INFO:2024-04-04 14:05:09,031: Submitting job using options {'options': {'default_shots': 1000}, 'version': 2, 'support_qiskit': True}\n",
            "base_primitive._run:INFO:2024-04-04 14:05:16,273: Submitting job using options {'options': {'default_shots': 1000}, 'version': 2, 'support_qiskit': True}\n",
            "base_primitive._run:INFO:2024-04-04 14:05:23,182: Submitting job using options {'options': {'default_shots': 1000}, 'version': 2, 'support_qiskit': True}\n",
            "base_primitive._run:INFO:2024-04-04 14:05:29,664: Submitting job using options {'options': {'default_shots': 1000}, 'version': 2, 'support_qiskit': True}\n",
            "base_primitive._run:INFO:2024-04-04 14:05:41,175: Submitting job using options {'options': {'default_shots': 1000}, 'version': 2, 'support_qiskit': True}\n",
            "base_primitive._run:INFO:2024-04-04 14:05:48,388: Submitting job using options {'options': {'default_shots': 1000}, 'version': 2, 'support_qiskit': True}\n",
            "base_primitive._run:INFO:2024-04-04 14:05:55,534: Submitting job using options {'options': {'default_shots': 1000}, 'version': 2, 'support_qiskit': True}\n",
            "base_primitive._run:INFO:2024-04-04 14:06:03,459: Submitting job using options {'options': {'default_shots': 1000}, 'version': 2, 'support_qiskit': True}\n",
            "base_primitive._run:INFO:2024-04-04 14:06:06,945: Submitting job using options {'options': {'default_shots': 1000}, 'version': 2, 'support_qiskit': True}\n"
          ]
        },
        {
          "name": "stdout",
          "output_type": "stream",
          "text": [
            "Completed for runs= 36\n"
          ]
        },
        {
          "name": "stderr",
          "output_type": "stream",
          "text": [
            "base_primitive._run:INFO:2024-04-04 14:06:12,978: Submitting job using options {'options': {'default_shots': 1000}, 'version': 2, 'support_qiskit': True}\n",
            "base_primitive._run:INFO:2024-04-04 14:06:28,412: Submitting job using options {'options': {'default_shots': 1000}, 'version': 2, 'support_qiskit': True}\n",
            "base_primitive._run:INFO:2024-04-04 14:06:36,737: Submitting job using options {'options': {'default_shots': 1000}, 'version': 2, 'support_qiskit': True}\n",
            "base_primitive._run:INFO:2024-04-04 14:06:45,696: Submitting job using options {'options': {'default_shots': 1000}, 'version': 2, 'support_qiskit': True}\n",
            "base_primitive._run:INFO:2024-04-04 14:06:50,693: Submitting job using options {'options': {'default_shots': 1000}, 'version': 2, 'support_qiskit': True}\n",
            "base_primitive._run:INFO:2024-04-04 14:06:55,716: Submitting job using options {'options': {'default_shots': 1000}, 'version': 2, 'support_qiskit': True}\n",
            "base_primitive._run:INFO:2024-04-04 14:07:02,317: Submitting job using options {'options': {'default_shots': 1000}, 'version': 2, 'support_qiskit': True}\n",
            "base_primitive._run:INFO:2024-04-04 14:07:10,088: Submitting job using options {'options': {'default_shots': 1000}, 'version': 2, 'support_qiskit': True}\n",
            "base_primitive._run:INFO:2024-04-04 14:07:17,536: Submitting job using options {'options': {'default_shots': 1000}, 'version': 2, 'support_qiskit': True}\n",
            "base_primitive._run:INFO:2024-04-04 14:07:22,581: Submitting job using options {'options': {'default_shots': 1000}, 'version': 2, 'support_qiskit': True}\n",
            "base_primitive._run:INFO:2024-04-04 14:07:33,174: Submitting job using options {'options': {'default_shots': 1000}, 'version': 2, 'support_qiskit': True}\n",
            "base_primitive._run:INFO:2024-04-04 14:07:40,908: Submitting job using options {'options': {'default_shots': 1000}, 'version': 2, 'support_qiskit': True}\n",
            "base_primitive._run:INFO:2024-04-04 14:07:47,444: Submitting job using options {'options': {'default_shots': 1000}, 'version': 2, 'support_qiskit': True}\n",
            "base_primitive._run:INFO:2024-04-04 14:07:54,872: Submitting job using options {'options': {'default_shots': 1000}, 'version': 2, 'support_qiskit': True}\n",
            "base_primitive._run:INFO:2024-04-04 14:08:01,973: Submitting job using options {'options': {'default_shots': 1000}, 'version': 2, 'support_qiskit': True}\n",
            "base_primitive._run:INFO:2024-04-04 14:08:06,424: Submitting job using options {'options': {'default_shots': 1000}, 'version': 2, 'support_qiskit': True}\n",
            "base_primitive._run:INFO:2024-04-04 14:08:09,893: Submitting job using options {'options': {'default_shots': 1000}, 'version': 2, 'support_qiskit': True}\n",
            "base_primitive._run:INFO:2024-04-04 14:08:20,885: Submitting job using options {'options': {'default_shots': 1000}, 'version': 2, 'support_qiskit': True}\n",
            "base_primitive._run:INFO:2024-04-04 14:08:33,504: Submitting job using options {'options': {'default_shots': 1000}, 'version': 2, 'support_qiskit': True}\n",
            "base_primitive._run:INFO:2024-04-04 14:08:39,178: Submitting job using options {'options': {'default_shots': 1000}, 'version': 2, 'support_qiskit': True}\n",
            "base_primitive._run:INFO:2024-04-04 14:08:43,187: Submitting job using options {'options': {'default_shots': 1000}, 'version': 2, 'support_qiskit': True}\n",
            "base_primitive._run:INFO:2024-04-04 14:08:48,450: Submitting job using options {'options': {'default_shots': 1000}, 'version': 2, 'support_qiskit': True}\n"
          ]
        },
        {
          "name": "stdout",
          "output_type": "stream",
          "text": [
            "Completed for runs= 37\n"
          ]
        },
        {
          "name": "stderr",
          "output_type": "stream",
          "text": [
            "base_primitive._run:INFO:2024-04-04 14:08:52,667: Submitting job using options {'options': {'default_shots': 1000}, 'version': 2, 'support_qiskit': True}\n",
            "base_primitive._run:INFO:2024-04-04 14:09:07,008: Submitting job using options {'options': {'default_shots': 1000}, 'version': 2, 'support_qiskit': True}\n",
            "base_primitive._run:INFO:2024-04-04 14:09:17,469: Submitting job using options {'options': {'default_shots': 1000}, 'version': 2, 'support_qiskit': True}\n",
            "base_primitive._run:INFO:2024-04-04 14:09:21,333: Submitting job using options {'options': {'default_shots': 1000}, 'version': 2, 'support_qiskit': True}\n",
            "base_primitive._run:INFO:2024-04-04 14:09:25,263: Submitting job using options {'options': {'default_shots': 1000}, 'version': 2, 'support_qiskit': True}\n",
            "base_primitive._run:INFO:2024-04-04 14:09:32,025: Submitting job using options {'options': {'default_shots': 1000}, 'version': 2, 'support_qiskit': True}\n",
            "base_primitive._run:INFO:2024-04-04 14:09:42,108: Submitting job using options {'options': {'default_shots': 1000}, 'version': 2, 'support_qiskit': True}\n",
            "base_primitive._run:INFO:2024-04-04 14:09:49,040: Submitting job using options {'options': {'default_shots': 1000}, 'version': 2, 'support_qiskit': True}\n",
            "base_primitive._run:INFO:2024-04-04 14:09:54,175: Submitting job using options {'options': {'default_shots': 1000}, 'version': 2, 'support_qiskit': True}\n",
            "base_primitive._run:INFO:2024-04-04 14:10:03,177: Submitting job using options {'options': {'default_shots': 1000}, 'version': 2, 'support_qiskit': True}\n",
            "base_primitive._run:INFO:2024-04-04 14:10:07,064: Submitting job using options {'options': {'default_shots': 1000}, 'version': 2, 'support_qiskit': True}\n",
            "base_primitive._run:INFO:2024-04-04 14:10:10,976: Submitting job using options {'options': {'default_shots': 1000}, 'version': 2, 'support_qiskit': True}\n",
            "base_primitive._run:INFO:2024-04-04 14:10:15,323: Submitting job using options {'options': {'default_shots': 1000}, 'version': 2, 'support_qiskit': True}\n",
            "base_primitive._run:INFO:2024-04-04 14:10:22,965: Submitting job using options {'options': {'default_shots': 1000}, 'version': 2, 'support_qiskit': True}\n",
            "base_primitive._run:INFO:2024-04-04 14:10:28,794: Submitting job using options {'options': {'default_shots': 1000}, 'version': 2, 'support_qiskit': True}\n",
            "base_primitive._run:INFO:2024-04-04 14:10:33,148: Submitting job using options {'options': {'default_shots': 1000}, 'version': 2, 'support_qiskit': True}\n",
            "base_primitive._run:INFO:2024-04-04 14:10:39,960: Submitting job using options {'options': {'default_shots': 1000}, 'version': 2, 'support_qiskit': True}\n",
            "base_primitive._run:INFO:2024-04-04 14:10:45,832: Submitting job using options {'options': {'default_shots': 1000}, 'version': 2, 'support_qiskit': True}\n",
            "base_primitive._run:INFO:2024-04-04 14:10:49,319: Submitting job using options {'options': {'default_shots': 1000}, 'version': 2, 'support_qiskit': True}\n",
            "base_primitive._run:INFO:2024-04-04 14:10:56,947: Submitting job using options {'options': {'default_shots': 1000}, 'version': 2, 'support_qiskit': True}\n"
          ]
        },
        {
          "name": "stdout",
          "output_type": "stream",
          "text": [
            "Completed for runs= 38\n"
          ]
        },
        {
          "name": "stderr",
          "output_type": "stream",
          "text": [
            "base_primitive._run:INFO:2024-04-04 14:11:06,000: Submitting job using options {'options': {'default_shots': 1000}, 'version': 2, 'support_qiskit': True}\n",
            "base_primitive._run:INFO:2024-04-04 14:11:18,469: Submitting job using options {'options': {'default_shots': 1000}, 'version': 2, 'support_qiskit': True}\n",
            "base_primitive._run:INFO:2024-04-04 14:11:25,589: Submitting job using options {'options': {'default_shots': 1000}, 'version': 2, 'support_qiskit': True}\n",
            "base_primitive._run:INFO:2024-04-04 14:11:33,220: Submitting job using options {'options': {'default_shots': 1000}, 'version': 2, 'support_qiskit': True}\n",
            "base_primitive._run:INFO:2024-04-04 14:11:54,777: Submitting job using options {'options': {'default_shots': 1000}, 'version': 2, 'support_qiskit': True}\n",
            "base_primitive._run:INFO:2024-04-04 14:11:58,627: Submitting job using options {'options': {'default_shots': 1000}, 'version': 2, 'support_qiskit': True}\n",
            "base_primitive._run:INFO:2024-04-04 14:12:02,448: Submitting job using options {'options': {'default_shots': 1000}, 'version': 2, 'support_qiskit': True}\n",
            "base_primitive._run:INFO:2024-04-04 14:12:06,175: Submitting job using options {'options': {'default_shots': 1000}, 'version': 2, 'support_qiskit': True}\n",
            "base_primitive._run:INFO:2024-04-04 14:12:10,158: Submitting job using options {'options': {'default_shots': 1000}, 'version': 2, 'support_qiskit': True}\n",
            "base_primitive._run:INFO:2024-04-04 14:12:27,078: Submitting job using options {'options': {'default_shots': 1000}, 'version': 2, 'support_qiskit': True}\n",
            "base_primitive._run:INFO:2024-04-04 14:12:32,502: Submitting job using options {'options': {'default_shots': 1000}, 'version': 2, 'support_qiskit': True}\n",
            "base_primitive._run:INFO:2024-04-04 14:12:42,760: Submitting job using options {'options': {'default_shots': 1000}, 'version': 2, 'support_qiskit': True}\n",
            "base_primitive._run:INFO:2024-04-04 14:12:47,183: Submitting job using options {'options': {'default_shots': 1000}, 'version': 2, 'support_qiskit': True}\n",
            "base_primitive._run:INFO:2024-04-04 14:12:52,698: Submitting job using options {'options': {'default_shots': 1000}, 'version': 2, 'support_qiskit': True}\n",
            "base_primitive._run:INFO:2024-04-04 14:13:07,148: Submitting job using options {'options': {'default_shots': 1000}, 'version': 2, 'support_qiskit': True}\n",
            "base_primitive._run:INFO:2024-04-04 14:13:10,608: Submitting job using options {'options': {'default_shots': 1000}, 'version': 2, 'support_qiskit': True}\n",
            "base_primitive._run:INFO:2024-04-04 14:13:21,904: Submitting job using options {'options': {'default_shots': 1000}, 'version': 2, 'support_qiskit': True}\n",
            "base_primitive._run:INFO:2024-04-04 14:13:26,221: Submitting job using options {'options': {'default_shots': 1000}, 'version': 2, 'support_qiskit': True}\n",
            "base_primitive._run:INFO:2024-04-04 14:13:33,650: Submitting job using options {'options': {'default_shots': 1000}, 'version': 2, 'support_qiskit': True}\n",
            "base_primitive._run:INFO:2024-04-04 14:13:39,003: Submitting job using options {'options': {'default_shots': 1000}, 'version': 2, 'support_qiskit': True}\n",
            "base_primitive._run:INFO:2024-04-04 14:13:53,384: Submitting job using options {'options': {'default_shots': 1000}, 'version': 2, 'support_qiskit': True}\n",
            "base_primitive._run:INFO:2024-04-04 14:13:58,388: Submitting job using options {'options': {'default_shots': 1000}, 'version': 2, 'support_qiskit': True}\n"
          ]
        },
        {
          "name": "stdout",
          "output_type": "stream",
          "text": [
            "Completed for runs= 39\n"
          ]
        },
        {
          "name": "stderr",
          "output_type": "stream",
          "text": [
            "base_primitive._run:INFO:2024-04-04 14:14:04,827: Submitting job using options {'options': {'default_shots': 1000}, 'version': 2, 'support_qiskit': True}\n",
            "base_primitive._run:INFO:2024-04-04 14:14:09,863: Submitting job using options {'options': {'default_shots': 1000}, 'version': 2, 'support_qiskit': True}\n",
            "base_primitive._run:INFO:2024-04-04 14:14:19,426: Submitting job using options {'options': {'default_shots': 1000}, 'version': 2, 'support_qiskit': True}\n",
            "base_primitive._run:INFO:2024-04-04 14:14:27,433: Submitting job using options {'options': {'default_shots': 1000}, 'version': 2, 'support_qiskit': True}\n",
            "base_primitive._run:INFO:2024-04-04 14:14:33,647: Submitting job using options {'options': {'default_shots': 1000}, 'version': 2, 'support_qiskit': True}\n",
            "base_primitive._run:INFO:2024-04-04 14:14:41,327: Submitting job using options {'options': {'default_shots': 1000}, 'version': 2, 'support_qiskit': True}\n",
            "base_primitive._run:INFO:2024-04-04 14:14:46,417: Submitting job using options {'options': {'default_shots': 1000}, 'version': 2, 'support_qiskit': True}\n",
            "base_primitive._run:INFO:2024-04-04 14:14:55,157: Submitting job using options {'options': {'default_shots': 1000}, 'version': 2, 'support_qiskit': True}\n",
            "base_primitive._run:INFO:2024-04-04 14:15:01,198: Submitting job using options {'options': {'default_shots': 1000}, 'version': 2, 'support_qiskit': True}\n",
            "base_primitive._run:INFO:2024-04-04 14:15:09,028: Submitting job using options {'options': {'default_shots': 1000}, 'version': 2, 'support_qiskit': True}\n",
            "base_primitive._run:INFO:2024-04-04 14:15:18,213: Submitting job using options {'options': {'default_shots': 1000}, 'version': 2, 'support_qiskit': True}\n",
            "base_primitive._run:INFO:2024-04-04 14:15:26,588: Submitting job using options {'options': {'default_shots': 1000}, 'version': 2, 'support_qiskit': True}\n",
            "base_primitive._run:INFO:2024-04-04 14:15:30,592: Submitting job using options {'options': {'default_shots': 1000}, 'version': 2, 'support_qiskit': True}\n",
            "base_primitive._run:INFO:2024-04-04 14:15:43,674: Submitting job using options {'options': {'default_shots': 1000}, 'version': 2, 'support_qiskit': True}\n",
            "base_primitive._run:INFO:2024-04-04 14:15:53,522: Submitting job using options {'options': {'default_shots': 1000}, 'version': 2, 'support_qiskit': True}\n",
            "base_primitive._run:INFO:2024-04-04 14:16:01,532: Submitting job using options {'options': {'default_shots': 1000}, 'version': 2, 'support_qiskit': True}\n",
            "base_primitive._run:INFO:2024-04-04 14:16:07,640: Submitting job using options {'options': {'default_shots': 1000}, 'version': 2, 'support_qiskit': True}\n",
            "base_primitive._run:INFO:2024-04-04 14:16:10,830: Submitting job using options {'options': {'default_shots': 1000}, 'version': 2, 'support_qiskit': True}\n",
            "base_primitive._run:INFO:2024-04-04 14:16:14,963: Submitting job using options {'options': {'default_shots': 1000}, 'version': 2, 'support_qiskit': True}\n",
            "base_primitive._run:INFO:2024-04-04 14:16:26,074: Submitting job using options {'options': {'default_shots': 1000}, 'version': 2, 'support_qiskit': True}\n",
            "base_primitive._run:INFO:2024-04-04 14:16:30,395: Submitting job using options {'options': {'default_shots': 1000}, 'version': 2, 'support_qiskit': True}\n",
            "base_primitive._run:INFO:2024-04-04 14:16:40,744: Submitting job using options {'options': {'default_shots': 1000}, 'version': 2, 'support_qiskit': True}\n"
          ]
        },
        {
          "name": "stdout",
          "output_type": "stream",
          "text": [
            "Completed for runs= 40\n"
          ]
        },
        {
          "name": "stderr",
          "output_type": "stream",
          "text": [
            "base_primitive._run:INFO:2024-04-04 14:16:43,988: Submitting job using options {'options': {'default_shots': 1000}, 'version': 2, 'support_qiskit': True}\n",
            "base_primitive._run:INFO:2024-04-04 14:16:47,942: Submitting job using options {'options': {'default_shots': 1000}, 'version': 2, 'support_qiskit': True}\n",
            "base_primitive._run:INFO:2024-04-04 14:16:55,560: Submitting job using options {'options': {'default_shots': 1000}, 'version': 2, 'support_qiskit': True}\n",
            "base_primitive._run:INFO:2024-04-04 14:16:59,377: Submitting job using options {'options': {'default_shots': 1000}, 'version': 2, 'support_qiskit': True}\n",
            "base_primitive._run:INFO:2024-04-04 14:17:12,520: Submitting job using options {'options': {'default_shots': 1000}, 'version': 2, 'support_qiskit': True}\n",
            "base_primitive._run:INFO:2024-04-04 14:17:22,579: Submitting job using options {'options': {'default_shots': 1000}, 'version': 2, 'support_qiskit': True}\n",
            "base_primitive._run:INFO:2024-04-04 14:17:26,117: Submitting job using options {'options': {'default_shots': 1000}, 'version': 2, 'support_qiskit': True}\n",
            "base_primitive._run:INFO:2024-04-04 14:17:29,547: Submitting job using options {'options': {'default_shots': 1000}, 'version': 2, 'support_qiskit': True}\n",
            "base_primitive._run:INFO:2024-04-04 14:17:34,908: Submitting job using options {'options': {'default_shots': 1000}, 'version': 2, 'support_qiskit': True}\n",
            "base_primitive._run:INFO:2024-04-04 14:17:39,349: Submitting job using options {'options': {'default_shots': 1000}, 'version': 2, 'support_qiskit': True}\n",
            "base_primitive._run:INFO:2024-04-04 14:17:53,367: Submitting job using options {'options': {'default_shots': 1000}, 'version': 2, 'support_qiskit': True}\n",
            "base_primitive._run:INFO:2024-04-04 14:18:01,156: Submitting job using options {'options': {'default_shots': 1000}, 'version': 2, 'support_qiskit': True}\n",
            "base_primitive._run:INFO:2024-04-04 14:18:05,268: Submitting job using options {'options': {'default_shots': 1000}, 'version': 2, 'support_qiskit': True}\n",
            "base_primitive._run:INFO:2024-04-04 14:18:11,316: Submitting job using options {'options': {'default_shots': 1000}, 'version': 2, 'support_qiskit': True}\n",
            "base_primitive._run:INFO:2024-04-04 14:18:18,692: Submitting job using options {'options': {'default_shots': 1000}, 'version': 2, 'support_qiskit': True}\n",
            "base_primitive._run:INFO:2024-04-04 14:18:31,140: Submitting job using options {'options': {'default_shots': 1000}, 'version': 2, 'support_qiskit': True}\n",
            "base_primitive._run:INFO:2024-04-04 14:18:41,528: Submitting job using options {'options': {'default_shots': 1000}, 'version': 2, 'support_qiskit': True}\n",
            "base_primitive._run:INFO:2024-04-04 14:18:46,557: Submitting job using options {'options': {'default_shots': 1000}, 'version': 2, 'support_qiskit': True}\n",
            "base_primitive._run:INFO:2024-04-04 14:18:50,387: Submitting job using options {'options': {'default_shots': 1000}, 'version': 2, 'support_qiskit': True}\n",
            "base_primitive._run:INFO:2024-04-04 14:18:54,147: Submitting job using options {'options': {'default_shots': 1000}, 'version': 2, 'support_qiskit': True}\n",
            "base_primitive._run:INFO:2024-04-04 14:18:57,960: Submitting job using options {'options': {'default_shots': 1000}, 'version': 2, 'support_qiskit': True}\n"
          ]
        },
        {
          "name": "stdout",
          "output_type": "stream",
          "text": [
            "Completed for runs= 41\n"
          ]
        },
        {
          "name": "stderr",
          "output_type": "stream",
          "text": [
            "base_primitive._run:INFO:2024-04-04 14:19:14,329: Submitting job using options {'options': {'default_shots': 1000}, 'version': 2, 'support_qiskit': True}\n",
            "base_primitive._run:INFO:2024-04-04 14:19:20,260: Submitting job using options {'options': {'default_shots': 1000}, 'version': 2, 'support_qiskit': True}\n",
            "base_primitive._run:INFO:2024-04-04 14:19:30,532: Submitting job using options {'options': {'default_shots': 1000}, 'version': 2, 'support_qiskit': True}\n",
            "base_primitive._run:INFO:2024-04-04 14:19:37,132: Submitting job using options {'options': {'default_shots': 1000}, 'version': 2, 'support_qiskit': True}\n",
            "base_primitive._run:INFO:2024-04-04 14:19:41,379: Submitting job using options {'options': {'default_shots': 1000}, 'version': 2, 'support_qiskit': True}\n",
            "base_primitive._run:INFO:2024-04-04 14:19:56,944: Submitting job using options {'options': {'default_shots': 1000}, 'version': 2, 'support_qiskit': True}\n",
            "base_primitive._run:INFO:2024-04-04 14:20:00,538: Submitting job using options {'options': {'default_shots': 1000}, 'version': 2, 'support_qiskit': True}\n",
            "base_primitive._run:INFO:2024-04-04 14:20:10,388: Submitting job using options {'options': {'default_shots': 1000}, 'version': 2, 'support_qiskit': True}\n",
            "base_primitive._run:INFO:2024-04-04 14:20:14,698: Submitting job using options {'options': {'default_shots': 1000}, 'version': 2, 'support_qiskit': True}\n",
            "base_primitive._run:INFO:2024-04-04 14:20:18,430: Submitting job using options {'options': {'default_shots': 1000}, 'version': 2, 'support_qiskit': True}\n",
            "base_primitive._run:INFO:2024-04-04 14:20:22,123: Submitting job using options {'options': {'default_shots': 1000}, 'version': 2, 'support_qiskit': True}\n",
            "base_primitive._run:INFO:2024-04-04 14:20:41,183: Submitting job using options {'options': {'default_shots': 1000}, 'version': 2, 'support_qiskit': True}\n",
            "base_primitive._run:INFO:2024-04-04 14:20:48,368: Submitting job using options {'options': {'default_shots': 1000}, 'version': 2, 'support_qiskit': True}\n",
            "base_primitive._run:INFO:2024-04-04 14:20:52,603: Submitting job using options {'options': {'default_shots': 1000}, 'version': 2, 'support_qiskit': True}\n",
            "base_primitive._run:INFO:2024-04-04 14:20:56,996: Submitting job using options {'options': {'default_shots': 1000}, 'version': 2, 'support_qiskit': True}\n",
            "base_primitive._run:INFO:2024-04-04 14:21:01,820: Submitting job using options {'options': {'default_shots': 1000}, 'version': 2, 'support_qiskit': True}\n",
            "base_primitive._run:INFO:2024-04-04 14:21:15,956: Submitting job using options {'options': {'default_shots': 1000}, 'version': 2, 'support_qiskit': True}\n",
            "base_primitive._run:INFO:2024-04-04 14:21:25,175: Submitting job using options {'options': {'default_shots': 1000}, 'version': 2, 'support_qiskit': True}\n",
            "base_primitive._run:INFO:2024-04-04 14:21:42,757: Submitting job using options {'options': {'default_shots': 1000}, 'version': 2, 'support_qiskit': True}\n"
          ]
        },
        {
          "name": "stdout",
          "output_type": "stream",
          "text": [
            "Completed for runs= 42\n"
          ]
        },
        {
          "name": "stderr",
          "output_type": "stream",
          "text": [
            "base_primitive._run:INFO:2024-04-04 14:21:46,680: Submitting job using options {'options': {'default_shots': 1000}, 'version': 2, 'support_qiskit': True}\n",
            "base_primitive._run:INFO:2024-04-04 14:21:50,276: Submitting job using options {'options': {'default_shots': 1000}, 'version': 2, 'support_qiskit': True}\n",
            "base_primitive._run:INFO:2024-04-04 14:22:00,048: Submitting job using options {'options': {'default_shots': 1000}, 'version': 2, 'support_qiskit': True}\n",
            "base_primitive._run:INFO:2024-04-04 14:22:10,572: Submitting job using options {'options': {'default_shots': 1000}, 'version': 2, 'support_qiskit': True}\n",
            "base_primitive._run:INFO:2024-04-04 14:22:20,728: Submitting job using options {'options': {'default_shots': 1000}, 'version': 2, 'support_qiskit': True}\n",
            "base_primitive._run:INFO:2024-04-04 14:22:24,193: Submitting job using options {'options': {'default_shots': 1000}, 'version': 2, 'support_qiskit': True}\n",
            "base_primitive._run:INFO:2024-04-04 14:22:28,050: Submitting job using options {'options': {'default_shots': 1000}, 'version': 2, 'support_qiskit': True}\n",
            "base_primitive._run:INFO:2024-04-04 14:22:37,349: Submitting job using options {'options': {'default_shots': 1000}, 'version': 2, 'support_qiskit': True}\n",
            "base_primitive._run:INFO:2024-04-04 14:22:43,728: Submitting job using options {'options': {'default_shots': 1000}, 'version': 2, 'support_qiskit': True}\n",
            "base_primitive._run:INFO:2024-04-04 14:22:55,004: Submitting job using options {'options': {'default_shots': 1000}, 'version': 2, 'support_qiskit': True}\n",
            "base_primitive._run:INFO:2024-04-04 14:22:58,193: Submitting job using options {'options': {'default_shots': 1000}, 'version': 2, 'support_qiskit': True}\n",
            "base_primitive._run:INFO:2024-04-04 14:23:03,559: Submitting job using options {'options': {'default_shots': 1000}, 'version': 2, 'support_qiskit': True}\n",
            "base_primitive._run:INFO:2024-04-04 14:23:07,311: Submitting job using options {'options': {'default_shots': 1000}, 'version': 2, 'support_qiskit': True}\n",
            "base_primitive._run:INFO:2024-04-04 14:23:12,817: Submitting job using options {'options': {'default_shots': 1000}, 'version': 2, 'support_qiskit': True}\n",
            "base_primitive._run:INFO:2024-04-04 14:23:19,639: Submitting job using options {'options': {'default_shots': 1000}, 'version': 2, 'support_qiskit': True}\n",
            "base_primitive._run:INFO:2024-04-04 14:23:30,455: Submitting job using options {'options': {'default_shots': 1000}, 'version': 2, 'support_qiskit': True}\n",
            "base_primitive._run:INFO:2024-04-04 14:23:35,929: Submitting job using options {'options': {'default_shots': 1000}, 'version': 2, 'support_qiskit': True}\n",
            "base_primitive._run:INFO:2024-04-04 14:23:40,008: Submitting job using options {'options': {'default_shots': 1000}, 'version': 2, 'support_qiskit': True}\n",
            "base_primitive._run:INFO:2024-04-04 14:23:43,450: Submitting job using options {'options': {'default_shots': 1000}, 'version': 2, 'support_qiskit': True}\n",
            "base_primitive._run:INFO:2024-04-04 14:23:47,007: Submitting job using options {'options': {'default_shots': 1000}, 'version': 2, 'support_qiskit': True}\n",
            "base_primitive._run:INFO:2024-04-04 14:23:55,996: Submitting job using options {'options': {'default_shots': 1000}, 'version': 2, 'support_qiskit': True}\n"
          ]
        },
        {
          "name": "stdout",
          "output_type": "stream",
          "text": [
            "Completed for runs= 43\n"
          ]
        },
        {
          "name": "stderr",
          "output_type": "stream",
          "text": [
            "base_primitive._run:INFO:2024-04-04 14:24:06,574: Submitting job using options {'options': {'default_shots': 1000}, 'version': 2, 'support_qiskit': True}\n",
            "base_primitive._run:INFO:2024-04-04 14:24:16,274: Submitting job using options {'options': {'default_shots': 1000}, 'version': 2, 'support_qiskit': True}\n",
            "base_primitive._run:INFO:2024-04-04 14:24:20,895: Submitting job using options {'options': {'default_shots': 1000}, 'version': 2, 'support_qiskit': True}\n",
            "base_primitive._run:INFO:2024-04-04 14:24:25,328: Submitting job using options {'options': {'default_shots': 1000}, 'version': 2, 'support_qiskit': True}\n",
            "base_primitive._run:INFO:2024-04-04 14:24:28,660: Submitting job using options {'options': {'default_shots': 1000}, 'version': 2, 'support_qiskit': True}\n",
            "base_primitive._run:INFO:2024-04-04 14:24:36,578: Submitting job using options {'options': {'default_shots': 1000}, 'version': 2, 'support_qiskit': True}\n",
            "base_primitive._run:INFO:2024-04-04 14:24:47,632: Submitting job using options {'options': {'default_shots': 1000}, 'version': 2, 'support_qiskit': True}\n",
            "base_primitive._run:INFO:2024-04-04 14:24:57,991: Submitting job using options {'options': {'default_shots': 1000}, 'version': 2, 'support_qiskit': True}\n",
            "base_primitive._run:INFO:2024-04-04 14:25:12,490: Submitting job using options {'options': {'default_shots': 1000}, 'version': 2, 'support_qiskit': True}\n",
            "base_primitive._run:INFO:2024-04-04 14:25:20,449: Submitting job using options {'options': {'default_shots': 1000}, 'version': 2, 'support_qiskit': True}\n",
            "base_primitive._run:INFO:2024-04-04 14:25:32,576: Submitting job using options {'options': {'default_shots': 1000}, 'version': 2, 'support_qiskit': True}\n",
            "base_primitive._run:INFO:2024-04-04 14:25:42,169: Submitting job using options {'options': {'default_shots': 1000}, 'version': 2, 'support_qiskit': True}\n",
            "base_primitive._run:INFO:2024-04-04 14:25:45,725: Submitting job using options {'options': {'default_shots': 1000}, 'version': 2, 'support_qiskit': True}\n",
            "base_primitive._run:INFO:2024-04-04 14:25:49,580: Submitting job using options {'options': {'default_shots': 1000}, 'version': 2, 'support_qiskit': True}\n",
            "base_primitive._run:INFO:2024-04-04 14:25:56,187: Submitting job using options {'options': {'default_shots': 1000}, 'version': 2, 'support_qiskit': True}\n",
            "base_primitive._run:INFO:2024-04-04 14:26:04,680: Submitting job using options {'options': {'default_shots': 1000}, 'version': 2, 'support_qiskit': True}\n",
            "base_primitive._run:INFO:2024-04-04 14:26:08,260: Submitting job using options {'options': {'default_shots': 1000}, 'version': 2, 'support_qiskit': True}\n",
            "base_primitive._run:INFO:2024-04-04 14:26:20,257: Submitting job using options {'options': {'default_shots': 1000}, 'version': 2, 'support_qiskit': True}\n",
            "base_primitive._run:INFO:2024-04-04 14:26:24,895: Submitting job using options {'options': {'default_shots': 1000}, 'version': 2, 'support_qiskit': True}\n",
            "base_primitive._run:INFO:2024-04-04 14:26:31,682: Submitting job using options {'options': {'default_shots': 1000}, 'version': 2, 'support_qiskit': True}\n",
            "base_primitive._run:INFO:2024-04-04 14:26:43,243: Submitting job using options {'options': {'default_shots': 1000}, 'version': 2, 'support_qiskit': True}\n",
            "base_primitive._run:INFO:2024-04-04 14:26:50,188: Submitting job using options {'options': {'default_shots': 1000}, 'version': 2, 'support_qiskit': True}\n",
            "base_primitive._run:INFO:2024-04-04 14:26:58,916: Submitting job using options {'options': {'default_shots': 1000}, 'version': 2, 'support_qiskit': True}\n"
          ]
        },
        {
          "name": "stdout",
          "output_type": "stream",
          "text": [
            "Completed for runs= 44\n"
          ]
        },
        {
          "name": "stderr",
          "output_type": "stream",
          "text": [
            "base_primitive._run:INFO:2024-04-04 14:27:02,659: Submitting job using options {'options': {'default_shots': 1000}, 'version': 2, 'support_qiskit': True}\n",
            "base_primitive._run:INFO:2024-04-04 14:27:07,146: Submitting job using options {'options': {'default_shots': 1000}, 'version': 2, 'support_qiskit': True}\n",
            "base_primitive._run:INFO:2024-04-04 14:27:11,230: Submitting job using options {'options': {'default_shots': 1000}, 'version': 2, 'support_qiskit': True}\n",
            "base_primitive._run:INFO:2024-04-04 14:27:15,138: Submitting job using options {'options': {'default_shots': 1000}, 'version': 2, 'support_qiskit': True}\n",
            "base_primitive._run:INFO:2024-04-04 14:27:24,490: Submitting job using options {'options': {'default_shots': 1000}, 'version': 2, 'support_qiskit': True}\n",
            "base_primitive._run:INFO:2024-04-04 14:27:32,288: Submitting job using options {'options': {'default_shots': 1000}, 'version': 2, 'support_qiskit': True}\n",
            "base_primitive._run:INFO:2024-04-04 14:27:39,425: Submitting job using options {'options': {'default_shots': 1000}, 'version': 2, 'support_qiskit': True}\n",
            "base_primitive._run:INFO:2024-04-04 14:27:46,400: Submitting job using options {'options': {'default_shots': 1000}, 'version': 2, 'support_qiskit': True}\n",
            "base_primitive._run:INFO:2024-04-04 14:27:55,288: Submitting job using options {'options': {'default_shots': 1000}, 'version': 2, 'support_qiskit': True}\n",
            "base_primitive._run:INFO:2024-04-04 14:27:59,001: Submitting job using options {'options': {'default_shots': 1000}, 'version': 2, 'support_qiskit': True}\n",
            "base_primitive._run:INFO:2024-04-04 14:28:08,617: Submitting job using options {'options': {'default_shots': 1000}, 'version': 2, 'support_qiskit': True}\n",
            "base_primitive._run:INFO:2024-04-04 14:28:20,894: Submitting job using options {'options': {'default_shots': 1000}, 'version': 2, 'support_qiskit': True}\n",
            "base_primitive._run:INFO:2024-04-04 14:28:27,275: Submitting job using options {'options': {'default_shots': 1000}, 'version': 2, 'support_qiskit': True}\n",
            "base_primitive._run:INFO:2024-04-04 14:28:31,648: Submitting job using options {'options': {'default_shots': 1000}, 'version': 2, 'support_qiskit': True}\n",
            "base_primitive._run:INFO:2024-04-04 14:28:38,564: Submitting job using options {'options': {'default_shots': 1000}, 'version': 2, 'support_qiskit': True}\n",
            "base_primitive._run:INFO:2024-04-04 14:28:42,126: Submitting job using options {'options': {'default_shots': 1000}, 'version': 2, 'support_qiskit': True}\n",
            "base_primitive._run:INFO:2024-04-04 14:28:54,908: Submitting job using options {'options': {'default_shots': 1000}, 'version': 2, 'support_qiskit': True}\n",
            "base_primitive._run:INFO:2024-04-04 14:28:58,848: Submitting job using options {'options': {'default_shots': 1000}, 'version': 2, 'support_qiskit': True}\n",
            "base_primitive._run:INFO:2024-04-04 14:29:08,889: Submitting job using options {'options': {'default_shots': 1000}, 'version': 2, 'support_qiskit': True}\n",
            "base_primitive._run:INFO:2024-04-04 14:29:22,452: Submitting job using options {'options': {'default_shots': 1000}, 'version': 2, 'support_qiskit': True}\n"
          ]
        },
        {
          "name": "stdout",
          "output_type": "stream",
          "text": [
            "Completed for runs= 45\n"
          ]
        },
        {
          "name": "stderr",
          "output_type": "stream",
          "text": [
            "base_primitive._run:INFO:2024-04-04 14:29:25,793: Submitting job using options {'options': {'default_shots': 1000}, 'version': 2, 'support_qiskit': True}\n",
            "base_primitive._run:INFO:2024-04-04 14:29:36,177: Submitting job using options {'options': {'default_shots': 1000}, 'version': 2, 'support_qiskit': True}\n",
            "base_primitive._run:INFO:2024-04-04 14:29:43,114: Submitting job using options {'options': {'default_shots': 1000}, 'version': 2, 'support_qiskit': True}\n",
            "base_primitive._run:INFO:2024-04-04 14:29:50,917: Submitting job using options {'options': {'default_shots': 1000}, 'version': 2, 'support_qiskit': True}\n",
            "base_primitive._run:INFO:2024-04-04 14:29:55,156: Submitting job using options {'options': {'default_shots': 1000}, 'version': 2, 'support_qiskit': True}\n",
            "base_primitive._run:INFO:2024-04-04 14:29:59,609: Submitting job using options {'options': {'default_shots': 1000}, 'version': 2, 'support_qiskit': True}\n",
            "base_primitive._run:INFO:2024-04-04 14:30:04,676: Submitting job using options {'options': {'default_shots': 1000}, 'version': 2, 'support_qiskit': True}\n",
            "base_primitive._run:INFO:2024-04-04 14:30:15,459: Submitting job using options {'options': {'default_shots': 1000}, 'version': 2, 'support_qiskit': True}\n",
            "base_primitive._run:INFO:2024-04-04 14:30:27,265: Submitting job using options {'options': {'default_shots': 1000}, 'version': 2, 'support_qiskit': True}\n",
            "base_primitive._run:INFO:2024-04-04 14:30:33,528: Submitting job using options {'options': {'default_shots': 1000}, 'version': 2, 'support_qiskit': True}\n",
            "base_primitive._run:INFO:2024-04-04 14:30:38,387: Submitting job using options {'options': {'default_shots': 1000}, 'version': 2, 'support_qiskit': True}\n",
            "base_primitive._run:INFO:2024-04-04 14:30:42,511: Submitting job using options {'options': {'default_shots': 1000}, 'version': 2, 'support_qiskit': True}\n",
            "base_primitive._run:INFO:2024-04-04 14:31:01,095: Submitting job using options {'options': {'default_shots': 1000}, 'version': 2, 'support_qiskit': True}\n",
            "base_primitive._run:INFO:2024-04-04 14:31:09,966: Submitting job using options {'options': {'default_shots': 1000}, 'version': 2, 'support_qiskit': True}\n",
            "base_primitive._run:INFO:2024-04-04 14:31:13,536: Submitting job using options {'options': {'default_shots': 1000}, 'version': 2, 'support_qiskit': True}\n",
            "base_primitive._run:INFO:2024-04-04 14:31:17,782: Submitting job using options {'options': {'default_shots': 1000}, 'version': 2, 'support_qiskit': True}\n",
            "base_primitive._run:INFO:2024-04-04 14:31:21,456: Submitting job using options {'options': {'default_shots': 1000}, 'version': 2, 'support_qiskit': True}\n",
            "base_primitive._run:INFO:2024-04-04 14:31:26,475: Submitting job using options {'options': {'default_shots': 1000}, 'version': 2, 'support_qiskit': True}\n",
            "base_primitive._run:INFO:2024-04-04 14:31:34,328: Submitting job using options {'options': {'default_shots': 1000}, 'version': 2, 'support_qiskit': True}\n",
            "base_primitive._run:INFO:2024-04-04 14:31:38,257: Submitting job using options {'options': {'default_shots': 1000}, 'version': 2, 'support_qiskit': True}\n",
            "base_primitive._run:INFO:2024-04-04 14:31:47,110: Submitting job using options {'options': {'default_shots': 1000}, 'version': 2, 'support_qiskit': True}\n"
          ]
        },
        {
          "name": "stdout",
          "output_type": "stream",
          "text": [
            "Completed for runs= 46\n"
          ]
        },
        {
          "name": "stderr",
          "output_type": "stream",
          "text": [
            "base_primitive._run:INFO:2024-04-04 14:31:51,853: Submitting job using options {'options': {'default_shots': 1000}, 'version': 2, 'support_qiskit': True}\n",
            "base_primitive._run:INFO:2024-04-04 14:31:58,293: Submitting job using options {'options': {'default_shots': 1000}, 'version': 2, 'support_qiskit': True}\n",
            "base_primitive._run:INFO:2024-04-04 14:32:02,550: Submitting job using options {'options': {'default_shots': 1000}, 'version': 2, 'support_qiskit': True}\n",
            "base_primitive._run:INFO:2024-04-04 14:32:09,708: Submitting job using options {'options': {'default_shots': 1000}, 'version': 2, 'support_qiskit': True}\n",
            "base_primitive._run:INFO:2024-04-04 14:32:20,868: Submitting job using options {'options': {'default_shots': 1000}, 'version': 2, 'support_qiskit': True}\n",
            "base_primitive._run:INFO:2024-04-04 14:32:29,419: Submitting job using options {'options': {'default_shots': 1000}, 'version': 2, 'support_qiskit': True}\n",
            "base_primitive._run:INFO:2024-04-04 14:32:36,268: Submitting job using options {'options': {'default_shots': 1000}, 'version': 2, 'support_qiskit': True}\n",
            "base_primitive._run:INFO:2024-04-04 14:32:39,740: Submitting job using options {'options': {'default_shots': 1000}, 'version': 2, 'support_qiskit': True}\n",
            "base_primitive._run:INFO:2024-04-04 14:32:44,594: Submitting job using options {'options': {'default_shots': 1000}, 'version': 2, 'support_qiskit': True}\n",
            "base_primitive._run:INFO:2024-04-04 14:32:58,049: Submitting job using options {'options': {'default_shots': 1000}, 'version': 2, 'support_qiskit': True}\n",
            "base_primitive._run:INFO:2024-04-04 14:33:12,177: Submitting job using options {'options': {'default_shots': 1000}, 'version': 2, 'support_qiskit': True}\n",
            "base_primitive._run:INFO:2024-04-04 14:33:16,662: Submitting job using options {'options': {'default_shots': 1000}, 'version': 2, 'support_qiskit': True}\n",
            "base_primitive._run:INFO:2024-04-04 14:33:21,491: Submitting job using options {'options': {'default_shots': 1000}, 'version': 2, 'support_qiskit': True}\n",
            "base_primitive._run:INFO:2024-04-04 14:33:28,729: Submitting job using options {'options': {'default_shots': 1000}, 'version': 2, 'support_qiskit': True}\n",
            "base_primitive._run:INFO:2024-04-04 14:33:33,520: Submitting job using options {'options': {'default_shots': 1000}, 'version': 2, 'support_qiskit': True}\n",
            "base_primitive._run:INFO:2024-04-04 14:33:43,616: Submitting job using options {'options': {'default_shots': 1000}, 'version': 2, 'support_qiskit': True}\n",
            "base_primitive._run:INFO:2024-04-04 14:33:51,159: Submitting job using options {'options': {'default_shots': 1000}, 'version': 2, 'support_qiskit': True}\n",
            "base_primitive._run:INFO:2024-04-04 14:33:54,759: Submitting job using options {'options': {'default_shots': 1000}, 'version': 2, 'support_qiskit': True}\n",
            "base_primitive._run:INFO:2024-04-04 14:33:58,098: Submitting job using options {'options': {'default_shots': 1000}, 'version': 2, 'support_qiskit': True}\n",
            "base_primitive._run:INFO:2024-04-04 14:34:03,444: Submitting job using options {'options': {'default_shots': 1000}, 'version': 2, 'support_qiskit': True}\n",
            "base_primitive._run:INFO:2024-04-04 14:34:14,849: Submitting job using options {'options': {'default_shots': 1000}, 'version': 2, 'support_qiskit': True}\n"
          ]
        },
        {
          "name": "stdout",
          "output_type": "stream",
          "text": [
            "Completed for runs= 47\n"
          ]
        },
        {
          "name": "stderr",
          "output_type": "stream",
          "text": [
            "base_primitive._run:INFO:2024-04-04 14:34:26,725: Submitting job using options {'options': {'default_shots': 1000}, 'version': 2, 'support_qiskit': True}\n",
            "base_primitive._run:INFO:2024-04-04 14:34:30,118: Submitting job using options {'options': {'default_shots': 1000}, 'version': 2, 'support_qiskit': True}\n",
            "base_primitive._run:INFO:2024-04-04 14:34:34,110: Submitting job using options {'options': {'default_shots': 1000}, 'version': 2, 'support_qiskit': True}\n",
            "base_primitive._run:INFO:2024-04-04 14:34:38,440: Submitting job using options {'options': {'default_shots': 1000}, 'version': 2, 'support_qiskit': True}\n",
            "base_primitive._run:INFO:2024-04-04 14:34:41,992: Submitting job using options {'options': {'default_shots': 1000}, 'version': 2, 'support_qiskit': True}\n",
            "base_primitive._run:INFO:2024-04-04 14:34:57,673: Submitting job using options {'options': {'default_shots': 1000}, 'version': 2, 'support_qiskit': True}\n",
            "base_primitive._run:INFO:2024-04-04 14:35:06,042: Submitting job using options {'options': {'default_shots': 1000}, 'version': 2, 'support_qiskit': True}\n",
            "base_primitive._run:INFO:2024-04-04 14:35:10,724: Submitting job using options {'options': {'default_shots': 1000}, 'version': 2, 'support_qiskit': True}\n",
            "base_primitive._run:INFO:2024-04-04 14:35:14,730: Submitting job using options {'options': {'default_shots': 1000}, 'version': 2, 'support_qiskit': True}\n",
            "base_primitive._run:INFO:2024-04-04 14:35:19,478: Submitting job using options {'options': {'default_shots': 1000}, 'version': 2, 'support_qiskit': True}\n",
            "base_primitive._run:INFO:2024-04-04 14:35:23,018: Submitting job using options {'options': {'default_shots': 1000}, 'version': 2, 'support_qiskit': True}\n",
            "base_primitive._run:INFO:2024-04-04 14:35:36,954: Submitting job using options {'options': {'default_shots': 1000}, 'version': 2, 'support_qiskit': True}\n",
            "base_primitive._run:INFO:2024-04-04 14:35:46,816: Submitting job using options {'options': {'default_shots': 1000}, 'version': 2, 'support_qiskit': True}\n",
            "base_primitive._run:INFO:2024-04-04 14:35:52,223: Submitting job using options {'options': {'default_shots': 1000}, 'version': 2, 'support_qiskit': True}\n",
            "base_primitive._run:INFO:2024-04-04 14:35:55,535: Submitting job using options {'options': {'default_shots': 1000}, 'version': 2, 'support_qiskit': True}\n",
            "base_primitive._run:INFO:2024-04-04 14:36:00,287: Submitting job using options {'options': {'default_shots': 1000}, 'version': 2, 'support_qiskit': True}\n",
            "base_primitive._run:INFO:2024-04-04 14:36:04,080: Submitting job using options {'options': {'default_shots': 1000}, 'version': 2, 'support_qiskit': True}\n",
            "base_primitive._run:INFO:2024-04-04 14:36:18,348: Submitting job using options {'options': {'default_shots': 1000}, 'version': 2, 'support_qiskit': True}\n",
            "base_primitive._run:INFO:2024-04-04 14:36:27,466: Submitting job using options {'options': {'default_shots': 1000}, 'version': 2, 'support_qiskit': True}\n",
            "base_primitive._run:INFO:2024-04-04 14:36:35,166: Submitting job using options {'options': {'default_shots': 1000}, 'version': 2, 'support_qiskit': True}\n",
            "base_primitive._run:INFO:2024-04-04 14:36:41,589: Submitting job using options {'options': {'default_shots': 1000}, 'version': 2, 'support_qiskit': True}\n"
          ]
        },
        {
          "name": "stdout",
          "output_type": "stream",
          "text": [
            "Completed for runs= 48\n"
          ]
        },
        {
          "name": "stderr",
          "output_type": "stream",
          "text": [
            "base_primitive._run:INFO:2024-04-04 14:36:46,131: Submitting job using options {'options': {'default_shots': 1000}, 'version': 2, 'support_qiskit': True}\n",
            "base_primitive._run:INFO:2024-04-04 14:36:56,537: Submitting job using options {'options': {'default_shots': 1000}, 'version': 2, 'support_qiskit': True}\n",
            "base_primitive._run:INFO:2024-04-04 14:37:02,115: Submitting job using options {'options': {'default_shots': 1000}, 'version': 2, 'support_qiskit': True}\n",
            "base_primitive._run:INFO:2024-04-04 14:37:13,236: Submitting job using options {'options': {'default_shots': 1000}, 'version': 2, 'support_qiskit': True}\n",
            "base_primitive._run:INFO:2024-04-04 14:37:22,413: Submitting job using options {'options': {'default_shots': 1000}, 'version': 2, 'support_qiskit': True}\n",
            "base_primitive._run:INFO:2024-04-04 14:37:26,200: Submitting job using options {'options': {'default_shots': 1000}, 'version': 2, 'support_qiskit': True}\n",
            "base_primitive._run:INFO:2024-04-04 14:37:29,618: Submitting job using options {'options': {'default_shots': 1000}, 'version': 2, 'support_qiskit': True}\n",
            "base_primitive._run:INFO:2024-04-04 14:37:41,909: Submitting job using options {'options': {'default_shots': 1000}, 'version': 2, 'support_qiskit': True}\n",
            "base_primitive._run:INFO:2024-04-04 14:37:49,448: Submitting job using options {'options': {'default_shots': 1000}, 'version': 2, 'support_qiskit': True}\n",
            "base_primitive._run:INFO:2024-04-04 14:37:54,775: Submitting job using options {'options': {'default_shots': 1000}, 'version': 2, 'support_qiskit': True}\n",
            "base_primitive._run:INFO:2024-04-04 14:37:58,769: Submitting job using options {'options': {'default_shots': 1000}, 'version': 2, 'support_qiskit': True}\n",
            "base_primitive._run:INFO:2024-04-04 14:38:03,159: Submitting job using options {'options': {'default_shots': 1000}, 'version': 2, 'support_qiskit': True}\n",
            "base_primitive._run:INFO:2024-04-04 14:38:08,980: Submitting job using options {'options': {'default_shots': 1000}, 'version': 2, 'support_qiskit': True}\n",
            "base_primitive._run:INFO:2024-04-04 14:38:15,444: Submitting job using options {'options': {'default_shots': 1000}, 'version': 2, 'support_qiskit': True}\n",
            "base_primitive._run:INFO:2024-04-04 14:38:24,884: Submitting job using options {'options': {'default_shots': 1000}, 'version': 2, 'support_qiskit': True}\n",
            "base_primitive._run:INFO:2024-04-04 14:38:35,532: Submitting job using options {'options': {'default_shots': 1000}, 'version': 2, 'support_qiskit': True}\n",
            "base_primitive._run:INFO:2024-04-04 14:38:42,476: Submitting job using options {'options': {'default_shots': 1000}, 'version': 2, 'support_qiskit': True}\n",
            "base_primitive._run:INFO:2024-04-04 14:38:50,639: Submitting job using options {'options': {'default_shots': 1000}, 'version': 2, 'support_qiskit': True}\n",
            "base_primitive._run:INFO:2024-04-04 14:39:01,824: Submitting job using options {'options': {'default_shots': 1000}, 'version': 2, 'support_qiskit': True}\n",
            "base_primitive._run:INFO:2024-04-04 14:39:07,765: Submitting job using options {'options': {'default_shots': 1000}, 'version': 2, 'support_qiskit': True}\n"
          ]
        },
        {
          "name": "stdout",
          "output_type": "stream",
          "text": [
            "Completed for runs= 49\n"
          ]
        },
        {
          "name": "stderr",
          "output_type": "stream",
          "text": [
            "base_primitive._run:INFO:2024-04-04 14:39:13,756: Submitting job using options {'options': {'default_shots': 1000}, 'version': 2, 'support_qiskit': True}\n",
            "base_primitive._run:INFO:2024-04-04 14:39:18,277: Submitting job using options {'options': {'default_shots': 1000}, 'version': 2, 'support_qiskit': True}\n",
            "base_primitive._run:INFO:2024-04-04 14:39:22,257: Submitting job using options {'options': {'default_shots': 1000}, 'version': 2, 'support_qiskit': True}\n",
            "base_primitive._run:INFO:2024-04-04 14:39:37,077: Submitting job using options {'options': {'default_shots': 1000}, 'version': 2, 'support_qiskit': True}\n",
            "base_primitive._run:INFO:2024-04-04 14:39:42,899: Submitting job using options {'options': {'default_shots': 1000}, 'version': 2, 'support_qiskit': True}\n",
            "base_primitive._run:INFO:2024-04-04 14:39:52,380: Submitting job using options {'options': {'default_shots': 1000}, 'version': 2, 'support_qiskit': True}\n",
            "base_primitive._run:INFO:2024-04-04 14:40:10,576: Submitting job using options {'options': {'default_shots': 1000}, 'version': 2, 'support_qiskit': True}\n",
            "base_primitive._run:INFO:2024-04-04 14:40:21,275: Submitting job using options {'options': {'default_shots': 1000}, 'version': 2, 'support_qiskit': True}\n",
            "base_primitive._run:INFO:2024-04-04 14:40:24,859: Submitting job using options {'options': {'default_shots': 1000}, 'version': 2, 'support_qiskit': True}\n",
            "base_primitive._run:INFO:2024-04-04 14:40:38,513: Submitting job using options {'options': {'default_shots': 1000}, 'version': 2, 'support_qiskit': True}\n",
            "base_primitive._run:INFO:2024-04-04 14:40:45,228: Submitting job using options {'options': {'default_shots': 1000}, 'version': 2, 'support_qiskit': True}\n",
            "base_primitive._run:INFO:2024-04-04 14:40:49,180: Submitting job using options {'options': {'default_shots': 1000}, 'version': 2, 'support_qiskit': True}\n",
            "base_primitive._run:INFO:2024-04-04 14:41:03,853: Submitting job using options {'options': {'default_shots': 1000}, 'version': 2, 'support_qiskit': True}\n",
            "base_primitive._run:INFO:2024-04-04 14:41:12,741: Submitting job using options {'options': {'default_shots': 1000}, 'version': 2, 'support_qiskit': True}\n",
            "base_primitive._run:INFO:2024-04-04 14:41:19,223: Submitting job using options {'options': {'default_shots': 1000}, 'version': 2, 'support_qiskit': True}\n",
            "base_primitive._run:INFO:2024-04-04 14:41:22,860: Submitting job using options {'options': {'default_shots': 1000}, 'version': 2, 'support_qiskit': True}\n",
            "base_primitive._run:INFO:2024-04-04 14:41:28,525: Submitting job using options {'options': {'default_shots': 1000}, 'version': 2, 'support_qiskit': True}\n",
            "base_primitive._run:INFO:2024-04-04 14:41:38,067: Submitting job using options {'options': {'default_shots': 1000}, 'version': 2, 'support_qiskit': True}\n",
            "base_primitive._run:INFO:2024-04-04 14:41:42,338: Submitting job using options {'options': {'default_shots': 1000}, 'version': 2, 'support_qiskit': True}\n",
            "base_primitive._run:INFO:2024-04-04 14:41:55,199: Submitting job using options {'options': {'default_shots': 1000}, 'version': 2, 'support_qiskit': True}\n",
            "base_primitive._run:INFO:2024-04-04 14:42:01,202: Submitting job using options {'options': {'default_shots': 1000}, 'version': 2, 'support_qiskit': True}\n",
            "base_primitive._run:INFO:2024-04-04 14:42:04,688: Submitting job using options {'options': {'default_shots': 1000}, 'version': 2, 'support_qiskit': True}\n",
            "base_primitive._run:INFO:2024-04-04 14:42:13,361: Submitting job using options {'options': {'default_shots': 1000}, 'version': 2, 'support_qiskit': True}\n",
            "base_primitive._run:INFO:2024-04-04 14:42:18,893: Submitting job using options {'options': {'default_shots': 1000}, 'version': 2, 'support_qiskit': True}\n"
          ]
        },
        {
          "name": "stdout",
          "output_type": "stream",
          "text": [
            "Completed for runs= 50\n",
            "Emin_runs= [-1.5972881441406255, -1.5192741070312508, -1.750908694921876, -1.8395767554687503, -1.6839738453125004, -1.7220698550781255, -1.7479502261718758, -1.6220232242187502, -1.6165314507812498, -1.6979681011718757, -1.684520370703125, -1.7722601421875002, -1.6739487281250005, -1.7427879761718756, -1.6761480894531253, -1.6006283765625007, -1.3229896421875007, -1.4129331949218753, -1.7230415445312506, -1.8322629644531254, -1.5404173921875008, -1.789555650000001, -1.6298489800781257, -1.2339442378906251, -1.8107813160156252, -1.6628305601562499, -1.476315230078125, -1.9279932535156261, -1.9234687496093752, -1.7358125484375009, -1.96799366171875, -1.65323060703125, -1.619572300390625, -1.8161517281250004, -1.6290030718750006, -1.4164426089843758, -1.607859786718751, -1.6153861597656252, -1.7392351617187507, -1.684182007421875, -1.9218203335937512, -1.7179705152343758, -1.737630146093751, -1.7776305542968753, -1.8235089195312502, -1.7592375757812504, -1.5817278531250003, -1.690567509375, -1.7874820699218752, -1.8524735406250001]\n"
          ]
        }
      ],
      "source": [
        "#For differnet value of runs\n",
        "Emin_runs = []\n",
        "for i in range(1,51):\n",
        "    Emin_runs.append(minimization(1000))\n",
        "    print('Completed for runs=',i)\n",
        "print('Emin_runs=',Emin_runs)"
      ]
    },
    {
      "cell_type": "code",
      "execution_count": null,
      "id": "cc8e2510-5528-4328-9aa0-52b25278e5ff",
      "metadata": {
        "tags": [],
        "id": "cc8e2510-5528-4328-9aa0-52b25278e5ff",
        "outputId": "895de091-aaec-4018-a88a-b654a63c3930"
      },
      "outputs": [
        {
          "name": "stdout",
          "output_type": "stream",
          "text": [
            "Median Absolute Deviation (MAD): 0.0784369912109375\n"
          ]
        }
      ],
      "source": [
        "# Caclulate MAD for Emin_runs\n",
        "data = np.array(Emin_runs)\n",
        "mad_value = median_absolute_deviation(data)\n",
        "print(\"Median Absolute Deviation (MAD):\", mad_value)"
      ]
    },
    {
      "cell_type": "code",
      "execution_count": null,
      "id": "59332047-35b4-4c0e-8e76-0faf3e057ecc",
      "metadata": {
        "id": "59332047-35b4-4c0e-8e76-0faf3e057ecc",
        "outputId": "f3d5cb4e-cda0-4926-86f1-c14b4b63fdfe"
      },
      "outputs": [
        {
          "data": {
            "text/plain": [
              "Text(0.5, 0, 'N')"
            ]
          },
          "execution_count": 15,
          "metadata": {},
          "output_type": "execute_result"
        },
        {
          "data": {
            "image/png": "[encoded data removed]",
            "text/plain": [
              "<Figure size 640x480 with 1 Axes>"
            ]
          },
          "metadata": {},
          "output_type": "display_data"
        }
      ],
      "source": [
        "#Basis number (N) vs median of Emin_runs\n",
        "N = [2]\n",
        "m = np.median(np.array(Emin_runs))\n",
        "median = [m]\n",
        "plt.axhline(y=True_value, color='k', linestyle='--')\n",
        "plt.errorbar(N,median, yerr=mad_value, fmt='o', color='blue', ecolor='red', capsize=10)\n",
        "# plt.xscale('log')\n",
        "plt.ylim(-2.8,0)\n",
        "plt.xlim(0,4)\n",
        "plt.ylabel('median of E_min(MeV)')\n",
        "plt.xlabel('N')"
      ]
    }
  ],
  "metadata": {
    "kernelspec": {
      "display_name": "Qiskit v1.0.2 (ipykernel)",
      "language": "python",
      "name": "python3"
    },
    "language_info": {
      "codemirror_mode": {
        "name": "ipython",
        "version": 3
      },
      "file_extension": ".py",
      "mimetype": "text/x-python",
      "name": "python",
      "nbconvert_exporter": "python",
      "pygments_lexer": "ipython3",
      "version": "3.10.8"
    },
    "colab": {
      "provenance": []
    }
  },
  "nbformat": 4,
  "nbformat_minor": 5
}